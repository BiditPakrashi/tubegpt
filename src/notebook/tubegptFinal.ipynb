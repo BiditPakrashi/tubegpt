{
 "cells": [
  {
   "cell_type": "code",
   "execution_count": 96,
   "metadata": {},
   "outputs": [],
   "source": [
    "from langchain.llms import OpenAI\n",
    "from langchain.chat_models import ChatOpenAI\n",
    "from langchain.chains import LLMChain\n",
    "from langchain.prompts import PromptTemplate\n",
    "from langchain.chains import SimpleSequentialChain\n",
    "from langchain.chains.api.prompt import API_RESPONSE_PROMPT\n",
    "from langchain.chains import APIChain\n",
    "from langchain.prompts.prompt import PromptTemplate\n",
    "from langchain.agents.agent_toolkits import create_python_agent\n",
    "from langchain.agents import load_tools, initialize_agent\n",
    "from langchain.agents import AgentType\n",
    "from langchain.tools.python.tool import PythonREPLTool\n",
    "from langchain.python import PythonREPL\n",
    "from langchain.agents import tool\n",
    "from langchain.document_loaders import TextLoader, UnstructuredPDFLoader, YoutubeLoader\n",
    "from langchain.text_splitter import RecursiveCharacterTextSplitter\n",
    "from langchain.vectorstores import Chroma\n",
    "from langchain.embeddings import HuggingFaceEmbeddings, OpenAIEmbeddings\n",
    "from langchain.indexes import VectorstoreIndexCreator\n",
    "from langchain.chains import RetrievalQA\n",
    "import textwrap\n",
    "from langchain.utilities import GoogleSearchAPIWrapper\n",
    "from langchain.tools import Tool\n",
    "import langchain\n",
    "import json\n",
    "from langchain.document_loaders import WebBaseLoader\n",
    "from langchain.document_loaders.generic import GenericLoader\n",
    "from langchain.document_loaders.parsers import OpenAIWhisperParser\n",
    "from langchain.document_loaders.blob_loaders.youtube_audio import YoutubeAudioLoader\n",
    "from langchain.schema import Document\n",
    "from typing import Iterator, List, Literal, Optional, Sequence, Union\n",
    "from langchain.document_loaders.blob_loaders import FileSystemBlobLoader\n",
    "import os\n",
    "import openai\n",
    "from langchain.document_loaders import TextLoader\n",
    "from langchain.chains.router import MultiPromptChain\n",
    "from langchain.llms import OpenAI\n",
    "from langchain.chains import ConversationChain\n",
    "from langchain.chains.llm import LLMChain\n",
    "from langchain.prompts import PromptTemplate\n",
    "from langchain.agents import initialize_agent, Tool\n",
    "from langchain.agents import AgentType\n",
    "from langchain.tools import BaseTool\n",
    "from langchain.llms import OpenAI\n",
    "from langchain import LLMMathChain, SerpAPIWrapper"
   ]
  },
  {
   "cell_type": "code",
   "execution_count": 18,
   "metadata": {},
   "outputs": [],
   "source": [
    "def print_response(response: str):\n",
    "    print(\"\\n\".join(textwrap.wrap(response, width=100)))"
   ]
  },
  {
   "cell_type": "code",
   "execution_count": 19,
   "metadata": {},
   "outputs": [],
   "source": [
    "\n",
    "from dotenv import load_dotenv, find_dotenv\n",
    "_ = load_dotenv(find_dotenv()) # read local .env file\n",
    "openai.api_key = os.environ['OPENAI_API_KEY']"
   ]
  },
  {
   "cell_type": "markdown",
   "metadata": {},
   "source": [
    "##  Download Video in Save directory\n",
    "## Transcribe the videos to text\n",
    "## keep the transcript in document \n"
   ]
  },
  {
   "cell_type": "markdown",
   "metadata": {},
   "source": [
    "# 1 Download Youtube Video"
   ]
  },
  {
   "cell_type": "code",
   "execution_count": 20,
   "metadata": {},
   "outputs": [
    {
     "name": "stdout",
     "output_type": "stream",
     "text": [
      "[youtube:tab] Extracting URL: https://www.youtube.com/watch?v=5Ay5GqJwHF8&list=PL86SiVwkw_oc8r_X6PL6VqcQ7FTX4923M&index=1\n",
      "[youtube:tab] Downloading just the video 5Ay5GqJwHF8 because of --no-playlist\n",
      "[youtube] Extracting URL: https://www.youtube.com/watch?v=5Ay5GqJwHF8\n",
      "[youtube] 5Ay5GqJwHF8: Downloading webpage\n",
      "[youtube] 5Ay5GqJwHF8: Downloading ios player API JSON\n",
      "[youtube] 5Ay5GqJwHF8: Downloading android player API JSON\n",
      "[youtube] 5Ay5GqJwHF8: Downloading m3u8 information\n",
      "[info] 5Ay5GqJwHF8: Downloading 1 format(s): 140\n",
      "[download] /Users/bpakra200/Downloads/YouTubeclip/If You Build It, He Will Come - Field of Dreams (1⧸9) Movie CLIP (1989) HD.m4a has already been downloaded\n",
      "[download] 100% of    2.28MiB\n",
      "[ExtractAudio] Not converting audio /Users/bpakra200/Downloads/YouTubeclip/If You Build It, He Will Come - Field of Dreams (1⧸9) Movie CLIP (1989) HD.m4a; file is already in target format m4a\n",
      "Transcribing part 1!\n",
      "After load\n",
      "page_content=\"♪♪ ♪♪ ♪♪ If you build it, he will come. ♪♪ ♪♪ If you build it, he will come. ♪♪ Hey, Annie! Annie, what was that? What was what? That voice just now, what was it? We didn't hear anything. All right. If you build it, he will come. Okay, you must have heard that. Sorry. Come on in for dinner. Let's go, Parker. ♪♪ ♪♪ ♪♪ ♪♪\" metadata={'source': '/Users/bpakra200/Downloads/YouTubeclip/If You Build It, He Will Come - Field of Dreams (1⧸9) Movie CLIP (1989) HD.m4a', 'chunk': 0}\n"
     ]
    }
   ],
   "source": [
    "\n",
    "#  Moive Clip\n",
    "urls = [\"https://www.youtube.com/watch?v=5Ay5GqJwHF8&list=PL86SiVwkw_oc8r_X6PL6VqcQ7FTX4923M&index=1\"]\n",
    "\n",
    "# Directory to save audio files\n",
    "save_dir = \"/Users/bpakra200/Downloads/YouTubeclip\"\n",
    "\n",
    "try:\n",
    "    # Transcribe the videos to text\n",
    "    loader = GenericLoader(YoutubeAudioLoader(urls, save_dir), OpenAIWhisperParser())\n",
    "\n",
    "    docs = loader.load()\n",
    "    print(\"After load\")\n",
    "    if len(docs) == 0:\n",
    "        print(\"No documents loaded.\")\n",
    "    else:\n",
    "        for doc in docs:\n",
    "            # Process the loaded documents\n",
    "            print(doc)\n",
    "except Exception as e:\n",
    "    print(\"Error loading documents:\", str(e))   "
   ]
  },
  {
   "cell_type": "code",
   "execution_count": 21,
   "metadata": {},
   "outputs": [
    {
     "data": {
      "text/plain": [
       "1"
      ]
     },
     "execution_count": 21,
     "metadata": {},
     "output_type": "execute_result"
    }
   ],
   "source": [
    "# Returns a list of Documents, which can be easily viewed or parsed\n",
    "len(docs)"
   ]
  },
  {
   "cell_type": "code",
   "execution_count": 22,
   "metadata": {},
   "outputs": [],
   "source": [
    "# Combine doc\n",
    "combined_docs = [doc.page_content for doc in docs]\n",
    "text = \" \".join(combined_docs)"
   ]
  },
  {
   "cell_type": "markdown",
   "metadata": {},
   "source": [
    "Although HuggingFaceEmbeddings is a free and user-friendly option to get started with embeddings, OpenAI also offers an API for text embeddings5, which might perform much better. With LangChain, it is straightforward to use the OpenAI API for embeddings:"
   ]
  },
  {
   "cell_type": "markdown",
   "metadata": {},
   "source": [
    "# 2 Create Embedding"
   ]
  },
  {
   "cell_type": "code",
   "execution_count": 23,
   "metadata": {},
   "outputs": [],
   "source": [
    "embeddings = OpenAIEmbeddings()"
   ]
  },
  {
   "cell_type": "markdown",
   "metadata": {},
   "source": [
    "# Storing Embeddings\n",
    "Note that Chroma doesn't automatically persist the embeddings, so you'll need to provide an additional parameter persist_directory to ensure they're saved along with the documents:"
   ]
  },
  {
   "cell_type": "code",
   "execution_count": 8,
   "metadata": {},
   "outputs": [
    {
     "data": {
      "text/plain": [
       "[(Document(page_content=\"♪♪ ♪♪ ♪♪ If you build it, he will come. ♪♪ ♪♪ If you build it, he will come. ♪♪ Hey, Annie! Annie, what was that? What was what? That voice just now, what was it? We didn't hear anything. All right. If you build it, he will come. Okay, you must have heard that. Sorry. Come on in for dinner. Let's go, Parker. ♪♪ ♪♪ ♪♪ ♪♪\", metadata={'source': '/Users/bpakra200/Downloads/YouTubeclip/If You Build It, He Will Come - Field of Dreams (1⧸9) Movie CLIP (1989) HD.m4a', 'chunk': 0}),\n",
       "  0.493926465511322),\n",
       " (Document(page_content=\"♪♪ ♪♪ ♪♪ If you build it, he will come. ♪♪ ♪♪ If you build it, he will come. ♪♪ Hey, Annie! Annie, what was that? What was what? That voice just now, what was it? We didn't hear anything. All right. If you build it, he will come. Okay, you must have heard that. Sorry. Come on in for dinner. Let's go, Parker. ♪♪ ♪♪ ♪♪ ♪♪\", metadata={'source': '/Users/bpakra200/Downloads/YouTubeclip/If You Build It, He Will Come - Field of Dreams (1⧸9) Movie CLIP (1989) HD.m4a', 'chunk': 0}),\n",
       "  0.493926465511322)]"
      ]
     },
     "execution_count": 8,
     "metadata": {},
     "output_type": "execute_result"
    }
   ],
   "source": [
    "PERSIST_DIRECTORY_OPENAI = \"../tubegptdbclip\"\n",
    " \n",
    "tubegptdbclip = Chroma.from_documents(\n",
    "    documents=docs, embedding= embeddings, persist_directory=PERSIST_DIRECTORY_OPENAI\n",
    ")\n",
    "tubegptdbclip.similarity_search_with_score(\"Which moive?\", k=2)"
   ]
  },
  {
   "cell_type": "markdown",
   "metadata": {},
   "source": [
    "# Loading Embeddings\n",
    "Loading the embeddings is just as easy, you just need to provide the persist_directory and embedding_function parameters:"
   ]
  },
  {
   "cell_type": "markdown",
   "metadata": {},
   "source": [
    "# save openai embedding"
   ]
  },
  {
   "cell_type": "code",
   "execution_count": 9,
   "metadata": {},
   "outputs": [],
   "source": [
    "tubegptdbclip.persist()"
   ]
  },
  {
   "cell_type": "code",
   "execution_count": 57,
   "metadata": {},
   "outputs": [
    {
     "data": {
      "text/plain": [
       "[(Document(page_content=\"♪♪ ♪♪ ♪♪ If you build it, he will come. ♪♪ ♪♪ If you build it, he will come. ♪♪ Hey, Annie! Annie, what was that? What was what? That voice just now, what was it? We didn't hear anything. All right. If you build it, he will come. Okay, you must have heard that. Sorry. Come on in for dinner. Let's go, Parker. ♪♪ ♪♪ ♪♪ ♪♪\", metadata={'source': '/Users/bpakra200/Downloads/YouTubeclip/If You Build It, He Will Come - Field of Dreams (1⧸9) Movie CLIP (1989) HD.m4a', 'chunk': 0}),\n",
       "  0.493926465511322),\n",
       " (Document(page_content=\"♪♪ ♪♪ ♪♪ If you build it, he will come. ♪♪ ♪♪ If you build it, he will come. ♪♪ Hey, Annie! Annie, what was that? What was what? That voice just now, what was it? We didn't hear anything. All right. If you build it, he will come. Okay, you must have heard that. Sorry. Come on in for dinner. Let's go, Parker. ♪♪ ♪♪ ♪♪ ♪♪\", metadata={'source': '/Users/bpakra200/Downloads/YouTubeclip/If You Build It, He Will Come - Field of Dreams (1⧸9) Movie CLIP (1989) HD.m4a', 'chunk': 0}),\n",
       "  0.493926465511322)]"
      ]
     },
     "execution_count": 57,
     "metadata": {},
     "output_type": "execute_result"
    }
   ],
   "source": [
    "PERSIST_DIRECTORY_OPENAI = \"../tubegptdbclip\"\n",
    "embeddings = OpenAIEmbeddings()\n",
    "tubegptdbclip = Chroma(persist_directory=PERSIST_DIRECTORY_OPENAI, embedding_function=embeddings)\n",
    "tubegptdbclip.similarity_search_with_score(\"Which moive?\", k=2)"
   ]
  },
  {
   "cell_type": "markdown",
   "metadata": {},
   "source": [
    "# create Audio processor for Youtube Video\n",
    "##  Prompt Engineering Template"
   ]
  },
  {
   "cell_type": "code",
   "execution_count": 58,
   "metadata": {},
   "outputs": [
    {
     "name": "stdout",
     "output_type": "stream",
     "text": [
      "You're a Professor who helps students on Youtube contents .\n",
      " \n",
      "A youtube user asking about contents \n",
      " \n",
      "Answer with Accurate data   to the question and the way Professor speaks and only depends on provided Data. \n",
      " \n",
      "Question: Why do we need to zero out the gradient before backprop at each step?\n",
      "Answer:\n"
     ]
    }
   ],
   "source": [
    "template = \"\"\"You're a Professor who helps students on Youtube contents .\n",
    " \n",
    "{context}\n",
    " \n",
    "Answer with Accurate data   to the question and the way Professor speaks and only depends on provided Data. \n",
    " \n",
    "Question: {question}\n",
    "Answer:\"\"\"\n",
    " \n",
    "prompt = PromptTemplate(template=template, input_variables=[\"context\", \"question\"])\n",
    "print(\n",
    "    prompt.format(\n",
    "        context=\"A youtube user asking about contents \",\n",
    "        question=\"Why do we need to zero out the gradient before backprop at each step?\",\n",
    "    )\n",
    ")"
   ]
  },
  {
   "cell_type": "markdown",
   "metadata": {},
   "source": [
    "## implement Retriver and Reader with Vector database for Audio input"
   ]
  },
  {
   "cell_type": "code",
   "execution_count": 80,
   "metadata": {},
   "outputs": [],
   "source": [
    "chain_type_kwargs = {\"prompt\": prompt}\n",
    "audio_chain = RetrievalQA.from_chain_type(\n",
    "    llm=ChatOpenAI(temperature=0),\n",
    "    chain_type=\"stuff\",\n",
    "    retriever=tubegptdbclip.as_retriever(search_kwargs={\"k\": 1}),\n",
    "    chain_type_kwargs=chain_type_kwargs,\n",
    "    \n",
    "    \n",
    ")"
   ]
  },
  {
   "cell_type": "markdown",
   "metadata": {},
   "source": [
    "# Test few questions on audio"
   ]
  },
  {
   "cell_type": "code",
   "execution_count": 81,
   "metadata": {},
   "outputs": [
    {
     "name": "stdout",
     "output_type": "stream",
     "text": [
      "The person was hearing the phrase \"If you build it, he will come\" repeatedly.\n"
     ]
    }
   ],
   "source": [
    "query = \"what was the phase the person hearing again and again?\"\n",
    "response = audio_chain.run(query)\n",
    "print_response(response)"
   ]
  },
  {
   "cell_type": "code",
   "execution_count": 82,
   "metadata": {},
   "outputs": [
    {
     "name": "stdout",
     "output_type": "stream",
     "text": [
      "The person asks the lady to reconfirm the hearing because they heard a voice that the lady claims\n",
      "not to have heard. They want to make sure that they both heard the same thing and that it wasn't\n",
      "just their imagination.\n"
     ]
    }
   ],
   "source": [
    "query = \"Why the perosn ask a lady to reconfirm the hearing\"\n",
    "response = audio_chain.run(query)\n",
    "print_response(response)"
   ]
  },
  {
   "cell_type": "markdown",
   "metadata": {},
   "source": [
    "##  Vision process  After Captioning . \n",
    "### Captions need GPU which will be in Separate Notebook in colab with high end GPU\n",
    "### GPU based notebook ceate a caption Text files with captioning images in camera shot in colab \n"
   ]
  },
  {
   "cell_type": "code",
   "execution_count": 100,
   "metadata": {},
   "outputs": [],
   "source": [
    "loader = TextLoader('/Users/bpakra200/tubegpt/tubegpt/src/notebook/list-blip2-moiveClip.txt')\n",
    "\n",
    "docs_vision_caption = loader.load()"
   ]
  },
  {
   "cell_type": "code",
   "execution_count": 101,
   "metadata": {},
   "outputs": [],
   "source": [
    "text_splitter = RecursiveCharacterTextSplitter(chunk_size=1024, chunk_overlap=64)\n",
    "splits = text_splitter.split_documents(docs_vision_caption)"
   ]
  },
  {
   "cell_type": "code",
   "execution_count": 97,
   "metadata": {},
   "outputs": [],
   "source": [
    "def create_prompt_details_decribtion():\n",
    "  \n",
    "\n",
    "    template = \"\"\"you are a Video content describer   and create a details describtion of a video depends on    \n",
    "     captions of all images   . All captions are in sequence of the video \n",
    "    {image_captions}\n",
    "    Create a Title :\n",
    "    Create  a Full Descrption :\n",
    "    \"\"\"\n",
    "    prompt = PromptTemplate(input_variables=[\"image_captions\"], template=template)\n",
    "    return prompt"
   ]
  },
  {
   "cell_type": "code",
   "execution_count": 102,
   "metadata": {},
   "outputs": [],
   "source": [
    " video_descrption_prompt = create_prompt_details_decribtion()\n",
    " llm = ChatOpenAI(temperature=0)\n",
    " video_descrption_chain = LLMChain(\n",
    "        llm=llm, prompt=video_descrption_prompt, verbose=True,)"
   ]
  },
  {
   "cell_type": "code",
   "execution_count": 103,
   "metadata": {},
   "outputs": [
    {
     "name": "stdout",
     "output_type": "stream",
     "text": [
      "\n",
      "\n",
      "\u001b[1m> Entering new LLMChain chain...\u001b[0m\n",
      "Prompt after formatting:\n",
      "\u001b[32;1m\u001b[1;3myou are a Video content describer   and create a details describtion of a video depends on    \n",
      "     captions of all images   . All captions are in sequence of the video \n",
      "    page_content='an image of a cloudy sky with light in the middle\\na picture of a light that is inside a cloud\\na single lightning bolt glows in the dark sky\\nan image of some clouds in the sky\\na cloud with a moon in the dark sky\\na view of clouds that appear to be falling from above\\nsun rays in the distance over a field\\nharry potter and the sword in the stone / lightning / water / land / horizon\\na thunderstorm is over the field with trees\\nsun rays light up over a field\\nrainbow on cloudy background and landscape\\nsunlight through rain clouds over a field with trees\\nsun rising behind a purple cloud during a storm\\na picture of a field in the middle of a dark sky\\nraindrops against a blue sky\\nthe sun shining through clouds from the horizon in the sky\\nthe farm in the movie is in a small town\\nan orange sunset is on the horizon in a field\\nthe old farm is in the distance near a red farm house\\na small house sitting on a hill by the countryside\\nfarm, sunset and sunset house in countryside\\na farm with a red barn and a big field' metadata={'source': '/Users/bpakra200/tubegpt/tubegpt/src/notebook/list-blip2-moiveClip.txt'}\n",
      "    Create a Title :\n",
      "    Create  a Full Descrption :\n",
      "    \u001b[0m\n",
      "\n",
      "\u001b[1m> Finished chain.\u001b[0m\n",
      "\n",
      "\n",
      "\u001b[1m> Entering new LLMChain chain...\u001b[0m\n",
      "Prompt after formatting:\n",
      "\u001b[32;1m\u001b[1;3myou are a Video content describer   and create a details describtion of a video depends on    \n",
      "     captions of all images   . All captions are in sequence of the video \n",
      "    page_content='a farm with a red barn and a big field\\nthe house, farm, and road are shown in a field\\na small farm house sits in the middle of a field\\nthe cornfield where ted eats corn is on a farm and there is a large red house in the background\\nthe farm where the red phone is sitting on a table, at sunset\\nthe house is near the barn and corn field at sunset\\nthe farm is on the right as the sun sets over the country\\na farmhouse on a country road with a sunset behind it\\na red farm house with the sunset in the background\\na farm sits at the end of a field with two large buildings\\nfarmhouse farmhouse farmhouse and wheatfield\\nthe farmer is back home in this old fashioned movie scene\\nthe great escape – november 12, 2010\\nthe house is seen in the distance with corn\\na white farm house and barn sit near a field\\ntwo white homes with a corn field in the background\\nthe white house, far left, and cornfield at dusk in far right corner of field\\nhome alone 2 movie clip the great escape\\ntwo houses near a corn field with a large tractor' metadata={'source': '/Users/bpakra200/tubegpt/tubegpt/src/notebook/list-blip2-moiveClip.txt'}\n",
      "    Create a Title :\n",
      "    Create  a Full Descrption :\n",
      "    \u001b[0m\n",
      "\n",
      "\u001b[1m> Finished chain.\u001b[0m\n",
      "\n",
      "\n",
      "\u001b[1m> Entering new LLMChain chain...\u001b[0m\n",
      "Prompt after formatting:\n",
      "\u001b[32;1m\u001b[1;3myou are a Video content describer   and create a details describtion of a video depends on    \n",
      "     captions of all images   . All captions are in sequence of the video \n",
      "    page_content='two houses near a corn field with a large tractor\\ncorn fields on an evening with a clear sky\\ndark night of the soul - dt2a\\ncorn fields at dusk\\na dark green field with grass growing on it\\na field of corn on the ground at night\\nthis is an image of corn plants at night\\ncorn fields in the cornfield.jpg\\ncornfield in movie hall of fame movie 1\\ncorn field with a dark and foggy background in the middle\\ncornfield – movie scene\\nthe man is walking through a corn field\\nthe boy stands in the middle of a corn field\\na man walking through a corn field\\na person is walking through a field full of corn\\na person walking in a field of corn during sunset\\nthere is a man standing in the middle of a large field\\npeople in the corn field at dusk\\na person standing in a corn field at sunset\\na man standing in a corn field near a setting sun\\na man walking through corn field\\na man in a green field with corn stalks in the foreground\\njohn hanks walking in corn field\\npeople are looking at a man in the corn field' metadata={'source': '/Users/bpakra200/tubegpt/tubegpt/src/notebook/list-blip2-moiveClip.txt'}\n",
      "    Create a Title :\n",
      "    Create  a Full Descrption :\n",
      "    \u001b[0m\n",
      "\n",
      "\u001b[1m> Finished chain.\u001b[0m\n",
      "\n",
      "\n",
      "\u001b[1m> Entering new LLMChain chain...\u001b[0m\n",
      "Prompt after formatting:\n",
      "\u001b[32;1m\u001b[1;3myou are a Video content describer   and create a details describtion of a video depends on    \n",
      "     captions of all images   . All captions are in sequence of the video \n",
      "    page_content=\"people are looking at a man in the corn field\\nthe corn field scene from jaws in the original film\\na man walks through a corn field in a movie\\na man in a field of corn\\nan image of a person looking at the corn in a field\\na man is in the middle of a corn field\\na man standing in a corn field looking up at the sky\\na man is standing in the middle of a corn field\\nmulholland drive | dvdrip.com - hd 720p 1080p - dvdrip.com\\nthe man in the field is looking at the corn\\nthe best images of corn field shots from the film 'the cornfield'\\ntom hanks in the boondock saints-movielle\\na man is walking in a field with corn on it\\nmovies - tom hanks in corn\\na man stands in a field of corn looking at the sunset\\na man is standing in a corn field\\nman in white shirt standing in corn field looking away from camera\\na man standing in a corn field in a shot\\na man in a white shirt stands in the middle of a corn field\\na man in a white t - shirt standing in a corn field\\na man holding a stick in front of a corn field\" metadata={'source': '/Users/bpakra200/tubegpt/tubegpt/src/notebook/list-blip2-moiveClip.txt'}\n",
      "    Create a Title :\n",
      "    Create  a Full Descrption :\n",
      "    \u001b[0m\n",
      "\n",
      "\u001b[1m> Finished chain.\u001b[0m\n",
      "\n",
      "\n",
      "\u001b[1m> Entering new LLMChain chain...\u001b[0m\n",
      "Prompt after formatting:\n",
      "\u001b[32;1m\u001b[1;3myou are a Video content describer   and create a details describtion of a video depends on    \n",
      "     captions of all images   . All captions are in sequence of the video \n",
      "    page_content=\"a man holding a stick in front of a corn field\\na man is in the middle of a corn field holding a pitchfork\\na man in a white t - shirt is standing in a corn field\\nman walking in corn field in a sunset setting\\njames arthur hill in the middle of nowhere\\na man standing in a corn field with a pitchfork\\nthe farmer in the field standing in front of a corn plant\\nmark hamill as the joker in 1989's superman\\nkirsten stewart - kirsten stewart filmography and film roles 1995 - 2011 | imdb\\ntom hanks in a field of corn\\nman in a cornfield watching as it turns red\\nthe joker - movie clip - the joker - trailer\\nthe man looks off in the distance while walking across the corn field\\nman looking over corn field at sunset\\na man walking in a corn field at dusk\\na man is walking through a field of corn\\na man in a white shirt standing in a corn field\\ncornfield scene 1, with the farmer looking at the sunset\\nthere is a person standing in a field of tall grass\\nthe kid looks at the camera and a man stands in the middle of a field\" metadata={'source': '/Users/bpakra200/tubegpt/tubegpt/src/notebook/list-blip2-moiveClip.txt'}\n",
      "    Create a Title :\n",
      "    Create  a Full Descrption :\n",
      "    \u001b[0m\n",
      "\n",
      "\u001b[1m> Finished chain.\u001b[0m\n",
      "\n",
      "\n",
      "\u001b[1m> Entering new LLMChain chain...\u001b[0m\n",
      "Prompt after formatting:\n",
      "\u001b[32;1m\u001b[1;3myou are a Video content describer   and create a details describtion of a video depends on    \n",
      "     captions of all images   . All captions are in sequence of the video \n",
      "    page_content=\"a man is standing in a corn field at sunset\\na man standing in a corn field with a beautiful sunset\\ncornfield scene from jimmy tarantino's deathproof - trailer\\nthe man in the white shirt is standing in the middle of a corn field\\na person standing in the middle of a field with a corn plant\\na man walks in the middle of a corn field\\ncorn field background hd\\nthe dark field in the horror film, and the corn is green\\nthe dark knight rises dark night, the way it should be\\ncorn field closeup\\na man in a corn field staring at the camera\\na man is standing in a corn field with a look of shock on his face\\na man walking through the tall grass in the middle of a corn field\\na man standing in a field of corn\\na man standing in a cornfield looking around\\nthere is a man in a corn field\\nman in corn field\\na man stands alone in the middle of a cornfield\\nman is in a cornfield and staring straight ahead\\na man in a white shirt is standing in the middle of a field\\na grassy field with a lone tree in the distance\" metadata={'source': '/Users/bpakra200/tubegpt/tubegpt/src/notebook/list-blip2-moiveClip.txt'}\n",
      "    Create a Title :\n",
      "    Create  a Full Descrption :\n",
      "    \u001b[0m\n",
      "\n",
      "\u001b[1m> Finished chain.\u001b[0m\n",
      "\n",
      "\n",
      "\u001b[1m> Entering new LLMChain chain...\u001b[0m\n",
      "Prompt after formatting:\n",
      "\u001b[32;1m\u001b[1;3myou are a Video content describer   and create a details describtion of a video depends on    \n",
      "     captions of all images   . All captions are in sequence of the video \n",
      "    page_content='a grassy field with a lone tree in the distance\\na lone house is in the middle of the field\\na pole on a hillside with power lines behind it\\ntwo power poles are in a field with a purple sky\\na field has telephone poles and a grassy area\\ntwo telephone poles in the middle of a grassy field\\na man in a white shirt stands in front of corn\\na man in a white shirt standing in front of a corn field\\nthe cornfield in the middle of the night\\na white farm house in the middle of a corn field\\na farm house is shown sitting in the middle of a large field\\nmichael moore farm scene, from the dark half\\na house in the middle of a field of corn\\nan old country house sits in the middle of a corn field\\na man is in the corn fields in this photo\\nsamuel l jackson in the field\\na man is in a field of corn\\nthe man in the middle of a corn field\\nthe man standing in the middle of a field\\na man in a corn field in a movie theater\\npiano player in the dark 2009\\nthis old house - movieclips' metadata={'source': '/Users/bpakra200/tubegpt/tubegpt/src/notebook/list-blip2-moiveClip.txt'}\n",
      "    Create a Title :\n",
      "    Create  a Full Descrption :\n",
      "    \u001b[0m\n",
      "\n",
      "\u001b[1m> Finished chain.\u001b[0m\n",
      "\n",
      "\n",
      "\u001b[1m> Entering new LLMChain chain...\u001b[0m\n",
      "Prompt after formatting:\n",
      "\u001b[32;1m\u001b[1;3myou are a Video content describer   and create a details describtion of a video depends on    \n",
      "     captions of all images   . All captions are in sequence of the video \n",
      "    page_content='piano player in the dark 2009\\nthis old house - movieclips\\na house that is on the edge of the country with the people on the porch\\nthe woman sitting outside the house in the evening\\nthere is a woman sitting in the doorway of the home\\na woman sitting outside a home at dusk\\nthere is a person in a corn field\\na man is walking through a field of corn\\nyoung girl in a corn field\\na person in the middle of a large field of corn\\nthere is a person standing in the middle of a field\\na person is in a corn field\\na man in a field of corn is in the middle of a field\\na woman in a field of corn is looking back at the camera\\na man stands in a corn field surrounded by corn\\nman in white standing in corn field\\na woman is sitting on a swing while her daughter is on a swing\\na woman on a swing with two children sitting on it\\ntwo children on a swing sitting in the porch of a house\\nthe woman sits on the porch swing with the boy\\nthe women sit on a swing in a house\\na young girl sitting on a swing with her mother' metadata={'source': '/Users/bpakra200/tubegpt/tubegpt/src/notebook/list-blip2-moiveClip.txt'}\n",
      "    Create a Title :\n",
      "    Create  a Full Descrption :\n",
      "    \u001b[0m\n",
      "\n",
      "\u001b[1m> Finished chain.\u001b[0m\n",
      "\n",
      "\n",
      "\u001b[1m> Entering new LLMChain chain...\u001b[0m\n",
      "Prompt after formatting:\n",
      "\u001b[32;1m\u001b[1;3myou are a Video content describer   and create a details describtion of a video depends on    \n",
      "     captions of all images   . All captions are in sequence of the video \n",
      "    page_content='a young girl sitting on a swing with her mother\\nmother and son sitting on a swing with their hands on the top of the swing\\na woman and a child sitting on a swing in front of a house\\na woman and little girl are sitting on the porch of a home\\nthe woman is sitting on a porch swing and the woman is reading a book\\njohn corbett - corn fields - the movie clip\\nthe actor is standing in the corn field\\na man standing in a corn field\\na man stands in the middle of a field\\na man is standing in the middle of corn, wearing a white shirt\\nthe man is standing in the corn field\\nharry hines and bryan cranston in the jesse pinkman season one episode 11\\njim carrey in a cornfield\\na man is standing in the middle of a corn field\\na man in a white shirt standing in a corn field\\na man in a white shirt is standing in a corn field\\nthe man in the white shirt stands in the corn field\\nsamuel L jackson in corn\\njoey badarou in the lost world\\nthe corn field in the end of the film is in the dark\\na picture of corn in the dark' metadata={'source': '/Users/bpakra200/tubegpt/tubegpt/src/notebook/list-blip2-moiveClip.txt'}\n",
      "    Create a Title :\n",
      "    Create  a Full Descrption :\n",
      "    \u001b[0m\n",
      "\n",
      "\u001b[1m> Finished chain.\u001b[0m\n",
      "\n",
      "\n",
      "\u001b[1m> Entering new LLMChain chain...\u001b[0m\n",
      "Prompt after formatting:\n",
      "\u001b[32;1m\u001b[1;3myou are a Video content describer   and create a details describtion of a video depends on    \n",
      "     captions of all images   . All captions are in sequence of the video \n",
      "    page_content=\"a picture of corn in the dark\\nthe longest day, dvd copy 2\\na field is shown with lots of grass\\na closeup of a field of corn in a scene from the movie the ring\\nan old photo of a person in the middle of a field\\ncorn growing in a field in the movie 'night of the living dead'\\nthe corn field with dark trees and a single person walking through it\\na corn field with dark, long shadows\\na corn field with plants in it\\na person walking in the field with a baseball bat\\na boy in a corn field with a baseball bat\\nthe man stands in a corn field surrounded by tall grass\\ntwo men stand in front of a field of corn\\na man in the corn field with large green plants\\na man walking through tall green corn\\na man in a corn field, surrounded by grass\\nan older man standing in a corn field\\na man in a green corn field\\ntom hanks in the green mile\\na man is standing in a corn field\\njoey and linda walk into the cornfield\\na man stands in the middle of a corn field\\na man standing in a field of green plants\" metadata={'source': '/Users/bpakra200/tubegpt/tubegpt/src/notebook/list-blip2-moiveClip.txt'}\n",
      "    Create a Title :\n",
      "    Create  a Full Descrption :\n",
      "    \u001b[0m\n",
      "\n",
      "\u001b[1m> Finished chain.\u001b[0m\n",
      "\n",
      "\n",
      "\u001b[1m> Entering new LLMChain chain...\u001b[0m\n",
      "Prompt after formatting:\n",
      "\u001b[32;1m\u001b[1;3myou are a Video content describer   and create a details describtion of a video depends on    \n",
      "     captions of all images   . All captions are in sequence of the video \n",
      "    page_content=\"a man standing in a field of green plants\\nlars von trier - the man who didn't die of cancer, 1982\\nthe man is standing in a field of corn\\nthe house in the movie has a light on\\nthis is a movie scene from the movie housekeeping\\nthe house is in the country with two children playing\\nmovie clip the farmhouse in the dusk movie product placement hd 1080p hd\\na couple is sitting in the living room of a house at dusk\\nmartha jones in twilight twilight movie scene 4\\nthis home is on a farm with many windows\\nthe man and woman are outside the home\\npaul dano's house\\nthe movie is about to end and the woman is on the porch of the home\\nthe country girl 1 1\\na man sitting in the porch of a house on the lawn\\na man standing in the middle of a corn field\\nscott pilgrim movie poster\\na man in a white shirt and blue jeans in a corn field\\na man standing in front of a corn field\\na man standing in the middle of a corn field\\na man standing in the middle of a corn field\\nthe man is standing in the middle of a field\\na man is in a corn field\" metadata={'source': '/Users/bpakra200/tubegpt/tubegpt/src/notebook/list-blip2-moiveClip.txt'}\n",
      "    Create a Title :\n",
      "    Create  a Full Descrption :\n",
      "    \u001b[0m\n",
      "\n",
      "\u001b[1m> Finished chain.\u001b[0m\n",
      "\n",
      "\n",
      "\u001b[1m> Entering new LLMChain chain...\u001b[0m\n",
      "Prompt after formatting:\n",
      "\u001b[32;1m\u001b[1;3myou are a Video content describer   and create a details describtion of a video depends on    \n",
      "     captions of all images   . All captions are in sequence of the video \n",
      "    page_content=\"a man is in a corn field\\nthe man is in the corn field and staring into the sky\\na man in a white shirt in the middle of a corn field\\nmark ruffalo and his wife gisele in the middle of a corn field in one of the film's most iconic shots\\nmovie clips the man in the blue shirt on the left\\na man standing in a corn field holding a baseball bat\\na man with a knife in front of a cornfield\\nman in a white shirt sitting in the middle of corn\\na man standing in a corn field\\na young man is standing in the middle of a field\\na man in a corn field with a woman looking at him\\na man is walking through a corn field\\nmichael bay at the end of titanic\\nmovie - the jennings farm - jennings, nd\\na sunset view of a field of corn\\nthe bird is flying through the air at sunset\\na bird flying through the sky at dusk with purple and pink clouds in the background\\nhot movies clips movies on youtube\\nthe movieclips facebook page features a movie trailer on the left\\nmovieclips com | movietrailerclips com\\na movie clip is being shown on the website\" metadata={'source': '/Users/bpakra200/tubegpt/tubegpt/src/notebook/list-blip2-moiveClip.txt'}\n",
      "    Create a Title :\n",
      "    Create  a Full Descrption :\n",
      "    \u001b[0m\n",
      "\n",
      "\u001b[1m> Finished chain.\u001b[0m\n",
      "\n",
      "\n",
      "\u001b[1m> Entering new LLMChain chain...\u001b[0m\n",
      "Prompt after formatting:\n",
      "\u001b[32;1m\u001b[1;3myou are a Video content describer   and create a details describtion of a video depends on    \n",
      "     captions of all images   . All captions are in sequence of the video \n",
      "    page_content='a movie clip is being shown on the website\\na movie clip video is shown on an internet browser\\nmovieclips com - watch movie trailers\\nhot trailers movieclips com - movies movie clips\\nmovieclips com com free hot trailers\\nmovilips movie clips download\\nmovieclips com movies and trailers for hot trailers\\nwatch free movie clips online at www moviesclipscom com\\nwatch trailer movies online with movilclips com\\nmovieclips com is where you can watch movies free\\nmovileclips, movies with a variety of clips\\nwatch hot trailers free watch trailers full movie watch trailer movies online\\nwatch hot trailers on movieclips\\nmovieclips.com watch free movies online\\nthe hot trailers app on the google play store\\nthree different screens with movie clips from the movie trailer\\nthe movieclips website with the title of a movie\\nmovielife, a new website launched by movielife, the new name for movieclips\\ntop 10 movies to watch this weekend\\nthe movieclips app, for free to download\\nthe movieclips site has some new movie trailers' metadata={'source': '/Users/bpakra200/tubegpt/tubegpt/src/notebook/list-blip2-moiveClip.txt'}\n",
      "    Create a Title :\n",
      "    Create  a Full Descrption :\n",
      "    \u001b[0m\n",
      "\n",
      "\u001b[1m> Finished chain.\u001b[0m\n",
      "\n",
      "\n",
      "\u001b[1m> Entering new LLMChain chain...\u001b[0m\n",
      "Prompt after formatting:\n",
      "\u001b[32;1m\u001b[1;3myou are a Video content describer   and create a details describtion of a video depends on    \n",
      "     captions of all images   . All captions are in sequence of the video \n",
      "    page_content=\"the movieclips site has some new movie trailers\\nmovieclips com best movies and tv shows\\nmoviesclips com watch movies and tv shows free\\nwatch hot trailers in hd on your phone\\nmovien clips download\\nthree movies are playing on the phone screen\\nthree screens showing movie clips, and a few of the clips\\nmovielips com- screenshot\\nthe video player features a number of movie trailers\\nwatch trailers free online movie trailers\\nwatch trailer's free trailer maker app is now available for android mobile phones\\nmovileclips com hot trailers free movie clip movies hot videos free\\nthe screen of a computer screen has several options for movies\\na movieclips com site showing the movie and a couple\\nwatch movies online free | free movie clips | free online movies | online streaming | movie clips | free streaming movies | free movie clips | free online movies\\nwatch trailers for the movie clip from movieclipscom\\nhot movie clips movie clip website\\nmovieclips is a website featuring a screen capture and a list of movies on it\" metadata={'source': '/Users/bpakra200/tubegpt/tubegpt/src/notebook/list-blip2-moiveClip.txt'}\n",
      "    Create a Title :\n",
      "    Create  a Full Descrption :\n",
      "    \u001b[0m\n",
      "\n",
      "\u001b[1m> Finished chain.\u001b[0m\n",
      "\n",
      "\n",
      "\u001b[1m> Entering new LLMChain chain...\u001b[0m\n",
      "Prompt after formatting:\n",
      "\u001b[32;1m\u001b[1;3myou are a Video content describer   and create a details describtion of a video depends on    \n",
      "     captions of all images   . All captions are in sequence of the video \n",
      "    page_content='movieclipscom movies, tv and tv shows free movie streaming\\nmovieclips on tv, with movieclips showing up in different ways\\nmovieclips. com film trailers for movies\\nan image of an app that shows the movies that are being played\\nan advertisement for a movie with the text \"moviestrapers\"\\nfree watchmoviesclips movies clips clips hot clips download tv tv shows\\nthe top 5 watch clips free movies with the movies and the trailers\\nmovie clips in a browser with the video showing\\nmovieclips net movie listings page\\na screen shot with movieclips and hot movieclips\\nthe movieclips website is displayed and the title says \"watch movieclips shows and features\"\\nmovielips hot clipsshare watch movies online, movies download hd, watch movie trailer online, hd movie clip site, free movies\\na computer screen displaying moviesclips.com\\nan elephant is standing in front of a sign that says \"daddy\"\\na jet is taking off in the dark\\na black background with the words movieclips on it\\nvideo - a brief history of film' metadata={'source': '/Users/bpakra200/tubegpt/tubegpt/src/notebook/list-blip2-moiveClip.txt'}\n",
      "    Create a Title :\n",
      "    Create  a Full Descrption :\n",
      "    \u001b[0m\n",
      "\n",
      "\u001b[1m> Finished chain.\u001b[0m\n",
      "\n",
      "\n",
      "\u001b[1m> Entering new LLMChain chain...\u001b[0m\n",
      "Prompt after formatting:\n",
      "\u001b[32;1m\u001b[1;3myou are a Video content describer   and create a details describtion of a video depends on    \n",
      "     captions of all images   . All captions are in sequence of the video \n",
      "    page_content='video - a brief history of film\\na white and black sign that says movies clips\\nthe movie clips logo and a light on it\\nmovieclips com coupon codes & promo codes\\nwatch movie clips on the web with a free account' metadata={'source': '/Users/bpakra200/tubegpt/tubegpt/src/notebook/list-blip2-moiveClip.txt'}\n",
      "    Create a Title :\n",
      "    Create  a Full Descrption :\n",
      "    \u001b[0m\n",
      "\n",
      "\u001b[1m> Finished chain.\u001b[0m\n"
     ]
    }
   ],
   "source": [
    "\n",
    "\n",
    "processed_splits = []\n",
    "for split in splits:\n",
    "    result = video_descrption_chain({\"image_captions\": split}, return_only_outputs=True)\n",
    "    processed_splits.append(result['text'])"
   ]
  },
  {
   "cell_type": "markdown",
   "metadata": {},
   "source": [
    "## process image caption to Full description of video"
   ]
  },
  {
   "cell_type": "code",
   "execution_count": 11,
   "metadata": {},
   "outputs": [],
   "source": [
    "\n",
    "\n",
    "with open(\"clip-descrption-blip2v2.txt\", \"w\") as file:\n",
    "    for item in processed_splits:\n",
    "        file.write(str(item) + \"\\n\")"
   ]
  },
  {
   "cell_type": "markdown",
   "metadata": {},
   "source": [
    "## Saving Description in Vector Database"
   ]
  },
  {
   "cell_type": "code",
   "execution_count": 13,
   "metadata": {},
   "outputs": [],
   "source": [
    "loader = TextLoader('/Users/bpakra200/tubegpt/tubegpt/src/notebook/clip-descrption-blip2v2.txt')\n",
    "\n",
    "docs_vision_description = loader.load()"
   ]
  },
  {
   "cell_type": "code",
   "execution_count": null,
   "metadata": {},
   "outputs": [],
   "source": [
    "text_splitter_vision_description = RecursiveCharacterTextSplitter(chunk_size=1024, chunk_overlap=64)\n",
    "texts_vision_description = text_splitter_vision_description.split_documents(docs_vision_description)\n",
    "len(texts_vision_description)"
   ]
  },
  {
   "cell_type": "code",
   "execution_count": 25,
   "metadata": {},
   "outputs": [],
   "source": [
    "embeddings = OpenAIEmbeddings()"
   ]
  },
  {
   "cell_type": "code",
   "execution_count": null,
   "metadata": {},
   "outputs": [],
   "source": [
    "PERSIST_DIRECTORY_OPENAI = \"../tubegptvisionclipblip2db/\"\n",
    " \n",
    "tubegptvisionclipblip2db = Chroma.from_documents(\n",
    "    documents=texts_vision_description, embedding= embeddings, persist_directory=PERSIST_DIRECTORY_OPENAI\n",
    ")\n",
    "tubegptvisionclipblip2db.similarity_search_with_score(\"Who is the person with white shirt?\", k=2)"
   ]
  },
  {
   "cell_type": "code",
   "execution_count": 19,
   "metadata": {},
   "outputs": [],
   "source": [
    "\n",
    "tubegptvisionclipblip2db.persist()"
   ]
  },
  {
   "cell_type": "markdown",
   "metadata": {},
   "source": [
    "## load Vectors from database"
   ]
  },
  {
   "cell_type": "code",
   "execution_count": 27,
   "metadata": {},
   "outputs": [
    {
     "data": {
      "text/plain": [
       "[(Document(page_content=\"Full Description: In this captivating video, we witness a man's exploration of a vast corn field. The video begins with a shot of the man standing amidst the towering cornstalks, his gaze fixed upon the sky above. As the camera pans, we get a closer look at the man, dressed in a crisp white shirt, as he becomes the focal point of the frame. This iconic shot, reminiscent of a movie scene, features Mark Ruffalo and his wife Gisele, adding an element of intrigue to the narrative.\\n\\nThe next sequence showcases a man in a blue shirt, positioned to the left of the frame. He appears to be part of a movie clip, adding an element of mystery to the video. The scene transitions to another man, this time holding a baseball bat, standing confidently in the corn field. The juxtaposition of the man's presence with the peaceful surroundings creates a sense of anticipation.\", metadata={'source': '/Users/bpakra200/tubegpt/tubegpt/src/notebook/clip-descrption-blip2v2.txt'}),\n",
       "  0.45173418521881104),\n",
       " (Document(page_content='Dressed in a white t-shirt, the man stands amidst the towering cornstalks, creating a striking visual contrast. The golden hues of the setting sun cast a warm glow on the surroundings, enhancing the beauty of the cornfield. The video captures the man\\'s peaceful walk through the cornfield, with each step perfectly timed to the mesmerizing sunset.\\n\\nAs the video progresses, we catch glimpses of James Arthur Hill, seemingly lost in the middle of nowhere. This intriguing moment adds an air of mystery to the narrative, leaving viewers curious about the man\\'s purpose in the cornfield.\\n\\nThe camera then focuses on the man standing in the cornfield, pitchfork in hand, as he gazes at a corn plant. This shot highlights the man\\'s connection to the land and his role as a farmer. The video seamlessly transitions to a clip featuring Mark Hamill as the iconic Joker from the 1989 movie \"Superman,\" adding an unexpected twist to the storyline.', metadata={'source': '/Users/bpakra200/tubegpt/tubegpt/src/notebook/clip-descrption-blip2v2.txt'}),\n",
       "  0.4583316147327423)]"
      ]
     },
     "execution_count": 27,
     "metadata": {},
     "output_type": "execute_result"
    }
   ],
   "source": [
    "PERSIST_DIRECTORY_OPENAI =  \"../tubegptvisionclipblip2db\"\n",
    "embeddings = OpenAIEmbeddings()\n",
    "tubegptvisionclipblip2db = Chroma(persist_directory=PERSIST_DIRECTORY_OPENAI, embedding_function=embeddings)\n",
    "tubegptvisionclipblip2db.similarity_search_with_score(\"Who is the person with white shirt?\", k=2)"
   ]
  },
  {
   "cell_type": "markdown",
   "metadata": {},
   "source": [
    "## Create a prompt Templete"
   ]
  },
  {
   "cell_type": "code",
   "execution_count": 83,
   "metadata": {},
   "outputs": [
    {
     "name": "stdout",
     "output_type": "stream",
     "text": [
      "You're a Professor who helps students on Youtube contents .\n",
      " \n",
      "A blind person asking about visual Content \n",
      " \n",
      "Answer with Accurate data   to the question and the way Professor speaks and only depends on provided Data. \n",
      " \n",
      "Question: Who is the person with white shirt?\n",
      "Answer:\n"
     ]
    }
   ],
   "source": [
    "template = \"\"\"You're a Helper of blind person who needs help to understand a visual of a video .He can understand audio part of the video  .\n",
    " \n",
    "{context}\n",
    " \n",
    "Answer with Accurate data   to the question and the way Helper of  poor vision person speaks and only depends on provided Data. \n",
    " \n",
    "Question: {question}\n",
    "Answer:\"\"\"\n",
    " \n",
    "vistion_prompt = PromptTemplate(template=template, input_variables=[\"context\", \"question\"])\n",
    "print(\n",
    "    prompt.format(\n",
    "        context=\"A blind person asking about visual Content \",\n",
    "        question=\"Who is the person with white shirt?\",\n",
    "    )\n",
    ")"
   ]
  },
  {
   "cell_type": "markdown",
   "metadata": {},
   "source": [
    "# Create Vision chain "
   ]
  },
  {
   "cell_type": "code",
   "execution_count": 84,
   "metadata": {},
   "outputs": [],
   "source": [
    "chain_type_kwargs = {\"prompt\": vistion_prompt}\n",
    "vision_chain = RetrievalQA.from_chain_type(\n",
    "    llm=ChatOpenAI(temperature=.4),\n",
    "    chain_type=\"stuff\",\n",
    "    retriever=tubegptvisionclipblip2db.as_retriever(search_kwargs={\"k\": 1}),\n",
    "    chain_type_kwargs=chain_type_kwargs,\n",
    ")"
   ]
  },
  {
   "cell_type": "code",
   "execution_count": 71,
   "metadata": {},
   "outputs": [
    {
     "name": "stdout",
     "output_type": "stream",
     "text": [
      "The person with the white shirt is Mark Ruffalo.\n"
     ]
    }
   ],
   "source": [
    "query = \"Who is the person with white shirt? \"\n",
    "response = vision_chain.run(query)\n",
    "print_response(response)"
   ]
  },
  {
   "cell_type": "code",
   "execution_count": 31,
   "metadata": {},
   "outputs": [],
   "source": [
    "from langchain.chains.router import MultiPromptChain\n",
    "from langchain.llms import OpenAI\n",
    "from langchain.chains import ConversationChain\n",
    "from langchain.chains.llm import LLMChain\n",
    "from langchain.prompts import PromptTemplate"
   ]
  },
  {
   "cell_type": "markdown",
   "metadata": {},
   "source": [
    "## Create Templarte for Agent"
   ]
  },
  {
   "cell_type": "code",
   "execution_count": 85,
   "metadata": {},
   "outputs": [],
   "source": [
    "audio_template = \"\"\"You are a very smart video content descriptor for deaf people. \\\n",
    "You are great at answering questions about Audio part of video in a concise and easy to understand manner. \\\n",
    "You are so good because you are able to break down hard problems into their component parts, \\\n",
    "answer the component parts, and then put them together to answer the broader question.\n",
    "When you don't know the answer to a question you admit that you don't know.\n",
    "\n",
    "Here is a question:\n",
    "{input}\"\"\"\n",
    "\n",
    "\n",
    "vision_template = \"\"\"You are a very smart video content descriptor for blind people.  You are great at answering  questions on visual part of video\n",
    "Content. \\\n",
    "You are so good because you are able to break down hard problems into their component parts, \\\n",
    "answer the component parts, and then put them together to answer the broader question.\n",
    "\n",
    "Here is a question:\n",
    "{input}\"\"\""
   ]
  },
  {
   "cell_type": "code",
   "execution_count": 48,
   "metadata": {},
   "outputs": [],
   "source": [
    "# Import things that are needed generically\n",
    "from langchain.agents import initialize_agent, Tool\n",
    "from langchain.agents import AgentType\n",
    "from langchain.tools import BaseTool\n",
    "from langchain.llms import OpenAI\n",
    "from langchain import LLMMathChain, SerpAPIWrapper"
   ]
  },
  {
   "cell_type": "markdown",
   "metadata": {},
   "source": [
    "## Create Tool for Agent"
   ]
  },
  {
   "cell_type": "code",
   "execution_count": 87,
   "metadata": {},
   "outputs": [],
   "source": [
    "tools = [\n",
    "    Tool(\n",
    "        name=\"A video deacriptor for deaf people\",\n",
    "        func=audio_chain.run,\n",
    "        description=audio_template,\n",
    "    ),\n",
    "    Tool(\n",
    "        name=\"A video deacriptor for Blind people\",\n",
    "        func=vision_chain.run,\n",
    "        description=vision_template,\n",
    "    ),\n",
    "]"
   ]
  },
  {
   "cell_type": "code",
   "execution_count": 88,
   "metadata": {},
   "outputs": [],
   "source": [
    "agent = initialize_agent(\n",
    "    tools, llm, agent=AgentType.ZERO_SHOT_REACT_DESCRIPTION, verbose=True\n",
    ")"
   ]
  },
  {
   "cell_type": "markdown",
   "metadata": {},
   "source": [
    "## Asking qustion to agent . Agent is using REACT framework and chain of thoughts"
   ]
  },
  {
   "cell_type": "code",
   "execution_count": 89,
   "metadata": {},
   "outputs": [
    {
     "name": "stdout",
     "output_type": "stream",
     "text": [
      "\n",
      "\n",
      "\u001b[1m> Entering new AgentExecutor chain...\u001b[0m\n",
      "\u001b[32;1m\u001b[1;3m I need to look for information about the actor wearing a white shirt.\n",
      "Action: A video deacriptor for Blind people\n",
      "Action Input: Look for visual information about the actor with a white shirt.\u001b[0m\n",
      "Observation: \u001b[33;1m\u001b[1;3mIn the video, there is an actor wearing a crisp white shirt. He is standing amidst the towering cornstalks and his gaze is fixed upon the sky above. He becomes the focal point of the frame, resembling a movie scene. This actor is Mark Ruffalo, who is accompanied by his wife Gisele.\u001b[0m\n",
      "Thought:\u001b[32;1m\u001b[1;3m I now know the final answer\n",
      "Final Answer: The actor with the white shirt is Mark Ruffalo.\u001b[0m\n",
      "\n",
      "\u001b[1m> Finished chain.\u001b[0m\n"
     ]
    },
    {
     "data": {
      "text/plain": [
       "'The actor with the white shirt is Mark Ruffalo.'"
      ]
     },
     "execution_count": 89,
     "metadata": {},
     "output_type": "execute_result"
    }
   ],
   "source": [
    "agent.run(\n",
    "    \"Who is the  actor  with white shirt?\"\n",
    ")"
   ]
  },
  {
   "cell_type": "code",
   "execution_count": 91,
   "metadata": {},
   "outputs": [
    {
     "name": "stdout",
     "output_type": "stream",
     "text": [
      "\n",
      "\n",
      "\u001b[1m> Entering new AgentExecutor chain...\u001b[0m\n",
      "\u001b[32;1m\u001b[1;3m What information can I use to answer this question?\n",
      "Action: A video deacriptor for Blind people\n",
      "Action Input: Observing the video\u001b[0m\n",
      "Observation: \u001b[33;1m\u001b[1;3mBased on the provided data, the video starts with a group of people sitting on a porch of an old house in a peaceful countryside setting. Then, it shows a woman sitting outside the house in the evening, possibly reflecting on memories or enjoying the tranquility. The scene transitions to a cornfield, where a person is seen walking through the tall stalks, creating a sense of solitude and contemplation. There is also a young girl exploring the cornfield. The video then shifts to a woman and her daughter sitting on a swing on a porch, capturing a joyful and innocent moment.\u001b[0m\n",
      "Thought:\u001b[32;1m\u001b[1;3m I will need to observe what color of shirt the person is wearing. \n",
      "Action: A video deacriptor for Blind people\n",
      "Action Input: Observing the video\u001b[0m\n",
      "Observation: \u001b[33;1m\u001b[1;3mBased on the provided data, the video begins by showing a group of people sitting on a porch of an old house in a tranquil setting. The next scene depicts a woman sitting outside the house, possibly reflecting on memories or enjoying the peaceful ambiance. The video then transitions to a cornfield, where a person is seen walking through the tall stalks. A young girl is also exploring the cornfield. The imagery of the person standing in the middle of the field creates a sense of solitude and contemplation. The video then shifts to a woman and her daughter sitting on a swing located on a porch. The camera captures the joy and innocence of the moment as they enjoy swinging.\u001b[0m\n",
      "Thought:\u001b[32;1m\u001b[1;3m I can now see that the person in the cornfield is wearing a blue shirt.\n",
      "Final Answer: The color of the shirt was blue.\u001b[0m\n",
      "\n",
      "\u001b[1m> Finished chain.\u001b[0m\n"
     ]
    },
    {
     "data": {
      "text/plain": [
       "'The color of the shirt was blue.'"
      ]
     },
     "execution_count": 91,
     "metadata": {},
     "output_type": "execute_result"
    }
   ],
   "source": [
    "agent.run(\n",
    "    \"what was color of the shirt ?\"\n",
    ")"
   ]
  },
  {
   "cell_type": "code",
   "execution_count": 92,
   "metadata": {},
   "outputs": [
    {
     "name": "stdout",
     "output_type": "stream",
     "text": [
      "\n",
      "\n",
      "\u001b[1m> Entering new AgentExecutor chain...\u001b[0m\n",
      "\u001b[32;1m\u001b[1;3m The person might be asking if the lady heard correctly, or they might be asking her to repeat what they said. \n",
      "Action: A video deacriptor for deaf people\n",
      "Action Input: Analyze the audio part of the video \u001b[0m\n",
      "Observation: \u001b[36;1m\u001b[1;3mBased on the provided data, the audio part of the video consists of a conversation between two individuals, Annie and the Professor. Annie seems to be unaware of a voice that the Professor heard, suggesting that it may have been a hallucination or something only the Professor could hear. The Professor mentions the phrase \"If you build it, he will come\" multiple times, indicating that it is significant in some way. The conversation ends with Annie inviting the Professor and Parker for dinner.\u001b[0m\n",
      "Thought:\u001b[32;1m\u001b[1;3m This conversation may be related to why the Professor asked the lady to reconfirm the hearing. \n",
      "Action: A video deacriptor for Blind people\n",
      "Action Input: Analyze the visual part of the video\u001b[0m\n",
      "Observation: \u001b[33;1m\u001b[1;3mThe visual part of the video starts with a scene of a group of people sitting on a porch of an old house in the countryside. They appear to be enjoying the peaceful surroundings. The camera then shows a woman sitting outside the house in the evening, possibly reflecting on memories or enjoying the tranquility.\n",
      "\n",
      "The video then transitions to a cornfield, where a person is seen walking through the tall stalks. The camera captures the beauty of the vast field, with a young girl also exploring the cornfield. The imagery of the person standing in the middle of the field creates a sense of solitude and contemplation.\n",
      "\n",
      "Next, the video shifts to a woman sitting on a swing, accompanied by her daughter. The swing is located on the porch of a house, providing a sense of familiarity and warmth. The camera captures the joy and innocence of the moment as the woman and her children enjoy the simple pleasure of swinging.\n",
      "\n",
      "Overall, the visual part of the video showcases various serene and nostalgic scenes, including the porch of an old house, a cornfield, and a swing. These visuals evoke a sense of peace, solitude, and simple pleasures.\u001b[0m\n",
      "Thought:\u001b[32;1m\u001b[1;3m These visuals may be related to why the Professor asked the lady to reconfirm the hearing. \n",
      "Final Answer: The Professor was likely asking the lady to reconfirm her hearing because of the peaceful and nostalgic visuals presented in the video, which could be connected to the phrase \"If you build it, he will come\" and the invitation to dinner.\u001b[0m\n",
      "\n",
      "\u001b[1m> Finished chain.\u001b[0m\n"
     ]
    },
    {
     "data": {
      "text/plain": [
       "'The Professor was likely asking the lady to reconfirm her hearing because of the peaceful and nostalgic visuals presented in the video, which could be connected to the phrase \"If you build it, he will come\" and the invitation to dinner.'"
      ]
     },
     "execution_count": 92,
     "metadata": {},
     "output_type": "execute_result"
    }
   ],
   "source": [
    "agent.run(\n",
    "    \"Why the perosn ask a lady to reconfirm the hearing?\"\n",
    ")\n",
    "\n"
   ]
  },
  {
   "cell_type": "code",
   "execution_count": 93,
   "metadata": {},
   "outputs": [
    {
     "name": "stdout",
     "output_type": "stream",
     "text": [
      "\n",
      "\n",
      "\u001b[1m> Entering new AgentExecutor chain...\u001b[0m\n",
      "\u001b[32;1m\u001b[1;3m I need to find out who is speaking this line\n",
      "Action: A video deacriptor for Blind people\n",
      "Action Input: Describe the visuals of the scene\u001b[0m\n",
      "Observation: \u001b[33;1m\u001b[1;3mThe visuals of the scene include sun rays piercing through the distance, casting a warm glow over a picturesque field. There is a reference to the tale of \"Harry Potter and the Sword in the Stone,\" symbolizing the convergence of elements such as lightning, water, land, and the horizon. A thunderstorm scene unfolds, engulfing a field with trees, showcasing the power of nature. The video then transitions to a serene moment with sun rays illuminating a field, creating a sense of tranquility and hope. A stunning rainbow against a cloudy backdrop and landscape captures the viewer's attention. Sunlight pierces through rain clouds, casting a magical glow over a field with trees. The video also showcases the sun rising behind a purple cloud during a storm, creating a dramatic and awe-inspiring visual.\u001b[0m\n",
      "Thought:\u001b[32;1m\u001b[1;3m I now know the final answer\n",
      "Final Answer: The line \"If you build it, he will come\" is spoken in the video by an unknown narrator.\u001b[0m\n",
      "\n",
      "\u001b[1m> Finished chain.\u001b[0m\n"
     ]
    },
    {
     "data": {
      "text/plain": [
       "'The line \"If you build it, he will come\" is spoken in the video by an unknown narrator.'"
      ]
     },
     "execution_count": 93,
     "metadata": {},
     "output_type": "execute_result"
    }
   ],
   "source": [
    "agent.run(\n",
    "    \"who is saying If you build it, he will come?\"\n",
    ")"
   ]
  }
 ],
 "metadata": {
  "kernelspec": {
   "display_name": "tubegpt-FIUw9MBe",
   "language": "python",
   "name": "python3"
  },
  "language_info": {
   "codemirror_mode": {
    "name": "ipython",
    "version": 3
   },
   "file_extension": ".py",
   "mimetype": "text/x-python",
   "name": "python",
   "nbconvert_exporter": "python",
   "pygments_lexer": "ipython3",
   "version": "3.11.4"
  },
  "orig_nbformat": 4
 },
 "nbformat": 4,
 "nbformat_minor": 2
}
