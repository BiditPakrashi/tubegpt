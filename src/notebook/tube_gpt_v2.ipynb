{
 "cells": [
  {
   "cell_type": "code",
   "execution_count": 7,
   "metadata": {},
   "outputs": [],
   "source": [
    "from langchain.llms import OpenAI\n",
    "from langchain.chat_models import ChatOpenAI\n",
    "from langchain.chains import LLMChain\n",
    "from langchain.prompts import PromptTemplate\n",
    "from langchain.chains import SimpleSequentialChain\n",
    "from langchain.chains.api.prompt import API_RESPONSE_PROMPT\n",
    "from langchain.chains import APIChain\n",
    "from langchain.prompts.prompt import PromptTemplate\n",
    "from langchain.agents.agent_toolkits import create_python_agent\n",
    "from langchain.agents import load_tools, initialize_agent\n",
    "from langchain.agents import AgentType\n",
    "from langchain.tools.python.tool import PythonREPLTool\n",
    "from langchain.python import PythonREPL\n",
    "from langchain.agents import tool\n",
    "from langchain.document_loaders import TextLoader, UnstructuredPDFLoader, YoutubeLoader\n",
    "from langchain.text_splitter import RecursiveCharacterTextSplitter\n",
    "from langchain.vectorstores import Chroma\n",
    "from langchain.embeddings import HuggingFaceEmbeddings, OpenAIEmbeddings\n",
    "from langchain.indexes import VectorstoreIndexCreator\n",
    "from langchain.chains import RetrievalQA\n",
    "import textwrap\n",
    "from langchain.utilities import GoogleSearchAPIWrapper\n",
    "from langchain.tools import Tool\n",
    "import langchain\n",
    "import json\n",
    "from langchain.document_loaders import WebBaseLoader\n",
    "from langchain.document_loaders.generic import GenericLoader\n",
    "from langchain.document_loaders.parsers import OpenAIWhisperParser\n",
    "from langchain.document_loaders.blob_loaders.youtube_audio import YoutubeAudioLoader\n",
    "from langchain.schema import Document\n",
    "from typing import Iterator, List, Literal, Optional, Sequence, Union\n",
    "from langchain.document_loaders.blob_loaders import FileSystemBlobLoader\n",
    "import os\n",
    "import openai\n",
    "from langchain.document_loaders import TextLoader\n"
   ]
  },
  {
   "cell_type": "code",
   "execution_count": 8,
   "metadata": {},
   "outputs": [],
   "source": [
    "def print_response(response: str):\n",
    "    print(\"\\n\".join(textwrap.wrap(response, width=100)))"
   ]
  },
  {
   "cell_type": "code",
   "execution_count": 9,
   "metadata": {},
   "outputs": [],
   "source": [
    "\n",
    "\n",
    "from dotenv import load_dotenv, find_dotenv\n",
    "_ = load_dotenv(find_dotenv()) # read local .env file\n",
    "openai.api_key = os.environ['OPENAI_API_KEY']\n"
   ]
  },
  {
   "attachments": {},
   "cell_type": "markdown",
   "metadata": {},
   "source": [
    "##  Download Video in Save directory\n",
    "## Transcribe the videos to text\n",
    "## keep the transcript in document "
   ]
  },
  {
   "cell_type": "code",
   "execution_count": 53,
   "metadata": {},
   "outputs": [
    {
     "name": "stdout",
     "output_type": "stream",
     "text": [
      "[youtube] Extracting URL: https://www.youtube.com/watch?v=_xASV0YmROc\n",
      "[youtube] _xASV0YmROc: Downloading webpage\n",
      "[youtube] _xASV0YmROc: Downloading ios player API JSON\n",
      "[youtube] _xASV0YmROc: Downloading android player API JSON\n",
      "[youtube] _xASV0YmROc: Downloading m3u8 information\n",
      "[info] _xASV0YmROc: Downloading 1 format(s): 140\n",
      "[download] /Users/bpakra200/Downloads/YouTubeYoga3/The 3-Minute Yoga Routine To Jump Start Your Mornings.m4a has already been downloaded\n",
      "[download] 100% of    2.70MiB\n"
     ]
    },
    {
     "name": "stderr",
     "output_type": "stream",
     "text": [
      "ERROR: Postprocessing: ffprobe and ffmpeg not found. Please install or provide the path using --ffmpeg-location\n"
     ]
    },
    {
     "name": "stdout",
     "output_type": "stream",
     "text": [
      "Error loading documents: ERROR: Postprocessing: ffprobe and ffmpeg not found. Please install or provide the path using --ffmpeg-location\n"
     ]
    }
   ],
   "source": [
    "\n",
    "#  Yoga lecture videos\n",
    "urls = [\"https://www.youtube.com/watch?v=_xASV0YmROc\"]\n",
    "\n",
    "# Directory to save audio files\n",
    "save_dir = \"/Users/bpakra200/Downloads/YouTubeYoga3\"\n",
    "\n",
    "try:\n",
    "    # Transcribe the videos to text\n",
    "    loader = GenericLoader(YoutubeAudioLoader(urls, save_dir), OpenAIWhisperParser())\n",
    "\n",
    "    docs = loader.load()\n",
    "    print(\"After load\")\n",
    "    if len(docs) == 0:\n",
    "        print(\"No documents loaded.\")\n",
    "    else:\n",
    "        for doc in docs:\n",
    "            # Process the loaded documents\n",
    "            print(doc)\n",
    "except Exception as e:\n",
    "    print(\"Error loading documents:\", str(e))    \n",
    " "
   ]
  },
  {
   "cell_type": "code",
   "execution_count": 54,
   "metadata": {},
   "outputs": [
    {
     "data": {
      "text/plain": [
       "1"
      ]
     },
     "execution_count": 54,
     "metadata": {},
     "output_type": "execute_result"
    }
   ],
   "source": [
    "# Returns a list of Documents, which can be easily viewed or parsed\n",
    "len(docs)"
   ]
  },
  {
   "cell_type": "code",
   "execution_count": 55,
   "metadata": {},
   "outputs": [],
   "source": [
    "# Combine doc\n",
    "combined_docs = [doc.page_content for doc in docs]\n",
    "text = \" \".join(combined_docs)"
   ]
  },
  {
   "attachments": {},
   "cell_type": "markdown",
   "metadata": {},
   "source": [
    "Although HuggingFaceEmbeddings is a free and user-friendly option to get started with embeddings, OpenAI also offers an API for text embeddings5, which might perform much better. With LangChain, it is straightforward to use the OpenAI API for embeddings:"
   ]
  },
  {
   "cell_type": "code",
   "execution_count": 56,
   "metadata": {},
   "outputs": [],
   "source": [
    "embeddings = OpenAIEmbeddings()"
   ]
  },
  {
   "attachments": {},
   "cell_type": "markdown",
   "metadata": {},
   "source": [
    "# Storing Embeddings\n",
    "Note that Chroma doesn't automatically persist the embeddings, so you'll need to provide an additional parameter persist_directory to ensure they're saved along with the documents:"
   ]
  },
  {
   "cell_type": "code",
   "execution_count": 57,
   "metadata": {},
   "outputs": [
    {
     "name": "stderr",
     "output_type": "stream",
     "text": [
      "Number of requested results 2 is greater than number of elements in index 1, updating n_results = 1\n"
     ]
    },
    {
     "data": {
      "text/plain": [
       "[(Document(page_content='there is a stuffed santa claus doll on a wreath on the back of a truck\\nthere is a stuffed santa claus doll on a wreath on the back of a car\\nthere is a stuffed santa claus on a wreath on the back of a car\\nthere is a stuffed santa claus sitting on a wreath on the back of a car\\nthere is a stuffed santa claus sitting on a wreath on the back of a golf cart\\nthere is a stuffed santa claus on a wreath on the back of a golf cart\\nthere is a stuffed santa claus sitting on a wreath on the back of a truck\\nthere is a stuffed animal that is sitting on a wreath\\nthere is a wreath with a santa clause on it on the back of a car\\nthere is a stuffed animal in a wreath on the back of a car\\nthere is a stuffed santa claus on a wreath on the back of a truck\\nthere is a stuffed animal in a wreath on the back of a truck\\nthere is a stuffed santa claus sitting on a christmas wreath\\nthere is a stuffed santa claus doll sitting on a christmas wreath\\nthere is a stuffed animal that is sitting in a wreath\\nthere is a stuffed animal that is sitting on a blanket\\nthere is a stuffed santa claus sitting on a green wreath\\nthere is a stuffed santa claus sitting on a green blanket\\nthere is a stuffed animal that is sitting in the back of a truck\\nthere is a stuffed santa claus sitting on a christmas tree\\nthere is a stuffed animal that is sitting in the trunk of a car\\nthere is a stuffed animal in a car with a wreath\\nthere is a stuffed animal in a christmas wreath on the back of a truck\\nthere is a stuffed animal in the back of a car with a wreath\\nthere is a stuffed animal in a christmas wreath in the back of a car\\nthere is a stuffed santa claus sitting in a green car\\nthere is a stuffed santa claus sitting in a green truck\\nthere is a stuffed santa claus sitting in a wreath on the back of a car\\nthere is a stuffed santa claus sitting in the back of a car\\nthere is a stuffed santa claus sitting in the back of a truck\\nthere is a stuffed animal that is sitting on a car\\nthere is a stuffed monkey sitting on a christmas wreath on the back of a car\\nthere is a stuffed animal that is sitting on a golf cart\\nthere is a wreath with a santa clause on it on a golf cart\\nthere is a christmas wreath on the back of a car\\nthere is a stuffed snowman sitting on a green car with a wreath\\nthere is a santa clause sitting on a wreath on the back of a car\\nthere is a stuffed animal sitting on a christmas wreath on a golf cart\\nthere is a stuffed toy sitting on a golf cart with a wreath\\nthere is a stuffed santa claus on a golf cart with a wreath\\nthere is a stuffed snowman sitting on a green golf cart\\nthere is a stuffed snowman sitting on a christmas wreath\\nthere is a stuffed animal that is sitting on a christmas wreath\\nthere is a stuffed santa claus on a christmas wreath on a golf cart\\nthere is a stuffed santa claus on a christmas wreath on the back of a truck\\nthere is a christmas wreath with a santa clause on it\\nthere is a stuffed santa claus sitting on a golf cart\\nthere is a stuffed animal sitting on a wreath on the back of a golf cart\\nthere is a stuffed santa claus on a wreath on a green truck\\nthere is a stuffed animal that is on a wreath on the back of a car\\nthere is a stuffed animal that is laying on a wreath\\nthere is a stuffed animal in a wreath on a golf cart\\nthere is a stuffed animal in a wreath on the back of a golf cart\\nthere is a stuffed santa claus sitting in a wreath on the back of a truck\\nthere is a santa clause on a wreath on the back of a car\\nthere is a santa clause hanging on a wreath on the back of a car\\nthere is a stuffed santa claus on a wreath on a golf cart\\nthere is a stuffed santa claus sitting on a wreath on a golf cart\\nthere is a stuffed santa claus sitting in a wreath on the back of a golf cart\\nthere is a stuffed animal on a wreath on the back of a golf cart\\nthere is a stuffed animal on a golf cart with a wreath\\nthere is a wreath with a santa clause on it on the back of a golf cart\\nthere is a stuffed bear that is sitting on a wreath\\nthere is a stuffed animal on a wreath on the back of a truck\\nthere is a teddy bear sitting on a wreath on the back of a golf cart\\nthere is a stuffed bear in a wreath on the back of a golf cart\\nthere is a wreath on the back of a golf cart\\nthere is a christmas wreath on the back of a golf cart\\nthere is a teddy bear and a wreath on the back of a golf cart\\nthere is a dog standing next to a golf cart with a wreath on it\\nthere is a teddy bear sitting on a golf cart with a wreath\\nthere is a teddy bear sitting on a christmas wreath on a golf cart\\nthere is a small wreath on the back of a golf cart\\nthere is a dog that is standing next to a golf cart\\nthere is a golf cart with a wreath on it and a golf ball\\nthere is a golf cart with a christmas wreath on it\\nthere is a cat sitting on a golf cart with a wreath on it\\nthere is a dog that is sitting in a golf cart\\nthere is a black cat sitting on a golf cart with a wreath on it\\nthere is a dog sitting in a golf cart with a wreath on it\\nthere is a stuffed animal in a golf cart with a wreath on it\\nthere is a stuffed animal in a golf cart with a christmas wreath\\nthere is a stuffed animal in a golf cart with a santa clause on it\\nthere is a small stuffed animal sitting on a golf cart\\nthere is a dog that is standing in a golf cart\\nthere is a black dog sitting in a golf cart with a stuffed animal\\nthere is a dog sitting in a golf cart with a stuffed animal on it\\nthere is a green golf cart with a santa clause on it\\nthere is a dog sitting in a golf cart with a christmas decoration on it\\nthere is a black dog that is standing in a golf cart\\nthere is a cat that is standing on a golf cart\\nthere is a cat sitting on a golf cart with a christmas decoration on it\\nthere is a golf cart with a christmas decoration on it\\nthere is a green golf cart with a red and white decoration on it\\nthere is a cat that is standing next to a golf cart\\nthere is a cat sitting on a golf cart with a santa hat on\\nthere is a black cat standing next to a green golf cart\\nthere is a black cat standing next to a golf cart\\nthere is a cat sitting on a golf cart with a bag on it\\nthere is a cat sitting in a golf cart with a bag on it\\nthere is a black cat sitting in a golf cart with a santa hat on\\nthere is a dog sitting in a golf cart with a hat on\\nthere is a dog sitting in a golf cart with a santa hat on\\nthere is a golf cart with a santa clause on the back\\nthere is a green golf cart with a stuffed animal on it\\nthere is a golf cart with a stuffed animal on the back\\nthere is a green golf cart with a santa hat on it\\nthere is a golf cart with a santa clause on it\\nthere is a golf cart with santa claus on it parked in the driveway\\nthere is a green golf cart with a red rose on the back\\nthere is a green golf cart with a red and white flag on it\\nthere is a green golf cart with a red and white flower on it\\nthere is a green golf cart with a red and white hat on it\\nthere is a golf cart with a christmas decoration on the back\\nthere is a green golf cart with a santa clause on the back\\nthere is a green golf cart with a christmas decoration on it\\nthere is a green golf cart with a red and white bow on it\\nthere is a green golf cart with a red and white bag on it\\nthere is a green golf cart with a red hat on it\\nthere is a green golf cart with santa hats on it\\nthere is a green golf cart with a white seat and a red bow on the back\\nthere is a green golf cart with a dog on it\\nthere is a green golf cart with a white seat and a red hat\\nthere is a small green golf cart with a santa clause on top\\nthere is a golf cart with a golf ball on the back\\nthere is a golf cart with a person on it parked in the grass\\nthere is a man riding a golf cart with a surfboard on top\\nthere is a small green golf cart with a white seat\\nthere is a golf cart with a surfboard on top of it\\nthere are many people riding golf carts on the grass\\nthere are people playing golf on a golf course with carts\\nthere are many people on golf carts on the grass\\nthere is a golf cart that is parked on the grass\\nthere is a golf cart parked on the side of the road\\nthere is a man riding a golf cart on the grass\\nthere is a man that is standing on a golf cart\\nthere is a man that is playing golf in the grass\\nthere is a man that is playing golf on the grass\\nthere is a man that is standing in the grass with a golf club\\nthere are people playing golf on a green field with a cart\\nthere are people playing golf in the park on a sunny day\\nthere are people playing a game of golf in the park\\nthere are people playing frisbee in the park on a sunny day\\nseveral people playing a game of frisbee in a park\\nseveral people playing a game of golf in a park\\nseveral people playing frisbee in a park with a golf cart\\nthere are people playing a game of frisbee in the park\\nthere are people playing frisbee in a grassy field\\nthere are people playing frisbee in a park with golf carts\\nthere are two people playing frisbee in the park on the grass\\nseveral people playing golf in a park with carts and golf carts\\nseveral people playing golf in a grassy area with carts\\nseveral people playing a game of golf in a park with carts\\nseveral people are playing golf in a grassy field with carts\\nseveral people are playing a game of golf in a park\\nseveral people playing a game of golf in a grassy field\\nseveral people are playing frisbee in a grassy field\\nseveral people playing a game of frisbee in a grassy field\\nseveral people playing frisbee in a grassy field with a golf cart\\nseveral people playing frisbee in a grassy field with golf carts\\nthere are people playing frisbee in a park with many carts\\nthere are two people playing frisbee in the grass on the golf course\\nthere are two people playing frisbee in the grass on the field\\nthere are two people playing a game of golf on the grass\\nthere are two people playing golf on a green field\\nseveral people playing golf in a grassy field with a golf cart\\nseveral people playing golf in a park with a golf cart\\nseveral people playing golf on a green field with a golf cart\\nseveral people playing golf on a green field with trees in the background\\nseveral people playing golf on a green field with carts\\nseveral people are playing golf on a green field with a golf cart\\nseveral people playing golf on a golf course with a cart in the background\\nseveral people playing golf on a sunny day in the park\\nseveral people are playing golf on a green field with trees in the background\\nseveral people are playing golf in a grassy field with trees\\nseveral people are playing golf on a green field with trees\\nthere are two people playing a game of golf in the grass\\nthey are playing frisbee in the park on a sunny day\\nthere are two people playing frisbee in the park together\\nthere are two boys playing golf on a green field\\nthere are two people playing golf in the grass on a sunny day\\nthere are two people playing a game of frisbee in the park\\nthere are two boys playing golf in the grass with a frisbee\\nthere are two people playing a game of golf in the park\\nthere are two men playing golf on a green field\\nthere are two people playing frisbee in the grass\\nthey are playing golf on the green grass in the park\\nthere are two people playing frisbee in the park on a sunny day\\nthere are two people playing golf in the grass together\\nseveral people are playing a game of frisbee in a park\\nthere are three people playing golf on a green field\\nthere are two people playing golf in the grass with a dog\\nseveral people are playing a game of golf in a grassy field\\nseveral people playing a game of golf on a sunny day\\nseveral people are playing a game of golf on a sunny day\\nseveral people are playing a game of golf on a green field\\nseveral people playing frisbee in a park with golf carts\\nseveral people are playing golf in a grassy field with a golf cart\\nseveral people playing golf on a green field with a cart\\nthere are two people playing frisbee in the park with a golf cart\\nthere are two people playing a game of golf on the green\\nthere are two people playing golf in the grass with a golf cart\\n', metadata={'source': '/Users/bpakra200/tubegpt/tubegpt/src/notebook/list-bliplarge.txt'}),\n",
       "  0.5877415537834167)]"
      ]
     },
     "execution_count": 57,
     "metadata": {},
     "output_type": "execute_result"
    }
   ],
   "source": [
    "PERSIST_DIRECTORY_OPENAI = \"../tubegptdb\"\n",
    " \n",
    "tubegptdb = Chroma.from_documents(\n",
    "    documents=docs, embedding= embeddings, persist_directory=PERSIST_DIRECTORY_OPENAI\n",
    ")\n",
    "tubegptdb.similarity_search_with_score(\"What was the yoga move?\", k=2)"
   ]
  },
  {
   "attachments": {},
   "cell_type": "markdown",
   "metadata": {},
   "source": [
    "# Loading Embeddings\n",
    "Loading the embeddings is just as easy, you just need to provide the persist_directory and embedding_function parameters:"
   ]
  },
  {
   "cell_type": "code",
   "execution_count": 58,
   "metadata": {},
   "outputs": [],
   "source": [
    "tubegptdb.persist()"
   ]
  },
  {
   "attachments": {},
   "cell_type": "markdown",
   "metadata": {},
   "source": [
    "# save openai embedding"
   ]
  },
  {
   "cell_type": "code",
   "execution_count": 59,
   "metadata": {},
   "outputs": [
    {
     "name": "stderr",
     "output_type": "stream",
     "text": [
      "Number of requested results 2 is greater than number of elements in index 1, updating n_results = 1\n"
     ]
    },
    {
     "data": {
      "text/plain": [
       "[(Document(page_content='there is a stuffed santa claus doll on a wreath on the back of a truck\\nthere is a stuffed santa claus doll on a wreath on the back of a car\\nthere is a stuffed santa claus on a wreath on the back of a car\\nthere is a stuffed santa claus sitting on a wreath on the back of a car\\nthere is a stuffed santa claus sitting on a wreath on the back of a golf cart\\nthere is a stuffed santa claus on a wreath on the back of a golf cart\\nthere is a stuffed santa claus sitting on a wreath on the back of a truck\\nthere is a stuffed animal that is sitting on a wreath\\nthere is a wreath with a santa clause on it on the back of a car\\nthere is a stuffed animal in a wreath on the back of a car\\nthere is a stuffed santa claus on a wreath on the back of a truck\\nthere is a stuffed animal in a wreath on the back of a truck\\nthere is a stuffed santa claus sitting on a christmas wreath\\nthere is a stuffed santa claus doll sitting on a christmas wreath\\nthere is a stuffed animal that is sitting in a wreath\\nthere is a stuffed animal that is sitting on a blanket\\nthere is a stuffed santa claus sitting on a green wreath\\nthere is a stuffed santa claus sitting on a green blanket\\nthere is a stuffed animal that is sitting in the back of a truck\\nthere is a stuffed santa claus sitting on a christmas tree\\nthere is a stuffed animal that is sitting in the trunk of a car\\nthere is a stuffed animal in a car with a wreath\\nthere is a stuffed animal in a christmas wreath on the back of a truck\\nthere is a stuffed animal in the back of a car with a wreath\\nthere is a stuffed animal in a christmas wreath in the back of a car\\nthere is a stuffed santa claus sitting in a green car\\nthere is a stuffed santa claus sitting in a green truck\\nthere is a stuffed santa claus sitting in a wreath on the back of a car\\nthere is a stuffed santa claus sitting in the back of a car\\nthere is a stuffed santa claus sitting in the back of a truck\\nthere is a stuffed animal that is sitting on a car\\nthere is a stuffed monkey sitting on a christmas wreath on the back of a car\\nthere is a stuffed animal that is sitting on a golf cart\\nthere is a wreath with a santa clause on it on a golf cart\\nthere is a christmas wreath on the back of a car\\nthere is a stuffed snowman sitting on a green car with a wreath\\nthere is a santa clause sitting on a wreath on the back of a car\\nthere is a stuffed animal sitting on a christmas wreath on a golf cart\\nthere is a stuffed toy sitting on a golf cart with a wreath\\nthere is a stuffed santa claus on a golf cart with a wreath\\nthere is a stuffed snowman sitting on a green golf cart\\nthere is a stuffed snowman sitting on a christmas wreath\\nthere is a stuffed animal that is sitting on a christmas wreath\\nthere is a stuffed santa claus on a christmas wreath on a golf cart\\nthere is a stuffed santa claus on a christmas wreath on the back of a truck\\nthere is a christmas wreath with a santa clause on it\\nthere is a stuffed santa claus sitting on a golf cart\\nthere is a stuffed animal sitting on a wreath on the back of a golf cart\\nthere is a stuffed santa claus on a wreath on a green truck\\nthere is a stuffed animal that is on a wreath on the back of a car\\nthere is a stuffed animal that is laying on a wreath\\nthere is a stuffed animal in a wreath on a golf cart\\nthere is a stuffed animal in a wreath on the back of a golf cart\\nthere is a stuffed santa claus sitting in a wreath on the back of a truck\\nthere is a santa clause on a wreath on the back of a car\\nthere is a santa clause hanging on a wreath on the back of a car\\nthere is a stuffed santa claus on a wreath on a golf cart\\nthere is a stuffed santa claus sitting on a wreath on a golf cart\\nthere is a stuffed santa claus sitting in a wreath on the back of a golf cart\\nthere is a stuffed animal on a wreath on the back of a golf cart\\nthere is a stuffed animal on a golf cart with a wreath\\nthere is a wreath with a santa clause on it on the back of a golf cart\\nthere is a stuffed bear that is sitting on a wreath\\nthere is a stuffed animal on a wreath on the back of a truck\\nthere is a teddy bear sitting on a wreath on the back of a golf cart\\nthere is a stuffed bear in a wreath on the back of a golf cart\\nthere is a wreath on the back of a golf cart\\nthere is a christmas wreath on the back of a golf cart\\nthere is a teddy bear and a wreath on the back of a golf cart\\nthere is a dog standing next to a golf cart with a wreath on it\\nthere is a teddy bear sitting on a golf cart with a wreath\\nthere is a teddy bear sitting on a christmas wreath on a golf cart\\nthere is a small wreath on the back of a golf cart\\nthere is a dog that is standing next to a golf cart\\nthere is a golf cart with a wreath on it and a golf ball\\nthere is a golf cart with a christmas wreath on it\\nthere is a cat sitting on a golf cart with a wreath on it\\nthere is a dog that is sitting in a golf cart\\nthere is a black cat sitting on a golf cart with a wreath on it\\nthere is a dog sitting in a golf cart with a wreath on it\\nthere is a stuffed animal in a golf cart with a wreath on it\\nthere is a stuffed animal in a golf cart with a christmas wreath\\nthere is a stuffed animal in a golf cart with a santa clause on it\\nthere is a small stuffed animal sitting on a golf cart\\nthere is a dog that is standing in a golf cart\\nthere is a black dog sitting in a golf cart with a stuffed animal\\nthere is a dog sitting in a golf cart with a stuffed animal on it\\nthere is a green golf cart with a santa clause on it\\nthere is a dog sitting in a golf cart with a christmas decoration on it\\nthere is a black dog that is standing in a golf cart\\nthere is a cat that is standing on a golf cart\\nthere is a cat sitting on a golf cart with a christmas decoration on it\\nthere is a golf cart with a christmas decoration on it\\nthere is a green golf cart with a red and white decoration on it\\nthere is a cat that is standing next to a golf cart\\nthere is a cat sitting on a golf cart with a santa hat on\\nthere is a black cat standing next to a green golf cart\\nthere is a black cat standing next to a golf cart\\nthere is a cat sitting on a golf cart with a bag on it\\nthere is a cat sitting in a golf cart with a bag on it\\nthere is a black cat sitting in a golf cart with a santa hat on\\nthere is a dog sitting in a golf cart with a hat on\\nthere is a dog sitting in a golf cart with a santa hat on\\nthere is a golf cart with a santa clause on the back\\nthere is a green golf cart with a stuffed animal on it\\nthere is a golf cart with a stuffed animal on the back\\nthere is a green golf cart with a santa hat on it\\nthere is a golf cart with a santa clause on it\\nthere is a golf cart with santa claus on it parked in the driveway\\nthere is a green golf cart with a red rose on the back\\nthere is a green golf cart with a red and white flag on it\\nthere is a green golf cart with a red and white flower on it\\nthere is a green golf cart with a red and white hat on it\\nthere is a golf cart with a christmas decoration on the back\\nthere is a green golf cart with a santa clause on the back\\nthere is a green golf cart with a christmas decoration on it\\nthere is a green golf cart with a red and white bow on it\\nthere is a green golf cart with a red and white bag on it\\nthere is a green golf cart with a red hat on it\\nthere is a green golf cart with santa hats on it\\nthere is a green golf cart with a white seat and a red bow on the back\\nthere is a green golf cart with a dog on it\\nthere is a green golf cart with a white seat and a red hat\\nthere is a small green golf cart with a santa clause on top\\nthere is a golf cart with a golf ball on the back\\nthere is a golf cart with a person on it parked in the grass\\nthere is a man riding a golf cart with a surfboard on top\\nthere is a small green golf cart with a white seat\\nthere is a golf cart with a surfboard on top of it\\nthere are many people riding golf carts on the grass\\nthere are people playing golf on a golf course with carts\\nthere are many people on golf carts on the grass\\nthere is a golf cart that is parked on the grass\\nthere is a golf cart parked on the side of the road\\nthere is a man riding a golf cart on the grass\\nthere is a man that is standing on a golf cart\\nthere is a man that is playing golf in the grass\\nthere is a man that is playing golf on the grass\\nthere is a man that is standing in the grass with a golf club\\nthere are people playing golf on a green field with a cart\\nthere are people playing golf in the park on a sunny day\\nthere are people playing a game of golf in the park\\nthere are people playing frisbee in the park on a sunny day\\nseveral people playing a game of frisbee in a park\\nseveral people playing a game of golf in a park\\nseveral people playing frisbee in a park with a golf cart\\nthere are people playing a game of frisbee in the park\\nthere are people playing frisbee in a grassy field\\nthere are people playing frisbee in a park with golf carts\\nthere are two people playing frisbee in the park on the grass\\nseveral people playing golf in a park with carts and golf carts\\nseveral people playing golf in a grassy area with carts\\nseveral people playing a game of golf in a park with carts\\nseveral people are playing golf in a grassy field with carts\\nseveral people are playing a game of golf in a park\\nseveral people playing a game of golf in a grassy field\\nseveral people are playing frisbee in a grassy field\\nseveral people playing a game of frisbee in a grassy field\\nseveral people playing frisbee in a grassy field with a golf cart\\nseveral people playing frisbee in a grassy field with golf carts\\nthere are people playing frisbee in a park with many carts\\nthere are two people playing frisbee in the grass on the golf course\\nthere are two people playing frisbee in the grass on the field\\nthere are two people playing a game of golf on the grass\\nthere are two people playing golf on a green field\\nseveral people playing golf in a grassy field with a golf cart\\nseveral people playing golf in a park with a golf cart\\nseveral people playing golf on a green field with a golf cart\\nseveral people playing golf on a green field with trees in the background\\nseveral people playing golf on a green field with carts\\nseveral people are playing golf on a green field with a golf cart\\nseveral people playing golf on a golf course with a cart in the background\\nseveral people playing golf on a sunny day in the park\\nseveral people are playing golf on a green field with trees in the background\\nseveral people are playing golf in a grassy field with trees\\nseveral people are playing golf on a green field with trees\\nthere are two people playing a game of golf in the grass\\nthey are playing frisbee in the park on a sunny day\\nthere are two people playing frisbee in the park together\\nthere are two boys playing golf on a green field\\nthere are two people playing golf in the grass on a sunny day\\nthere are two people playing a game of frisbee in the park\\nthere are two boys playing golf in the grass with a frisbee\\nthere are two people playing a game of golf in the park\\nthere are two men playing golf on a green field\\nthere are two people playing frisbee in the grass\\nthey are playing golf on the green grass in the park\\nthere are two people playing frisbee in the park on a sunny day\\nthere are two people playing golf in the grass together\\nseveral people are playing a game of frisbee in a park\\nthere are three people playing golf on a green field\\nthere are two people playing golf in the grass with a dog\\nseveral people are playing a game of golf in a grassy field\\nseveral people playing a game of golf on a sunny day\\nseveral people are playing a game of golf on a sunny day\\nseveral people are playing a game of golf on a green field\\nseveral people playing frisbee in a park with golf carts\\nseveral people are playing golf in a grassy field with a golf cart\\nseveral people playing golf on a green field with a cart\\nthere are two people playing frisbee in the park with a golf cart\\nthere are two people playing a game of golf on the green\\nthere are two people playing golf in the grass with a golf cart\\n', metadata={'source': '/Users/bpakra200/tubegpt/tubegpt/src/notebook/list-bliplarge.txt'}),\n",
       "  0.5294934511184692)]"
      ]
     },
     "execution_count": 59,
     "metadata": {},
     "output_type": "execute_result"
    }
   ],
   "source": [
    "PERSIST_DIRECTORY_OPENAI = \"../tubegptdb\"\n",
    "embeddings = OpenAIEmbeddings()\n",
    "tubegptdb = Chroma(persist_directory=PERSIST_DIRECTORY_OPENAI, embedding_function=embeddings)\n",
    "tubegptdb.similarity_search_with_score(\"it is yoga\", k=2)"
   ]
  },
  {
   "attachments": {},
   "cell_type": "markdown",
   "metadata": {},
   "source": [
    "##  Prompt Engineering Template"
   ]
  },
  {
   "cell_type": "code",
   "execution_count": 60,
   "metadata": {},
   "outputs": [
    {
     "name": "stdout",
     "output_type": "stream",
     "text": [
      "You're a Professor who helps students on Youtube contents .\n",
      " \n",
      "A youtube user asking about contents \n",
      " \n",
      "Answer with Accurate data   to the question and the way Professor speaks and only depends on provided Data. \n",
      " \n",
      "Question: Why do we need to zero out the gradient before backprop at each step?\n",
      "Answer:\n"
     ]
    }
   ],
   "source": [
    "template = \"\"\"You're a Professor who helps students on Youtube contents .\n",
    " \n",
    "{context}\n",
    " \n",
    "Answer with Accurate data   to the question and the way Professor speaks and only depends on provided Data. \n",
    " \n",
    "Question: {question}\n",
    "Answer:\"\"\"\n",
    " \n",
    "prompt = PromptTemplate(template=template, input_variables=[\"context\", \"question\"])\n",
    "print(\n",
    "    prompt.format(\n",
    "        context=\"A youtube user asking about contents \",\n",
    "        question=\"Why do we need to zero out the gradient before backprop at each step?\",\n",
    "    )\n",
    ")"
   ]
  },
  {
   "attachments": {},
   "cell_type": "markdown",
   "metadata": {},
   "source": [
    "## implement Retriver and Reader with Vector database"
   ]
  },
  {
   "cell_type": "code",
   "execution_count": 61,
   "metadata": {},
   "outputs": [],
   "source": [
    "chain_type_kwargs = {\"prompt\": prompt}\n",
    "chain = RetrievalQA.from_chain_type(\n",
    "    llm=ChatOpenAI(temperature=0),\n",
    "    chain_type=\"stuff\",\n",
    "    retriever=tubegptdb.as_retriever(search_kwargs={\"k\": 1}),\n",
    "    chain_type_kwargs=chain_type_kwargs,\n",
    ")"
   ]
  },
  {
   "cell_type": "code",
   "execution_count": 62,
   "metadata": {},
   "outputs": [
    {
     "name": "stdout",
     "output_type": "stream",
     "text": [
      "After heading down like a cat, the move was to continue playing frisbee in the grass on the golf\n",
      "course.\n"
     ]
    }
   ],
   "source": [
    "query = \"What was the move after heading down like a Cat\"\n",
    "response = chain.run(query)\n",
    "print_response(response)"
   ]
  },
  {
   "cell_type": "code",
   "execution_count": 63,
   "metadata": {},
   "outputs": [
    {
     "name": "stdout",
     "output_type": "stream",
     "text": [
      "When you should focus on your core depends on your specific goals and needs. If you are looking to\n",
      "improve your overall strength and stability, it is important to incorporate core exercises into your\n",
      "regular workout routine. This can include exercises such as planks, Russian twists, and bicycle\n",
      "crunches. Additionally, if you participate in activities that require a strong core, such as sports\n",
      "or weightlifting, it is important to prioritize core training to enhance your performance and reduce\n",
      "the risk of injury. It is recommended to consult with a fitness professional or personal trainer to\n",
      "develop a personalized plan that suits your individual needs and goals.\n"
     ]
    }
   ],
   "source": [
    "query = \"When I should focus on my core\"\n",
    "response = chain.run(query)\n",
    "print_response(response)"
   ]
  },
  {
   "cell_type": "code",
   "execution_count": 64,
   "metadata": {},
   "outputs": [
    {
     "name": "stdout",
     "output_type": "stream",
     "text": [
      "When you should focus on your core depends on your specific goals and needs. If you are looking to\n",
      "improve your overall strength and stability, it is important to incorporate core exercises into your\n",
      "regular workout routine. This can include exercises such as planks, Russian twists, and bicycle\n",
      "crunches. Additionally, if you participate in activities that require a strong core, such as sports\n",
      "or weightlifting, it is important to prioritize core training to enhance your performance and reduce\n",
      "the risk of injury. It is recommended to consult with a fitness professional or personal trainer to\n",
      "develop a personalized plan that suits your individual needs and goals.\n"
     ]
    }
   ],
   "source": [
    "query = \"When I should focus on my core\"\n",
    "response = chain.run(query)\n",
    "print_response(response)"
   ]
  },
  {
   "cell_type": "code",
   "execution_count": 4,
   "metadata": {},
   "outputs": [
    {
     "name": "stderr",
     "output_type": "stream",
     "text": [
      "/Users/bpakra200/.local/share/virtualenvs/tubegpt-FIUw9MBe/lib/python3.11/site-packages/tqdm/auto.py:21: TqdmWarning: IProgress not found. Please update jupyter and ipywidgets. See https://ipywidgets.readthedocs.io/en/stable/user_install.html\n",
      "  from .autonotebook import tqdm as notebook_tqdm\n"
     ]
    }
   ],
   "source": [
    "import torch\n",
    "import torchvision.transforms as transforms\n",
    "import cv2\n",
    "from PIL import Image\n",
    "import pafy\n",
    "from transformers import BlipProcessor, BlipForConditionalGeneration\n",
    "import youtube_dl"
   ]
  },
  {
   "attachments": {},
   "cell_type": "markdown",
   "metadata": {},
   "source": [
    "## Computer Vision Model with BLIP2 "
   ]
  },
  {
   "cell_type": "code",
   "execution_count": 5,
   "metadata": {},
   "outputs": [],
   "source": [
    "import torch\n",
    "import torchvision.transforms as transforms\n",
    "import cv2\n",
    "from PIL import Image\n",
    "import pafy\n",
    "from transformers import BlipProcessor, BlipForConditionalGeneration,AutoProcessor, Blip2Processor, Blip2ForConditionalGeneration\n",
    "\n",
    "import youtube_dl"
   ]
  },
  {
   "cell_type": "code",
   "execution_count": 6,
   "metadata": {},
   "outputs": [],
   "source": [
    "import inspect\n",
    "\n",
    "if not hasattr(inspect, 'getargspec'):\n",
    "    inspect.getargspec = inspect.getfullargspec"
   ]
  },
  {
   "cell_type": "code",
   "execution_count": 68,
   "metadata": {},
   "outputs": [
    {
     "name": "stdout",
     "output_type": "stream",
     "text": [
      "[youtube] 6n9ESFJTnHs: Downloading webpage\n",
      "[download] video.mp4 has already been downloaded\n",
      "[download] 100% of 26.85MiB\n"
     ]
    }
   ],
   "source": [
    "video_url = 'https://www.youtube.com/watch?v=6n9ESFJTnHs'\n",
    "\n",
    "#video_url = 'https://www.youtube.com/watch?v=orbkg5JH9C8'\n",
    "\n",
    "# Download the video using youtube_dl and extract the frames using OpenCV\n",
    "ydl_opts = {\n",
    "    'format': 'best',\n",
    "    'outtmpl': 'video.mp4'\n",
    "}\n",
    "with youtube_dl.YoutubeDL(ydl_opts) as ydl:\n",
    "    ydl.download([video_url])"
   ]
  },
  {
   "attachments": {},
   "cell_type": "markdown",
   "metadata": {},
   "source": [
    "## find Framerate of the video"
   ]
  },
  {
   "cell_type": "code",
   "execution_count": 69,
   "metadata": {},
   "outputs": [
    {
     "name": "stdout",
     "output_type": "stream",
     "text": [
      "The frame rate is 29.97002997002997 frames per second\n"
     ]
    }
   ],
   "source": [
    "\n",
    "# Create a VideoCapture object\n",
    "cap = cv2.VideoCapture(\"demo1.mp4\")\n",
    "\n",
    "# Get the frame rate property\n",
    "frame_rate = cap.get(cv2.CAP_PROP_FPS)\n",
    "\n",
    "# Print the frame rate\n",
    "print(\"The frame rate is {} frames per second\".format(frame_rate))\n",
    "\n",
    "# Release the VideoCapture object\n",
    "cap.release() "
   ]
  },
  {
   "attachments": {},
   "cell_type": "markdown",
   "metadata": {},
   "source": [
    "## set lower framerate "
   ]
  },
  {
   "cell_type": "code",
   "execution_count": 70,
   "metadata": {},
   "outputs": [],
   "source": [
    "# Create a VideoCapture object\n",
    "cap = cv2.VideoCapture(\"demo1.mp4\")\n",
    "\n",
    "# Set the desired frame rate to 20\n",
    "cap.set(cv2.CAP_PROP_FPS, 10)\n",
    "cap.release() "
   ]
  },
  {
   "cell_type": "code",
   "execution_count": 71,
   "metadata": {},
   "outputs": [],
   "source": [
    "# Create a VideoCapture object\n",
    "cap = cv2.VideoCapture(\"video.mp4\")\n",
    "\n",
    "# Set the desired frame rate to 20\n",
    "cap.set(cv2.CAP_PROP_FPS, 1)\n",
    "cap.release() "
   ]
  },
  {
   "attachments": {},
   "cell_type": "markdown",
   "metadata": {},
   "source": [
    "## set model Different Models for testing"
   ]
  },
  {
   "cell_type": "code",
   "execution_count": 7,
   "metadata": {},
   "outputs": [
    {
     "name": "stderr",
     "output_type": "stream",
     "text": [
      "Loading checkpoint shards: 100%|██████████| 2/2 [00:42<00:00, 21.09s/it]\n"
     ]
    }
   ],
   "source": [
    "#model_id = \"Salesforce/blip-image-captioning-large\"\n",
    "\n",
    "\n",
    "model_id = \"Salesforce/blip-image-captioning-large\"\n",
    "\n",
    "model_id_blip2 = \"Salesforce/blip2-opt-2.7b\"\n",
    "\n",
    "# Set up the Hugging Face model \n",
    "# model = BlipForConditionalGeneration.from_pretrained(model_id)\n",
    "# processor = AutoProcessor.from_pretrained(model_id)\n",
    "\n",
    "blip2_processor = Blip2Processor.from_pretrained(model_id_blip2)\n",
    "blip2_model = Blip2ForConditionalGeneration.from_pretrained(model_id_blip2)"
   ]
  },
  {
   "cell_type": "code",
   "execution_count": null,
   "metadata": {},
   "outputs": [],
   "source": [
    "import requests\n",
    "from PIL import Image\n",
    "from transformers import Blip2Processor, Blip2ForConditionalGeneration\n",
    "\n",
    "processor = Blip2Processor.from_pretrained(\"Salesforce/blip2-opt-2.7b\")\n",
    "model = Blip2ForConditionalGeneration.from_pretrained(\"Salesforce/blip2-opt-2.7b\")\n",
    "\n",
    "img_url = 'https://storage.googleapis.com/sfr-vision-language-research/BLIP/demo.jpg' \n",
    "raw_image = Image.open(requests.get(img_url, stream=True).raw).convert('RGB')\n",
    "\n",
    "question = \"Describe The picture?\"\n",
    "inputs = processor(raw_image, question, return_tensors=\"pt\")\n",
    "\n",
    "out = model.generate(**inputs)\n",
    "print(\"Answers\")\n",
    "print(processor.decode(out[0], skip_special_tokens=True))\n"
   ]
  },
  {
   "cell_type": "code",
   "execution_count": 1,
   "metadata": {},
   "outputs": [
    {
     "name": "stderr",
     "output_type": "stream",
     "text": [
      "/Users/bpakra200/.local/share/virtualenvs/tubegpt-FIUw9MBe/lib/python3.11/site-packages/tqdm/auto.py:21: TqdmWarning: IProgress not found. Please update jupyter and ipywidgets. See https://ipywidgets.readthedocs.io/en/stable/user_install.html\n",
      "  from .autonotebook import tqdm as notebook_tqdm\n",
      "Loading checkpoint shards: 100%|██████████| 2/2 [00:21<00:00, 10.78s/it]\n"
     ]
    },
    {
     "ename": "AssertionError",
     "evalue": "Torch not compiled with CUDA enabled",
     "output_type": "error",
     "traceback": [
      "\u001b[0;31m---------------------------------------------------------------------------\u001b[0m",
      "\u001b[0;31mAssertionError\u001b[0m                            Traceback (most recent call last)",
      "Cell \u001b[0;32mIn[1], line 14\u001b[0m\n\u001b[1;32m     11\u001b[0m raw_image \u001b[39m=\u001b[39m Image\u001b[39m.\u001b[39mopen(requests\u001b[39m.\u001b[39mget(img_url, stream\u001b[39m=\u001b[39m\u001b[39mTrue\u001b[39;00m)\u001b[39m.\u001b[39mraw)\u001b[39m.\u001b[39mconvert(\u001b[39m'\u001b[39m\u001b[39mRGB\u001b[39m\u001b[39m'\u001b[39m)\n\u001b[1;32m     13\u001b[0m question \u001b[39m=\u001b[39m \u001b[39m\"\u001b[39m\u001b[39mhow many dogs are in the picture?\u001b[39m\u001b[39m\"\u001b[39m\n\u001b[0;32m---> 14\u001b[0m inputs \u001b[39m=\u001b[39m processor(raw_image, question, return_tensors\u001b[39m=\u001b[39;49m\u001b[39m\"\u001b[39;49m\u001b[39mpt\u001b[39;49m\u001b[39m\"\u001b[39;49m)\u001b[39m.\u001b[39;49mto(\u001b[39m\"\u001b[39;49m\u001b[39mcuda\u001b[39;49m\u001b[39m\"\u001b[39;49m, torch\u001b[39m.\u001b[39;49mfloat16)\n\u001b[1;32m     16\u001b[0m out \u001b[39m=\u001b[39m model\u001b[39m.\u001b[39mgenerate(\u001b[39m*\u001b[39m\u001b[39m*\u001b[39minputs)\n\u001b[1;32m     17\u001b[0m \u001b[39mprint\u001b[39m(processor\u001b[39m.\u001b[39mdecode(out[\u001b[39m0\u001b[39m], skip_special_tokens\u001b[39m=\u001b[39m\u001b[39mTrue\u001b[39;00m))\n",
      "File \u001b[0;32m~/.local/share/virtualenvs/tubegpt-FIUw9MBe/lib/python3.11/site-packages/transformers/feature_extraction_utils.py:224\u001b[0m, in \u001b[0;36mBatchFeature.to\u001b[0;34m(self, *args, **kwargs)\u001b[0m\n\u001b[1;32m    220\u001b[0m \u001b[39mfor\u001b[39;00m k, v \u001b[39min\u001b[39;00m \u001b[39mself\u001b[39m\u001b[39m.\u001b[39mitems():\n\u001b[1;32m    221\u001b[0m     \u001b[39m# check if v is a floating point\u001b[39;00m\n\u001b[1;32m    222\u001b[0m     \u001b[39mif\u001b[39;00m torch\u001b[39m.\u001b[39mis_floating_point(v):\n\u001b[1;32m    223\u001b[0m         \u001b[39m# cast and send to device\u001b[39;00m\n\u001b[0;32m--> 224\u001b[0m         new_data[k] \u001b[39m=\u001b[39m v\u001b[39m.\u001b[39;49mto(\u001b[39m*\u001b[39;49margs, \u001b[39m*\u001b[39;49m\u001b[39m*\u001b[39;49mkwargs)\n\u001b[1;32m    225\u001b[0m     \u001b[39melif\u001b[39;00m device \u001b[39mis\u001b[39;00m \u001b[39mnot\u001b[39;00m \u001b[39mNone\u001b[39;00m:\n\u001b[1;32m    226\u001b[0m         new_data[k] \u001b[39m=\u001b[39m v\u001b[39m.\u001b[39mto(device\u001b[39m=\u001b[39mdevice)\n",
      "File \u001b[0;32m~/.local/share/virtualenvs/tubegpt-FIUw9MBe/lib/python3.11/site-packages/torch/cuda/__init__.py:239\u001b[0m, in \u001b[0;36m_lazy_init\u001b[0;34m()\u001b[0m\n\u001b[1;32m    235\u001b[0m     \u001b[39mraise\u001b[39;00m \u001b[39mRuntimeError\u001b[39;00m(\n\u001b[1;32m    236\u001b[0m         \u001b[39m\"\u001b[39m\u001b[39mCannot re-initialize CUDA in forked subprocess. To use CUDA with \u001b[39m\u001b[39m\"\u001b[39m\n\u001b[1;32m    237\u001b[0m         \u001b[39m\"\u001b[39m\u001b[39mmultiprocessing, you must use the \u001b[39m\u001b[39m'\u001b[39m\u001b[39mspawn\u001b[39m\u001b[39m'\u001b[39m\u001b[39m start method\u001b[39m\u001b[39m\"\u001b[39m)\n\u001b[1;32m    238\u001b[0m \u001b[39mif\u001b[39;00m \u001b[39mnot\u001b[39;00m \u001b[39mhasattr\u001b[39m(torch\u001b[39m.\u001b[39m_C, \u001b[39m'\u001b[39m\u001b[39m_cuda_getDeviceCount\u001b[39m\u001b[39m'\u001b[39m):\n\u001b[0;32m--> 239\u001b[0m     \u001b[39mraise\u001b[39;00m \u001b[39mAssertionError\u001b[39;00m(\u001b[39m\"\u001b[39m\u001b[39mTorch not compiled with CUDA enabled\u001b[39m\u001b[39m\"\u001b[39m)\n\u001b[1;32m    240\u001b[0m \u001b[39mif\u001b[39;00m _cudart \u001b[39mis\u001b[39;00m \u001b[39mNone\u001b[39;00m:\n\u001b[1;32m    241\u001b[0m     \u001b[39mraise\u001b[39;00m \u001b[39mAssertionError\u001b[39;00m(\n\u001b[1;32m    242\u001b[0m         \u001b[39m\"\u001b[39m\u001b[39mlibcudart functions unavailable. It looks like you have a broken build?\u001b[39m\u001b[39m\"\u001b[39m)\n",
      "\u001b[0;31mAssertionError\u001b[0m: Torch not compiled with CUDA enabled"
     ]
    }
   ],
   "source": [
    "# pip install accelerate\n",
    "import torch\n",
    "import requests\n",
    "from PIL import Image\n",
    "from transformers import Blip2Processor, Blip2ForConditionalGeneration\n",
    "\n",
    "processor = Blip2Processor.from_pretrained(\"Salesforce/blip2-opt-2.7b\")\n",
    "model = Blip2ForConditionalGeneration.from_pretrained(\"Salesforce/blip2-opt-2.7b\", torch_dtype=torch.float16, device_map=\"auto\")\n",
    "\n",
    "img_url = 'https://storage.googleapis.com/sfr-vision-language-research/BLIP/demo.jpg' \n",
    "raw_image = Image.open(requests.get(img_url, stream=True).raw).convert('RGB')\n",
    "\n",
    "question = \"how many dogs are in the picture?\"\n",
    "inputs = processor(raw_image, question, return_tensors=\"pt\").to(\"cuda\", torch.float16)\n",
    "\n",
    "out = model.generate(**inputs)\n",
    "print(processor.decode(out[0], skip_special_tokens=True))\n"
   ]
  },
  {
   "attachments": {},
   "cell_type": "markdown",
   "metadata": {},
   "source": [
    "## Generate text from Image"
   ]
  },
  {
   "cell_type": "code",
   "execution_count": 8,
   "metadata": {},
   "outputs": [],
   "source": [
    "import torch\n",
    "\n",
    "def generate_text(image, prompt, model, processor, device):\n",
    "    inputs = processor(image, return_tensors=\"pt\")\n",
    "\n",
    "    generated_ids = model.generate(**inputs)\n",
    "    generated_text = processor.batch_decode(generated_ids, skip_special_tokens=True)[0].strip()\n",
    "    return generated_text"
   ]
  },
  {
   "attachments": {},
   "cell_type": "markdown",
   "metadata": {},
   "source": [
    "## Create Captions from image by base models"
   ]
  },
  {
   "cell_type": "code",
   "execution_count": 9,
   "metadata": {},
   "outputs": [],
   "source": [
    "def caption_youtube(path):\n",
    "\n",
    "                # Open the video file\n",
    "            cap = cv2.VideoCapture(path)\n",
    "            cap.set(cv2.CAP_PROP_FPS, 10)\n",
    "            # Loop through the frames of the video\n",
    "            combined_docs = []\n",
    "  \n",
    "            while cap.isOpened():\n",
    "                        # Read the next frame\n",
    "                        ret, frame = cap.read()\n",
    "                    \n",
    "                        # If we've reached the end of the video, break out of the loop\n",
    "                        if not ret:\n",
    "                            break\n",
    "                    \n",
    "                        # Convert the frame to a PIL image and apply the image transformation pipeline\n",
    "                        image = Image.fromarray(cv2.cvtColor(frame, cv2.COLOR_BGR2RGB))\n",
    "                        # image = image_transforms(image)\n",
    "                    \n",
    "                        # # Add batch dimension to the image tensor\n",
    "                        # image = image.unsqueeze(0)\n",
    "                        inputs = processor(image, return_tensors=\"pt\")\n",
    "                        out = model.generate(**inputs)\n",
    "                        caption = processor.decode(out[0], skip_special_tokens=True)\n",
    "                        # Print the caption for the frame\n",
    "\n",
    "                        print(caption)\n",
    "                        if caption not in combined_docs:\n",
    "                             combined_docs.append(caption)\n",
    "                      \n",
    "                    # Release the video file\n",
    "                    \n",
    "            cap.release()\n",
    "            return combined_docs"
   ]
  },
  {
   "cell_type": "markdown",
   "metadata": {},
   "source": [
    "## device "
   ]
  },
  {
   "cell_type": "code",
   "execution_count": 11,
   "metadata": {},
   "outputs": [
    {
     "data": {
      "text/plain": [
       "Blip2ForConditionalGeneration(\n",
       "  (vision_model): Blip2VisionModel(\n",
       "    (embeddings): Blip2VisionEmbeddings(\n",
       "      (patch_embedding): Conv2d(3, 1408, kernel_size=(14, 14), stride=(14, 14))\n",
       "    )\n",
       "    (encoder): Blip2Encoder(\n",
       "      (layers): ModuleList(\n",
       "        (0-38): 39 x Blip2EncoderLayer(\n",
       "          (self_attn): Blip2Attention(\n",
       "            (dropout): Dropout(p=0.0, inplace=False)\n",
       "            (qkv): Linear(in_features=1408, out_features=4224, bias=True)\n",
       "            (projection): Linear(in_features=1408, out_features=1408, bias=True)\n",
       "          )\n",
       "          (layer_norm1): LayerNorm((1408,), eps=1e-05, elementwise_affine=True)\n",
       "          (mlp): Blip2MLP(\n",
       "            (activation_fn): GELUActivation()\n",
       "            (fc1): Linear(in_features=1408, out_features=6144, bias=True)\n",
       "            (fc2): Linear(in_features=6144, out_features=1408, bias=True)\n",
       "          )\n",
       "          (layer_norm2): LayerNorm((1408,), eps=1e-05, elementwise_affine=True)\n",
       "        )\n",
       "      )\n",
       "    )\n",
       "    (post_layernorm): LayerNorm((1408,), eps=1e-05, elementwise_affine=True)\n",
       "  )\n",
       "  (qformer): Blip2QFormerModel(\n",
       "    (layernorm): LayerNorm((768,), eps=1e-12, elementwise_affine=True)\n",
       "    (dropout): Dropout(p=0.1, inplace=False)\n",
       "    (encoder): Blip2QFormerEncoder(\n",
       "      (layer): ModuleList(\n",
       "        (0): Blip2QFormerLayer(\n",
       "          (attention): Blip2QFormerAttention(\n",
       "            (attention): Blip2QFormerMultiHeadAttention(\n",
       "              (query): Linear(in_features=768, out_features=768, bias=True)\n",
       "              (key): Linear(in_features=768, out_features=768, bias=True)\n",
       "              (value): Linear(in_features=768, out_features=768, bias=True)\n",
       "              (dropout): Dropout(p=0.1, inplace=False)\n",
       "            )\n",
       "            (output): Blip2QFormerSelfOutput(\n",
       "              (dense): Linear(in_features=768, out_features=768, bias=True)\n",
       "              (LayerNorm): LayerNorm((768,), eps=1e-12, elementwise_affine=True)\n",
       "              (dropout): Dropout(p=0.1, inplace=False)\n",
       "            )\n",
       "          )\n",
       "          (crossattention): Blip2QFormerAttention(\n",
       "            (attention): Blip2QFormerMultiHeadAttention(\n",
       "              (query): Linear(in_features=768, out_features=768, bias=True)\n",
       "              (key): Linear(in_features=1408, out_features=768, bias=True)\n",
       "              (value): Linear(in_features=1408, out_features=768, bias=True)\n",
       "              (dropout): Dropout(p=0.1, inplace=False)\n",
       "            )\n",
       "            (output): Blip2QFormerSelfOutput(\n",
       "              (dense): Linear(in_features=768, out_features=768, bias=True)\n",
       "              (LayerNorm): LayerNorm((768,), eps=1e-12, elementwise_affine=True)\n",
       "              (dropout): Dropout(p=0.1, inplace=False)\n",
       "            )\n",
       "          )\n",
       "          (intermediate_query): Blip2QFormerIntermediate(\n",
       "            (dense): Linear(in_features=768, out_features=3072, bias=True)\n",
       "            (intermediate_act_fn): GELUActivation()\n",
       "          )\n",
       "          (output_query): Blip2QFormerOutput(\n",
       "            (dense): Linear(in_features=3072, out_features=768, bias=True)\n",
       "            (LayerNorm): LayerNorm((768,), eps=1e-12, elementwise_affine=True)\n",
       "            (dropout): Dropout(p=0.1, inplace=False)\n",
       "          )\n",
       "        )\n",
       "        (1): Blip2QFormerLayer(\n",
       "          (attention): Blip2QFormerAttention(\n",
       "            (attention): Blip2QFormerMultiHeadAttention(\n",
       "              (query): Linear(in_features=768, out_features=768, bias=True)\n",
       "              (key): Linear(in_features=768, out_features=768, bias=True)\n",
       "              (value): Linear(in_features=768, out_features=768, bias=True)\n",
       "              (dropout): Dropout(p=0.1, inplace=False)\n",
       "            )\n",
       "            (output): Blip2QFormerSelfOutput(\n",
       "              (dense): Linear(in_features=768, out_features=768, bias=True)\n",
       "              (LayerNorm): LayerNorm((768,), eps=1e-12, elementwise_affine=True)\n",
       "              (dropout): Dropout(p=0.1, inplace=False)\n",
       "            )\n",
       "          )\n",
       "          (intermediate_query): Blip2QFormerIntermediate(\n",
       "            (dense): Linear(in_features=768, out_features=3072, bias=True)\n",
       "            (intermediate_act_fn): GELUActivation()\n",
       "          )\n",
       "          (output_query): Blip2QFormerOutput(\n",
       "            (dense): Linear(in_features=3072, out_features=768, bias=True)\n",
       "            (LayerNorm): LayerNorm((768,), eps=1e-12, elementwise_affine=True)\n",
       "            (dropout): Dropout(p=0.1, inplace=False)\n",
       "          )\n",
       "        )\n",
       "        (2): Blip2QFormerLayer(\n",
       "          (attention): Blip2QFormerAttention(\n",
       "            (attention): Blip2QFormerMultiHeadAttention(\n",
       "              (query): Linear(in_features=768, out_features=768, bias=True)\n",
       "              (key): Linear(in_features=768, out_features=768, bias=True)\n",
       "              (value): Linear(in_features=768, out_features=768, bias=True)\n",
       "              (dropout): Dropout(p=0.1, inplace=False)\n",
       "            )\n",
       "            (output): Blip2QFormerSelfOutput(\n",
       "              (dense): Linear(in_features=768, out_features=768, bias=True)\n",
       "              (LayerNorm): LayerNorm((768,), eps=1e-12, elementwise_affine=True)\n",
       "              (dropout): Dropout(p=0.1, inplace=False)\n",
       "            )\n",
       "          )\n",
       "          (crossattention): Blip2QFormerAttention(\n",
       "            (attention): Blip2QFormerMultiHeadAttention(\n",
       "              (query): Linear(in_features=768, out_features=768, bias=True)\n",
       "              (key): Linear(in_features=1408, out_features=768, bias=True)\n",
       "              (value): Linear(in_features=1408, out_features=768, bias=True)\n",
       "              (dropout): Dropout(p=0.1, inplace=False)\n",
       "            )\n",
       "            (output): Blip2QFormerSelfOutput(\n",
       "              (dense): Linear(in_features=768, out_features=768, bias=True)\n",
       "              (LayerNorm): LayerNorm((768,), eps=1e-12, elementwise_affine=True)\n",
       "              (dropout): Dropout(p=0.1, inplace=False)\n",
       "            )\n",
       "          )\n",
       "          (intermediate_query): Blip2QFormerIntermediate(\n",
       "            (dense): Linear(in_features=768, out_features=3072, bias=True)\n",
       "            (intermediate_act_fn): GELUActivation()\n",
       "          )\n",
       "          (output_query): Blip2QFormerOutput(\n",
       "            (dense): Linear(in_features=3072, out_features=768, bias=True)\n",
       "            (LayerNorm): LayerNorm((768,), eps=1e-12, elementwise_affine=True)\n",
       "            (dropout): Dropout(p=0.1, inplace=False)\n",
       "          )\n",
       "        )\n",
       "        (3): Blip2QFormerLayer(\n",
       "          (attention): Blip2QFormerAttention(\n",
       "            (attention): Blip2QFormerMultiHeadAttention(\n",
       "              (query): Linear(in_features=768, out_features=768, bias=True)\n",
       "              (key): Linear(in_features=768, out_features=768, bias=True)\n",
       "              (value): Linear(in_features=768, out_features=768, bias=True)\n",
       "              (dropout): Dropout(p=0.1, inplace=False)\n",
       "            )\n",
       "            (output): Blip2QFormerSelfOutput(\n",
       "              (dense): Linear(in_features=768, out_features=768, bias=True)\n",
       "              (LayerNorm): LayerNorm((768,), eps=1e-12, elementwise_affine=True)\n",
       "              (dropout): Dropout(p=0.1, inplace=False)\n",
       "            )\n",
       "          )\n",
       "          (intermediate_query): Blip2QFormerIntermediate(\n",
       "            (dense): Linear(in_features=768, out_features=3072, bias=True)\n",
       "            (intermediate_act_fn): GELUActivation()\n",
       "          )\n",
       "          (output_query): Blip2QFormerOutput(\n",
       "            (dense): Linear(in_features=3072, out_features=768, bias=True)\n",
       "            (LayerNorm): LayerNorm((768,), eps=1e-12, elementwise_affine=True)\n",
       "            (dropout): Dropout(p=0.1, inplace=False)\n",
       "          )\n",
       "        )\n",
       "        (4): Blip2QFormerLayer(\n",
       "          (attention): Blip2QFormerAttention(\n",
       "            (attention): Blip2QFormerMultiHeadAttention(\n",
       "              (query): Linear(in_features=768, out_features=768, bias=True)\n",
       "              (key): Linear(in_features=768, out_features=768, bias=True)\n",
       "              (value): Linear(in_features=768, out_features=768, bias=True)\n",
       "              (dropout): Dropout(p=0.1, inplace=False)\n",
       "            )\n",
       "            (output): Blip2QFormerSelfOutput(\n",
       "              (dense): Linear(in_features=768, out_features=768, bias=True)\n",
       "              (LayerNorm): LayerNorm((768,), eps=1e-12, elementwise_affine=True)\n",
       "              (dropout): Dropout(p=0.1, inplace=False)\n",
       "            )\n",
       "          )\n",
       "          (crossattention): Blip2QFormerAttention(\n",
       "            (attention): Blip2QFormerMultiHeadAttention(\n",
       "              (query): Linear(in_features=768, out_features=768, bias=True)\n",
       "              (key): Linear(in_features=1408, out_features=768, bias=True)\n",
       "              (value): Linear(in_features=1408, out_features=768, bias=True)\n",
       "              (dropout): Dropout(p=0.1, inplace=False)\n",
       "            )\n",
       "            (output): Blip2QFormerSelfOutput(\n",
       "              (dense): Linear(in_features=768, out_features=768, bias=True)\n",
       "              (LayerNorm): LayerNorm((768,), eps=1e-12, elementwise_affine=True)\n",
       "              (dropout): Dropout(p=0.1, inplace=False)\n",
       "            )\n",
       "          )\n",
       "          (intermediate_query): Blip2QFormerIntermediate(\n",
       "            (dense): Linear(in_features=768, out_features=3072, bias=True)\n",
       "            (intermediate_act_fn): GELUActivation()\n",
       "          )\n",
       "          (output_query): Blip2QFormerOutput(\n",
       "            (dense): Linear(in_features=3072, out_features=768, bias=True)\n",
       "            (LayerNorm): LayerNorm((768,), eps=1e-12, elementwise_affine=True)\n",
       "            (dropout): Dropout(p=0.1, inplace=False)\n",
       "          )\n",
       "        )\n",
       "        (5): Blip2QFormerLayer(\n",
       "          (attention): Blip2QFormerAttention(\n",
       "            (attention): Blip2QFormerMultiHeadAttention(\n",
       "              (query): Linear(in_features=768, out_features=768, bias=True)\n",
       "              (key): Linear(in_features=768, out_features=768, bias=True)\n",
       "              (value): Linear(in_features=768, out_features=768, bias=True)\n",
       "              (dropout): Dropout(p=0.1, inplace=False)\n",
       "            )\n",
       "            (output): Blip2QFormerSelfOutput(\n",
       "              (dense): Linear(in_features=768, out_features=768, bias=True)\n",
       "              (LayerNorm): LayerNorm((768,), eps=1e-12, elementwise_affine=True)\n",
       "              (dropout): Dropout(p=0.1, inplace=False)\n",
       "            )\n",
       "          )\n",
       "          (intermediate_query): Blip2QFormerIntermediate(\n",
       "            (dense): Linear(in_features=768, out_features=3072, bias=True)\n",
       "            (intermediate_act_fn): GELUActivation()\n",
       "          )\n",
       "          (output_query): Blip2QFormerOutput(\n",
       "            (dense): Linear(in_features=3072, out_features=768, bias=True)\n",
       "            (LayerNorm): LayerNorm((768,), eps=1e-12, elementwise_affine=True)\n",
       "            (dropout): Dropout(p=0.1, inplace=False)\n",
       "          )\n",
       "        )\n",
       "        (6): Blip2QFormerLayer(\n",
       "          (attention): Blip2QFormerAttention(\n",
       "            (attention): Blip2QFormerMultiHeadAttention(\n",
       "              (query): Linear(in_features=768, out_features=768, bias=True)\n",
       "              (key): Linear(in_features=768, out_features=768, bias=True)\n",
       "              (value): Linear(in_features=768, out_features=768, bias=True)\n",
       "              (dropout): Dropout(p=0.1, inplace=False)\n",
       "            )\n",
       "            (output): Blip2QFormerSelfOutput(\n",
       "              (dense): Linear(in_features=768, out_features=768, bias=True)\n",
       "              (LayerNorm): LayerNorm((768,), eps=1e-12, elementwise_affine=True)\n",
       "              (dropout): Dropout(p=0.1, inplace=False)\n",
       "            )\n",
       "          )\n",
       "          (crossattention): Blip2QFormerAttention(\n",
       "            (attention): Blip2QFormerMultiHeadAttention(\n",
       "              (query): Linear(in_features=768, out_features=768, bias=True)\n",
       "              (key): Linear(in_features=1408, out_features=768, bias=True)\n",
       "              (value): Linear(in_features=1408, out_features=768, bias=True)\n",
       "              (dropout): Dropout(p=0.1, inplace=False)\n",
       "            )\n",
       "            (output): Blip2QFormerSelfOutput(\n",
       "              (dense): Linear(in_features=768, out_features=768, bias=True)\n",
       "              (LayerNorm): LayerNorm((768,), eps=1e-12, elementwise_affine=True)\n",
       "              (dropout): Dropout(p=0.1, inplace=False)\n",
       "            )\n",
       "          )\n",
       "          (intermediate_query): Blip2QFormerIntermediate(\n",
       "            (dense): Linear(in_features=768, out_features=3072, bias=True)\n",
       "            (intermediate_act_fn): GELUActivation()\n",
       "          )\n",
       "          (output_query): Blip2QFormerOutput(\n",
       "            (dense): Linear(in_features=3072, out_features=768, bias=True)\n",
       "            (LayerNorm): LayerNorm((768,), eps=1e-12, elementwise_affine=True)\n",
       "            (dropout): Dropout(p=0.1, inplace=False)\n",
       "          )\n",
       "        )\n",
       "        (7): Blip2QFormerLayer(\n",
       "          (attention): Blip2QFormerAttention(\n",
       "            (attention): Blip2QFormerMultiHeadAttention(\n",
       "              (query): Linear(in_features=768, out_features=768, bias=True)\n",
       "              (key): Linear(in_features=768, out_features=768, bias=True)\n",
       "              (value): Linear(in_features=768, out_features=768, bias=True)\n",
       "              (dropout): Dropout(p=0.1, inplace=False)\n",
       "            )\n",
       "            (output): Blip2QFormerSelfOutput(\n",
       "              (dense): Linear(in_features=768, out_features=768, bias=True)\n",
       "              (LayerNorm): LayerNorm((768,), eps=1e-12, elementwise_affine=True)\n",
       "              (dropout): Dropout(p=0.1, inplace=False)\n",
       "            )\n",
       "          )\n",
       "          (intermediate_query): Blip2QFormerIntermediate(\n",
       "            (dense): Linear(in_features=768, out_features=3072, bias=True)\n",
       "            (intermediate_act_fn): GELUActivation()\n",
       "          )\n",
       "          (output_query): Blip2QFormerOutput(\n",
       "            (dense): Linear(in_features=3072, out_features=768, bias=True)\n",
       "            (LayerNorm): LayerNorm((768,), eps=1e-12, elementwise_affine=True)\n",
       "            (dropout): Dropout(p=0.1, inplace=False)\n",
       "          )\n",
       "        )\n",
       "        (8): Blip2QFormerLayer(\n",
       "          (attention): Blip2QFormerAttention(\n",
       "            (attention): Blip2QFormerMultiHeadAttention(\n",
       "              (query): Linear(in_features=768, out_features=768, bias=True)\n",
       "              (key): Linear(in_features=768, out_features=768, bias=True)\n",
       "              (value): Linear(in_features=768, out_features=768, bias=True)\n",
       "              (dropout): Dropout(p=0.1, inplace=False)\n",
       "            )\n",
       "            (output): Blip2QFormerSelfOutput(\n",
       "              (dense): Linear(in_features=768, out_features=768, bias=True)\n",
       "              (LayerNorm): LayerNorm((768,), eps=1e-12, elementwise_affine=True)\n",
       "              (dropout): Dropout(p=0.1, inplace=False)\n",
       "            )\n",
       "          )\n",
       "          (crossattention): Blip2QFormerAttention(\n",
       "            (attention): Blip2QFormerMultiHeadAttention(\n",
       "              (query): Linear(in_features=768, out_features=768, bias=True)\n",
       "              (key): Linear(in_features=1408, out_features=768, bias=True)\n",
       "              (value): Linear(in_features=1408, out_features=768, bias=True)\n",
       "              (dropout): Dropout(p=0.1, inplace=False)\n",
       "            )\n",
       "            (output): Blip2QFormerSelfOutput(\n",
       "              (dense): Linear(in_features=768, out_features=768, bias=True)\n",
       "              (LayerNorm): LayerNorm((768,), eps=1e-12, elementwise_affine=True)\n",
       "              (dropout): Dropout(p=0.1, inplace=False)\n",
       "            )\n",
       "          )\n",
       "          (intermediate_query): Blip2QFormerIntermediate(\n",
       "            (dense): Linear(in_features=768, out_features=3072, bias=True)\n",
       "            (intermediate_act_fn): GELUActivation()\n",
       "          )\n",
       "          (output_query): Blip2QFormerOutput(\n",
       "            (dense): Linear(in_features=3072, out_features=768, bias=True)\n",
       "            (LayerNorm): LayerNorm((768,), eps=1e-12, elementwise_affine=True)\n",
       "            (dropout): Dropout(p=0.1, inplace=False)\n",
       "          )\n",
       "        )\n",
       "        (9): Blip2QFormerLayer(\n",
       "          (attention): Blip2QFormerAttention(\n",
       "            (attention): Blip2QFormerMultiHeadAttention(\n",
       "              (query): Linear(in_features=768, out_features=768, bias=True)\n",
       "              (key): Linear(in_features=768, out_features=768, bias=True)\n",
       "              (value): Linear(in_features=768, out_features=768, bias=True)\n",
       "              (dropout): Dropout(p=0.1, inplace=False)\n",
       "            )\n",
       "            (output): Blip2QFormerSelfOutput(\n",
       "              (dense): Linear(in_features=768, out_features=768, bias=True)\n",
       "              (LayerNorm): LayerNorm((768,), eps=1e-12, elementwise_affine=True)\n",
       "              (dropout): Dropout(p=0.1, inplace=False)\n",
       "            )\n",
       "          )\n",
       "          (intermediate_query): Blip2QFormerIntermediate(\n",
       "            (dense): Linear(in_features=768, out_features=3072, bias=True)\n",
       "            (intermediate_act_fn): GELUActivation()\n",
       "          )\n",
       "          (output_query): Blip2QFormerOutput(\n",
       "            (dense): Linear(in_features=3072, out_features=768, bias=True)\n",
       "            (LayerNorm): LayerNorm((768,), eps=1e-12, elementwise_affine=True)\n",
       "            (dropout): Dropout(p=0.1, inplace=False)\n",
       "          )\n",
       "        )\n",
       "        (10): Blip2QFormerLayer(\n",
       "          (attention): Blip2QFormerAttention(\n",
       "            (attention): Blip2QFormerMultiHeadAttention(\n",
       "              (query): Linear(in_features=768, out_features=768, bias=True)\n",
       "              (key): Linear(in_features=768, out_features=768, bias=True)\n",
       "              (value): Linear(in_features=768, out_features=768, bias=True)\n",
       "              (dropout): Dropout(p=0.1, inplace=False)\n",
       "            )\n",
       "            (output): Blip2QFormerSelfOutput(\n",
       "              (dense): Linear(in_features=768, out_features=768, bias=True)\n",
       "              (LayerNorm): LayerNorm((768,), eps=1e-12, elementwise_affine=True)\n",
       "              (dropout): Dropout(p=0.1, inplace=False)\n",
       "            )\n",
       "          )\n",
       "          (crossattention): Blip2QFormerAttention(\n",
       "            (attention): Blip2QFormerMultiHeadAttention(\n",
       "              (query): Linear(in_features=768, out_features=768, bias=True)\n",
       "              (key): Linear(in_features=1408, out_features=768, bias=True)\n",
       "              (value): Linear(in_features=1408, out_features=768, bias=True)\n",
       "              (dropout): Dropout(p=0.1, inplace=False)\n",
       "            )\n",
       "            (output): Blip2QFormerSelfOutput(\n",
       "              (dense): Linear(in_features=768, out_features=768, bias=True)\n",
       "              (LayerNorm): LayerNorm((768,), eps=1e-12, elementwise_affine=True)\n",
       "              (dropout): Dropout(p=0.1, inplace=False)\n",
       "            )\n",
       "          )\n",
       "          (intermediate_query): Blip2QFormerIntermediate(\n",
       "            (dense): Linear(in_features=768, out_features=3072, bias=True)\n",
       "            (intermediate_act_fn): GELUActivation()\n",
       "          )\n",
       "          (output_query): Blip2QFormerOutput(\n",
       "            (dense): Linear(in_features=3072, out_features=768, bias=True)\n",
       "            (LayerNorm): LayerNorm((768,), eps=1e-12, elementwise_affine=True)\n",
       "            (dropout): Dropout(p=0.1, inplace=False)\n",
       "          )\n",
       "        )\n",
       "        (11): Blip2QFormerLayer(\n",
       "          (attention): Blip2QFormerAttention(\n",
       "            (attention): Blip2QFormerMultiHeadAttention(\n",
       "              (query): Linear(in_features=768, out_features=768, bias=True)\n",
       "              (key): Linear(in_features=768, out_features=768, bias=True)\n",
       "              (value): Linear(in_features=768, out_features=768, bias=True)\n",
       "              (dropout): Dropout(p=0.1, inplace=False)\n",
       "            )\n",
       "            (output): Blip2QFormerSelfOutput(\n",
       "              (dense): Linear(in_features=768, out_features=768, bias=True)\n",
       "              (LayerNorm): LayerNorm((768,), eps=1e-12, elementwise_affine=True)\n",
       "              (dropout): Dropout(p=0.1, inplace=False)\n",
       "            )\n",
       "          )\n",
       "          (intermediate_query): Blip2QFormerIntermediate(\n",
       "            (dense): Linear(in_features=768, out_features=3072, bias=True)\n",
       "            (intermediate_act_fn): GELUActivation()\n",
       "          )\n",
       "          (output_query): Blip2QFormerOutput(\n",
       "            (dense): Linear(in_features=3072, out_features=768, bias=True)\n",
       "            (LayerNorm): LayerNorm((768,), eps=1e-12, elementwise_affine=True)\n",
       "            (dropout): Dropout(p=0.1, inplace=False)\n",
       "          )\n",
       "        )\n",
       "      )\n",
       "    )\n",
       "  )\n",
       "  (language_projection): Linear(in_features=768, out_features=2560, bias=True)\n",
       "  (language_model): OPTForCausalLM(\n",
       "    (model): OPTModel(\n",
       "      (decoder): OPTDecoder(\n",
       "        (embed_tokens): Embedding(50272, 2560, padding_idx=1)\n",
       "        (embed_positions): OPTLearnedPositionalEmbedding(2050, 2560)\n",
       "        (final_layer_norm): LayerNorm((2560,), eps=1e-05, elementwise_affine=True)\n",
       "        (layers): ModuleList(\n",
       "          (0-31): 32 x OPTDecoderLayer(\n",
       "            (self_attn): OPTAttention(\n",
       "              (k_proj): Linear(in_features=2560, out_features=2560, bias=True)\n",
       "              (v_proj): Linear(in_features=2560, out_features=2560, bias=True)\n",
       "              (q_proj): Linear(in_features=2560, out_features=2560, bias=True)\n",
       "              (out_proj): Linear(in_features=2560, out_features=2560, bias=True)\n",
       "            )\n",
       "            (activation_fn): ReLU()\n",
       "            (self_attn_layer_norm): LayerNorm((2560,), eps=1e-05, elementwise_affine=True)\n",
       "            (fc1): Linear(in_features=2560, out_features=10240, bias=True)\n",
       "            (fc2): Linear(in_features=10240, out_features=2560, bias=True)\n",
       "            (final_layer_norm): LayerNorm((2560,), eps=1e-05, elementwise_affine=True)\n",
       "          )\n",
       "        )\n",
       "      )\n",
       "    )\n",
       "    (lm_head): Linear(in_features=2560, out_features=50272, bias=False)\n",
       "  )\n",
       ")"
      ]
     },
     "execution_count": 11,
     "metadata": {},
     "output_type": "execute_result"
    }
   ],
   "source": [
    "device = \"cuda\" if torch.cuda.is_available() else \"cpu\"\n",
    "blip2_model.to(device)"
   ]
  },
  {
   "attachments": {},
   "cell_type": "markdown",
   "metadata": {},
   "source": [
    "## Create Caption with Advance Model like Blip2"
   ]
  },
  {
   "cell_type": "code",
   "execution_count": 12,
   "metadata": {},
   "outputs": [],
   "source": [
    "def caption_youtube_blip2(path):\n",
    "\n",
    "                # Open the video file\n",
    "            cap = cv2.VideoCapture(path)\n",
    "            cap.set(cv2.CAP_PROP_FPS, 2)\n",
    "            # Loop through the frames of the video\n",
    "            combined_docs = []\n",
    "            prompt = \" Notice All Human Activity carefully and Notice All numbers and words in images\"\n",
    "            while cap.isOpened():\n",
    "                        # Read the next frame\n",
    "                        ret, frame = cap.read()\n",
    "                    \n",
    "                        # If we've reached the end of the video, break out of the loop\n",
    "                        if not ret:\n",
    "                            break\n",
    "                    \n",
    "                        # Convert the frame to a PIL image and apply the image transformation pipeline\n",
    "                        image = Image.fromarray(cv2.cvtColor(frame, cv2.COLOR_BGR2RGB))\n",
    "                        # image = image_transforms(image)\n",
    "                        caption = generate_text(image, prompt, blip2_model, blip2_processor, device)\n",
    "                        print(caption)\n",
    "                        if caption not in combined_docs:\n",
    "                             combined_docs.append(caption)\n",
    "                      \n",
    "                    # Release the video file\n",
    "                    \n",
    "            cap.release()\n",
    "            return combined_docs"
   ]
  },
  {
   "cell_type": "code",
   "execution_count": null,
   "metadata": {},
   "outputs": [],
   "source": [
    "\n",
    "\n",
    "\n"
   ]
  },
  {
   "cell_type": "code",
   "execution_count": 13,
   "metadata": {},
   "outputs": [
    {
     "ename": "NameError",
     "evalue": "name 'processor' is not defined",
     "output_type": "error",
     "traceback": [
      "\u001b[0;31m---------------------------------------------------------------------------\u001b[0m",
      "\u001b[0;31mNameError\u001b[0m                                 Traceback (most recent call last)",
      "Cell \u001b[0;32mIn[13], line 1\u001b[0m\n\u001b[0;32m----> 1\u001b[0m combined_docs \u001b[39m=\u001b[39m caption_youtube(\u001b[39m\"\u001b[39;49m\u001b[39m/Users/bpakra200/tubegpt/tubegpt/src/notebook/demo1.mp4\u001b[39;49m\u001b[39m\"\u001b[39;49m)\n",
      "Cell \u001b[0;32mIn[9], line 23\u001b[0m, in \u001b[0;36mcaption_youtube\u001b[0;34m(path)\u001b[0m\n\u001b[1;32m     18\u001b[0m image \u001b[39m=\u001b[39m Image\u001b[39m.\u001b[39mfromarray(cv2\u001b[39m.\u001b[39mcvtColor(frame, cv2\u001b[39m.\u001b[39mCOLOR_BGR2RGB))\n\u001b[1;32m     19\u001b[0m \u001b[39m# image = image_transforms(image)\u001b[39;00m\n\u001b[1;32m     20\u001b[0m \n\u001b[1;32m     21\u001b[0m \u001b[39m# # Add batch dimension to the image tensor\u001b[39;00m\n\u001b[1;32m     22\u001b[0m \u001b[39m# image = image.unsqueeze(0)\u001b[39;00m\n\u001b[0;32m---> 23\u001b[0m inputs \u001b[39m=\u001b[39m processor(image, return_tensors\u001b[39m=\u001b[39m\u001b[39m\"\u001b[39m\u001b[39mpt\u001b[39m\u001b[39m\"\u001b[39m)\n\u001b[1;32m     24\u001b[0m out \u001b[39m=\u001b[39m model\u001b[39m.\u001b[39mgenerate(\u001b[39m*\u001b[39m\u001b[39m*\u001b[39minputs)\n\u001b[1;32m     25\u001b[0m caption \u001b[39m=\u001b[39m processor\u001b[39m.\u001b[39mdecode(out[\u001b[39m0\u001b[39m], skip_special_tokens\u001b[39m=\u001b[39m\u001b[39mTrue\u001b[39;00m)\n",
      "\u001b[0;31mNameError\u001b[0m: name 'processor' is not defined"
     ]
    }
   ],
   "source": [
    "\n",
    "combined_docs = caption_youtube(\"/Users/bpakra200/tubegpt/tubegpt/src/notebook/demo1.mp4\")"
   ]
  },
  {
   "cell_type": "code",
   "execution_count": 14,
   "metadata": {},
   "outputs": [
    {
     "name": "stderr",
     "output_type": "stream",
     "text": [
      "/Users/bpakra200/.local/share/virtualenvs/tubegpt-FIUw9MBe/lib/python3.11/site-packages/transformers/generation/utils.py:1369: UserWarning: Using `max_length`'s default (20) to control the generation length. This behaviour is deprecated and will be removed from the config in v5 of Transformers -- we recommend using `max_new_tokens` to control the maximum length of the generation.\n",
      "  warnings.warn(\n"
     ]
    },
    {
     "name": "stdout",
     "output_type": "stream",
     "text": [
      "a santa clause wreath on the back of a golf cart\n",
      "a santa clause wreath on a golf cart\n",
      "a santa clause wreath on the back of a golf cart\n",
      "a wreath with a santa clause on top of a golf cart\n",
      "a wreath with a santa clause on top of a golf cart\n",
      "a santa clause wreath on the back of a golf cart\n",
      "a santa clause wreath on a golf cart\n",
      "a santa clause wreath on the back of a golf cart\n",
      "a santa clause wreath on the back of a golf cart\n",
      "a santa clause wreath on the back of a golf cart\n",
      "a wreath on the back of a golf cart\n",
      "a santa clause wreath on the back of a golf cart\n",
      "a wreath with a santa clause on top of a golf cart\n",
      "a wreath on the back of a golf cart\n",
      "a santa clause wreath on a golf cart\n",
      "a santa clause wreath on a golf cart\n",
      "a santa clause wreath on the back of a golf cart\n",
      "a santa clause wreath on a golf cart\n",
      "a wreath with a santa clause on top of a golf cart\n",
      "a santa clause wreath on the back of a golf cart\n",
      "a wreath with a santa clause on top of a green golf cart\n",
      "a wreath with a santa clause on top of a green golf cart\n",
      "a wreath with a santa clause on it is on a golf cart\n",
      "a wreath with a santa clause on it is on a green car\n",
      "a wreath on the back of a golf cart\n",
      "a wreath with a santa clause on the back of a green car\n",
      "a wreath with santa claus on it is on a green car\n",
      "a wreath with santa claus on the back of a green golf cart\n",
      "a wreath with a santa clause on it is on a green car\n",
      "a christmas wreath on the back of a truck\n",
      "a wreath with santa claus on it is on the back of a truck\n",
      "a wreath with a santa clause on it is on a truck\n",
      "a christmas wreath on the back of a truck\n",
      "a christmas wreath on the back of a truck\n",
      "a christmas wreath on the back of a truck\n",
      "a wreath on the back of a green car\n",
      "a wreath with santa claus on it is hanging on the back of a truck\n",
      "a christmas wreath on the back of a car\n",
      "a christmas wreath on the back of a car\n",
      "a christmas wreath on the back of a car\n",
      "a christmas wreath on the front of a jeep\n",
      "a christmas wreath on the hood of a car\n",
      "a christmas wreath on the back of a green jeep\n",
      "a christmas wreath on the back of a truck\n",
      "a christmas wreath on the back of a green golf cart\n",
      "a christmas wreath on the back of a green golf cart\n",
      "a christmas wreath on the back of a golf cart\n",
      "a christmas wreath on the back of a green golf cart\n",
      "a christmas wreath on the back of a golf cart\n",
      "a christmas wreath on the back of a green golf cart\n",
      "a christmas wreath on the back of a golf cart\n",
      "a christmas wreath on the back of a golf cart\n",
      "a christmas wreath on the back of a golf cart\n",
      "a christmas wreath on the back of a golf cart\n",
      "a christmas wreath on the back of a golf cart\n",
      "a santa claus wreath on the back of a golf cart\n",
      "a christmas wreath on the back of a golf cart\n",
      "a christmas wreath on the back of a golf cart\n",
      "a christmas wreath on the back of a green golf cart\n",
      "a christmas wreath on the back of a green golf cart\n",
      "a santa clause is sitting on top of a green golf cart\n",
      "a santa claus wreath on the back of a green golf cart\n",
      "a santa claus wreath on the back of a green golf cart\n",
      "a christmas wreath on the back of a green car\n",
      "a christmas wreath on the back of a golf cart\n",
      "a christmas wreath on the back of a golf cart\n",
      "a christmas wreath on the back of a golf cart\n",
      "a wreath on the back of a green golf cart\n",
      "a christmas wreath on the front of a green car\n",
      "a christmas wreath on the back of a green car\n",
      "a christmas wreath on the back of a car\n",
      "a christmas wreath on the back of a green golf cart\n",
      "a wreath on the front of a green golf cart\n",
      "a christmas wreath on the back of a golf cart\n",
      "a christmas wreath on the front of a golf cart\n",
      "a christmas wreath on the back of a golf cart\n",
      "a wreath on the front of a golf cart\n",
      "a santa clause wreath on the back of a golf cart\n",
      "a christmas wreath on the back of a golf cart\n",
      "a christmas wreath on the back of a golf cart\n",
      "a christmas wreath on the back of a golf cart\n",
      "a christmas wreath on the back of a golf cart\n",
      "a wreath on the back of a golf cart\n",
      "a wreath on the back of a golf cart\n",
      "a wreath on the back of a golf cart\n",
      "a wreath on the back of a golf cart\n",
      "a christmas wreath on the back of a golf cart\n",
      "a wreath on the back of a golf cart\n",
      "a wreath on the back of a golf cart\n",
      "a wreath on the back of a golf cart\n",
      "a wreath with santa claus on it is on a golf cart\n",
      "a santa clause wreath on a green car\n",
      "a santa clause wreath on the back of a golf cart\n",
      "a wreath with a santa clause on it\n",
      "a santa clause wreath on a green truck\n",
      "a santa clause wreath on a golf cart\n",
      "a santa clause wreath on a golf cart\n",
      "a santa clause wreath on a golf cart\n",
      "a santa clause wreath on the back of a golf cart\n",
      "a wreath on the back of a golf cart\n",
      "a christmas wreath on the back of a golf cart\n",
      "a christmas wreath on the back of a golf cart\n",
      "a christmas wreath on the back of a golf cart\n",
      "a christmas wreath on the back of a golf cart\n",
      "a christmas wreath on the back of a golf cart\n",
      "a christmas wreath on the back of a golf cart\n",
      "a christmas wreath on the back of a golf cart\n",
      "a wreath on the back of a golf cart\n",
      "a christmas wreath on the back of a golf cart\n"
     ]
    },
    {
     "ename": "KeyboardInterrupt",
     "evalue": "",
     "output_type": "error",
     "traceback": [
      "\u001b[0;31m---------------------------------------------------------------------------\u001b[0m",
      "\u001b[0;31mKeyboardInterrupt\u001b[0m                         Traceback (most recent call last)",
      "Cell \u001b[0;32mIn[14], line 1\u001b[0m\n\u001b[0;32m----> 1\u001b[0m combined_docs \u001b[39m=\u001b[39m caption_youtube_blip2(\u001b[39m\"\u001b[39;49m\u001b[39m/Users/bpakra200/tubegpt/tubegpt/src/notebook/demo1.mp4\u001b[39;49m\u001b[39m\"\u001b[39;49m)\n",
      "Cell \u001b[0;32mIn[12], line 20\u001b[0m, in \u001b[0;36mcaption_youtube_blip2\u001b[0;34m(path)\u001b[0m\n\u001b[1;32m     18\u001b[0m image \u001b[39m=\u001b[39m Image\u001b[39m.\u001b[39mfromarray(cv2\u001b[39m.\u001b[39mcvtColor(frame, cv2\u001b[39m.\u001b[39mCOLOR_BGR2RGB))\n\u001b[1;32m     19\u001b[0m \u001b[39m# image = image_transforms(image)\u001b[39;00m\n\u001b[0;32m---> 20\u001b[0m caption \u001b[39m=\u001b[39m generate_text(image, prompt, blip2_model, blip2_processor, device)\n\u001b[1;32m     21\u001b[0m \u001b[39mprint\u001b[39m(caption)\n\u001b[1;32m     22\u001b[0m \u001b[39mif\u001b[39;00m caption \u001b[39mnot\u001b[39;00m \u001b[39min\u001b[39;00m combined_docs:\n",
      "Cell \u001b[0;32mIn[8], line 6\u001b[0m, in \u001b[0;36mgenerate_text\u001b[0;34m(image, prompt, model, processor, device)\u001b[0m\n\u001b[1;32m      3\u001b[0m \u001b[39mdef\u001b[39;00m \u001b[39mgenerate_text\u001b[39m(image, prompt, model, processor, device):\n\u001b[1;32m      4\u001b[0m     inputs \u001b[39m=\u001b[39m processor(image, return_tensors\u001b[39m=\u001b[39m\u001b[39m\"\u001b[39m\u001b[39mpt\u001b[39m\u001b[39m\"\u001b[39m)\n\u001b[0;32m----> 6\u001b[0m     generated_ids \u001b[39m=\u001b[39m model\u001b[39m.\u001b[39;49mgenerate(\u001b[39m*\u001b[39;49m\u001b[39m*\u001b[39;49minputs)\n\u001b[1;32m      7\u001b[0m     generated_text \u001b[39m=\u001b[39m processor\u001b[39m.\u001b[39mbatch_decode(generated_ids, skip_special_tokens\u001b[39m=\u001b[39m\u001b[39mTrue\u001b[39;00m)[\u001b[39m0\u001b[39m]\u001b[39m.\u001b[39mstrip()\n\u001b[1;32m      8\u001b[0m     \u001b[39mreturn\u001b[39;00m generated_text\n",
      "File \u001b[0;32m~/.local/share/virtualenvs/tubegpt-FIUw9MBe/lib/python3.11/site-packages/torch/utils/_contextlib.py:115\u001b[0m, in \u001b[0;36mcontext_decorator.<locals>.decorate_context\u001b[0;34m(*args, **kwargs)\u001b[0m\n\u001b[1;32m    112\u001b[0m \u001b[39m@functools\u001b[39m\u001b[39m.\u001b[39mwraps(func)\n\u001b[1;32m    113\u001b[0m \u001b[39mdef\u001b[39;00m \u001b[39mdecorate_context\u001b[39m(\u001b[39m*\u001b[39margs, \u001b[39m*\u001b[39m\u001b[39m*\u001b[39mkwargs):\n\u001b[1;32m    114\u001b[0m     \u001b[39mwith\u001b[39;00m ctx_factory():\n\u001b[0;32m--> 115\u001b[0m         \u001b[39mreturn\u001b[39;00m func(\u001b[39m*\u001b[39;49margs, \u001b[39m*\u001b[39;49m\u001b[39m*\u001b[39;49mkwargs)\n",
      "File \u001b[0;32m~/.local/share/virtualenvs/tubegpt-FIUw9MBe/lib/python3.11/site-packages/transformers/models/blip_2/modeling_blip_2.py:1849\u001b[0m, in \u001b[0;36mBlip2ForConditionalGeneration.generate\u001b[0;34m(self, pixel_values, input_ids, attention_mask, **generate_kwargs)\u001b[0m\n\u001b[1;32m   1846\u001b[0m inputs_embeds \u001b[39m=\u001b[39m \u001b[39mself\u001b[39m\u001b[39m.\u001b[39mget_input_embeddings()(input_ids)\n\u001b[1;32m   1847\u001b[0m inputs_embeds \u001b[39m=\u001b[39m torch\u001b[39m.\u001b[39mcat([language_model_inputs, inputs_embeds\u001b[39m.\u001b[39mto(language_model_inputs\u001b[39m.\u001b[39mdevice)], dim\u001b[39m=\u001b[39m\u001b[39m1\u001b[39m)\n\u001b[0;32m-> 1849\u001b[0m outputs \u001b[39m=\u001b[39m \u001b[39mself\u001b[39;49m\u001b[39m.\u001b[39;49mlanguage_model\u001b[39m.\u001b[39;49mgenerate(\n\u001b[1;32m   1850\u001b[0m     inputs_embeds\u001b[39m=\u001b[39;49minputs_embeds,\n\u001b[1;32m   1851\u001b[0m     attention_mask\u001b[39m=\u001b[39;49mattention_mask,\n\u001b[1;32m   1852\u001b[0m     \u001b[39m*\u001b[39;49m\u001b[39m*\u001b[39;49mgenerate_kwargs,\n\u001b[1;32m   1853\u001b[0m )\n\u001b[1;32m   1855\u001b[0m \u001b[39mreturn\u001b[39;00m outputs\n",
      "File \u001b[0;32m~/.local/share/virtualenvs/tubegpt-FIUw9MBe/lib/python3.11/site-packages/torch/utils/_contextlib.py:115\u001b[0m, in \u001b[0;36mcontext_decorator.<locals>.decorate_context\u001b[0;34m(*args, **kwargs)\u001b[0m\n\u001b[1;32m    112\u001b[0m \u001b[39m@functools\u001b[39m\u001b[39m.\u001b[39mwraps(func)\n\u001b[1;32m    113\u001b[0m \u001b[39mdef\u001b[39;00m \u001b[39mdecorate_context\u001b[39m(\u001b[39m*\u001b[39margs, \u001b[39m*\u001b[39m\u001b[39m*\u001b[39mkwargs):\n\u001b[1;32m    114\u001b[0m     \u001b[39mwith\u001b[39;00m ctx_factory():\n\u001b[0;32m--> 115\u001b[0m         \u001b[39mreturn\u001b[39;00m func(\u001b[39m*\u001b[39;49margs, \u001b[39m*\u001b[39;49m\u001b[39m*\u001b[39;49mkwargs)\n",
      "File \u001b[0;32m~/.local/share/virtualenvs/tubegpt-FIUw9MBe/lib/python3.11/site-packages/transformers/generation/utils.py:1538\u001b[0m, in \u001b[0;36mGenerationMixin.generate\u001b[0;34m(self, inputs, generation_config, logits_processor, stopping_criteria, prefix_allowed_tokens_fn, synced_gpus, assistant_model, streamer, **kwargs)\u001b[0m\n\u001b[1;32m   1532\u001b[0m         \u001b[39mraise\u001b[39;00m \u001b[39mValueError\u001b[39;00m(\n\u001b[1;32m   1533\u001b[0m             \u001b[39m\"\u001b[39m\u001b[39mnum_return_sequences has to be 1 when doing greedy search, \u001b[39m\u001b[39m\"\u001b[39m\n\u001b[1;32m   1534\u001b[0m             \u001b[39mf\u001b[39m\u001b[39m\"\u001b[39m\u001b[39mbut is \u001b[39m\u001b[39m{\u001b[39;00mgeneration_config\u001b[39m.\u001b[39mnum_return_sequences\u001b[39m}\u001b[39;00m\u001b[39m.\u001b[39m\u001b[39m\"\u001b[39m\n\u001b[1;32m   1535\u001b[0m         )\n\u001b[1;32m   1537\u001b[0m     \u001b[39m# 11. run greedy search\u001b[39;00m\n\u001b[0;32m-> 1538\u001b[0m     \u001b[39mreturn\u001b[39;00m \u001b[39mself\u001b[39;49m\u001b[39m.\u001b[39;49mgreedy_search(\n\u001b[1;32m   1539\u001b[0m         input_ids,\n\u001b[1;32m   1540\u001b[0m         logits_processor\u001b[39m=\u001b[39;49mlogits_processor,\n\u001b[1;32m   1541\u001b[0m         stopping_criteria\u001b[39m=\u001b[39;49mstopping_criteria,\n\u001b[1;32m   1542\u001b[0m         pad_token_id\u001b[39m=\u001b[39;49mgeneration_config\u001b[39m.\u001b[39;49mpad_token_id,\n\u001b[1;32m   1543\u001b[0m         eos_token_id\u001b[39m=\u001b[39;49mgeneration_config\u001b[39m.\u001b[39;49meos_token_id,\n\u001b[1;32m   1544\u001b[0m         output_scores\u001b[39m=\u001b[39;49mgeneration_config\u001b[39m.\u001b[39;49moutput_scores,\n\u001b[1;32m   1545\u001b[0m         return_dict_in_generate\u001b[39m=\u001b[39;49mgeneration_config\u001b[39m.\u001b[39;49mreturn_dict_in_generate,\n\u001b[1;32m   1546\u001b[0m         synced_gpus\u001b[39m=\u001b[39;49msynced_gpus,\n\u001b[1;32m   1547\u001b[0m         streamer\u001b[39m=\u001b[39;49mstreamer,\n\u001b[1;32m   1548\u001b[0m         \u001b[39m*\u001b[39;49m\u001b[39m*\u001b[39;49mmodel_kwargs,\n\u001b[1;32m   1549\u001b[0m     )\n\u001b[1;32m   1551\u001b[0m \u001b[39melif\u001b[39;00m is_contrastive_search_gen_mode:\n\u001b[1;32m   1552\u001b[0m     \u001b[39mif\u001b[39;00m generation_config\u001b[39m.\u001b[39mnum_return_sequences \u001b[39m>\u001b[39m \u001b[39m1\u001b[39m:\n",
      "File \u001b[0;32m~/.local/share/virtualenvs/tubegpt-FIUw9MBe/lib/python3.11/site-packages/transformers/generation/utils.py:2362\u001b[0m, in \u001b[0;36mGenerationMixin.greedy_search\u001b[0;34m(self, input_ids, logits_processor, stopping_criteria, max_length, pad_token_id, eos_token_id, output_attentions, output_hidden_states, output_scores, return_dict_in_generate, synced_gpus, streamer, **model_kwargs)\u001b[0m\n\u001b[1;32m   2359\u001b[0m model_inputs \u001b[39m=\u001b[39m \u001b[39mself\u001b[39m\u001b[39m.\u001b[39mprepare_inputs_for_generation(input_ids, \u001b[39m*\u001b[39m\u001b[39m*\u001b[39mmodel_kwargs)\n\u001b[1;32m   2361\u001b[0m \u001b[39m# forward pass to get next token\u001b[39;00m\n\u001b[0;32m-> 2362\u001b[0m outputs \u001b[39m=\u001b[39m \u001b[39mself\u001b[39;49m(\n\u001b[1;32m   2363\u001b[0m     \u001b[39m*\u001b[39;49m\u001b[39m*\u001b[39;49mmodel_inputs,\n\u001b[1;32m   2364\u001b[0m     return_dict\u001b[39m=\u001b[39;49m\u001b[39mTrue\u001b[39;49;00m,\n\u001b[1;32m   2365\u001b[0m     output_attentions\u001b[39m=\u001b[39;49moutput_attentions,\n\u001b[1;32m   2366\u001b[0m     output_hidden_states\u001b[39m=\u001b[39;49moutput_hidden_states,\n\u001b[1;32m   2367\u001b[0m )\n\u001b[1;32m   2369\u001b[0m \u001b[39mif\u001b[39;00m synced_gpus \u001b[39mand\u001b[39;00m this_peer_finished:\n\u001b[1;32m   2370\u001b[0m     \u001b[39mcontinue\u001b[39;00m  \u001b[39m# don't waste resources running the code we don't need\u001b[39;00m\n",
      "File \u001b[0;32m~/.local/share/virtualenvs/tubegpt-FIUw9MBe/lib/python3.11/site-packages/torch/nn/modules/module.py:1501\u001b[0m, in \u001b[0;36mModule._call_impl\u001b[0;34m(self, *args, **kwargs)\u001b[0m\n\u001b[1;32m   1496\u001b[0m \u001b[39m# If we don't have any hooks, we want to skip the rest of the logic in\u001b[39;00m\n\u001b[1;32m   1497\u001b[0m \u001b[39m# this function, and just call forward.\u001b[39;00m\n\u001b[1;32m   1498\u001b[0m \u001b[39mif\u001b[39;00m \u001b[39mnot\u001b[39;00m (\u001b[39mself\u001b[39m\u001b[39m.\u001b[39m_backward_hooks \u001b[39mor\u001b[39;00m \u001b[39mself\u001b[39m\u001b[39m.\u001b[39m_backward_pre_hooks \u001b[39mor\u001b[39;00m \u001b[39mself\u001b[39m\u001b[39m.\u001b[39m_forward_hooks \u001b[39mor\u001b[39;00m \u001b[39mself\u001b[39m\u001b[39m.\u001b[39m_forward_pre_hooks\n\u001b[1;32m   1499\u001b[0m         \u001b[39mor\u001b[39;00m _global_backward_pre_hooks \u001b[39mor\u001b[39;00m _global_backward_hooks\n\u001b[1;32m   1500\u001b[0m         \u001b[39mor\u001b[39;00m _global_forward_hooks \u001b[39mor\u001b[39;00m _global_forward_pre_hooks):\n\u001b[0;32m-> 1501\u001b[0m     \u001b[39mreturn\u001b[39;00m forward_call(\u001b[39m*\u001b[39;49margs, \u001b[39m*\u001b[39;49m\u001b[39m*\u001b[39;49mkwargs)\n\u001b[1;32m   1502\u001b[0m \u001b[39m# Do not call functions when jit is used\u001b[39;00m\n\u001b[1;32m   1503\u001b[0m full_backward_hooks, non_full_backward_hooks \u001b[39m=\u001b[39m [], []\n",
      "File \u001b[0;32m~/.local/share/virtualenvs/tubegpt-FIUw9MBe/lib/python3.11/site-packages/transformers/models/opt/modeling_opt.py:944\u001b[0m, in \u001b[0;36mOPTForCausalLM.forward\u001b[0;34m(self, input_ids, attention_mask, head_mask, past_key_values, inputs_embeds, labels, use_cache, output_attentions, output_hidden_states, return_dict)\u001b[0m\n\u001b[1;32m    941\u001b[0m return_dict \u001b[39m=\u001b[39m return_dict \u001b[39mif\u001b[39;00m return_dict \u001b[39mis\u001b[39;00m \u001b[39mnot\u001b[39;00m \u001b[39mNone\u001b[39;00m \u001b[39melse\u001b[39;00m \u001b[39mself\u001b[39m\u001b[39m.\u001b[39mconfig\u001b[39m.\u001b[39muse_return_dict\n\u001b[1;32m    943\u001b[0m \u001b[39m# decoder outputs consists of (dec_features, layer_state, dec_hidden, dec_attn)\u001b[39;00m\n\u001b[0;32m--> 944\u001b[0m outputs \u001b[39m=\u001b[39m \u001b[39mself\u001b[39;49m\u001b[39m.\u001b[39;49mmodel\u001b[39m.\u001b[39;49mdecoder(\n\u001b[1;32m    945\u001b[0m     input_ids\u001b[39m=\u001b[39;49minput_ids,\n\u001b[1;32m    946\u001b[0m     attention_mask\u001b[39m=\u001b[39;49mattention_mask,\n\u001b[1;32m    947\u001b[0m     head_mask\u001b[39m=\u001b[39;49mhead_mask,\n\u001b[1;32m    948\u001b[0m     past_key_values\u001b[39m=\u001b[39;49mpast_key_values,\n\u001b[1;32m    949\u001b[0m     inputs_embeds\u001b[39m=\u001b[39;49minputs_embeds,\n\u001b[1;32m    950\u001b[0m     use_cache\u001b[39m=\u001b[39;49muse_cache,\n\u001b[1;32m    951\u001b[0m     output_attentions\u001b[39m=\u001b[39;49moutput_attentions,\n\u001b[1;32m    952\u001b[0m     output_hidden_states\u001b[39m=\u001b[39;49moutput_hidden_states,\n\u001b[1;32m    953\u001b[0m     return_dict\u001b[39m=\u001b[39;49mreturn_dict,\n\u001b[1;32m    954\u001b[0m )\n\u001b[1;32m    956\u001b[0m logits \u001b[39m=\u001b[39m \u001b[39mself\u001b[39m\u001b[39m.\u001b[39mlm_head(outputs[\u001b[39m0\u001b[39m])\u001b[39m.\u001b[39mcontiguous()\n\u001b[1;32m    958\u001b[0m loss \u001b[39m=\u001b[39m \u001b[39mNone\u001b[39;00m\n",
      "File \u001b[0;32m~/.local/share/virtualenvs/tubegpt-FIUw9MBe/lib/python3.11/site-packages/torch/nn/modules/module.py:1501\u001b[0m, in \u001b[0;36mModule._call_impl\u001b[0;34m(self, *args, **kwargs)\u001b[0m\n\u001b[1;32m   1496\u001b[0m \u001b[39m# If we don't have any hooks, we want to skip the rest of the logic in\u001b[39;00m\n\u001b[1;32m   1497\u001b[0m \u001b[39m# this function, and just call forward.\u001b[39;00m\n\u001b[1;32m   1498\u001b[0m \u001b[39mif\u001b[39;00m \u001b[39mnot\u001b[39;00m (\u001b[39mself\u001b[39m\u001b[39m.\u001b[39m_backward_hooks \u001b[39mor\u001b[39;00m \u001b[39mself\u001b[39m\u001b[39m.\u001b[39m_backward_pre_hooks \u001b[39mor\u001b[39;00m \u001b[39mself\u001b[39m\u001b[39m.\u001b[39m_forward_hooks \u001b[39mor\u001b[39;00m \u001b[39mself\u001b[39m\u001b[39m.\u001b[39m_forward_pre_hooks\n\u001b[1;32m   1499\u001b[0m         \u001b[39mor\u001b[39;00m _global_backward_pre_hooks \u001b[39mor\u001b[39;00m _global_backward_hooks\n\u001b[1;32m   1500\u001b[0m         \u001b[39mor\u001b[39;00m _global_forward_hooks \u001b[39mor\u001b[39;00m _global_forward_pre_hooks):\n\u001b[0;32m-> 1501\u001b[0m     \u001b[39mreturn\u001b[39;00m forward_call(\u001b[39m*\u001b[39;49margs, \u001b[39m*\u001b[39;49m\u001b[39m*\u001b[39;49mkwargs)\n\u001b[1;32m   1502\u001b[0m \u001b[39m# Do not call functions when jit is used\u001b[39;00m\n\u001b[1;32m   1503\u001b[0m full_backward_hooks, non_full_backward_hooks \u001b[39m=\u001b[39m [], []\n",
      "File \u001b[0;32m~/.local/share/virtualenvs/tubegpt-FIUw9MBe/lib/python3.11/site-packages/transformers/models/opt/modeling_opt.py:710\u001b[0m, in \u001b[0;36mOPTDecoder.forward\u001b[0;34m(self, input_ids, attention_mask, head_mask, past_key_values, inputs_embeds, use_cache, output_attentions, output_hidden_states, return_dict)\u001b[0m\n\u001b[1;32m    702\u001b[0m     layer_outputs \u001b[39m=\u001b[39m torch\u001b[39m.\u001b[39mutils\u001b[39m.\u001b[39mcheckpoint\u001b[39m.\u001b[39mcheckpoint(\n\u001b[1;32m    703\u001b[0m         create_custom_forward(decoder_layer),\n\u001b[1;32m    704\u001b[0m         hidden_states,\n\u001b[0;32m   (...)\u001b[0m\n\u001b[1;32m    707\u001b[0m         \u001b[39mNone\u001b[39;00m,\n\u001b[1;32m    708\u001b[0m     )\n\u001b[1;32m    709\u001b[0m \u001b[39melse\u001b[39;00m:\n\u001b[0;32m--> 710\u001b[0m     layer_outputs \u001b[39m=\u001b[39m decoder_layer(\n\u001b[1;32m    711\u001b[0m         hidden_states,\n\u001b[1;32m    712\u001b[0m         attention_mask\u001b[39m=\u001b[39;49mcausal_attention_mask,\n\u001b[1;32m    713\u001b[0m         layer_head_mask\u001b[39m=\u001b[39;49m(head_mask[idx] \u001b[39mif\u001b[39;49;00m head_mask \u001b[39mis\u001b[39;49;00m \u001b[39mnot\u001b[39;49;00m \u001b[39mNone\u001b[39;49;00m \u001b[39melse\u001b[39;49;00m \u001b[39mNone\u001b[39;49;00m),\n\u001b[1;32m    714\u001b[0m         past_key_value\u001b[39m=\u001b[39;49mpast_key_value,\n\u001b[1;32m    715\u001b[0m         output_attentions\u001b[39m=\u001b[39;49moutput_attentions,\n\u001b[1;32m    716\u001b[0m         use_cache\u001b[39m=\u001b[39;49muse_cache,\n\u001b[1;32m    717\u001b[0m     )\n\u001b[1;32m    719\u001b[0m hidden_states \u001b[39m=\u001b[39m layer_outputs[\u001b[39m0\u001b[39m]\n\u001b[1;32m    721\u001b[0m \u001b[39mif\u001b[39;00m use_cache:\n",
      "File \u001b[0;32m~/.local/share/virtualenvs/tubegpt-FIUw9MBe/lib/python3.11/site-packages/torch/nn/modules/module.py:1501\u001b[0m, in \u001b[0;36mModule._call_impl\u001b[0;34m(self, *args, **kwargs)\u001b[0m\n\u001b[1;32m   1496\u001b[0m \u001b[39m# If we don't have any hooks, we want to skip the rest of the logic in\u001b[39;00m\n\u001b[1;32m   1497\u001b[0m \u001b[39m# this function, and just call forward.\u001b[39;00m\n\u001b[1;32m   1498\u001b[0m \u001b[39mif\u001b[39;00m \u001b[39mnot\u001b[39;00m (\u001b[39mself\u001b[39m\u001b[39m.\u001b[39m_backward_hooks \u001b[39mor\u001b[39;00m \u001b[39mself\u001b[39m\u001b[39m.\u001b[39m_backward_pre_hooks \u001b[39mor\u001b[39;00m \u001b[39mself\u001b[39m\u001b[39m.\u001b[39m_forward_hooks \u001b[39mor\u001b[39;00m \u001b[39mself\u001b[39m\u001b[39m.\u001b[39m_forward_pre_hooks\n\u001b[1;32m   1499\u001b[0m         \u001b[39mor\u001b[39;00m _global_backward_pre_hooks \u001b[39mor\u001b[39;00m _global_backward_hooks\n\u001b[1;32m   1500\u001b[0m         \u001b[39mor\u001b[39;00m _global_forward_hooks \u001b[39mor\u001b[39;00m _global_forward_pre_hooks):\n\u001b[0;32m-> 1501\u001b[0m     \u001b[39mreturn\u001b[39;00m forward_call(\u001b[39m*\u001b[39;49margs, \u001b[39m*\u001b[39;49m\u001b[39m*\u001b[39;49mkwargs)\n\u001b[1;32m   1502\u001b[0m \u001b[39m# Do not call functions when jit is used\u001b[39;00m\n\u001b[1;32m   1503\u001b[0m full_backward_hooks, non_full_backward_hooks \u001b[39m=\u001b[39m [], []\n",
      "File \u001b[0;32m~/.local/share/virtualenvs/tubegpt-FIUw9MBe/lib/python3.11/site-packages/transformers/models/opt/modeling_opt.py:353\u001b[0m, in \u001b[0;36mOPTDecoderLayer.forward\u001b[0;34m(self, hidden_states, attention_mask, layer_head_mask, past_key_value, output_attentions, use_cache)\u001b[0m\n\u001b[1;32m    350\u001b[0m \u001b[39mif\u001b[39;00m \u001b[39mself\u001b[39m\u001b[39m.\u001b[39mdo_layer_norm_before:\n\u001b[1;32m    351\u001b[0m     hidden_states \u001b[39m=\u001b[39m \u001b[39mself\u001b[39m\u001b[39m.\u001b[39mfinal_layer_norm(hidden_states)\n\u001b[0;32m--> 353\u001b[0m hidden_states \u001b[39m=\u001b[39m \u001b[39mself\u001b[39;49m\u001b[39m.\u001b[39;49mfc1(hidden_states)\n\u001b[1;32m    354\u001b[0m hidden_states \u001b[39m=\u001b[39m \u001b[39mself\u001b[39m\u001b[39m.\u001b[39mactivation_fn(hidden_states)\n\u001b[1;32m    356\u001b[0m hidden_states \u001b[39m=\u001b[39m \u001b[39mself\u001b[39m\u001b[39m.\u001b[39mfc2(hidden_states)\n",
      "File \u001b[0;32m~/.local/share/virtualenvs/tubegpt-FIUw9MBe/lib/python3.11/site-packages/torch/nn/modules/module.py:1501\u001b[0m, in \u001b[0;36mModule._call_impl\u001b[0;34m(self, *args, **kwargs)\u001b[0m\n\u001b[1;32m   1496\u001b[0m \u001b[39m# If we don't have any hooks, we want to skip the rest of the logic in\u001b[39;00m\n\u001b[1;32m   1497\u001b[0m \u001b[39m# this function, and just call forward.\u001b[39;00m\n\u001b[1;32m   1498\u001b[0m \u001b[39mif\u001b[39;00m \u001b[39mnot\u001b[39;00m (\u001b[39mself\u001b[39m\u001b[39m.\u001b[39m_backward_hooks \u001b[39mor\u001b[39;00m \u001b[39mself\u001b[39m\u001b[39m.\u001b[39m_backward_pre_hooks \u001b[39mor\u001b[39;00m \u001b[39mself\u001b[39m\u001b[39m.\u001b[39m_forward_hooks \u001b[39mor\u001b[39;00m \u001b[39mself\u001b[39m\u001b[39m.\u001b[39m_forward_pre_hooks\n\u001b[1;32m   1499\u001b[0m         \u001b[39mor\u001b[39;00m _global_backward_pre_hooks \u001b[39mor\u001b[39;00m _global_backward_hooks\n\u001b[1;32m   1500\u001b[0m         \u001b[39mor\u001b[39;00m _global_forward_hooks \u001b[39mor\u001b[39;00m _global_forward_pre_hooks):\n\u001b[0;32m-> 1501\u001b[0m     \u001b[39mreturn\u001b[39;00m forward_call(\u001b[39m*\u001b[39;49margs, \u001b[39m*\u001b[39;49m\u001b[39m*\u001b[39;49mkwargs)\n\u001b[1;32m   1502\u001b[0m \u001b[39m# Do not call functions when jit is used\u001b[39;00m\n\u001b[1;32m   1503\u001b[0m full_backward_hooks, non_full_backward_hooks \u001b[39m=\u001b[39m [], []\n",
      "File \u001b[0;32m~/.local/share/virtualenvs/tubegpt-FIUw9MBe/lib/python3.11/site-packages/torch/nn/modules/linear.py:114\u001b[0m, in \u001b[0;36mLinear.forward\u001b[0;34m(self, input)\u001b[0m\n\u001b[1;32m    113\u001b[0m \u001b[39mdef\u001b[39;00m \u001b[39mforward\u001b[39m(\u001b[39mself\u001b[39m, \u001b[39minput\u001b[39m: Tensor) \u001b[39m-\u001b[39m\u001b[39m>\u001b[39m Tensor:\n\u001b[0;32m--> 114\u001b[0m     \u001b[39mreturn\u001b[39;00m F\u001b[39m.\u001b[39;49mlinear(\u001b[39minput\u001b[39;49m, \u001b[39mself\u001b[39;49m\u001b[39m.\u001b[39;49mweight, \u001b[39mself\u001b[39;49m\u001b[39m.\u001b[39;49mbias)\n",
      "\u001b[0;31mKeyboardInterrupt\u001b[0m: "
     ]
    }
   ],
   "source": [
    "combined_docs = caption_youtube_blip2(\"/Users/bpakra200/tubegpt/tubegpt/src/notebook/demo1.mp4\")"
   ]
  },
  {
   "cell_type": "markdown",
   "metadata": {},
   "source": [
    "## Save Captions in Text"
   ]
  },
  {
   "cell_type": "code",
   "execution_count": null,
   "metadata": {},
   "outputs": [],
   "source": [
    "with open(\"list-blip2.txt\", \"w\") as file:\n",
    "    for item in combined_docs:\n",
    "        file.write(str(item) + \"\\n\")"
   ]
  },
  {
   "attachments": {},
   "cell_type": "markdown",
   "metadata": {},
   "source": [
    "## if we don't like to save captions in Text we can directly Convert text to LAngchain documents"
   ]
  },
  {
   "cell_type": "code",
   "execution_count": 34,
   "metadata": {},
   "outputs": [],
   "source": [
    "# Load the dynamic text into a LangChain document\n",
    "docs = [Document(page_content=text) for text in combined_docs ]\n"
   ]
  },
  {
   "attachments": {},
   "cell_type": "markdown",
   "metadata": {},
   "source": [
    "## load Texts"
   ]
  },
  {
   "cell_type": "code",
   "execution_count": 5,
   "metadata": {},
   "outputs": [],
   "source": [
    "\n",
    "loader = TextLoader('/Users/bpakra200/tubegpt/tubegpt/src/notebook/list.txt')\n",
    "\n",
    "docs = loader.load()"
   ]
  },
  {
   "cell_type": "code",
   "execution_count": 6,
   "metadata": {},
   "outputs": [
    {
     "data": {
      "text/plain": [
       "1"
      ]
     },
     "execution_count": 6,
     "metadata": {},
     "output_type": "execute_result"
    }
   ],
   "source": [
    "len(docs)"
   ]
  },
  {
   "cell_type": "code",
   "execution_count": 30,
   "metadata": {},
   "outputs": [],
   "source": [
    "loader = TextLoader('/Users/bpakra200/tubegpt/tubegpt/src/notebook/list-bliplarge.txt')\n",
    "\n",
    "docs = loader.load()"
   ]
  },
  {
   "cell_type": "markdown",
   "metadata": {},
   "source": [
    "## Define embedding"
   ]
  },
  {
   "cell_type": "code",
   "execution_count": 31,
   "metadata": {},
   "outputs": [],
   "source": [
    "embeddings = OpenAIEmbeddings()"
   ]
  },
  {
   "attachments": {},
   "cell_type": "markdown",
   "metadata": {},
   "source": [
    "## Save Vectors in Database base model"
   ]
  },
  {
   "cell_type": "code",
   "execution_count": 11,
   "metadata": {},
   "outputs": [
    {
     "name": "stderr",
     "output_type": "stream",
     "text": [
      "Number of requested results 2 is greater than number of elements in index 1, updating n_results = 1\n"
     ]
    },
    {
     "data": {
      "text/plain": [
       "[(Document(page_content='a man in a green golf cart with a stuffed bear\\na golf cart with a christmas sweater on it\\na black bear is sitting in a golf cart\\na man is playing with a frc in the yard\\na green truck\\na christmas wreath with a stuffed bear in it\\ntwo boys playing golf in the grass\\na group of people playing golf on a green field\\na santa claus wreath is placed on a tractor\\ntwo children playing with a fr fr fr fr fr fr fr fr fr fr fr fr fr fr\\na man driving a golf cart with a christmas hat on\\na stuffed santa claus is sitting in a golf cart\\na santa claus in a green truck\\na stuffed animal sitting in the back of a truck\\na christmas wreath with a santa claus in it\\na stuffed santa claus is sitting in a truck\\na dog in a christmas wreath sitting on a truck\\na stuffed bear sitting in a christmas wreath\\na green golf cart with a santa hat on it\\na man and a woman playing with a frc\\na stuffed santa claus is placed in the back of a truck\\na green golf cart with a wreath on it\\na stuffed santa claus in a green jeep\\na man and a child playing with a fr fr fr fr fr fr fr fr fr fr fr\\ntwo children playing with a ball in the grass\\na boy is swinging a golf ball on the green\\na green golf cart with a bag on it\\ntwo people playing golf on a green field\\na stuffed santa claus\\ntwo children playing golf on a green field\\na golf cart with a golf cart attached to it\\na woman in a green shirt is playing golf\\na santa claus wreath\\na man and a woman playing a game of fr fr fr fr fr fr fr fr fr fr\\ntwo people playing golf in the grass\\na green golf cart with a red and white flower on it\\ntwo children playing golf in the grass\\na dog is sitting in a green truck\\na santa claus doll is sitting in a truck\\na christmas wreath is placed on the back of a car\\na man and a woman playing with a fr fr fr fr fr fr fr fr fr fr fr\\na man and woman playing with a fr fr fr fr fr fr fr fr fr fr fr fr\\na stuffed santa claus in a golf cart\\ntwo people playing with a ball in the grass\\na santa claus wreath is placed on a jeep\\na stuffed animal in a christmas wreath on a truck\\na man riding a green motorcycle down a dirt road\\na stuffed bear in a wreath\\na golf cart with a christmas wreath on it\\na stuffed animal in a christmas wreath on a green truck\\na stuffed bear in a christmas wreath\\na man playing golf in the grass\\na green golf cart parked on a dirt road\\na christmas wreath is placed on the back of a tractor\\na stuffed santa claus in a tractor\\na stuffed santa claus in a truck\\na stuffed animal in a wreath on a tractor\\na black bear is in a golf cart\\na stuffed animal in a truck with a wreath\\na santa claus is sitting in the back of a truck\\na group of people playing a game of fr fr fr fr fr fr fr fr fr fr fr\\na green golf cart with a white seat and a red bag\\na christmas wreath with a santa claus on it\\na stuffed santa claus is sitting in a jeep\\na man is playing golf in the yard\\na green golf cart with a red bag on it\\na man and a woman playing frc\\na man is playing golf in the grass\\na green golf cart with a santa clause on it\\na golf cart is parked on the side of a road\\ntwo people playing with a fr fr fr fr fr fr fr fr fr fr fr fr fr fr\\na wreath is placed on the back of a truck\\na green jeep with a wreath on the front\\na black bear is sitting in a green golf cart\\na man and a woman playing golf\\na man riding a small car down a dirt road\\na black bear is in the back of a golf cart\\na stuffed santa claus is placed in a garbage bin\\ntwo people playing frc in the grass\\na golf cart with a christmas tree on it\\na truck with a wreath on the back\\ntwo people playing frc in the backyard\\na green golf cart with a stuffed santa claus on it\\na stuffed teddy bear sitting in a truck\\na man in a santa hat is riding a golf cart\\na man is playing with a fr fr fr fr fr fr fr fr fr fr fr fr fr\\na boy and a girl playing golf\\na stuffed santa claus in a green truck\\na group of people playing frc in the park\\na stuffed santa claus is sitting in a tractor\\na green golf cart parked in a driveway\\na man is driving a golf cart on the grass\\na golf cart with a golf ball on it\\na santa claus wreath is placed in the back of a truck\\na green golf cart with a red rose on it\\na golf cart with a dog on it\\na christmas wreath is placed on the back of a golf cart\\na cat in a christmas wreath on a truck\\na dog is sitting in a truck with a wreath on it\\na stuffed santa claus in a christmas wreath\\na green golf cart with a red flower on it\\na santa claus wreath with red and green decorations\\na green golf cart\\na stuffed teddy bear sitting in the back of a truck\\na green golf cart with a christmas wreath on it\\na man riding a motorcycle down a dirt road\\na stuffed teddy bear in a christmas wreath\\ntwo people playing frc in the park\\na christmas wreath on a green truck\\na stuffed animal sitting in a truck with a wreath\\na santa claus in a christmas wreath\\na man and woman playing frc in the park\\na wreath with a santa claus on it\\na santa claus in a truck with a wreath\\na man and woman playing golf on a green field\\na man is playing with a frc\\na man in a green golf cart with a christmas hat on\\na green golf cart with a christmas tree on it\\na santa claus wreath on a green truck\\na christmas wreath with a stuffed animal in it\\na christmas wreath with a teddy bear in it\\na man riding a green golf cart\\na green truck with a wreath on it\\na woman is playing golf in the grass\\na boy is swinging a golf ball on the golf course\\na golf cart with a christmas decoration on it\\na man is playing golf on the grass\\na golf cart with a christmas hat on it\\na green golf cart with a white seat\\na boy and girl playing golf in the grass\\na man and woman playing golf on the grass\\na woman and a man playing golf in the grass\\na green golf cart with a red hat on it\\na golf cart with a bag on it\\ntwo people playing frc golf\\na group of people playing a game of cro\\na dog is sitting in the back of a green truck\\na dog is sitting in a golf cart\\na woman is playing golf with her friends\\na stuffed animal in a wreath\\na woman in a green shirt and red shorts playing golf\\na man and a woman playing golf on a green field\\na green golf cart with a christmas hat on it\\na christmas wreath is placed on the back of a truck\\na man and a boy playing golf\\na santa claus doll in a christmas wreath\\na stuffed animal sitting in a christmas wreath\\na man riding a golf cart down a dirt road\\na santa claus in a tractor with a wreath\\na santa claus wreath is placed on the back of a truck\\na man and a woman playing a game of fr fr fr\\na christmas wreath is placed on the back of a green truck\\na green golf cart with a red and white bag\\na christmas wreath is placed on the back of a green golf cart\\na golf cart is parked in the grass\\na stuffed bear sitting in a wreath on a truck\\na man in a green golf cart with a stuffed animal\\na group of people playing golf in the grass\\na christmas wreath on a golf cart\\na christmas wreath is placed in the back of a truck\\na group of people playing a game in the grass\\na black dog is sitting in a golf cart\\na group of people playing a game on the grass\\na santa claus in a green truck with a wreath\\na man and a woman playing golf in the grass\\na man in a green golf cart with a christmas tree\\ntwo people playing frc\\ntwo people playing with a frc fr frc frc frc frc frc fr\\na stuffed animal in a christmas wreath\\na woman is playing golf with her son\\na stuffed santa claus is placed in a truck\\na christmas wreath on the back of a truck\\na man and woman playing golf in the grass\\n', metadata={'source': '/Users/bpakra200/tubegpt/tubegpt/src/notebook/list.txt'}),\n",
       "  0.5126678943634033)]"
      ]
     },
     "execution_count": 11,
     "metadata": {},
     "output_type": "execute_result"
    }
   ],
   "source": [
    "PERSIST_DIRECTORY_OPENAI = \"../tubegptvisiondb/\"\n",
    " \n",
    "tubegptvisiondb = Chroma.from_documents(\n",
    "    documents=docs, embedding= embeddings, persist_directory=PERSIST_DIRECTORY_OPENAI\n",
    ")\n",
    "tubegptvisiondb.similarity_search_with_score(\"What was weman were playing?\", k=2)"
   ]
  },
  {
   "cell_type": "markdown",
   "metadata": {},
   "source": [
    "## Save vecrtor for large captioning models"
   ]
  },
  {
   "cell_type": "code",
   "execution_count": 32,
   "metadata": {},
   "outputs": [
    {
     "name": "stderr",
     "output_type": "stream",
     "text": [
      "Number of requested results 2 is greater than number of elements in index 1, updating n_results = 1\n"
     ]
    },
    {
     "data": {
      "text/plain": [
       "[(Document(page_content='there is a stuffed santa claus doll on a wreath on the back of a truck\\nthere is a stuffed santa claus doll on a wreath on the back of a car\\nthere is a stuffed santa claus on a wreath on the back of a car\\nthere is a stuffed santa claus sitting on a wreath on the back of a car\\nthere is a stuffed santa claus sitting on a wreath on the back of a golf cart\\nthere is a stuffed santa claus on a wreath on the back of a golf cart\\nthere is a stuffed santa claus sitting on a wreath on the back of a truck\\nthere is a stuffed animal that is sitting on a wreath\\nthere is a wreath with a santa clause on it on the back of a car\\nthere is a stuffed animal in a wreath on the back of a car\\nthere is a stuffed santa claus on a wreath on the back of a truck\\nthere is a stuffed animal in a wreath on the back of a truck\\nthere is a stuffed santa claus sitting on a christmas wreath\\nthere is a stuffed santa claus doll sitting on a christmas wreath\\nthere is a stuffed animal that is sitting in a wreath\\nthere is a stuffed animal that is sitting on a blanket\\nthere is a stuffed santa claus sitting on a green wreath\\nthere is a stuffed santa claus sitting on a green blanket\\nthere is a stuffed animal that is sitting in the back of a truck\\nthere is a stuffed santa claus sitting on a christmas tree\\nthere is a stuffed animal that is sitting in the trunk of a car\\nthere is a stuffed animal in a car with a wreath\\nthere is a stuffed animal in a christmas wreath on the back of a truck\\nthere is a stuffed animal in the back of a car with a wreath\\nthere is a stuffed animal in a christmas wreath in the back of a car\\nthere is a stuffed santa claus sitting in a green car\\nthere is a stuffed santa claus sitting in a green truck\\nthere is a stuffed santa claus sitting in a wreath on the back of a car\\nthere is a stuffed santa claus sitting in the back of a car\\nthere is a stuffed santa claus sitting in the back of a truck\\nthere is a stuffed animal that is sitting on a car\\nthere is a stuffed monkey sitting on a christmas wreath on the back of a car\\nthere is a stuffed animal that is sitting on a golf cart\\nthere is a wreath with a santa clause on it on a golf cart\\nthere is a christmas wreath on the back of a car\\nthere is a stuffed snowman sitting on a green car with a wreath\\nthere is a santa clause sitting on a wreath on the back of a car\\nthere is a stuffed animal sitting on a christmas wreath on a golf cart\\nthere is a stuffed toy sitting on a golf cart with a wreath\\nthere is a stuffed santa claus on a golf cart with a wreath\\nthere is a stuffed snowman sitting on a green golf cart\\nthere is a stuffed snowman sitting on a christmas wreath\\nthere is a stuffed animal that is sitting on a christmas wreath\\nthere is a stuffed santa claus on a christmas wreath on a golf cart\\nthere is a stuffed santa claus on a christmas wreath on the back of a truck\\nthere is a christmas wreath with a santa clause on it\\nthere is a stuffed santa claus sitting on a golf cart\\nthere is a stuffed animal sitting on a wreath on the back of a golf cart\\nthere is a stuffed santa claus on a wreath on a green truck\\nthere is a stuffed animal that is on a wreath on the back of a car\\nthere is a stuffed animal that is laying on a wreath\\nthere is a stuffed animal in a wreath on a golf cart\\nthere is a stuffed animal in a wreath on the back of a golf cart\\nthere is a stuffed santa claus sitting in a wreath on the back of a truck\\nthere is a santa clause on a wreath on the back of a car\\nthere is a santa clause hanging on a wreath on the back of a car\\nthere is a stuffed santa claus on a wreath on a golf cart\\nthere is a stuffed santa claus sitting on a wreath on a golf cart\\nthere is a stuffed santa claus sitting in a wreath on the back of a golf cart\\nthere is a stuffed animal on a wreath on the back of a golf cart\\nthere is a stuffed animal on a golf cart with a wreath\\nthere is a wreath with a santa clause on it on the back of a golf cart\\nthere is a stuffed bear that is sitting on a wreath\\nthere is a stuffed animal on a wreath on the back of a truck\\nthere is a teddy bear sitting on a wreath on the back of a golf cart\\nthere is a stuffed bear in a wreath on the back of a golf cart\\nthere is a wreath on the back of a golf cart\\nthere is a christmas wreath on the back of a golf cart\\nthere is a teddy bear and a wreath on the back of a golf cart\\nthere is a dog standing next to a golf cart with a wreath on it\\nthere is a teddy bear sitting on a golf cart with a wreath\\nthere is a teddy bear sitting on a christmas wreath on a golf cart\\nthere is a small wreath on the back of a golf cart\\nthere is a dog that is standing next to a golf cart\\nthere is a golf cart with a wreath on it and a golf ball\\nthere is a golf cart with a christmas wreath on it\\nthere is a cat sitting on a golf cart with a wreath on it\\nthere is a dog that is sitting in a golf cart\\nthere is a black cat sitting on a golf cart with a wreath on it\\nthere is a dog sitting in a golf cart with a wreath on it\\nthere is a stuffed animal in a golf cart with a wreath on it\\nthere is a stuffed animal in a golf cart with a christmas wreath\\nthere is a stuffed animal in a golf cart with a santa clause on it\\nthere is a small stuffed animal sitting on a golf cart\\nthere is a dog that is standing in a golf cart\\nthere is a black dog sitting in a golf cart with a stuffed animal\\nthere is a dog sitting in a golf cart with a stuffed animal on it\\nthere is a green golf cart with a santa clause on it\\nthere is a dog sitting in a golf cart with a christmas decoration on it\\nthere is a black dog that is standing in a golf cart\\nthere is a cat that is standing on a golf cart\\nthere is a cat sitting on a golf cart with a christmas decoration on it\\nthere is a golf cart with a christmas decoration on it\\nthere is a green golf cart with a red and white decoration on it\\nthere is a cat that is standing next to a golf cart\\nthere is a cat sitting on a golf cart with a santa hat on\\nthere is a black cat standing next to a green golf cart\\nthere is a black cat standing next to a golf cart\\nthere is a cat sitting on a golf cart with a bag on it\\nthere is a cat sitting in a golf cart with a bag on it\\nthere is a black cat sitting in a golf cart with a santa hat on\\nthere is a dog sitting in a golf cart with a hat on\\nthere is a dog sitting in a golf cart with a santa hat on\\nthere is a golf cart with a santa clause on the back\\nthere is a green golf cart with a stuffed animal on it\\nthere is a golf cart with a stuffed animal on the back\\nthere is a green golf cart with a santa hat on it\\nthere is a golf cart with a santa clause on it\\nthere is a golf cart with santa claus on it parked in the driveway\\nthere is a green golf cart with a red rose on the back\\nthere is a green golf cart with a red and white flag on it\\nthere is a green golf cart with a red and white flower on it\\nthere is a green golf cart with a red and white hat on it\\nthere is a golf cart with a christmas decoration on the back\\nthere is a green golf cart with a santa clause on the back\\nthere is a green golf cart with a christmas decoration on it\\nthere is a green golf cart with a red and white bow on it\\nthere is a green golf cart with a red and white bag on it\\nthere is a green golf cart with a red hat on it\\nthere is a green golf cart with santa hats on it\\nthere is a green golf cart with a white seat and a red bow on the back\\nthere is a green golf cart with a dog on it\\nthere is a green golf cart with a white seat and a red hat\\nthere is a small green golf cart with a santa clause on top\\nthere is a golf cart with a golf ball on the back\\nthere is a golf cart with a person on it parked in the grass\\nthere is a man riding a golf cart with a surfboard on top\\nthere is a small green golf cart with a white seat\\nthere is a golf cart with a surfboard on top of it\\nthere are many people riding golf carts on the grass\\nthere are people playing golf on a golf course with carts\\nthere are many people on golf carts on the grass\\nthere is a golf cart that is parked on the grass\\nthere is a golf cart parked on the side of the road\\nthere is a man riding a golf cart on the grass\\nthere is a man that is standing on a golf cart\\nthere is a man that is playing golf in the grass\\nthere is a man that is playing golf on the grass\\nthere is a man that is standing in the grass with a golf club\\nthere are people playing golf on a green field with a cart\\nthere are people playing golf in the park on a sunny day\\nthere are people playing a game of golf in the park\\nthere are people playing frisbee in the park on a sunny day\\nseveral people playing a game of frisbee in a park\\nseveral people playing a game of golf in a park\\nseveral people playing frisbee in a park with a golf cart\\nthere are people playing a game of frisbee in the park\\nthere are people playing frisbee in a grassy field\\nthere are people playing frisbee in a park with golf carts\\nthere are two people playing frisbee in the park on the grass\\nseveral people playing golf in a park with carts and golf carts\\nseveral people playing golf in a grassy area with carts\\nseveral people playing a game of golf in a park with carts\\nseveral people are playing golf in a grassy field with carts\\nseveral people are playing a game of golf in a park\\nseveral people playing a game of golf in a grassy field\\nseveral people are playing frisbee in a grassy field\\nseveral people playing a game of frisbee in a grassy field\\nseveral people playing frisbee in a grassy field with a golf cart\\nseveral people playing frisbee in a grassy field with golf carts\\nthere are people playing frisbee in a park with many carts\\nthere are two people playing frisbee in the grass on the golf course\\nthere are two people playing frisbee in the grass on the field\\nthere are two people playing a game of golf on the grass\\nthere are two people playing golf on a green field\\nseveral people playing golf in a grassy field with a golf cart\\nseveral people playing golf in a park with a golf cart\\nseveral people playing golf on a green field with a golf cart\\nseveral people playing golf on a green field with trees in the background\\nseveral people playing golf on a green field with carts\\nseveral people are playing golf on a green field with a golf cart\\nseveral people playing golf on a golf course with a cart in the background\\nseveral people playing golf on a sunny day in the park\\nseveral people are playing golf on a green field with trees in the background\\nseveral people are playing golf in a grassy field with trees\\nseveral people are playing golf on a green field with trees\\nthere are two people playing a game of golf in the grass\\nthey are playing frisbee in the park on a sunny day\\nthere are two people playing frisbee in the park together\\nthere are two boys playing golf on a green field\\nthere are two people playing golf in the grass on a sunny day\\nthere are two people playing a game of frisbee in the park\\nthere are two boys playing golf in the grass with a frisbee\\nthere are two people playing a game of golf in the park\\nthere are two men playing golf on a green field\\nthere are two people playing frisbee in the grass\\nthey are playing golf on the green grass in the park\\nthere are two people playing frisbee in the park on a sunny day\\nthere are two people playing golf in the grass together\\nseveral people are playing a game of frisbee in a park\\nthere are three people playing golf on a green field\\nthere are two people playing golf in the grass with a dog\\nseveral people are playing a game of golf in a grassy field\\nseveral people playing a game of golf on a sunny day\\nseveral people are playing a game of golf on a sunny day\\nseveral people are playing a game of golf on a green field\\nseveral people playing frisbee in a park with golf carts\\nseveral people are playing golf in a grassy field with a golf cart\\nseveral people playing golf on a green field with a cart\\nthere are two people playing frisbee in the park with a golf cart\\nthere are two people playing a game of golf on the green\\nthere are two people playing golf in the grass with a golf cart\\n', metadata={'source': '/Users/bpakra200/tubegpt/tubegpt/src/notebook/list-bliplarge.txt'}),\n",
       "  0.5302518606185913)]"
      ]
     },
     "execution_count": 32,
     "metadata": {},
     "output_type": "execute_result"
    }
   ],
   "source": [
    "PERSIST_DIRECTORY_OPENAI = \"../tubegptvisionlargedb/\"\n",
    " \n",
    "tubegptvisionlargedb = Chroma.from_documents(\n",
    "    documents=docs, embedding= embeddings, persist_directory=PERSIST_DIRECTORY_OPENAI\n",
    ")\n",
    "tubegptvisionlargedb.similarity_search_with_score(\"What was weman were playing?\", k=2)"
   ]
  },
  {
   "cell_type": "code",
   "execution_count": 12,
   "metadata": {},
   "outputs": [],
   "source": [
    "\n",
    "tubegptvisiondb.persist()\n"
   ]
  },
  {
   "cell_type": "code",
   "execution_count": 33,
   "metadata": {},
   "outputs": [],
   "source": [
    "tubegptvisionlargedb.persist()"
   ]
  },
  {
   "attachments": {},
   "cell_type": "markdown",
   "metadata": {},
   "source": [
    "## load Vectors from database"
   ]
  },
  {
   "cell_type": "code",
   "execution_count": 34,
   "metadata": {},
   "outputs": [
    {
     "name": "stderr",
     "output_type": "stream",
     "text": [
      "Number of requested results 2 is greater than number of elements in index 1, updating n_results = 1\n"
     ]
    },
    {
     "data": {
      "text/plain": [
       "[(Document(page_content='there is a stuffed santa claus doll on a wreath on the back of a truck\\nthere is a stuffed santa claus doll on a wreath on the back of a car\\nthere is a stuffed santa claus on a wreath on the back of a car\\nthere is a stuffed santa claus sitting on a wreath on the back of a car\\nthere is a stuffed santa claus sitting on a wreath on the back of a golf cart\\nthere is a stuffed santa claus on a wreath on the back of a golf cart\\nthere is a stuffed santa claus sitting on a wreath on the back of a truck\\nthere is a stuffed animal that is sitting on a wreath\\nthere is a wreath with a santa clause on it on the back of a car\\nthere is a stuffed animal in a wreath on the back of a car\\nthere is a stuffed santa claus on a wreath on the back of a truck\\nthere is a stuffed animal in a wreath on the back of a truck\\nthere is a stuffed santa claus sitting on a christmas wreath\\nthere is a stuffed santa claus doll sitting on a christmas wreath\\nthere is a stuffed animal that is sitting in a wreath\\nthere is a stuffed animal that is sitting on a blanket\\nthere is a stuffed santa claus sitting on a green wreath\\nthere is a stuffed santa claus sitting on a green blanket\\nthere is a stuffed animal that is sitting in the back of a truck\\nthere is a stuffed santa claus sitting on a christmas tree\\nthere is a stuffed animal that is sitting in the trunk of a car\\nthere is a stuffed animal in a car with a wreath\\nthere is a stuffed animal in a christmas wreath on the back of a truck\\nthere is a stuffed animal in the back of a car with a wreath\\nthere is a stuffed animal in a christmas wreath in the back of a car\\nthere is a stuffed santa claus sitting in a green car\\nthere is a stuffed santa claus sitting in a green truck\\nthere is a stuffed santa claus sitting in a wreath on the back of a car\\nthere is a stuffed santa claus sitting in the back of a car\\nthere is a stuffed santa claus sitting in the back of a truck\\nthere is a stuffed animal that is sitting on a car\\nthere is a stuffed monkey sitting on a christmas wreath on the back of a car\\nthere is a stuffed animal that is sitting on a golf cart\\nthere is a wreath with a santa clause on it on a golf cart\\nthere is a christmas wreath on the back of a car\\nthere is a stuffed snowman sitting on a green car with a wreath\\nthere is a santa clause sitting on a wreath on the back of a car\\nthere is a stuffed animal sitting on a christmas wreath on a golf cart\\nthere is a stuffed toy sitting on a golf cart with a wreath\\nthere is a stuffed santa claus on a golf cart with a wreath\\nthere is a stuffed snowman sitting on a green golf cart\\nthere is a stuffed snowman sitting on a christmas wreath\\nthere is a stuffed animal that is sitting on a christmas wreath\\nthere is a stuffed santa claus on a christmas wreath on a golf cart\\nthere is a stuffed santa claus on a christmas wreath on the back of a truck\\nthere is a christmas wreath with a santa clause on it\\nthere is a stuffed santa claus sitting on a golf cart\\nthere is a stuffed animal sitting on a wreath on the back of a golf cart\\nthere is a stuffed santa claus on a wreath on a green truck\\nthere is a stuffed animal that is on a wreath on the back of a car\\nthere is a stuffed animal that is laying on a wreath\\nthere is a stuffed animal in a wreath on a golf cart\\nthere is a stuffed animal in a wreath on the back of a golf cart\\nthere is a stuffed santa claus sitting in a wreath on the back of a truck\\nthere is a santa clause on a wreath on the back of a car\\nthere is a santa clause hanging on a wreath on the back of a car\\nthere is a stuffed santa claus on a wreath on a golf cart\\nthere is a stuffed santa claus sitting on a wreath on a golf cart\\nthere is a stuffed santa claus sitting in a wreath on the back of a golf cart\\nthere is a stuffed animal on a wreath on the back of a golf cart\\nthere is a stuffed animal on a golf cart with a wreath\\nthere is a wreath with a santa clause on it on the back of a golf cart\\nthere is a stuffed bear that is sitting on a wreath\\nthere is a stuffed animal on a wreath on the back of a truck\\nthere is a teddy bear sitting on a wreath on the back of a golf cart\\nthere is a stuffed bear in a wreath on the back of a golf cart\\nthere is a wreath on the back of a golf cart\\nthere is a christmas wreath on the back of a golf cart\\nthere is a teddy bear and a wreath on the back of a golf cart\\nthere is a dog standing next to a golf cart with a wreath on it\\nthere is a teddy bear sitting on a golf cart with a wreath\\nthere is a teddy bear sitting on a christmas wreath on a golf cart\\nthere is a small wreath on the back of a golf cart\\nthere is a dog that is standing next to a golf cart\\nthere is a golf cart with a wreath on it and a golf ball\\nthere is a golf cart with a christmas wreath on it\\nthere is a cat sitting on a golf cart with a wreath on it\\nthere is a dog that is sitting in a golf cart\\nthere is a black cat sitting on a golf cart with a wreath on it\\nthere is a dog sitting in a golf cart with a wreath on it\\nthere is a stuffed animal in a golf cart with a wreath on it\\nthere is a stuffed animal in a golf cart with a christmas wreath\\nthere is a stuffed animal in a golf cart with a santa clause on it\\nthere is a small stuffed animal sitting on a golf cart\\nthere is a dog that is standing in a golf cart\\nthere is a black dog sitting in a golf cart with a stuffed animal\\nthere is a dog sitting in a golf cart with a stuffed animal on it\\nthere is a green golf cart with a santa clause on it\\nthere is a dog sitting in a golf cart with a christmas decoration on it\\nthere is a black dog that is standing in a golf cart\\nthere is a cat that is standing on a golf cart\\nthere is a cat sitting on a golf cart with a christmas decoration on it\\nthere is a golf cart with a christmas decoration on it\\nthere is a green golf cart with a red and white decoration on it\\nthere is a cat that is standing next to a golf cart\\nthere is a cat sitting on a golf cart with a santa hat on\\nthere is a black cat standing next to a green golf cart\\nthere is a black cat standing next to a golf cart\\nthere is a cat sitting on a golf cart with a bag on it\\nthere is a cat sitting in a golf cart with a bag on it\\nthere is a black cat sitting in a golf cart with a santa hat on\\nthere is a dog sitting in a golf cart with a hat on\\nthere is a dog sitting in a golf cart with a santa hat on\\nthere is a golf cart with a santa clause on the back\\nthere is a green golf cart with a stuffed animal on it\\nthere is a golf cart with a stuffed animal on the back\\nthere is a green golf cart with a santa hat on it\\nthere is a golf cart with a santa clause on it\\nthere is a golf cart with santa claus on it parked in the driveway\\nthere is a green golf cart with a red rose on the back\\nthere is a green golf cart with a red and white flag on it\\nthere is a green golf cart with a red and white flower on it\\nthere is a green golf cart with a red and white hat on it\\nthere is a golf cart with a christmas decoration on the back\\nthere is a green golf cart with a santa clause on the back\\nthere is a green golf cart with a christmas decoration on it\\nthere is a green golf cart with a red and white bow on it\\nthere is a green golf cart with a red and white bag on it\\nthere is a green golf cart with a red hat on it\\nthere is a green golf cart with santa hats on it\\nthere is a green golf cart with a white seat and a red bow on the back\\nthere is a green golf cart with a dog on it\\nthere is a green golf cart with a white seat and a red hat\\nthere is a small green golf cart with a santa clause on top\\nthere is a golf cart with a golf ball on the back\\nthere is a golf cart with a person on it parked in the grass\\nthere is a man riding a golf cart with a surfboard on top\\nthere is a small green golf cart with a white seat\\nthere is a golf cart with a surfboard on top of it\\nthere are many people riding golf carts on the grass\\nthere are people playing golf on a golf course with carts\\nthere are many people on golf carts on the grass\\nthere is a golf cart that is parked on the grass\\nthere is a golf cart parked on the side of the road\\nthere is a man riding a golf cart on the grass\\nthere is a man that is standing on a golf cart\\nthere is a man that is playing golf in the grass\\nthere is a man that is playing golf on the grass\\nthere is a man that is standing in the grass with a golf club\\nthere are people playing golf on a green field with a cart\\nthere are people playing golf in the park on a sunny day\\nthere are people playing a game of golf in the park\\nthere are people playing frisbee in the park on a sunny day\\nseveral people playing a game of frisbee in a park\\nseveral people playing a game of golf in a park\\nseveral people playing frisbee in a park with a golf cart\\nthere are people playing a game of frisbee in the park\\nthere are people playing frisbee in a grassy field\\nthere are people playing frisbee in a park with golf carts\\nthere are two people playing frisbee in the park on the grass\\nseveral people playing golf in a park with carts and golf carts\\nseveral people playing golf in a grassy area with carts\\nseveral people playing a game of golf in a park with carts\\nseveral people are playing golf in a grassy field with carts\\nseveral people are playing a game of golf in a park\\nseveral people playing a game of golf in a grassy field\\nseveral people are playing frisbee in a grassy field\\nseveral people playing a game of frisbee in a grassy field\\nseveral people playing frisbee in a grassy field with a golf cart\\nseveral people playing frisbee in a grassy field with golf carts\\nthere are people playing frisbee in a park with many carts\\nthere are two people playing frisbee in the grass on the golf course\\nthere are two people playing frisbee in the grass on the field\\nthere are two people playing a game of golf on the grass\\nthere are two people playing golf on a green field\\nseveral people playing golf in a grassy field with a golf cart\\nseveral people playing golf in a park with a golf cart\\nseveral people playing golf on a green field with a golf cart\\nseveral people playing golf on a green field with trees in the background\\nseveral people playing golf on a green field with carts\\nseveral people are playing golf on a green field with a golf cart\\nseveral people playing golf on a golf course with a cart in the background\\nseveral people playing golf on a sunny day in the park\\nseveral people are playing golf on a green field with trees in the background\\nseveral people are playing golf in a grassy field with trees\\nseveral people are playing golf on a green field with trees\\nthere are two people playing a game of golf in the grass\\nthey are playing frisbee in the park on a sunny day\\nthere are two people playing frisbee in the park together\\nthere are two boys playing golf on a green field\\nthere are two people playing golf in the grass on a sunny day\\nthere are two people playing a game of frisbee in the park\\nthere are two boys playing golf in the grass with a frisbee\\nthere are two people playing a game of golf in the park\\nthere are two men playing golf on a green field\\nthere are two people playing frisbee in the grass\\nthey are playing golf on the green grass in the park\\nthere are two people playing frisbee in the park on a sunny day\\nthere are two people playing golf in the grass together\\nseveral people are playing a game of frisbee in a park\\nthere are three people playing golf on a green field\\nthere are two people playing golf in the grass with a dog\\nseveral people are playing a game of golf in a grassy field\\nseveral people playing a game of golf on a sunny day\\nseveral people are playing a game of golf on a sunny day\\nseveral people are playing a game of golf on a green field\\nseveral people playing frisbee in a park with golf carts\\nseveral people are playing golf in a grassy field with a golf cart\\nseveral people playing golf on a green field with a cart\\nthere are two people playing frisbee in the park with a golf cart\\nthere are two people playing a game of golf on the green\\nthere are two people playing golf in the grass with a golf cart\\n', metadata={'source': '/Users/bpakra200/tubegpt/tubegpt/src/notebook/list-bliplarge.txt'}),\n",
       "  0.4561895430088043)]"
      ]
     },
     "execution_count": 34,
     "metadata": {},
     "output_type": "execute_result"
    }
   ],
   "source": [
    "PERSIST_DIRECTORY_OPENAI =  \"../tubegptvisionlargedb\"\n",
    "embeddings = OpenAIEmbeddings()\n",
    "tubegptvisionlargedb = Chroma(persist_directory=PERSIST_DIRECTORY_OPENAI, embedding_function=embeddings)\n",
    "tubegptvisionlargedb.similarity_search_with_score(\"are they playing golf\", k=2)"
   ]
  },
  {
   "cell_type": "code",
   "execution_count": null,
   "metadata": {},
   "outputs": [],
   "source": [
    "PERSIST_DIRECTORY_OPENAI =  \"../tubegptvisiondb/\"\n",
    "embeddings = OpenAIEmbeddings()\n",
    "tubegptvisiondb = Chroma(persist_directory=PERSIST_DIRECTORY_OPENAI, embedding_function=embeddings)\n",
    "tubegptvisiondb.similarity_search_with_score(\"are they playing golf\", k=2)"
   ]
  },
  {
   "attachments": {},
   "cell_type": "markdown",
   "metadata": {},
   "source": [
    "## Create a prompt Templete"
   ]
  },
  {
   "cell_type": "code",
   "execution_count": 15,
   "metadata": {},
   "outputs": [
    {
     "name": "stdout",
     "output_type": "stream",
     "text": [
      "You're a Helper of poor vision person who needs help to understand a video content .\n",
      " \n",
      "A youtube user asking about contents \n",
      " \n",
      "Answer with Accurate data   to the question and the way Helper of  poor vision person speaks and only depends on provided Data. \n",
      " \n",
      "Question: Why do we need to zero out the gradient before backprop at each step?\n",
      "Answer:\n"
     ]
    }
   ],
   "source": [
    "template = \"\"\"You're a Helper of poor vision person who needs help to understand a video content .\n",
    " \n",
    "{context}\n",
    " \n",
    "Answer with Accurate data   to the question and the way Helper of  poor vision person speaks and only depends on provided Data. \n",
    " \n",
    "Question: {question}\n",
    "Answer:\"\"\"\n",
    " \n",
    "prompt = PromptTemplate(template=template, input_variables=[\"context\", \"question\"])\n",
    "print(\n",
    "    prompt.format(\n",
    "        context=\"A youtube user asking about contents \",\n",
    "        question=\"Why do we need to zero out the gradient before backprop at each step?\",\n",
    "    )\n",
    ")"
   ]
  },
  {
   "attachments": {},
   "cell_type": "markdown",
   "metadata": {},
   "source": [
    "## Create Retriver and Reader from caption Data for base model"
   ]
  },
  {
   "cell_type": "code",
   "execution_count": 18,
   "metadata": {},
   "outputs": [],
   "source": [
    "chain_type_kwargs = {\"prompt\": prompt}\n",
    "chain = RetrievalQA.from_chain_type(\n",
    "    llm=ChatOpenAI(temperature=.4),\n",
    "    chain_type=\"stuff\",\n",
    "    retriever=tubegptvisiondb.as_retriever(search_kwargs={\"k\": 1}),\n",
    "    chain_type_kwargs=chain_type_kwargs,\n",
    ")"
   ]
  },
  {
   "attachments": {},
   "cell_type": "markdown",
   "metadata": {},
   "source": [
    "## Create Retriver and Reader from caption Data for large captioning model"
   ]
  },
  {
   "cell_type": "code",
   "execution_count": 35,
   "metadata": {},
   "outputs": [],
   "source": [
    "chain_type_kwargs = {\"prompt\": prompt}\n",
    "chainlarge = RetrievalQA.from_chain_type(\n",
    "    llm=ChatOpenAI(temperature=.4),\n",
    "    chain_type=\"stuff\",\n",
    "    retriever=tubegptvisionlargedb.as_retriever(search_kwargs={\"k\": 1}),\n",
    "    chain_type_kwargs=chain_type_kwargs,\n",
    ")"
   ]
  },
  {
   "attachments": {},
   "cell_type": "markdown",
   "metadata": {},
   "source": [
    "## Asking questions on Video"
   ]
  },
  {
   "cell_type": "code",
   "execution_count": 102,
   "metadata": {},
   "outputs": [
    {
     "name": "stdout",
     "output_type": "stream",
     "text": [
      "The game they are playing is golf.\n"
     ]
    }
   ],
   "source": [
    "query = \"What was game they are playing\"\n",
    "response = chain.run(query)\n",
    "print_response(response)"
   ]
  },
  {
   "cell_type": "code",
   "execution_count": 103,
   "metadata": {},
   "outputs": [
    {
     "name": "stdout",
     "output_type": "stream",
     "text": [
      "The game they are playing is golf.\n"
     ]
    }
   ],
   "source": [
    "query = \"What was game they are playing\"\n",
    "response = chainlarge.run(query)\n",
    "print_response(response)"
   ]
  },
  {
   "cell_type": "code",
   "execution_count": 22,
   "metadata": {},
   "outputs": [
    {
     "name": "stdout",
     "output_type": "stream",
     "text": [
      "Based on the provided data, there is no information about two ladies putting their hands above their\n",
      "eyes while staring out.\n"
     ]
    }
   ],
   "source": [
    "query = \"Why did the two ladies put their hands above their eyes while staring out?\"\n",
    "response = chain.run(query)\n",
    "print_response(response)"
   ]
  },
  {
   "cell_type": "code",
   "execution_count": 115,
   "metadata": {},
   "outputs": [
    {
     "name": "stdout",
     "output_type": "stream",
     "text": [
      "I'm sorry, but based on the provided data, there is no information about two ladies putting their\n",
      "hands above their eyes while staring out.\n"
     ]
    }
   ],
   "source": [
    "query = \"Why did the two ladies put their hands above their eyes while staring out?\"\n",
    "response = chainlarge.run(query)\n",
    "print_response(response)"
   ]
  },
  {
   "cell_type": "code",
   "execution_count": 104,
   "metadata": {},
   "outputs": [
    {
     "name": "stdout",
     "output_type": "stream",
     "text": [
      "The color of the golf cart is green.\n"
     ]
    }
   ],
   "source": [
    "query = \"what was the color of golf cart?\"\n",
    "response = chainlarge.run(query)\n",
    "print_response(response)"
   ]
  },
  {
   "cell_type": "code",
   "execution_count": 105,
   "metadata": {},
   "outputs": [
    {
     "name": "stdout",
     "output_type": "stream",
     "text": [
      "The color of the golf cart was green.\n"
     ]
    }
   ],
   "source": [
    "query = \"what was the color of golf cart?\"\n",
    "response = chain.run(query)\n",
    "print_response(response)"
   ]
  },
  {
   "cell_type": "code",
   "execution_count": 40,
   "metadata": {},
   "outputs": [
    {
     "name": "stdout",
     "output_type": "stream",
     "text": [
      "I apologize, but the provided data does not mention anything about the color of the pants people are\n",
      "wearing.\n"
     ]
    }
   ],
   "source": [
    "query = \"what the color of the pant people wearing?\"\n",
    "response = chain.run(query)\n",
    "print_response(response)"
   ]
  },
  {
   "cell_type": "code",
   "execution_count": 41,
   "metadata": {},
   "outputs": [
    {
     "name": "stdout",
     "output_type": "stream",
     "text": [
      "I'm sorry, but the provided data does not mention anything about the color of the pants people are\n",
      "wearing.\n"
     ]
    }
   ],
   "source": [
    "query = \"what the color of the pant people wearing?\"\n",
    "response = chainlarge.run(query)\n",
    "print_response(response)"
   ]
  },
  {
   "cell_type": "code",
   "execution_count": 42,
   "metadata": {},
   "outputs": [
    {
     "name": "stdout",
     "output_type": "stream",
     "text": [
      "There are several people playing in the given video content.\n"
     ]
    }
   ],
   "source": [
    "query = \"how many people playing?\"\n",
    "response = chainlarge.run(query)\n",
    "print_response(response)"
   ]
  },
  {
   "cell_type": "code",
   "execution_count": 110,
   "metadata": {},
   "outputs": [
    {
     "name": "stdout",
     "output_type": "stream",
     "text": [
      "The provided data does not include any information about the number on the golf cart.\n"
     ]
    }
   ],
   "source": [
    "query = \"what is the number on golf cart?\"\n",
    "response = chainlarge.run(query)\n",
    "print_response(response)"
   ]
  },
  {
   "cell_type": "code",
   "execution_count": 107,
   "metadata": {},
   "outputs": [
    {
     "name": "stdout",
     "output_type": "stream",
     "text": [
      "Based on the provided data, there is no information about the weather or whether it was a sunny day.\n"
     ]
    }
   ],
   "source": [
    "query = \"Can you let me know if it was a sunny day?\"\n",
    "response = chainlarge.run(query)\n",
    "print_response(response)"
   ]
  },
  {
   "cell_type": "code",
   "execution_count": 109,
   "metadata": {},
   "outputs": [
    {
     "name": "stdout",
     "output_type": "stream",
     "text": [
      "The golf cart is green in color and has a wreath on the back. It may also have a stuffed animal or a\n",
      "Christmas decoration on it.\n"
     ]
    }
   ],
   "source": [
    "query = \"Can you describe the golf cart?\"\n",
    "response = chainlarge.run(query)\n",
    "print_response(response)"
   ]
  },
  {
   "cell_type": "code",
   "execution_count": 111,
   "metadata": {},
   "outputs": [
    {
     "name": "stdout",
     "output_type": "stream",
     "text": [
      "Based on the provided data, the background appears to be a park or a grassy field. People are\n",
      "playing various activities such as golf or frisbee. There are also golf carts present in the\n",
      "background. The weather seems to be sunny.\n"
     ]
    }
   ],
   "source": [
    "query = \"Can you describe the background?\"\n",
    "response = chainlarge.run(query)\n",
    "print_response(response)"
   ]
  },
  {
   "cell_type": "code",
   "execution_count": 114,
   "metadata": {},
   "outputs": [
    {
     "name": "stdout",
     "output_type": "stream",
     "text": [
      "Based on the provided data, there is no information about the weather conditions during the game.\n"
     ]
    }
   ],
   "source": [
    "query = \"Is it sunny during the game ?\"\n",
    "response = chainlarge.run(query)\n",
    "print_response(response)"
   ]
  }
 ],
 "metadata": {
  "kernelspec": {
   "display_name": "newl1gpt",
   "language": "python",
   "name": "python3"
  },
  "language_info": {
   "codemirror_mode": {
    "name": "ipython",
    "version": 3
   },
   "file_extension": ".py",
   "mimetype": "text/x-python",
   "name": "python",
   "nbconvert_exporter": "python",
   "pygments_lexer": "ipython3",
   "version": "3.11.4"
  },
  "orig_nbformat": 4
 },
 "nbformat": 4,
 "nbformat_minor": 2
}
