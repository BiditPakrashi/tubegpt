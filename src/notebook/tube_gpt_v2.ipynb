{
 "cells": [
  {
   "cell_type": "code",
   "execution_count": 50,
   "metadata": {},
   "outputs": [],
   "source": [
    "from langchain.llms import OpenAI\n",
    "from langchain.chat_models import ChatOpenAI\n",
    "from langchain.chains import LLMChain\n",
    "from langchain.prompts import PromptTemplate\n",
    "from langchain.chains import SimpleSequentialChain\n",
    "from langchain.chains.api.prompt import API_RESPONSE_PROMPT\n",
    "from langchain.chains import APIChain\n",
    "from langchain.prompts.prompt import PromptTemplate\n",
    "from langchain.agents.agent_toolkits import create_python_agent\n",
    "from langchain.agents import load_tools, initialize_agent\n",
    "from langchain.agents import AgentType\n",
    "from langchain.tools.python.tool import PythonREPLTool\n",
    "from langchain.python import PythonREPL\n",
    "from langchain.agents import tool\n",
    "from langchain.document_loaders import TextLoader, UnstructuredPDFLoader, YoutubeLoader\n",
    "from langchain.text_splitter import RecursiveCharacterTextSplitter\n",
    "from langchain.vectorstores import Chroma\n",
    "from langchain.embeddings import HuggingFaceEmbeddings, OpenAIEmbeddings\n",
    "from langchain.indexes import VectorstoreIndexCreator\n",
    "from langchain.chains import RetrievalQA\n",
    "import textwrap\n",
    "from langchain.utilities import GoogleSearchAPIWrapper\n",
    "from langchain.tools import Tool\n",
    "import langchain\n",
    "import json\n",
    "from langchain.document_loaders import WebBaseLoader\n",
    "from langchain.document_loaders.generic import GenericLoader\n",
    "from langchain.document_loaders.parsers import OpenAIWhisperParser\n",
    "from langchain.document_loaders.blob_loaders.youtube_audio import YoutubeAudioLoader\n",
    "from langchain.schema import Document\n",
    "from typing import Iterator, List, Literal, Optional, Sequence, Union\n",
    "from langchain.document_loaders.blob_loaders import FileSystemBlobLoader\n",
    "import os\n",
    "import openai\n",
    "from langchain.document_loaders import TextLoader\n"
   ]
  },
  {
   "cell_type": "code",
   "execution_count": 51,
   "metadata": {},
   "outputs": [],
   "source": [
    "def print_response(response: str):\n",
    "    print(\"\\n\".join(textwrap.wrap(response, width=100)))"
   ]
  },
  {
   "cell_type": "code",
   "execution_count": 52,
   "metadata": {},
   "outputs": [],
   "source": [
    "\n",
    "\n",
    "from dotenv import load_dotenv, find_dotenv\n",
    "_ = load_dotenv(find_dotenv()) # read local .env file\n",
    "openai.api_key = os.environ['OPENAI_API_KEY']\n"
   ]
  },
  {
   "attachments": {},
   "cell_type": "markdown",
   "metadata": {},
   "source": [
    "##  Download Video in Save directory\n",
    "## Transcribe the videos to text\n",
    "## keep the transcript in document "
   ]
  },
  {
   "cell_type": "code",
   "execution_count": 53,
   "metadata": {},
   "outputs": [
    {
     "name": "stdout",
     "output_type": "stream",
     "text": [
      "[youtube] Extracting URL: https://www.youtube.com/watch?v=_xASV0YmROc\n",
      "[youtube] _xASV0YmROc: Downloading webpage\n",
      "[youtube] _xASV0YmROc: Downloading ios player API JSON\n",
      "[youtube] _xASV0YmROc: Downloading android player API JSON\n",
      "[youtube] _xASV0YmROc: Downloading m3u8 information\n",
      "[info] _xASV0YmROc: Downloading 1 format(s): 140\n",
      "[download] /Users/bpakra200/Downloads/YouTubeYoga3/The 3-Minute Yoga Routine To Jump Start Your Mornings.m4a has already been downloaded\n",
      "[download] 100% of    2.70MiB\n"
     ]
    },
    {
     "name": "stderr",
     "output_type": "stream",
     "text": [
      "ERROR: Postprocessing: ffprobe and ffmpeg not found. Please install or provide the path using --ffmpeg-location\n"
     ]
    },
    {
     "name": "stdout",
     "output_type": "stream",
     "text": [
      "Error loading documents: ERROR: Postprocessing: ffprobe and ffmpeg not found. Please install or provide the path using --ffmpeg-location\n"
     ]
    }
   ],
   "source": [
    "\n",
    "#  Yoga lecture videos\n",
    "urls = [\"https://www.youtube.com/watch?v=_xASV0YmROc\"]\n",
    "\n",
    "# Directory to save audio files\n",
    "save_dir = \"/Users/bpakra200/Downloads/YouTubeYoga3\"\n",
    "\n",
    "try:\n",
    "    # Transcribe the videos to text\n",
    "    loader = GenericLoader(YoutubeAudioLoader(urls, save_dir), OpenAIWhisperParser())\n",
    "\n",
    "    docs = loader.load()\n",
    "    print(\"After load\")\n",
    "    if len(docs) == 0:\n",
    "        print(\"No documents loaded.\")\n",
    "    else:\n",
    "        for doc in docs:\n",
    "            # Process the loaded documents\n",
    "            print(doc)\n",
    "except Exception as e:\n",
    "    print(\"Error loading documents:\", str(e))    \n",
    " "
   ]
  },
  {
   "cell_type": "code",
   "execution_count": 54,
   "metadata": {},
   "outputs": [
    {
     "data": {
      "text/plain": [
       "1"
      ]
     },
     "execution_count": 54,
     "metadata": {},
     "output_type": "execute_result"
    }
   ],
   "source": [
    "# Returns a list of Documents, which can be easily viewed or parsed\n",
    "len(docs)"
   ]
  },
  {
   "cell_type": "code",
   "execution_count": 55,
   "metadata": {},
   "outputs": [],
   "source": [
    "# Combine doc\n",
    "combined_docs = [doc.page_content for doc in docs]\n",
    "text = \" \".join(combined_docs)"
   ]
  },
  {
   "attachments": {},
   "cell_type": "markdown",
   "metadata": {},
   "source": [
    "Although HuggingFaceEmbeddings is a free and user-friendly option to get started with embeddings, OpenAI also offers an API for text embeddings5, which might perform much better. With LangChain, it is straightforward to use the OpenAI API for embeddings:"
   ]
  },
  {
   "cell_type": "code",
   "execution_count": 56,
   "metadata": {},
   "outputs": [],
   "source": [
    "embeddings = OpenAIEmbeddings()"
   ]
  },
  {
   "attachments": {},
   "cell_type": "markdown",
   "metadata": {},
   "source": [
    "# Storing Embeddings\n",
    "Note that Chroma doesn't automatically persist the embeddings, so you'll need to provide an additional parameter persist_directory to ensure they're saved along with the documents:"
   ]
  },
  {
   "cell_type": "code",
   "execution_count": 57,
   "metadata": {},
   "outputs": [
    {
     "name": "stderr",
     "output_type": "stream",
     "text": [
      "Number of requested results 2 is greater than number of elements in index 1, updating n_results = 1\n"
     ]
    },
    {
     "data": {
      "text/plain": [
       "[(Document(page_content='there is a stuffed santa claus doll on a wreath on the back of a truck\\nthere is a stuffed santa claus doll on a wreath on the back of a car\\nthere is a stuffed santa claus on a wreath on the back of a car\\nthere is a stuffed santa claus sitting on a wreath on the back of a car\\nthere is a stuffed santa claus sitting on a wreath on the back of a golf cart\\nthere is a stuffed santa claus on a wreath on the back of a golf cart\\nthere is a stuffed santa claus sitting on a wreath on the back of a truck\\nthere is a stuffed animal that is sitting on a wreath\\nthere is a wreath with a santa clause on it on the back of a car\\nthere is a stuffed animal in a wreath on the back of a car\\nthere is a stuffed santa claus on a wreath on the back of a truck\\nthere is a stuffed animal in a wreath on the back of a truck\\nthere is a stuffed santa claus sitting on a christmas wreath\\nthere is a stuffed santa claus doll sitting on a christmas wreath\\nthere is a stuffed animal that is sitting in a wreath\\nthere is a stuffed animal that is sitting on a blanket\\nthere is a stuffed santa claus sitting on a green wreath\\nthere is a stuffed santa claus sitting on a green blanket\\nthere is a stuffed animal that is sitting in the back of a truck\\nthere is a stuffed santa claus sitting on a christmas tree\\nthere is a stuffed animal that is sitting in the trunk of a car\\nthere is a stuffed animal in a car with a wreath\\nthere is a stuffed animal in a christmas wreath on the back of a truck\\nthere is a stuffed animal in the back of a car with a wreath\\nthere is a stuffed animal in a christmas wreath in the back of a car\\nthere is a stuffed santa claus sitting in a green car\\nthere is a stuffed santa claus sitting in a green truck\\nthere is a stuffed santa claus sitting in a wreath on the back of a car\\nthere is a stuffed santa claus sitting in the back of a car\\nthere is a stuffed santa claus sitting in the back of a truck\\nthere is a stuffed animal that is sitting on a car\\nthere is a stuffed monkey sitting on a christmas wreath on the back of a car\\nthere is a stuffed animal that is sitting on a golf cart\\nthere is a wreath with a santa clause on it on a golf cart\\nthere is a christmas wreath on the back of a car\\nthere is a stuffed snowman sitting on a green car with a wreath\\nthere is a santa clause sitting on a wreath on the back of a car\\nthere is a stuffed animal sitting on a christmas wreath on a golf cart\\nthere is a stuffed toy sitting on a golf cart with a wreath\\nthere is a stuffed santa claus on a golf cart with a wreath\\nthere is a stuffed snowman sitting on a green golf cart\\nthere is a stuffed snowman sitting on a christmas wreath\\nthere is a stuffed animal that is sitting on a christmas wreath\\nthere is a stuffed santa claus on a christmas wreath on a golf cart\\nthere is a stuffed santa claus on a christmas wreath on the back of a truck\\nthere is a christmas wreath with a santa clause on it\\nthere is a stuffed santa claus sitting on a golf cart\\nthere is a stuffed animal sitting on a wreath on the back of a golf cart\\nthere is a stuffed santa claus on a wreath on a green truck\\nthere is a stuffed animal that is on a wreath on the back of a car\\nthere is a stuffed animal that is laying on a wreath\\nthere is a stuffed animal in a wreath on a golf cart\\nthere is a stuffed animal in a wreath on the back of a golf cart\\nthere is a stuffed santa claus sitting in a wreath on the back of a truck\\nthere is a santa clause on a wreath on the back of a car\\nthere is a santa clause hanging on a wreath on the back of a car\\nthere is a stuffed santa claus on a wreath on a golf cart\\nthere is a stuffed santa claus sitting on a wreath on a golf cart\\nthere is a stuffed santa claus sitting in a wreath on the back of a golf cart\\nthere is a stuffed animal on a wreath on the back of a golf cart\\nthere is a stuffed animal on a golf cart with a wreath\\nthere is a wreath with a santa clause on it on the back of a golf cart\\nthere is a stuffed bear that is sitting on a wreath\\nthere is a stuffed animal on a wreath on the back of a truck\\nthere is a teddy bear sitting on a wreath on the back of a golf cart\\nthere is a stuffed bear in a wreath on the back of a golf cart\\nthere is a wreath on the back of a golf cart\\nthere is a christmas wreath on the back of a golf cart\\nthere is a teddy bear and a wreath on the back of a golf cart\\nthere is a dog standing next to a golf cart with a wreath on it\\nthere is a teddy bear sitting on a golf cart with a wreath\\nthere is a teddy bear sitting on a christmas wreath on a golf cart\\nthere is a small wreath on the back of a golf cart\\nthere is a dog that is standing next to a golf cart\\nthere is a golf cart with a wreath on it and a golf ball\\nthere is a golf cart with a christmas wreath on it\\nthere is a cat sitting on a golf cart with a wreath on it\\nthere is a dog that is sitting in a golf cart\\nthere is a black cat sitting on a golf cart with a wreath on it\\nthere is a dog sitting in a golf cart with a wreath on it\\nthere is a stuffed animal in a golf cart with a wreath on it\\nthere is a stuffed animal in a golf cart with a christmas wreath\\nthere is a stuffed animal in a golf cart with a santa clause on it\\nthere is a small stuffed animal sitting on a golf cart\\nthere is a dog that is standing in a golf cart\\nthere is a black dog sitting in a golf cart with a stuffed animal\\nthere is a dog sitting in a golf cart with a stuffed animal on it\\nthere is a green golf cart with a santa clause on it\\nthere is a dog sitting in a golf cart with a christmas decoration on it\\nthere is a black dog that is standing in a golf cart\\nthere is a cat that is standing on a golf cart\\nthere is a cat sitting on a golf cart with a christmas decoration on it\\nthere is a golf cart with a christmas decoration on it\\nthere is a green golf cart with a red and white decoration on it\\nthere is a cat that is standing next to a golf cart\\nthere is a cat sitting on a golf cart with a santa hat on\\nthere is a black cat standing next to a green golf cart\\nthere is a black cat standing next to a golf cart\\nthere is a cat sitting on a golf cart with a bag on it\\nthere is a cat sitting in a golf cart with a bag on it\\nthere is a black cat sitting in a golf cart with a santa hat on\\nthere is a dog sitting in a golf cart with a hat on\\nthere is a dog sitting in a golf cart with a santa hat on\\nthere is a golf cart with a santa clause on the back\\nthere is a green golf cart with a stuffed animal on it\\nthere is a golf cart with a stuffed animal on the back\\nthere is a green golf cart with a santa hat on it\\nthere is a golf cart with a santa clause on it\\nthere is a golf cart with santa claus on it parked in the driveway\\nthere is a green golf cart with a red rose on the back\\nthere is a green golf cart with a red and white flag on it\\nthere is a green golf cart with a red and white flower on it\\nthere is a green golf cart with a red and white hat on it\\nthere is a golf cart with a christmas decoration on the back\\nthere is a green golf cart with a santa clause on the back\\nthere is a green golf cart with a christmas decoration on it\\nthere is a green golf cart with a red and white bow on it\\nthere is a green golf cart with a red and white bag on it\\nthere is a green golf cart with a red hat on it\\nthere is a green golf cart with santa hats on it\\nthere is a green golf cart with a white seat and a red bow on the back\\nthere is a green golf cart with a dog on it\\nthere is a green golf cart with a white seat and a red hat\\nthere is a small green golf cart with a santa clause on top\\nthere is a golf cart with a golf ball on the back\\nthere is a golf cart with a person on it parked in the grass\\nthere is a man riding a golf cart with a surfboard on top\\nthere is a small green golf cart with a white seat\\nthere is a golf cart with a surfboard on top of it\\nthere are many people riding golf carts on the grass\\nthere are people playing golf on a golf course with carts\\nthere are many people on golf carts on the grass\\nthere is a golf cart that is parked on the grass\\nthere is a golf cart parked on the side of the road\\nthere is a man riding a golf cart on the grass\\nthere is a man that is standing on a golf cart\\nthere is a man that is playing golf in the grass\\nthere is a man that is playing golf on the grass\\nthere is a man that is standing in the grass with a golf club\\nthere are people playing golf on a green field with a cart\\nthere are people playing golf in the park on a sunny day\\nthere are people playing a game of golf in the park\\nthere are people playing frisbee in the park on a sunny day\\nseveral people playing a game of frisbee in a park\\nseveral people playing a game of golf in a park\\nseveral people playing frisbee in a park with a golf cart\\nthere are people playing a game of frisbee in the park\\nthere are people playing frisbee in a grassy field\\nthere are people playing frisbee in a park with golf carts\\nthere are two people playing frisbee in the park on the grass\\nseveral people playing golf in a park with carts and golf carts\\nseveral people playing golf in a grassy area with carts\\nseveral people playing a game of golf in a park with carts\\nseveral people are playing golf in a grassy field with carts\\nseveral people are playing a game of golf in a park\\nseveral people playing a game of golf in a grassy field\\nseveral people are playing frisbee in a grassy field\\nseveral people playing a game of frisbee in a grassy field\\nseveral people playing frisbee in a grassy field with a golf cart\\nseveral people playing frisbee in a grassy field with golf carts\\nthere are people playing frisbee in a park with many carts\\nthere are two people playing frisbee in the grass on the golf course\\nthere are two people playing frisbee in the grass on the field\\nthere are two people playing a game of golf on the grass\\nthere are two people playing golf on a green field\\nseveral people playing golf in a grassy field with a golf cart\\nseveral people playing golf in a park with a golf cart\\nseveral people playing golf on a green field with a golf cart\\nseveral people playing golf on a green field with trees in the background\\nseveral people playing golf on a green field with carts\\nseveral people are playing golf on a green field with a golf cart\\nseveral people playing golf on a golf course with a cart in the background\\nseveral people playing golf on a sunny day in the park\\nseveral people are playing golf on a green field with trees in the background\\nseveral people are playing golf in a grassy field with trees\\nseveral people are playing golf on a green field with trees\\nthere are two people playing a game of golf in the grass\\nthey are playing frisbee in the park on a sunny day\\nthere are two people playing frisbee in the park together\\nthere are two boys playing golf on a green field\\nthere are two people playing golf in the grass on a sunny day\\nthere are two people playing a game of frisbee in the park\\nthere are two boys playing golf in the grass with a frisbee\\nthere are two people playing a game of golf in the park\\nthere are two men playing golf on a green field\\nthere are two people playing frisbee in the grass\\nthey are playing golf on the green grass in the park\\nthere are two people playing frisbee in the park on a sunny day\\nthere are two people playing golf in the grass together\\nseveral people are playing a game of frisbee in a park\\nthere are three people playing golf on a green field\\nthere are two people playing golf in the grass with a dog\\nseveral people are playing a game of golf in a grassy field\\nseveral people playing a game of golf on a sunny day\\nseveral people are playing a game of golf on a sunny day\\nseveral people are playing a game of golf on a green field\\nseveral people playing frisbee in a park with golf carts\\nseveral people are playing golf in a grassy field with a golf cart\\nseveral people playing golf on a green field with a cart\\nthere are two people playing frisbee in the park with a golf cart\\nthere are two people playing a game of golf on the green\\nthere are two people playing golf in the grass with a golf cart\\n', metadata={'source': '/Users/bpakra200/tubegpt/tubegpt/src/notebook/list-bliplarge.txt'}),\n",
       "  0.5877415537834167)]"
      ]
     },
     "execution_count": 57,
     "metadata": {},
     "output_type": "execute_result"
    }
   ],
   "source": [
    "PERSIST_DIRECTORY_OPENAI = \"../tubegptdb\"\n",
    " \n",
    "tubegptdb = Chroma.from_documents(\n",
    "    documents=docs, embedding= embeddings, persist_directory=PERSIST_DIRECTORY_OPENAI\n",
    ")\n",
    "tubegptdb.similarity_search_with_score(\"What was the yoga move?\", k=2)"
   ]
  },
  {
   "attachments": {},
   "cell_type": "markdown",
   "metadata": {},
   "source": [
    "# Loading Embeddings\n",
    "Loading the embeddings is just as easy, you just need to provide the persist_directory and embedding_function parameters:"
   ]
  },
  {
   "cell_type": "code",
   "execution_count": 58,
   "metadata": {},
   "outputs": [],
   "source": [
    "tubegptdb.persist()"
   ]
  },
  {
   "attachments": {},
   "cell_type": "markdown",
   "metadata": {},
   "source": [
    "# save openai embedding"
   ]
  },
  {
   "cell_type": "code",
   "execution_count": 59,
   "metadata": {},
   "outputs": [
    {
     "name": "stderr",
     "output_type": "stream",
     "text": [
      "Number of requested results 2 is greater than number of elements in index 1, updating n_results = 1\n"
     ]
    },
    {
     "data": {
      "text/plain": [
       "[(Document(page_content='there is a stuffed santa claus doll on a wreath on the back of a truck\\nthere is a stuffed santa claus doll on a wreath on the back of a car\\nthere is a stuffed santa claus on a wreath on the back of a car\\nthere is a stuffed santa claus sitting on a wreath on the back of a car\\nthere is a stuffed santa claus sitting on a wreath on the back of a golf cart\\nthere is a stuffed santa claus on a wreath on the back of a golf cart\\nthere is a stuffed santa claus sitting on a wreath on the back of a truck\\nthere is a stuffed animal that is sitting on a wreath\\nthere is a wreath with a santa clause on it on the back of a car\\nthere is a stuffed animal in a wreath on the back of a car\\nthere is a stuffed santa claus on a wreath on the back of a truck\\nthere is a stuffed animal in a wreath on the back of a truck\\nthere is a stuffed santa claus sitting on a christmas wreath\\nthere is a stuffed santa claus doll sitting on a christmas wreath\\nthere is a stuffed animal that is sitting in a wreath\\nthere is a stuffed animal that is sitting on a blanket\\nthere is a stuffed santa claus sitting on a green wreath\\nthere is a stuffed santa claus sitting on a green blanket\\nthere is a stuffed animal that is sitting in the back of a truck\\nthere is a stuffed santa claus sitting on a christmas tree\\nthere is a stuffed animal that is sitting in the trunk of a car\\nthere is a stuffed animal in a car with a wreath\\nthere is a stuffed animal in a christmas wreath on the back of a truck\\nthere is a stuffed animal in the back of a car with a wreath\\nthere is a stuffed animal in a christmas wreath in the back of a car\\nthere is a stuffed santa claus sitting in a green car\\nthere is a stuffed santa claus sitting in a green truck\\nthere is a stuffed santa claus sitting in a wreath on the back of a car\\nthere is a stuffed santa claus sitting in the back of a car\\nthere is a stuffed santa claus sitting in the back of a truck\\nthere is a stuffed animal that is sitting on a car\\nthere is a stuffed monkey sitting on a christmas wreath on the back of a car\\nthere is a stuffed animal that is sitting on a golf cart\\nthere is a wreath with a santa clause on it on a golf cart\\nthere is a christmas wreath on the back of a car\\nthere is a stuffed snowman sitting on a green car with a wreath\\nthere is a santa clause sitting on a wreath on the back of a car\\nthere is a stuffed animal sitting on a christmas wreath on a golf cart\\nthere is a stuffed toy sitting on a golf cart with a wreath\\nthere is a stuffed santa claus on a golf cart with a wreath\\nthere is a stuffed snowman sitting on a green golf cart\\nthere is a stuffed snowman sitting on a christmas wreath\\nthere is a stuffed animal that is sitting on a christmas wreath\\nthere is a stuffed santa claus on a christmas wreath on a golf cart\\nthere is a stuffed santa claus on a christmas wreath on the back of a truck\\nthere is a christmas wreath with a santa clause on it\\nthere is a stuffed santa claus sitting on a golf cart\\nthere is a stuffed animal sitting on a wreath on the back of a golf cart\\nthere is a stuffed santa claus on a wreath on a green truck\\nthere is a stuffed animal that is on a wreath on the back of a car\\nthere is a stuffed animal that is laying on a wreath\\nthere is a stuffed animal in a wreath on a golf cart\\nthere is a stuffed animal in a wreath on the back of a golf cart\\nthere is a stuffed santa claus sitting in a wreath on the back of a truck\\nthere is a santa clause on a wreath on the back of a car\\nthere is a santa clause hanging on a wreath on the back of a car\\nthere is a stuffed santa claus on a wreath on a golf cart\\nthere is a stuffed santa claus sitting on a wreath on a golf cart\\nthere is a stuffed santa claus sitting in a wreath on the back of a golf cart\\nthere is a stuffed animal on a wreath on the back of a golf cart\\nthere is a stuffed animal on a golf cart with a wreath\\nthere is a wreath with a santa clause on it on the back of a golf cart\\nthere is a stuffed bear that is sitting on a wreath\\nthere is a stuffed animal on a wreath on the back of a truck\\nthere is a teddy bear sitting on a wreath on the back of a golf cart\\nthere is a stuffed bear in a wreath on the back of a golf cart\\nthere is a wreath on the back of a golf cart\\nthere is a christmas wreath on the back of a golf cart\\nthere is a teddy bear and a wreath on the back of a golf cart\\nthere is a dog standing next to a golf cart with a wreath on it\\nthere is a teddy bear sitting on a golf cart with a wreath\\nthere is a teddy bear sitting on a christmas wreath on a golf cart\\nthere is a small wreath on the back of a golf cart\\nthere is a dog that is standing next to a golf cart\\nthere is a golf cart with a wreath on it and a golf ball\\nthere is a golf cart with a christmas wreath on it\\nthere is a cat sitting on a golf cart with a wreath on it\\nthere is a dog that is sitting in a golf cart\\nthere is a black cat sitting on a golf cart with a wreath on it\\nthere is a dog sitting in a golf cart with a wreath on it\\nthere is a stuffed animal in a golf cart with a wreath on it\\nthere is a stuffed animal in a golf cart with a christmas wreath\\nthere is a stuffed animal in a golf cart with a santa clause on it\\nthere is a small stuffed animal sitting on a golf cart\\nthere is a dog that is standing in a golf cart\\nthere is a black dog sitting in a golf cart with a stuffed animal\\nthere is a dog sitting in a golf cart with a stuffed animal on it\\nthere is a green golf cart with a santa clause on it\\nthere is a dog sitting in a golf cart with a christmas decoration on it\\nthere is a black dog that is standing in a golf cart\\nthere is a cat that is standing on a golf cart\\nthere is a cat sitting on a golf cart with a christmas decoration on it\\nthere is a golf cart with a christmas decoration on it\\nthere is a green golf cart with a red and white decoration on it\\nthere is a cat that is standing next to a golf cart\\nthere is a cat sitting on a golf cart with a santa hat on\\nthere is a black cat standing next to a green golf cart\\nthere is a black cat standing next to a golf cart\\nthere is a cat sitting on a golf cart with a bag on it\\nthere is a cat sitting in a golf cart with a bag on it\\nthere is a black cat sitting in a golf cart with a santa hat on\\nthere is a dog sitting in a golf cart with a hat on\\nthere is a dog sitting in a golf cart with a santa hat on\\nthere is a golf cart with a santa clause on the back\\nthere is a green golf cart with a stuffed animal on it\\nthere is a golf cart with a stuffed animal on the back\\nthere is a green golf cart with a santa hat on it\\nthere is a golf cart with a santa clause on it\\nthere is a golf cart with santa claus on it parked in the driveway\\nthere is a green golf cart with a red rose on the back\\nthere is a green golf cart with a red and white flag on it\\nthere is a green golf cart with a red and white flower on it\\nthere is a green golf cart with a red and white hat on it\\nthere is a golf cart with a christmas decoration on the back\\nthere is a green golf cart with a santa clause on the back\\nthere is a green golf cart with a christmas decoration on it\\nthere is a green golf cart with a red and white bow on it\\nthere is a green golf cart with a red and white bag on it\\nthere is a green golf cart with a red hat on it\\nthere is a green golf cart with santa hats on it\\nthere is a green golf cart with a white seat and a red bow on the back\\nthere is a green golf cart with a dog on it\\nthere is a green golf cart with a white seat and a red hat\\nthere is a small green golf cart with a santa clause on top\\nthere is a golf cart with a golf ball on the back\\nthere is a golf cart with a person on it parked in the grass\\nthere is a man riding a golf cart with a surfboard on top\\nthere is a small green golf cart with a white seat\\nthere is a golf cart with a surfboard on top of it\\nthere are many people riding golf carts on the grass\\nthere are people playing golf on a golf course with carts\\nthere are many people on golf carts on the grass\\nthere is a golf cart that is parked on the grass\\nthere is a golf cart parked on the side of the road\\nthere is a man riding a golf cart on the grass\\nthere is a man that is standing on a golf cart\\nthere is a man that is playing golf in the grass\\nthere is a man that is playing golf on the grass\\nthere is a man that is standing in the grass with a golf club\\nthere are people playing golf on a green field with a cart\\nthere are people playing golf in the park on a sunny day\\nthere are people playing a game of golf in the park\\nthere are people playing frisbee in the park on a sunny day\\nseveral people playing a game of frisbee in a park\\nseveral people playing a game of golf in a park\\nseveral people playing frisbee in a park with a golf cart\\nthere are people playing a game of frisbee in the park\\nthere are people playing frisbee in a grassy field\\nthere are people playing frisbee in a park with golf carts\\nthere are two people playing frisbee in the park on the grass\\nseveral people playing golf in a park with carts and golf carts\\nseveral people playing golf in a grassy area with carts\\nseveral people playing a game of golf in a park with carts\\nseveral people are playing golf in a grassy field with carts\\nseveral people are playing a game of golf in a park\\nseveral people playing a game of golf in a grassy field\\nseveral people are playing frisbee in a grassy field\\nseveral people playing a game of frisbee in a grassy field\\nseveral people playing frisbee in a grassy field with a golf cart\\nseveral people playing frisbee in a grassy field with golf carts\\nthere are people playing frisbee in a park with many carts\\nthere are two people playing frisbee in the grass on the golf course\\nthere are two people playing frisbee in the grass on the field\\nthere are two people playing a game of golf on the grass\\nthere are two people playing golf on a green field\\nseveral people playing golf in a grassy field with a golf cart\\nseveral people playing golf in a park with a golf cart\\nseveral people playing golf on a green field with a golf cart\\nseveral people playing golf on a green field with trees in the background\\nseveral people playing golf on a green field with carts\\nseveral people are playing golf on a green field with a golf cart\\nseveral people playing golf on a golf course with a cart in the background\\nseveral people playing golf on a sunny day in the park\\nseveral people are playing golf on a green field with trees in the background\\nseveral people are playing golf in a grassy field with trees\\nseveral people are playing golf on a green field with trees\\nthere are two people playing a game of golf in the grass\\nthey are playing frisbee in the park on a sunny day\\nthere are two people playing frisbee in the park together\\nthere are two boys playing golf on a green field\\nthere are two people playing golf in the grass on a sunny day\\nthere are two people playing a game of frisbee in the park\\nthere are two boys playing golf in the grass with a frisbee\\nthere are two people playing a game of golf in the park\\nthere are two men playing golf on a green field\\nthere are two people playing frisbee in the grass\\nthey are playing golf on the green grass in the park\\nthere are two people playing frisbee in the park on a sunny day\\nthere are two people playing golf in the grass together\\nseveral people are playing a game of frisbee in a park\\nthere are three people playing golf on a green field\\nthere are two people playing golf in the grass with a dog\\nseveral people are playing a game of golf in a grassy field\\nseveral people playing a game of golf on a sunny day\\nseveral people are playing a game of golf on a sunny day\\nseveral people are playing a game of golf on a green field\\nseveral people playing frisbee in a park with golf carts\\nseveral people are playing golf in a grassy field with a golf cart\\nseveral people playing golf on a green field with a cart\\nthere are two people playing frisbee in the park with a golf cart\\nthere are two people playing a game of golf on the green\\nthere are two people playing golf in the grass with a golf cart\\n', metadata={'source': '/Users/bpakra200/tubegpt/tubegpt/src/notebook/list-bliplarge.txt'}),\n",
       "  0.5294934511184692)]"
      ]
     },
     "execution_count": 59,
     "metadata": {},
     "output_type": "execute_result"
    }
   ],
   "source": [
    "PERSIST_DIRECTORY_OPENAI = \"../tubegptdb\"\n",
    "embeddings = OpenAIEmbeddings()\n",
    "tubegptdb = Chroma(persist_directory=PERSIST_DIRECTORY_OPENAI, embedding_function=embeddings)\n",
    "tubegptdb.similarity_search_with_score(\"it is yoga\", k=2)"
   ]
  },
  {
   "attachments": {},
   "cell_type": "markdown",
   "metadata": {},
   "source": [
    "##  Prompt Engineering Template"
   ]
  },
  {
   "cell_type": "code",
   "execution_count": 60,
   "metadata": {},
   "outputs": [
    {
     "name": "stdout",
     "output_type": "stream",
     "text": [
      "You're a Professor who helps students on Youtube contents .\n",
      " \n",
      "A youtube user asking about contents \n",
      " \n",
      "Answer with Accurate data   to the question and the way Professor speaks and only depends on provided Data. \n",
      " \n",
      "Question: Why do we need to zero out the gradient before backprop at each step?\n",
      "Answer:\n"
     ]
    }
   ],
   "source": [
    "template = \"\"\"You're a Professor who helps students on Youtube contents .\n",
    " \n",
    "{context}\n",
    " \n",
    "Answer with Accurate data   to the question and the way Professor speaks and only depends on provided Data. \n",
    " \n",
    "Question: {question}\n",
    "Answer:\"\"\"\n",
    " \n",
    "prompt = PromptTemplate(template=template, input_variables=[\"context\", \"question\"])\n",
    "print(\n",
    "    prompt.format(\n",
    "        context=\"A youtube user asking about contents \",\n",
    "        question=\"Why do we need to zero out the gradient before backprop at each step?\",\n",
    "    )\n",
    ")"
   ]
  },
  {
   "attachments": {},
   "cell_type": "markdown",
   "metadata": {},
   "source": [
    "## implement Retriver and Reader with Vector database"
   ]
  },
  {
   "cell_type": "code",
   "execution_count": 61,
   "metadata": {},
   "outputs": [],
   "source": [
    "chain_type_kwargs = {\"prompt\": prompt}\n",
    "chain = RetrievalQA.from_chain_type(\n",
    "    llm=ChatOpenAI(temperature=0),\n",
    "    chain_type=\"stuff\",\n",
    "    retriever=tubegptdb.as_retriever(search_kwargs={\"k\": 1}),\n",
    "    chain_type_kwargs=chain_type_kwargs,\n",
    ")"
   ]
  },
  {
   "cell_type": "code",
   "execution_count": 62,
   "metadata": {},
   "outputs": [
    {
     "name": "stdout",
     "output_type": "stream",
     "text": [
      "After heading down like a cat, the move was to continue playing frisbee in the grass on the golf\n",
      "course.\n"
     ]
    }
   ],
   "source": [
    "query = \"What was the move after heading down like a Cat\"\n",
    "response = chain.run(query)\n",
    "print_response(response)"
   ]
  },
  {
   "cell_type": "code",
   "execution_count": 63,
   "metadata": {},
   "outputs": [
    {
     "name": "stdout",
     "output_type": "stream",
     "text": [
      "When you should focus on your core depends on your specific goals and needs. If you are looking to\n",
      "improve your overall strength and stability, it is important to incorporate core exercises into your\n",
      "regular workout routine. This can include exercises such as planks, Russian twists, and bicycle\n",
      "crunches. Additionally, if you participate in activities that require a strong core, such as sports\n",
      "or weightlifting, it is important to prioritize core training to enhance your performance and reduce\n",
      "the risk of injury. It is recommended to consult with a fitness professional or personal trainer to\n",
      "develop a personalized plan that suits your individual needs and goals.\n"
     ]
    }
   ],
   "source": [
    "query = \"When I should focus on my core\"\n",
    "response = chain.run(query)\n",
    "print_response(response)"
   ]
  },
  {
   "cell_type": "code",
   "execution_count": 64,
   "metadata": {},
   "outputs": [
    {
     "name": "stdout",
     "output_type": "stream",
     "text": [
      "When you should focus on your core depends on your specific goals and needs. If you are looking to\n",
      "improve your overall strength and stability, it is important to incorporate core exercises into your\n",
      "regular workout routine. This can include exercises such as planks, Russian twists, and bicycle\n",
      "crunches. Additionally, if you participate in activities that require a strong core, such as sports\n",
      "or weightlifting, it is important to prioritize core training to enhance your performance and reduce\n",
      "the risk of injury. It is recommended to consult with a fitness professional or personal trainer to\n",
      "develop a personalized plan that suits your individual needs and goals.\n"
     ]
    }
   ],
   "source": [
    "query = \"When I should focus on my core\"\n",
    "response = chain.run(query)\n",
    "print_response(response)"
   ]
  },
  {
   "cell_type": "code",
   "execution_count": 65,
   "metadata": {},
   "outputs": [],
   "source": [
    "import torch\n",
    "import torchvision.transforms as transforms\n",
    "import cv2\n",
    "from PIL import Image\n",
    "import pafy\n",
    "from transformers import BlipProcessor, BlipForConditionalGeneration\n",
    "import youtube_dl"
   ]
  },
  {
   "attachments": {},
   "cell_type": "markdown",
   "metadata": {},
   "source": [
    "## Computer Vision Model with BLIP2 "
   ]
  },
  {
   "cell_type": "code",
   "execution_count": 66,
   "metadata": {},
   "outputs": [],
   "source": [
    "import torch\n",
    "import torchvision.transforms as transforms\n",
    "import cv2\n",
    "from PIL import Image\n",
    "import pafy\n",
    "from transformers import BlipProcessor, BlipForConditionalGeneration,AutoProcessor\n",
    "import youtube_dl"
   ]
  },
  {
   "cell_type": "code",
   "execution_count": 67,
   "metadata": {},
   "outputs": [],
   "source": [
    "import inspect\n",
    "\n",
    "if not hasattr(inspect, 'getargspec'):\n",
    "    inspect.getargspec = inspect.getfullargspec"
   ]
  },
  {
   "cell_type": "code",
   "execution_count": 68,
   "metadata": {},
   "outputs": [
    {
     "name": "stdout",
     "output_type": "stream",
     "text": [
      "[youtube] 6n9ESFJTnHs: Downloading webpage\n",
      "[download] video.mp4 has already been downloaded\n",
      "[download] 100% of 26.85MiB\n"
     ]
    }
   ],
   "source": [
    "video_url = 'https://www.youtube.com/watch?v=6n9ESFJTnHs'\n",
    "\n",
    "#video_url = 'https://www.youtube.com/watch?v=orbkg5JH9C8'\n",
    "\n",
    "# Download the video using youtube_dl and extract the frames using OpenCV\n",
    "ydl_opts = {\n",
    "    'format': 'best',\n",
    "    'outtmpl': 'video.mp4'\n",
    "}\n",
    "with youtube_dl.YoutubeDL(ydl_opts) as ydl:\n",
    "    ydl.download([video_url])"
   ]
  },
  {
   "attachments": {},
   "cell_type": "markdown",
   "metadata": {},
   "source": [
    "## find Framerate of the video"
   ]
  },
  {
   "cell_type": "code",
   "execution_count": 69,
   "metadata": {},
   "outputs": [
    {
     "name": "stdout",
     "output_type": "stream",
     "text": [
      "The frame rate is 29.97002997002997 frames per second\n"
     ]
    }
   ],
   "source": [
    "\n",
    "# Create a VideoCapture object\n",
    "cap = cv2.VideoCapture(\"demo1.mp4\")\n",
    "\n",
    "# Get the frame rate property\n",
    "frame_rate = cap.get(cv2.CAP_PROP_FPS)\n",
    "\n",
    "# Print the frame rate\n",
    "print(\"The frame rate is {} frames per second\".format(frame_rate))\n",
    "\n",
    "# Release the VideoCapture object\n",
    "cap.release() "
   ]
  },
  {
   "attachments": {},
   "cell_type": "markdown",
   "metadata": {},
   "source": [
    "## set lower framerate "
   ]
  },
  {
   "cell_type": "code",
   "execution_count": 70,
   "metadata": {},
   "outputs": [],
   "source": [
    "# Create a VideoCapture object\n",
    "cap = cv2.VideoCapture(\"demo1.mp4\")\n",
    "\n",
    "# Set the desired frame rate to 20\n",
    "cap.set(cv2.CAP_PROP_FPS, 10)\n",
    "cap.release() "
   ]
  },
  {
   "cell_type": "code",
   "execution_count": 71,
   "metadata": {},
   "outputs": [],
   "source": [
    "# Create a VideoCapture object\n",
    "cap = cv2.VideoCapture(\"video.mp4\")\n",
    "\n",
    "# Set the desired frame rate to 20\n",
    "cap.set(cv2.CAP_PROP_FPS, 1)\n",
    "cap.release() "
   ]
  },
  {
   "attachments": {},
   "cell_type": "markdown",
   "metadata": {},
   "source": [
    "## set model Different Models for testing"
   ]
  },
  {
   "cell_type": "code",
   "execution_count": 95,
   "metadata": {},
   "outputs": [],
   "source": [
    "#model_id = \"Salesforce/blip-image-captioning-large\"\n",
    "\n",
    "\n",
    "model_id = \"Salesforce/blip-image-captioning-large\"\n",
    "\n",
    "#model_id = \"Salesforce/blip2-opt-2.7b\"\n",
    "\n",
    "# Set up the Hugging Face model \n",
    "model = BlipForConditionalGeneration.from_pretrained(model_id)\n",
    "processor = AutoProcessor.from_pretrained(model_id)"
   ]
  },
  {
   "attachments": {},
   "cell_type": "markdown",
   "metadata": {},
   "source": [
    "## Generate text from Image"
   ]
  },
  {
   "cell_type": "code",
   "execution_count": 97,
   "metadata": {},
   "outputs": [],
   "source": [
    "import torch\n",
    "\n",
    "def generate_text(image, prompt, model, processor, device):\n",
    "    inputs = processor(image, text=prompt, return_tensors=\"pt\")\n",
    "    out = model.generate(**inputs)\n",
    "    generated_text = processor.decode(out[0], skip_special_tokens=True)\n",
    "    return generated_text"
   ]
  },
  {
   "attachments": {},
   "cell_type": "markdown",
   "metadata": {},
   "source": [
    "## Create Captions from image by base models"
   ]
  },
  {
   "cell_type": "code",
   "execution_count": 73,
   "metadata": {},
   "outputs": [],
   "source": [
    "def caption_youtube(path):\n",
    "\n",
    "                # Open the video file\n",
    "            cap = cv2.VideoCapture(path)\n",
    "            cap.set(cv2.CAP_PROP_FPS, 10)\n",
    "            # Loop through the frames of the video\n",
    "            combined_docs = []\n",
    "  \n",
    "            while cap.isOpened():\n",
    "                        # Read the next frame\n",
    "                        ret, frame = cap.read()\n",
    "                    \n",
    "                        # If we've reached the end of the video, break out of the loop\n",
    "                        if not ret:\n",
    "                            break\n",
    "                    \n",
    "                        # Convert the frame to a PIL image and apply the image transformation pipeline\n",
    "                        image = Image.fromarray(cv2.cvtColor(frame, cv2.COLOR_BGR2RGB))\n",
    "                        # image = image_transforms(image)\n",
    "                    \n",
    "                        # # Add batch dimension to the image tensor\n",
    "                        # image = image.unsqueeze(0)\n",
    "                        inputs = processor(image, return_tensors=\"pt\")\n",
    "                        out = model.generate(**inputs)\n",
    "                        caption = processor.decode(out[0], skip_special_tokens=True)\n",
    "                        # Print the caption for the frame\n",
    "\n",
    "                        print(caption)\n",
    "                        if caption not in combined_docs:\n",
    "                             combined_docs.append(caption)\n",
    "                      \n",
    "                    # Release the video file\n",
    "                    \n",
    "            cap.release()\n",
    "            return combined_docs"
   ]
  },
  {
   "cell_type": "markdown",
   "metadata": {},
   "source": [
    "## device "
   ]
  },
  {
   "cell_type": "code",
   "execution_count": null,
   "metadata": {},
   "outputs": [],
   "source": [
    "device = \"cuda\" if torch.cuda.is_available() else \"cpu\"\n",
    "model.to(device)"
   ]
  },
  {
   "attachments": {},
   "cell_type": "markdown",
   "metadata": {},
   "source": [
    "## Create Caption with Advance Model like Blip2"
   ]
  },
  {
   "cell_type": "code",
   "execution_count": 98,
   "metadata": {},
   "outputs": [],
   "source": [
    "def caption_youtube_blip2(path):\n",
    "\n",
    "                # Open the video file\n",
    "            cap = cv2.VideoCapture(path)\n",
    "            cap.set(cv2.CAP_PROP_FPS, 10)\n",
    "            # Loop through the frames of the video\n",
    "            combined_docs = []\n",
    "            prompt = \" Notice All Human Activity carefully and Notice All numbers and words in images\"\n",
    "            while cap.isOpened():\n",
    "                        # Read the next frame\n",
    "                        ret, frame = cap.read()\n",
    "                    \n",
    "                        # If we've reached the end of the video, break out of the loop\n",
    "                        if not ret:\n",
    "                            break\n",
    "                    \n",
    "                        # Convert the frame to a PIL image and apply the image transformation pipeline\n",
    "                        image = Image.fromarray(cv2.cvtColor(frame, cv2.COLOR_BGR2RGB))\n",
    "                        # image = image_transforms(image)\n",
    "                        caption = generate_text(image, prompt, model, processor, device)\n",
    "                        print(caption)\n",
    "                        if caption not in combined_docs:\n",
    "                             combined_docs.append(caption)\n",
    "                      \n",
    "                    # Release the video file\n",
    "                    \n",
    "            cap.release()\n",
    "            return combined_docs"
   ]
  },
  {
   "cell_type": "code",
   "execution_count": null,
   "metadata": {},
   "outputs": [],
   "source": [
    "\n",
    "\n",
    "\n"
   ]
  },
  {
   "cell_type": "code",
   "execution_count": 100,
   "metadata": {},
   "outputs": [
    {
     "name": "stdout",
     "output_type": "stream",
     "text": [
      "there is a stuffed santa claus doll on a wreath on the back of a truck\n",
      "there is a stuffed santa claus doll on a wreath on the back of a car\n",
      "there is a stuffed santa claus on a wreath on the back of a car\n",
      "there is a stuffed santa claus sitting on a wreath on the back of a car\n",
      "there is a stuffed santa claus sitting on a wreath on the back of a golf cart\n",
      "there is a stuffed santa claus on a wreath on the back of a golf cart\n",
      "there is a stuffed santa claus sitting on a wreath on the back of a truck\n",
      "there is a stuffed santa claus on a wreath on the back of a car\n",
      "there is a stuffed santa claus sitting on a wreath on the back of a truck\n",
      "there is a stuffed santa claus sitting on a wreath on the back of a truck\n",
      "there is a stuffed santa claus on a wreath on the back of a car\n",
      "there is a stuffed animal that is sitting on a wreath\n",
      "there is a wreath with a santa clause on it on the back of a car\n",
      "there is a stuffed animal in a wreath on the back of a car\n",
      "there is a stuffed santa claus on a wreath on the back of a car\n",
      "there is a stuffed santa claus sitting on a wreath on the back of a car\n",
      "there is a stuffed santa claus sitting on a wreath on the back of a car\n",
      "there is a stuffed santa claus on a wreath on the back of a truck\n",
      "there is a stuffed santa claus on a wreath on the back of a truck\n",
      "there is a stuffed santa claus on a wreath on the back of a truck\n",
      "there is a stuffed santa claus on a wreath on the back of a truck\n",
      "there is a stuffed santa claus on a wreath on the back of a truck\n",
      "there is a stuffed santa claus on a wreath on the back of a car\n",
      "there is a stuffed santa claus on a wreath on the back of a car\n",
      "there is a stuffed animal that is sitting on a wreath\n",
      "there is a stuffed animal in a wreath on the back of a car\n",
      "there is a stuffed animal that is sitting on a wreath\n",
      "there is a stuffed animal that is sitting on a wreath\n",
      "there is a stuffed animal in a wreath on the back of a car\n",
      "there is a stuffed animal in a wreath on the back of a truck\n",
      "there is a stuffed santa claus on a wreath on the back of a truck\n",
      "there is a stuffed santa claus on a wreath on the back of a truck\n",
      "there is a stuffed santa claus on a wreath on the back of a truck\n",
      "there is a stuffed santa claus sitting on a wreath on the back of a truck\n",
      "there is a stuffed santa claus sitting on a christmas wreath\n",
      "there is a stuffed santa claus doll sitting on a christmas wreath\n",
      "there is a stuffed animal that is sitting in a wreath\n",
      "there is a stuffed animal that is sitting on a wreath\n",
      "there is a stuffed animal that is sitting on a blanket\n",
      "there is a stuffed animal that is sitting on a wreath\n",
      "there is a stuffed santa claus sitting on a green wreath\n",
      "there is a stuffed santa claus sitting on a green blanket\n",
      "there is a stuffed animal that is sitting in the back of a truck\n",
      "there is a stuffed santa claus sitting on a christmas tree\n",
      "there is a stuffed animal that is sitting in the trunk of a car\n",
      "there is a stuffed animal in a car with a wreath\n",
      "there is a stuffed animal in a christmas wreath on the back of a truck\n",
      "there is a stuffed animal in the back of a car with a wreath\n",
      "there is a stuffed animal in a christmas wreath in the back of a car\n",
      "there is a stuffed santa claus sitting in a green car\n",
      "there is a stuffed santa claus sitting in a green truck\n",
      "there is a stuffed animal in a wreath on the back of a car\n",
      "there is a stuffed santa claus sitting in a wreath on the back of a car\n",
      "there is a stuffed santa claus sitting in a wreath on the back of a car\n",
      "there is a stuffed santa claus sitting in a wreath on the back of a car\n",
      "there is a stuffed santa claus sitting in the back of a car\n",
      "there is a stuffed animal in a wreath on the back of a car\n",
      "there is a stuffed santa claus sitting in the back of a truck\n",
      "there is a stuffed animal in a wreath on the back of a car\n",
      "there is a stuffed santa claus sitting in the back of a truck\n",
      "there is a stuffed animal in a wreath on the back of a car\n",
      "there is a stuffed santa claus sitting in a wreath on the back of a car\n",
      "there is a stuffed animal in a wreath on the back of a truck\n",
      "there is a stuffed animal that is sitting on a car\n",
      "there is a stuffed monkey sitting on a christmas wreath on the back of a car\n",
      "there is a stuffed animal that is sitting on a golf cart\n",
      "there is a wreath with a santa clause on it on a golf cart\n",
      "there is a stuffed animal that is sitting on a car\n",
      "there is a stuffed animal that is sitting on a car\n",
      "there is a stuffed santa claus sitting on a wreath on the back of a car\n",
      "there is a stuffed animal that is sitting on a car\n",
      "there is a stuffed santa claus sitting on a wreath on the back of a car\n",
      "there is a stuffed animal that is sitting on a car\n",
      "there is a christmas wreath on the back of a car\n",
      "there is a stuffed snowman sitting on a green car with a wreath\n",
      "there is a santa clause sitting on a wreath on the back of a car\n",
      "there is a stuffed santa claus on a wreath on the back of a car\n",
      "there is a stuffed animal that is sitting on a wreath\n",
      "there is a stuffed santa claus on a wreath on the back of a car\n",
      "there is a stuffed animal in a wreath on the back of a car\n",
      "there is a stuffed santa claus sitting on a wreath on the back of a car\n",
      "there is a stuffed animal sitting on a christmas wreath on a golf cart\n",
      "there is a stuffed toy sitting on a golf cart with a wreath\n",
      "there is a stuffed santa claus on a golf cart with a wreath\n",
      "there is a stuffed santa claus on a golf cart with a wreath\n",
      "there is a stuffed snowman sitting on a green golf cart\n",
      "there is a stuffed snowman sitting on a christmas wreath\n",
      "there is a stuffed animal that is sitting on a christmas wreath\n",
      "there is a stuffed santa claus on a christmas wreath on a golf cart\n",
      "there is a stuffed santa claus on a christmas wreath on a golf cart\n",
      "there is a stuffed animal that is sitting on a wreath\n",
      "there is a stuffed santa claus sitting on a wreath on the back of a car\n",
      "there is a stuffed santa claus sitting on a wreath on the back of a truck\n",
      "there is a stuffed santa claus on a wreath on the back of a truck\n",
      "there is a stuffed santa claus on a wreath on the back of a truck\n",
      "there is a stuffed santa claus on a wreath on the back of a truck\n",
      "there is a stuffed santa claus on a christmas wreath on the back of a truck\n",
      "there is a christmas wreath with a santa clause on it\n",
      "there is a stuffed santa claus sitting on a golf cart\n",
      "there is a stuffed santa claus sitting on a christmas wreath\n",
      "there is a stuffed santa claus on a christmas wreath on a golf cart\n",
      "there is a stuffed santa claus on a wreath on the back of a golf cart\n",
      "there is a stuffed santa claus on a wreath on the back of a truck\n",
      "there is a stuffed animal sitting on a wreath on the back of a golf cart\n",
      "there is a stuffed animal that is sitting on a wreath\n",
      "there is a stuffed animal that is sitting on a wreath\n",
      "there is a stuffed santa claus on a golf cart with a wreath\n",
      "there is a stuffed santa claus on a wreath on the back of a car\n",
      "there is a stuffed santa claus sitting on a wreath on the back of a golf cart\n",
      "there is a stuffed santa claus sitting on a wreath on the back of a golf cart\n",
      "there is a stuffed santa claus on a wreath on the back of a truck\n",
      "there is a stuffed santa claus on a wreath on a green truck\n",
      "there is a stuffed santa claus on a wreath on the back of a truck\n",
      "there is a stuffed santa claus on a wreath on the back of a truck\n",
      "there is a stuffed animal that is sitting on a wreath\n",
      "there is a stuffed santa claus on a wreath on the back of a car\n",
      "there is a stuffed santa claus on a wreath on the back of a car\n",
      "there is a stuffed santa claus on a wreath on the back of a car\n",
      "there is a stuffed santa claus on a wreath on the back of a car\n",
      "there is a stuffed santa claus on a wreath on the back of a car\n",
      "there is a stuffed santa claus on a wreath on the back of a car\n",
      "there is a stuffed santa claus on a wreath on the back of a car\n",
      "there is a stuffed santa claus on a wreath on the back of a golf cart\n",
      "there is a stuffed animal in a wreath on the back of a car\n",
      "there is a stuffed animal in a wreath on the back of a car\n",
      "there is a stuffed animal in a wreath on the back of a car\n",
      "there is a stuffed animal in a wreath on the back of a car\n",
      "there is a stuffed animal in a wreath on the back of a car\n",
      "there is a stuffed animal in a wreath on the back of a car\n",
      "there is a stuffed animal in a wreath on the back of a car\n",
      "there is a stuffed animal in a wreath on the back of a car\n",
      "there is a stuffed santa claus on a wreath on the back of a car\n",
      "there is a stuffed santa claus sitting on a wreath on the back of a car\n",
      "there is a stuffed santa claus sitting on a wreath on the back of a car\n",
      "there is a stuffed santa claus sitting on a wreath on the back of a car\n",
      "there is a stuffed santa claus sitting on a wreath on the back of a car\n",
      "there is a stuffed santa claus sitting on a wreath on the back of a car\n",
      "there is a stuffed santa claus sitting on a wreath on the back of a car\n",
      "there is a stuffed santa claus sitting on a wreath on the back of a car\n",
      "there is a stuffed santa claus sitting on a wreath on the back of a car\n",
      "there is a stuffed santa claus sitting on a wreath on the back of a car\n",
      "there is a stuffed santa claus sitting on a wreath on the back of a car\n",
      "there is a stuffed santa claus on a wreath on the back of a car\n",
      "there is a stuffed santa claus on a wreath on the back of a car\n",
      "there is a stuffed santa claus on a wreath on the back of a car\n",
      "there is a stuffed santa claus on a wreath on the back of a car\n",
      "there is a stuffed santa claus on a wreath on the back of a car\n",
      "there is a stuffed santa claus sitting on a wreath on the back of a car\n",
      "there is a stuffed santa claus on a wreath on the back of a car\n",
      "there is a stuffed santa claus on a wreath on the back of a car\n",
      "there is a stuffed santa claus on a wreath on the back of a car\n",
      "there is a stuffed santa claus on a wreath on the back of a car\n",
      "there is a stuffed santa claus on a wreath on the back of a car\n",
      "there is a stuffed santa claus on a wreath on the back of a car\n",
      "there is a stuffed animal that is sitting on a wreath\n",
      "there is a stuffed santa claus on a wreath on the back of a car\n",
      "there is a stuffed animal that is on a wreath on the back of a car\n",
      "there is a stuffed animal that is sitting on a wreath\n",
      "there is a stuffed animal that is sitting on a wreath\n",
      "there is a stuffed animal in a wreath on the back of a car\n",
      "there is a stuffed animal in a wreath on the back of a car\n",
      "there is a stuffed animal that is sitting on a wreath\n",
      "there is a stuffed santa claus on a wreath on the back of a car\n",
      "there is a stuffed santa claus on a wreath on the back of a golf cart\n",
      "there is a stuffed santa claus sitting on a wreath on the back of a car\n",
      "there is a stuffed santa claus sitting on a wreath on the back of a truck\n",
      "there is a stuffed santa claus on a wreath on the back of a car\n",
      "there is a stuffed santa claus on a wreath on the back of a car\n",
      "there is a stuffed santa claus on a wreath on the back of a car\n",
      "there is a stuffed santa claus sitting on a wreath on the back of a car\n",
      "there is a stuffed santa claus sitting on a wreath on the back of a car\n",
      "there is a stuffed santa claus sitting on a wreath on the back of a car\n",
      "there is a stuffed santa claus sitting on a wreath on the back of a car\n",
      "there is a stuffed animal that is sitting on a wreath\n",
      "there is a stuffed animal that is sitting on a wreath\n",
      "there is a stuffed animal that is sitting on a wreath\n",
      "there is a stuffed animal that is laying on a wreath\n",
      "there is a stuffed santa claus on a wreath on the back of a truck\n",
      "there is a stuffed santa claus on a wreath on the back of a car\n",
      "there is a stuffed animal that is sitting on a wreath\n",
      "there is a stuffed santa claus on a wreath on the back of a car\n",
      "there is a stuffed santa claus sitting on a wreath on the back of a car\n",
      "there is a stuffed animal in a wreath on a golf cart\n",
      "there is a stuffed santa claus on a golf cart with a wreath\n",
      "there is a stuffed animal in a wreath on the back of a golf cart\n",
      "there is a stuffed animal in a wreath on the back of a golf cart\n",
      "there is a stuffed animal in a wreath on the back of a car\n",
      "there is a stuffed animal in a wreath on the back of a golf cart\n",
      "there is a stuffed animal in a wreath on the back of a car\n",
      "there is a stuffed animal in a wreath on the back of a golf cart\n",
      "there is a stuffed animal in a wreath on the back of a golf cart\n",
      "there is a stuffed animal in a wreath on the back of a golf cart\n",
      "there is a stuffed animal in a wreath on the back of a golf cart\n",
      "there is a stuffed animal in a wreath on the back of a car\n",
      "there is a stuffed santa claus on a wreath on the back of a golf cart\n",
      "there is a stuffed santa claus on a wreath on the back of a golf cart\n",
      "there is a stuffed santa claus on a wreath on the back of a golf cart\n",
      "there is a stuffed santa claus on a wreath on the back of a golf cart\n",
      "there is a stuffed santa claus on a wreath on the back of a golf cart\n",
      "there is a stuffed santa claus on a wreath on the back of a golf cart\n",
      "there is a stuffed santa claus on a wreath on the back of a golf cart\n",
      "there is a stuffed santa claus on a wreath on the back of a golf cart\n",
      "there is a stuffed santa claus on a wreath on the back of a golf cart\n",
      "there is a stuffed santa claus on a wreath on the back of a golf cart\n",
      "there is a stuffed santa claus on a wreath on the back of a golf cart\n",
      "there is a stuffed santa claus on a wreath on the back of a golf cart\n",
      "there is a stuffed santa claus on a wreath on the back of a golf cart\n",
      "there is a stuffed santa claus on a golf cart with a wreath\n",
      "there is a stuffed santa claus on a golf cart with a wreath\n",
      "there is a stuffed santa claus on a golf cart with a wreath\n",
      "there is a stuffed animal that is sitting on a wreath\n",
      "there is a stuffed santa claus on a wreath on the back of a golf cart\n",
      "there is a stuffed animal that is sitting on a wreath\n",
      "there is a stuffed santa claus on a wreath on the back of a golf cart\n",
      "there is a stuffed santa claus on a wreath on the back of a golf cart\n",
      "there is a stuffed santa claus on a wreath on the back of a golf cart\n",
      "there is a stuffed santa claus on a wreath on the back of a golf cart\n",
      "there is a stuffed santa claus on a wreath on the back of a golf cart\n",
      "there is a stuffed santa claus sitting on a wreath on the back of a car\n",
      "there is a stuffed santa claus sitting on a wreath on the back of a car\n",
      "there is a stuffed santa claus on a wreath on the back of a car\n",
      "there is a stuffed santa claus on a wreath on the back of a car\n",
      "there is a stuffed santa claus on a wreath on the back of a car\n",
      "there is a stuffed santa claus on a wreath on the back of a car\n",
      "there is a stuffed animal in a wreath on the back of a car\n",
      "there is a stuffed animal that is sitting on a wreath\n",
      "there is a stuffed animal in a wreath on the back of a car\n",
      "there is a stuffed santa claus on a wreath on the back of a car\n",
      "there is a stuffed santa claus on a wreath on the back of a truck\n",
      "there is a stuffed santa claus on a wreath on the back of a truck\n",
      "there is a stuffed santa claus on a wreath on the back of a truck\n",
      "there is a stuffed santa claus sitting on a wreath on the back of a truck\n",
      "there is a stuffed santa claus on a wreath on the back of a truck\n",
      "there is a stuffed santa claus sitting on a wreath on the back of a truck\n",
      "there is a stuffed santa claus sitting on a wreath on the back of a truck\n",
      "there is a stuffed santa claus sitting on a wreath on the back of a truck\n",
      "there is a stuffed santa claus on a wreath on the back of a truck\n",
      "there is a stuffed santa claus sitting on a wreath on the back of a truck\n",
      "there is a stuffed santa claus sitting on a wreath on the back of a truck\n",
      "there is a stuffed santa claus sitting on a wreath on the back of a truck\n",
      "there is a stuffed santa claus sitting on a wreath on the back of a car\n",
      "there is a stuffed santa claus sitting on a wreath on the back of a car\n",
      "there is a stuffed santa claus sitting on a wreath on the back of a car\n",
      "there is a stuffed santa claus sitting on a wreath on the back of a car\n",
      "there is a stuffed santa claus on a wreath on the back of a truck\n",
      "there is a stuffed santa claus sitting on a wreath on the back of a car\n",
      "there is a stuffed santa claus sitting on a wreath on the back of a car\n",
      "there is a stuffed santa claus sitting on a wreath on the back of a car\n",
      "there is a stuffed santa claus sitting on a wreath on the back of a car\n",
      "there is a stuffed santa claus sitting on a wreath on the back of a truck\n",
      "there is a stuffed santa claus on a christmas wreath on the back of a truck\n",
      "there is a stuffed santa claus sitting on a wreath on the back of a car\n",
      "there is a stuffed santa claus sitting on a wreath on the back of a car\n",
      "there is a stuffed santa claus sitting on a wreath on the back of a car\n",
      "there is a stuffed santa claus sitting on a wreath on the back of a car\n",
      "there is a stuffed santa claus sitting on a wreath on the back of a car\n",
      "there is a stuffed santa claus sitting on a wreath on the back of a car\n",
      "there is a stuffed santa claus on a wreath on the back of a truck\n",
      "there is a stuffed animal in a wreath on the back of a car\n",
      "there is a stuffed animal in a wreath on the back of a truck\n",
      "there is a stuffed santa claus on a wreath on the back of a truck\n",
      "there is a stuffed santa claus sitting on a wreath on the back of a truck\n",
      "there is a stuffed santa claus sitting on a wreath on the back of a truck\n",
      "there is a stuffed santa claus sitting in a wreath on the back of a truck\n",
      "there is a stuffed santa claus on a wreath on the back of a truck\n",
      "there is a stuffed santa claus on a wreath on the back of a truck\n",
      "there is a stuffed santa claus on a wreath on the back of a truck\n",
      "there is a stuffed santa claus on a wreath on the back of a truck\n",
      "there is a stuffed santa claus on a wreath on the back of a truck\n",
      "there is a stuffed santa claus on a wreath on the back of a car\n",
      "there is a stuffed santa claus on a wreath on the back of a truck\n",
      "there is a stuffed santa claus on a wreath on the back of a truck\n",
      "there is a stuffed santa claus on a wreath on the back of a truck\n",
      "there is a stuffed santa claus on a wreath on the back of a truck\n",
      "there is a stuffed santa claus on a wreath on the back of a truck\n",
      "there is a stuffed santa claus on a wreath on the back of a truck\n",
      "there is a stuffed santa claus on a wreath on the back of a car\n",
      "there is a stuffed santa claus on a wreath on the back of a car\n",
      "there is a stuffed santa claus on a wreath on the back of a truck\n",
      "there is a stuffed santa claus on a wreath on the back of a truck\n",
      "there is a stuffed santa claus on a wreath on the back of a truck\n",
      "there is a stuffed santa claus on a wreath on the back of a truck\n",
      "there is a stuffed santa claus on a wreath on the back of a truck\n",
      "there is a stuffed santa claus on a wreath on the back of a truck\n",
      "there is a stuffed santa claus on a wreath on the back of a truck\n",
      "there is a stuffed santa claus on a wreath on the back of a truck\n",
      "there is a stuffed animal in a wreath on the back of a truck\n",
      "there is a stuffed animal that is sitting on a wreath\n",
      "there is a stuffed santa claus on a wreath on the back of a truck\n",
      "there is a stuffed santa claus on a wreath on the back of a truck\n",
      "there is a stuffed santa claus sitting on a wreath on the back of a car\n",
      "there is a stuffed santa claus on a wreath on the back of a car\n",
      "there is a stuffed santa claus on a wreath on the back of a truck\n",
      "there is a stuffed santa claus sitting on a wreath on the back of a truck\n",
      "there is a stuffed santa claus on a wreath on the back of a truck\n",
      "there is a stuffed santa claus on a wreath on the back of a truck\n",
      "there is a stuffed santa claus sitting on a wreath on the back of a car\n",
      "there is a stuffed santa claus sitting on a wreath on the back of a truck\n",
      "there is a stuffed animal that is sitting on a wreath\n",
      "there is a stuffed santa claus on a wreath on the back of a truck\n",
      "there is a stuffed santa claus on a wreath on the back of a car\n",
      "there is a stuffed santa claus on a wreath on the back of a car\n",
      "there is a stuffed santa claus on a wreath on the back of a car\n",
      "there is a stuffed santa claus on a wreath on the back of a car\n",
      "there is a stuffed santa claus on a wreath on the back of a car\n",
      "there is a stuffed animal in a wreath on the back of a car\n",
      "there is a stuffed santa claus on a wreath on the back of a car\n",
      "there is a stuffed santa claus on a wreath on the back of a car\n",
      "there is a stuffed santa claus on a wreath on the back of a car\n",
      "there is a stuffed santa claus on a wreath on the back of a car\n",
      "there is a stuffed santa claus sitting on a wreath on the back of a car\n",
      "there is a stuffed santa claus on a wreath on the back of a car\n",
      "there is a stuffed santa claus on a wreath on the back of a car\n",
      "there is a stuffed santa claus sitting in a wreath on the back of a car\n",
      "there is a stuffed santa claus sitting on a wreath on the back of a car\n",
      "there is a stuffed santa claus sitting on a wreath on the back of a car\n",
      "there is a stuffed animal that is sitting on a wreath\n",
      "there is a stuffed santa claus on a wreath on the back of a car\n",
      "there is a stuffed santa claus on a wreath on the back of a car\n",
      "there is a stuffed santa claus on a wreath on the back of a truck\n",
      "there is a stuffed santa claus on a wreath on the back of a truck\n",
      "there is a stuffed santa claus on a wreath on the back of a truck\n",
      "there is a stuffed santa claus on a wreath on the back of a truck\n",
      "there is a stuffed santa claus on a wreath on the back of a truck\n",
      "there is a stuffed animal in a wreath on the back of a truck\n",
      "there is a stuffed santa claus on a wreath on the back of a car\n",
      "there is a stuffed santa claus on a wreath on the back of a truck\n",
      "there is a stuffed santa claus sitting on a wreath on the back of a car\n",
      "there is a stuffed santa claus sitting on a wreath on the back of a car\n",
      "there is a stuffed santa claus on a wreath on the back of a car\n",
      "there is a santa clause on a wreath on the back of a car\n",
      "there is a santa clause hanging on a wreath on the back of a car\n",
      "there is a stuffed santa claus on a wreath on the back of a car\n",
      "there is a stuffed santa claus on a wreath on the back of a car\n",
      "there is a stuffed santa claus on a wreath on the back of a car\n",
      "there is a stuffed santa claus on a wreath on a golf cart\n",
      "there is a stuffed animal in a wreath on a golf cart\n",
      "there is a stuffed santa claus sitting on a golf cart\n",
      "there is a stuffed santa claus sitting on a wreath on a golf cart\n",
      "there is a stuffed santa claus on a golf cart with a wreath\n",
      "there is a stuffed santa claus on a wreath on the back of a golf cart\n",
      "there is a stuffed animal in a wreath on a golf cart\n",
      "there is a stuffed santa claus sitting on a wreath on a golf cart\n",
      "there is a stuffed santa claus on a wreath on the back of a golf cart\n",
      "there is a stuffed santa claus on a wreath on a golf cart\n",
      "there is a wreath with a santa clause on it on a golf cart\n",
      "there is a stuffed santa claus on a wreath on a golf cart\n",
      "there is a stuffed animal that is sitting on a wreath\n",
      "there is a stuffed animal that is sitting on a wreath\n",
      "there is a stuffed animal in a wreath on a golf cart\n",
      "there is a stuffed animal in a wreath on a golf cart\n",
      "there is a stuffed santa claus sitting on a golf cart\n",
      "there is a stuffed santa claus on a wreath on the back of a golf cart\n",
      "there is a stuffed animal in a wreath on the back of a golf cart\n",
      "there is a stuffed santa claus on a golf cart with a wreath\n",
      "there is a stuffed santa claus on a golf cart with a wreath\n",
      "there is a stuffed santa claus on a wreath on the back of a car\n",
      "there is a stuffed santa claus sitting in a wreath on the back of a golf cart\n",
      "there is a stuffed animal in a wreath on a golf cart\n",
      "there is a stuffed animal that is sitting on a golf cart\n",
      "there is a stuffed animal on a wreath on the back of a golf cart\n",
      "there is a stuffed animal on a golf cart with a wreath\n",
      "there is a stuffed animal that is sitting on a golf cart\n",
      "there is a stuffed animal in a wreath on a golf cart\n",
      "there is a wreath with a santa clause on it on the back of a golf cart\n",
      "there is a stuffed animal in a wreath on the back of a golf cart\n",
      "there is a wreath with a santa clause on it on the back of a golf cart\n",
      "there is a stuffed bear that is sitting on a wreath\n",
      "there is a stuffed animal in a wreath on the back of a golf cart\n",
      "there is a stuffed animal on a wreath on the back of a truck\n",
      "there is a stuffed animal on a golf cart with a wreath\n",
      "there is a teddy bear sitting on a wreath on the back of a golf cart\n",
      "there is a stuffed animal in a wreath on the back of a golf cart\n",
      "there is a stuffed animal in a wreath on the back of a golf cart\n",
      "there is a stuffed bear in a wreath on the back of a golf cart\n",
      "there is a stuffed animal in a wreath on the back of a golf cart\n",
      "there is a stuffed animal on a golf cart with a wreath\n",
      "there is a stuffed santa claus on a golf cart with a wreath\n",
      "there is a wreath on the back of a golf cart\n",
      "there is a stuffed animal in a wreath on the back of a golf cart\n",
      "there is a christmas wreath on the back of a golf cart\n",
      "there is a stuffed animal on a golf cart with a wreath\n",
      "there is a stuffed animal on a golf cart with a wreath\n",
      "there is a stuffed santa claus on a golf cart with a wreath\n",
      "there is a stuffed animal in a wreath on the back of a golf cart\n",
      "there is a teddy bear and a wreath on the back of a golf cart\n",
      "there is a dog standing next to a golf cart with a wreath on it\n",
      "there is a teddy bear sitting on a golf cart with a wreath\n",
      "there is a teddy bear sitting on a christmas wreath on a golf cart\n",
      "there is a teddy bear sitting on a golf cart with a wreath\n",
      "there is a small wreath on the back of a golf cart\n",
      "there is a stuffed animal on a golf cart with a wreath\n",
      "there is a teddy bear sitting on a golf cart with a wreath\n",
      "there is a stuffed animal in a wreath on the back of a golf cart\n",
      "there is a dog that is standing next to a golf cart\n",
      "there is a golf cart with a wreath on it and a golf ball\n",
      "there is a stuffed animal on a golf cart with a wreath\n",
      "there is a golf cart with a christmas wreath on it\n",
      "there is a golf cart with a christmas wreath on it\n",
      "there is a cat sitting on a golf cart with a wreath on it\n",
      "there is a dog that is sitting in a golf cart\n",
      "there is a dog that is sitting in a golf cart\n",
      "there is a black cat sitting on a golf cart with a wreath on it\n",
      "there is a dog sitting in a golf cart with a wreath on it\n",
      "there is a dog sitting in a golf cart with a wreath on it\n",
      "there is a stuffed animal in a golf cart with a wreath on it\n",
      "there is a stuffed animal in a golf cart with a wreath on it\n",
      "there is a stuffed animal in a golf cart with a christmas wreath\n",
      "there is a stuffed animal in a golf cart with a santa clause on it\n",
      "there is a small stuffed animal sitting on a golf cart\n",
      "there is a dog that is sitting in a golf cart\n",
      "there is a dog that is sitting in a golf cart\n",
      "there is a dog that is sitting in a golf cart\n",
      "there is a dog that is standing in a golf cart\n",
      "there is a black dog sitting in a golf cart with a stuffed animal\n",
      "there is a dog that is sitting in a golf cart\n",
      "there is a dog sitting in a golf cart with a stuffed animal on it\n",
      "there is a green golf cart with a santa clause on it\n",
      "there is a dog that is sitting in a golf cart\n",
      "there is a dog sitting in a golf cart with a christmas decoration on it\n",
      "there is a dog that is sitting in a golf cart\n",
      "there is a dog that is standing next to a golf cart\n",
      "there is a black dog that is standing in a golf cart\n",
      "there is a dog that is sitting in a golf cart\n",
      "there is a cat that is standing on a golf cart\n",
      "there is a cat sitting on a golf cart with a christmas decoration on it\n",
      "there is a golf cart with a christmas decoration on it\n",
      "there is a golf cart with a christmas decoration on it\n",
      "there is a green golf cart with a red and white decoration on it\n",
      "there is a cat that is standing next to a golf cart\n",
      "there is a cat sitting on a golf cart with a santa hat on\n",
      "there is a cat that is standing next to a golf cart\n",
      "there is a black cat standing next to a green golf cart\n",
      "there is a black cat standing next to a green golf cart\n",
      "there is a black cat standing next to a golf cart\n",
      "there is a black cat standing next to a golf cart\n",
      "there is a black cat standing next to a golf cart\n",
      "there is a cat that is standing next to a golf cart\n",
      "there is a cat sitting on a golf cart with a bag on it\n",
      "there is a cat sitting in a golf cart with a bag on it\n",
      "there is a black cat sitting in a golf cart with a santa hat on\n",
      "there is a dog sitting in a golf cart with a hat on\n",
      "there is a dog sitting in a golf cart with a santa hat on\n",
      "there is a dog sitting in a golf cart with a santa hat on\n",
      "there is a golf cart with a christmas decoration on it\n",
      "there is a golf cart with a santa clause on the back\n",
      "there is a green golf cart with a stuffed animal on it\n",
      "there is a green golf cart with a stuffed animal on it\n",
      "there is a golf cart with a stuffed animal on the back\n",
      "there is a green golf cart with a santa clause on it\n",
      "there is a green golf cart with a santa hat on it\n",
      "there is a golf cart with a santa clause on it\n",
      "there is a golf cart with santa claus on it parked in the driveway\n",
      "there is a green golf cart with a red rose on the back\n",
      "there is a green golf cart with a red and white flag on it\n",
      "there is a green golf cart with a red and white flower on it\n",
      "there is a green golf cart with a red and white hat on it\n",
      "there is a golf cart with a christmas decoration on the back\n",
      "there is a green golf cart with a santa clause on the back\n",
      "there is a green golf cart with a red and white decoration on it\n",
      "there is a green golf cart with a santa clause on it\n",
      "there is a green golf cart with a red and white decoration on it\n",
      "there is a green golf cart with a christmas decoration on it\n",
      "there is a green golf cart with a santa clause on it\n",
      "there is a green golf cart with a santa clause on it\n",
      "there is a green golf cart with a red and white bow on it\n",
      "there is a green golf cart with a christmas decoration on it\n",
      "there is a green golf cart with a red and white bag on it\n",
      "there is a green golf cart with a christmas decoration on it\n",
      "there is a green golf cart with a red and white bag on it\n",
      "there is a green golf cart with a red hat on it\n",
      "there is a green golf cart with a red rose on the back\n",
      "there is a green golf cart with a red rose on the back\n",
      "there is a green golf cart with a red and white decoration on it\n",
      "there is a green golf cart with a christmas decoration on it\n",
      "there is a green golf cart with a christmas decoration on it\n",
      "there is a green golf cart with a christmas decoration on it\n",
      "there is a golf cart with a christmas decoration on it\n",
      "there is a green golf cart with a christmas decoration on it\n",
      "there is a green golf cart with a santa clause on it\n",
      "there is a green golf cart with santa hats on it\n",
      "there is a golf cart with a christmas decoration on the back\n",
      "there is a green golf cart with a santa clause on it\n",
      "there is a golf cart with a christmas decoration on the back\n",
      "there is a golf cart with a santa clause on the back\n",
      "there is a golf cart with a christmas decoration on the back\n",
      "there is a green golf cart with a christmas decoration on it\n",
      "there is a green golf cart with a red and white bow on it\n",
      "there is a green golf cart with a red rose on the back\n",
      "there is a green golf cart with a christmas decoration on it\n",
      "there is a green golf cart with a christmas decoration on it\n",
      "there is a green golf cart with a christmas decoration on it\n",
      "there is a green golf cart with a santa clause on the back\n",
      "there is a golf cart with a santa clause on the back\n",
      "there is a green golf cart with a santa clause on the back\n",
      "there is a green golf cart with a santa clause on it\n",
      "there is a green golf cart with a santa clause on it\n",
      "there is a green golf cart with a christmas decoration on it\n",
      "there is a green golf cart with a christmas decoration on it\n",
      "there is a green golf cart with a santa clause on it\n",
      "there is a green golf cart with a santa clause on it\n",
      "there is a green golf cart with a santa clause on it\n",
      "there is a green golf cart with a santa clause on the back\n",
      "there is a green golf cart with a santa clause on the back\n",
      "there is a golf cart with a santa clause on the back\n",
      "there is a golf cart with a santa clause on it\n",
      "there is a green golf cart with a santa clause on it\n",
      "there is a green golf cart with a santa clause on it\n",
      "there is a green golf cart with a santa clause on it\n",
      "there is a green golf cart with a christmas decoration on it\n",
      "there is a green golf cart with a white seat and a red bow on the back\n",
      "there is a green golf cart with a christmas decoration on it\n",
      "there is a green golf cart with a santa clause on it\n",
      "there is a green golf cart with a red and white decoration on it\n",
      "there is a green golf cart with a red and white bow on it\n",
      "there is a golf cart with a christmas decoration on the back\n",
      "there is a green golf cart with a santa clause on it\n",
      "there is a green golf cart with a dog on it\n",
      "there is a green golf cart with a white seat and a red bow on the back\n",
      "there is a golf cart with a santa clause on the back\n",
      "there is a green golf cart with a white seat and a red hat\n",
      "there is a small green golf cart with a santa clause on top\n",
      "there is a golf cart with a golf ball on the back\n",
      "there is a golf cart with a person on it parked in the grass\n",
      "there is a man riding a golf cart with a surfboard on top\n",
      "there is a small green golf cart with a white seat\n",
      "there is a golf cart with a surfboard on top of it\n",
      "there is a golf cart with a surfboard on top of it\n",
      "there is a golf cart with a surfboard on top of it\n",
      "there are many people riding golf carts on the grass\n",
      "there are people playing golf on a golf course with carts\n",
      "there are many people on golf carts on the grass\n",
      "there is a golf cart that is parked on the grass\n",
      "there is a golf cart parked on the side of the road\n",
      "there is a man riding a golf cart on the grass\n",
      "there is a man that is standing on a golf cart\n",
      "there is a man that is playing golf in the grass\n",
      "there is a man that is playing golf on the grass\n",
      "there is a man that is playing golf on the grass\n",
      "there is a man that is playing golf on the grass\n",
      "there is a man that is playing golf on the grass\n",
      "there is a man that is playing golf on the grass\n",
      "there is a man that is playing golf in the grass\n",
      "there is a man that is playing golf on the grass\n",
      "there is a man that is playing golf on the grass\n",
      "there is a man that is playing golf on the grass\n",
      "there is a man that is playing golf on the grass\n",
      "there is a man that is playing golf in the grass\n",
      "there is a man that is playing golf on the grass\n",
      "there is a man that is playing golf in the grass\n",
      "there is a man that is playing golf in the grass\n",
      "there is a man that is standing in the grass with a golf club\n",
      "there is a man that is playing golf in the grass\n",
      "there is a man that is standing in the grass with a golf club\n",
      "there are people playing golf on a green field with a cart\n",
      "there are people playing golf in the park on a sunny day\n",
      "there are people playing a game of golf in the park\n",
      "there are people playing frisbee in the park on a sunny day\n",
      "several people playing a game of frisbee in a park\n",
      "several people playing a game of frisbee in a park\n",
      "several people playing a game of golf in a park\n",
      "several people playing frisbee in a park with a golf cart\n",
      "there are people playing a game of frisbee in the park\n",
      "there are people playing frisbee in a grassy field\n",
      "there are people playing frisbee in a park with golf carts\n",
      "there are people playing a game of frisbee in the park\n",
      "there are two people playing frisbee in the park on the grass\n",
      "several people playing frisbee in a park with a golf cart\n",
      "there are people playing a game of frisbee in the park\n",
      "several people playing a game of golf in a park\n",
      "several people playing a game of golf in a park\n",
      "several people playing golf in a park with carts and golf carts\n",
      "several people playing golf in a park with carts and golf carts\n",
      "several people playing a game of golf in a park\n",
      "several people playing a game of golf in a park\n",
      "there are people playing a game of golf in the park\n",
      "several people playing golf in a grassy area with carts\n",
      "several people playing a game of golf in a park with carts\n",
      "several people are playing golf in a grassy field with carts\n",
      "several people are playing a game of golf in a park\n",
      "several people playing a game of golf in a grassy field\n",
      "several people playing a game of golf in a grassy field\n",
      "several people are playing frisbee in a grassy field\n",
      "several people playing a game of frisbee in a grassy field\n",
      "several people playing frisbee in a grassy field with a golf cart\n",
      "several people playing frisbee in a grassy field with a golf cart\n",
      "several people playing a game of golf in a park\n",
      "several people playing a game of golf in a grassy field\n",
      "several people playing frisbee in a grassy field with golf carts\n",
      "several people playing frisbee in a grassy field with a golf cart\n",
      "there are people playing frisbee in a park with many carts\n",
      "there are two people playing frisbee in the grass on the golf course\n",
      "there are two people playing frisbee in the grass on the field\n",
      "there are two people playing frisbee in the park on the grass\n",
      "there are two people playing frisbee in the park on the grass\n",
      "there are two people playing a game of golf on the grass\n",
      "there are two people playing golf on a green field\n",
      "several people playing golf in a grassy field with a golf cart\n",
      "several people playing golf in a grassy field with a golf cart\n",
      "several people playing golf in a park with a golf cart\n",
      "several people playing golf in a grassy field with a golf cart\n",
      "several people playing golf on a green field with a golf cart\n",
      "several people playing golf on a green field with a golf cart\n",
      "several people playing golf on a green field with a golf cart\n",
      "several people playing golf on a green field with trees in the background\n",
      "several people playing golf on a green field with a golf cart\n",
      "there are two people playing golf on a green field\n",
      "several people playing golf on a green field with carts\n",
      "several people are playing golf on a green field with a golf cart\n",
      "several people playing golf on a golf course with a cart in the background\n",
      "several people playing golf on a sunny day in the park\n",
      "several people playing golf on a green field with a golf cart\n",
      "there are two people playing golf on a green field\n",
      "several people playing golf on a green field with a golf cart\n",
      "several people playing golf on a sunny day in the park\n",
      "several people playing golf on a green field with a golf cart\n",
      "several people are playing golf on a green field with trees in the background\n",
      "several people are playing golf on a green field with trees in the background\n",
      "several people playing golf on a green field with trees in the background\n",
      "several people playing golf on a green field with trees in the background\n",
      "several people are playing golf in a grassy field with trees\n",
      "several people are playing golf on a green field with trees\n",
      "several people playing golf on a green field with trees in the background\n",
      "there are two people playing golf on a green field\n",
      "there are two people playing a game of golf in the grass\n",
      "there are two people playing golf on a green field\n",
      "there are two people playing golf on a green field\n",
      "there are two people playing golf on a green field\n",
      "they are playing frisbee in the park on a sunny day\n",
      "there are two people playing frisbee in the grass on the field\n",
      "there are two people playing a game of golf on the grass\n",
      "there are two people playing a game of golf on the grass\n",
      "there are two people playing golf on a green field\n",
      "there are two people playing golf on a green field\n",
      "there are two people playing frisbee in the park together\n",
      "there are two people playing golf on a green field\n",
      "there are two people playing golf on a green field\n",
      "there are two people playing golf on a green field\n",
      "there are two people playing golf on a green field\n",
      "there are two people playing golf on a green field\n",
      "there are two people playing golf on a green field\n",
      "there are two people playing golf on a green field\n",
      "there are two people playing golf on a green field\n",
      "there are two people playing golf on a green field\n",
      "there are two people playing golf on a green field\n",
      "there are two people playing golf on a green field\n",
      "there are two people playing golf on a green field\n",
      "there are two people playing golf on a green field\n",
      "there are two people playing golf on a green field\n",
      "there are two boys playing golf on a green field\n",
      "there are two people playing golf on a green field\n",
      "there are two boys playing golf on a green field\n",
      "there are two people playing golf on a green field\n",
      "there are two people playing golf on a green field\n",
      "there are two people playing golf on a green field\n",
      "there are two people playing golf on a green field\n",
      "there are two people playing golf on a green field\n",
      "there are two people playing golf on a green field\n",
      "there are two people playing golf on a green field\n",
      "there are two people playing golf in the grass on a sunny day\n",
      "there are two people playing golf on a green field\n",
      "there are two people playing golf on a green field\n",
      "there are two people playing golf on a green field\n",
      "there are two people playing golf on a green field\n",
      "there are two people playing golf on a green field\n",
      "there are two people playing golf on a green field\n",
      "there are two people playing golf on a green field\n",
      "there are two people playing golf on a green field\n",
      "there are two people playing golf on a green field\n",
      "there are two people playing golf on a green field\n",
      "there are two people playing golf on a green field\n",
      "there are two people playing a game of frisbee in the park\n",
      "there are two people playing golf on a green field\n",
      "there are two people playing golf on a green field\n",
      "there are two people playing golf on a green field\n",
      "there are two people playing golf on a green field\n",
      "there are two people playing golf on a green field\n",
      "there are two people playing golf on a green field\n",
      "there are two people playing golf on a green field\n",
      "there are two people playing golf on a green field\n",
      "there are two people playing golf on a green field\n",
      "there are two people playing golf on a green field\n",
      "there are two people playing golf on a green field\n",
      "there are two people playing golf on a green field\n",
      "there are two people playing golf on a green field\n",
      "there are two people playing golf on a green field\n",
      "there are two people playing golf on a green field\n",
      "there are two people playing golf on a green field\n",
      "there are two people playing golf on a green field\n",
      "there are two people playing golf on a green field\n",
      "there are two people playing golf on a green field\n",
      "there are two people playing golf on a green field\n",
      "there are two people playing golf on a green field\n",
      "there are two people playing golf on a green field\n",
      "there are two people playing golf on a green field\n",
      "there are two people playing golf on a green field\n",
      "there are two people playing golf on a green field\n",
      "there are two people playing golf on a green field\n",
      "there are two people playing golf on a green field\n",
      "there are two people playing golf on a green field\n",
      "there are two people playing golf on a green field\n",
      "there are two boys playing golf in the grass with a frisbee\n",
      "there are two boys playing golf on a green field\n",
      "there are two people playing a game of golf in the park\n",
      "there are two people playing a game of golf in the park\n",
      "there are two people playing a game of frisbee in the park\n",
      "there are two people playing golf on a green field\n",
      "there are two people playing golf on a green field\n",
      "there are two people playing golf on a green field\n",
      "there are two men playing golf on a green field\n",
      "there are two people playing golf on a green field\n",
      "there are two people playing golf on a green field\n",
      "there are two people playing a game of frisbee in the park\n",
      "there are two people playing frisbee in the grass\n",
      "there are two people playing golf on a green field\n",
      "there are two people playing golf on a green field\n",
      "there are two people playing golf on a green field\n",
      "there are two people playing golf on a green field\n",
      "there are two people playing golf on a green field\n",
      "there are two people playing a game of golf on the grass\n",
      "there are two people playing golf on a green field\n",
      "there are two men playing golf on a green field\n",
      "there are two people playing golf on a green field\n",
      "there are two people playing golf on a green field\n",
      "there are two people playing golf on a green field\n",
      "there are two people playing golf on a green field\n",
      "there are two people playing golf on a green field\n",
      "there are two people playing golf on a green field\n",
      "there are two people playing golf on a green field\n",
      "there are two people playing golf on a green field\n",
      "there are two people playing golf on a green field\n",
      "there are two people playing golf on a green field\n",
      "there are two people playing golf on a green field\n",
      "there are two people playing golf on a green field\n",
      "there are two people playing golf on a green field\n",
      "there are two people playing golf on a green field\n",
      "there are two people playing a game of golf on the grass\n",
      "there are two people playing golf on a green field\n",
      "there are two people playing golf on a green field\n",
      "there are two people playing golf on a green field\n",
      "there are two people playing a game of golf on the grass\n",
      "there are two people playing golf on a green field\n",
      "there are two people playing golf on a green field\n",
      "there are two people playing golf on a green field\n",
      "there are two people playing golf on a green field\n",
      "there are two people playing golf on a green field\n",
      "there are two people playing golf on a green field\n",
      "there are two people playing golf on a green field\n",
      "they are playing golf on the green grass in the park\n",
      "they are playing golf on the green grass in the park\n",
      "there are two people playing golf on a green field\n",
      "there are two people playing golf on a green field\n",
      "there are two people playing golf on a green field\n",
      "there are two people playing golf on a green field\n",
      "there are two people playing golf on a green field\n",
      "there are two people playing golf on a green field\n",
      "there are two people playing golf on a green field\n",
      "there are two people playing frisbee in the park together\n",
      "there are two people playing frisbee in the park together\n",
      "there are two people playing frisbee in the park together\n",
      "there are two people playing a game of golf on the grass\n",
      "there are two people playing a game of golf on the grass\n",
      "there are two people playing a game of golf on the grass\n",
      "there are two people playing frisbee in the park on a sunny day\n",
      "there are two people playing golf on a green field\n",
      "there are two people playing golf on a green field\n",
      "there are two people playing golf on a green field\n",
      "there are two people playing golf in the grass together\n",
      "there are two people playing golf in the grass together\n",
      "there are two people playing golf in the grass on a sunny day\n",
      "there are two people playing golf on a green field\n",
      "there are two people playing golf in the grass on a sunny day\n",
      "there are two people playing golf in the grass together\n",
      "there are two people playing golf on a green field\n",
      "there are two people playing golf on a green field\n",
      "there are two people playing golf on a green field\n",
      "there are two people playing golf on a green field\n",
      "there are two people playing golf on a green field\n",
      "there are two people playing golf on a green field\n",
      "there are two people playing golf on a green field\n",
      "there are two people playing golf on a green field\n",
      "there are two people playing golf on a green field\n",
      "there are two people playing golf on a green field\n",
      "there are two people playing golf on a green field\n",
      "there are two people playing a game of golf on the grass\n",
      "there are two people playing golf on a green field\n",
      "there are two people playing golf on a green field\n",
      "several people are playing golf on a green field with trees in the background\n",
      "several people are playing golf on a green field with trees\n",
      "several people are playing golf on a green field with trees in the background\n",
      "several people are playing golf on a green field with trees in the background\n",
      "several people are playing golf on a green field with trees in the background\n",
      "several people are playing golf on a green field with trees in the background\n",
      "several people are playing golf on a green field with trees in the background\n",
      "several people are playing golf on a green field with trees in the background\n",
      "several people are playing a game of frisbee in a park\n",
      "several people are playing golf on a green field with trees in the background\n",
      "several people are playing golf on a green field with trees in the background\n",
      "several people are playing golf on a green field with trees in the background\n",
      "several people are playing golf on a green field with trees in the background\n",
      "there are three people playing golf on a green field\n",
      "several people are playing golf on a green field with trees in the background\n",
      "several people are playing golf in a grassy field with trees\n",
      "several people are playing golf in a grassy field with trees\n",
      "several people are playing golf in a grassy field with trees\n",
      "there are two people playing golf in the grass with a dog\n",
      "several people are playing golf in a grassy field with trees\n",
      "several people are playing golf in a grassy field with trees\n",
      "several people are playing golf in a grassy field with trees\n",
      "several people are playing golf in a grassy field with trees\n",
      "several people are playing frisbee in a grassy field\n",
      "several people are playing golf in a grassy field with trees\n",
      "several people are playing golf on a green field with trees in the background\n",
      "several people are playing golf in a grassy field with trees\n",
      "several people are playing a game of golf in a grassy field\n",
      "several people are playing a game of golf in a grassy field\n",
      "several people are playing a game of golf in a grassy field\n",
      "several people are playing a game of frisbee in a park\n",
      "several people are playing frisbee in a grassy field\n",
      "several people are playing frisbee in a grassy field\n",
      "several people are playing a game of golf in a park\n",
      "several people playing golf on a green field with trees in the background\n",
      "several people are playing frisbee in a grassy field\n",
      "several people are playing frisbee in a grassy field\n",
      "several people are playing frisbee in a grassy field\n",
      "several people are playing frisbee in a grassy field\n",
      "several people are playing frisbee in a grassy field\n",
      "several people are playing frisbee in a grassy field\n",
      "several people are playing frisbee in a grassy field\n",
      "several people are playing frisbee in a grassy field\n",
      "several people are playing frisbee in a grassy field\n",
      "several people are playing frisbee in a grassy field\n",
      "several people are playing frisbee in a grassy field\n",
      "several people are playing golf in a grassy field with trees\n",
      "several people are playing golf in a grassy field with trees\n",
      "several people are playing a game of golf in a park\n",
      "several people are playing golf in a grassy field with trees\n",
      "several people are playing a game of golf in a park\n",
      "several people are playing frisbee in a grassy field\n",
      "several people are playing frisbee in a grassy field\n",
      "several people playing a game of golf in a grassy field\n",
      "several people are playing a game of frisbee in a park\n",
      "several people playing a game of golf in a grassy field\n",
      "several people playing a game of golf in a grassy field\n",
      "several people playing a game of golf in a grassy field\n",
      "several people playing a game of golf in a grassy field\n",
      "several people playing a game of golf in a grassy field\n",
      "several people playing a game of golf in a park\n",
      "several people playing a game of golf in a grassy field\n",
      "several people playing a game of golf in a grassy field\n",
      "there are two people playing a game of golf on the grass\n",
      "there are two people playing golf on a green field\n",
      "several people playing a game of golf in a grassy field\n",
      "there are two people playing a game of golf in the park\n",
      "there are two people playing a game of golf on the grass\n",
      "several people playing a game of golf in a grassy field\n",
      "several people playing golf on a green field with trees in the background\n",
      "several people are playing golf in a grassy field with trees\n",
      "several people are playing golf in a grassy field with trees\n",
      "several people are playing golf on a green field with trees in the background\n",
      "several people playing golf on a green field with trees in the background\n",
      "several people playing a game of golf on a sunny day\n",
      "several people are playing a game of golf in a park\n",
      "several people are playing a game of frisbee in a park\n",
      "several people are playing a game of frisbee in a park\n",
      "several people are playing a game of frisbee in a park\n",
      "several people are playing a game of frisbee in a park\n",
      "several people are playing frisbee in a grassy field\n",
      "several people are playing frisbee in a grassy field\n",
      "several people are playing frisbee in a grassy field\n",
      "several people are playing frisbee in a grassy field\n",
      "several people are playing frisbee in a grassy field\n",
      "several people are playing frisbee in a grassy field\n",
      "several people are playing a game of frisbee in a park\n",
      "several people are playing frisbee in a grassy field\n",
      "several people are playing frisbee in a grassy field\n",
      "several people are playing frisbee in a grassy field\n",
      "several people playing a game of frisbee in a park\n",
      "several people are playing a game of golf on a sunny day\n",
      "several people are playing frisbee in a grassy field\n",
      "several people playing a game of frisbee in a park\n",
      "several people are playing a game of frisbee in a park\n",
      "several people are playing frisbee in a grassy field\n",
      "several people are playing a game of frisbee in a park\n",
      "several people are playing a game of golf on a green field\n",
      "several people are playing a game of golf on a sunny day\n",
      "several people are playing a game of golf in a park\n",
      "several people are playing a game of frisbee in a park\n",
      "several people are playing a game of frisbee in a park\n",
      "several people are playing a game of golf in a park\n",
      "there are two people playing a game of golf in the park\n",
      "several people are playing a game of frisbee in a park\n",
      "there are two people playing a game of frisbee in the park\n",
      "several people are playing a game of frisbee in a park\n",
      "several people are playing a game of frisbee in a park\n",
      "several people are playing a game of frisbee in a park\n",
      "several people are playing frisbee in a grassy field\n",
      "several people are playing frisbee in a grassy field\n",
      "several people playing frisbee in a park with golf carts\n",
      "several people playing a game of golf on a sunny day\n",
      "several people are playing golf on a green field with a golf cart\n",
      "several people are playing golf in a grassy field with a golf cart\n",
      "several people playing a game of golf in a grassy field\n",
      "several people playing golf on a green field with a cart\n",
      "several people playing golf on a green field with a cart\n",
      "several people are playing a game of frisbee in a park\n",
      "several people are playing frisbee in a grassy field\n",
      "several people are playing a game of golf in a park\n",
      "several people playing a game of golf in a park with carts\n",
      "several people are playing a game of frisbee in a park\n",
      "there are two people playing frisbee in the park with a golf cart\n",
      "several people are playing a game of golf in a park\n",
      "several people are playing a game of golf in a park\n",
      "there are two people playing a game of golf on the green\n",
      "several people are playing golf in a grassy field with trees\n",
      "there are two people playing golf in the grass with a golf cart\n",
      "there are two people playing a game of golf in the grass\n",
      "there are two people playing a game of frisbee in the park\n",
      "there are two people playing golf on a green field\n"
     ]
    }
   ],
   "source": [
    "\n",
    "combined_docs = caption_youtube(\"/Users/bpakra200/tubegpt/tubegpt/src/notebook/demo1.mp4\")"
   ]
  },
  {
   "cell_type": "code",
   "execution_count": null,
   "metadata": {},
   "outputs": [],
   "source": [
    "combined_docs = caption_youtube_blip2(\"/Users/bpakra200/tubegpt/tubegpt/src/notebook/demo1.mp4\")"
   ]
  },
  {
   "cell_type": "markdown",
   "metadata": {},
   "source": [
    "## Save Captions in Text"
   ]
  },
  {
   "cell_type": "code",
   "execution_count": 29,
   "metadata": {},
   "outputs": [],
   "source": [
    "with open(\"list-bliplarge.txt\", \"w\") as file:\n",
    "    for item in combined_docs:\n",
    "        file.write(str(item) + \"\\n\")"
   ]
  },
  {
   "attachments": {},
   "cell_type": "markdown",
   "metadata": {},
   "source": [
    "## if we don't like to save captions in Text we can directly Convert text to LAngchain documents"
   ]
  },
  {
   "cell_type": "code",
   "execution_count": 34,
   "metadata": {},
   "outputs": [],
   "source": [
    "# Load the dynamic text into a LangChain document\n",
    "docs = [Document(page_content=text) for text in combined_docs ]\n"
   ]
  },
  {
   "attachments": {},
   "cell_type": "markdown",
   "metadata": {},
   "source": [
    "## load Texts"
   ]
  },
  {
   "cell_type": "code",
   "execution_count": 5,
   "metadata": {},
   "outputs": [],
   "source": [
    "\n",
    "loader = TextLoader('/Users/bpakra200/tubegpt/tubegpt/src/notebook/list.txt')\n",
    "\n",
    "docs = loader.load()"
   ]
  },
  {
   "cell_type": "code",
   "execution_count": 6,
   "metadata": {},
   "outputs": [
    {
     "data": {
      "text/plain": [
       "1"
      ]
     },
     "execution_count": 6,
     "metadata": {},
     "output_type": "execute_result"
    }
   ],
   "source": [
    "len(docs)"
   ]
  },
  {
   "cell_type": "code",
   "execution_count": 30,
   "metadata": {},
   "outputs": [],
   "source": [
    "loader = TextLoader('/Users/bpakra200/tubegpt/tubegpt/src/notebook/list-bliplarge.txt')\n",
    "\n",
    "docs = loader.load()"
   ]
  },
  {
   "cell_type": "markdown",
   "metadata": {},
   "source": [
    "## Define embedding"
   ]
  },
  {
   "cell_type": "code",
   "execution_count": 31,
   "metadata": {},
   "outputs": [],
   "source": [
    "embeddings = OpenAIEmbeddings()"
   ]
  },
  {
   "attachments": {},
   "cell_type": "markdown",
   "metadata": {},
   "source": [
    "## Save Vectors in Database base model"
   ]
  },
  {
   "cell_type": "code",
   "execution_count": 11,
   "metadata": {},
   "outputs": [
    {
     "name": "stderr",
     "output_type": "stream",
     "text": [
      "Number of requested results 2 is greater than number of elements in index 1, updating n_results = 1\n"
     ]
    },
    {
     "data": {
      "text/plain": [
       "[(Document(page_content='a man in a green golf cart with a stuffed bear\\na golf cart with a christmas sweater on it\\na black bear is sitting in a golf cart\\na man is playing with a frc in the yard\\na green truck\\na christmas wreath with a stuffed bear in it\\ntwo boys playing golf in the grass\\na group of people playing golf on a green field\\na santa claus wreath is placed on a tractor\\ntwo children playing with a fr fr fr fr fr fr fr fr fr fr fr fr fr fr\\na man driving a golf cart with a christmas hat on\\na stuffed santa claus is sitting in a golf cart\\na santa claus in a green truck\\na stuffed animal sitting in the back of a truck\\na christmas wreath with a santa claus in it\\na stuffed santa claus is sitting in a truck\\na dog in a christmas wreath sitting on a truck\\na stuffed bear sitting in a christmas wreath\\na green golf cart with a santa hat on it\\na man and a woman playing with a frc\\na stuffed santa claus is placed in the back of a truck\\na green golf cart with a wreath on it\\na stuffed santa claus in a green jeep\\na man and a child playing with a fr fr fr fr fr fr fr fr fr fr fr\\ntwo children playing with a ball in the grass\\na boy is swinging a golf ball on the green\\na green golf cart with a bag on it\\ntwo people playing golf on a green field\\na stuffed santa claus\\ntwo children playing golf on a green field\\na golf cart with a golf cart attached to it\\na woman in a green shirt is playing golf\\na santa claus wreath\\na man and a woman playing a game of fr fr fr fr fr fr fr fr fr fr\\ntwo people playing golf in the grass\\na green golf cart with a red and white flower on it\\ntwo children playing golf in the grass\\na dog is sitting in a green truck\\na santa claus doll is sitting in a truck\\na christmas wreath is placed on the back of a car\\na man and a woman playing with a fr fr fr fr fr fr fr fr fr fr fr\\na man and woman playing with a fr fr fr fr fr fr fr fr fr fr fr fr\\na stuffed santa claus in a golf cart\\ntwo people playing with a ball in the grass\\na santa claus wreath is placed on a jeep\\na stuffed animal in a christmas wreath on a truck\\na man riding a green motorcycle down a dirt road\\na stuffed bear in a wreath\\na golf cart with a christmas wreath on it\\na stuffed animal in a christmas wreath on a green truck\\na stuffed bear in a christmas wreath\\na man playing golf in the grass\\na green golf cart parked on a dirt road\\na christmas wreath is placed on the back of a tractor\\na stuffed santa claus in a tractor\\na stuffed santa claus in a truck\\na stuffed animal in a wreath on a tractor\\na black bear is in a golf cart\\na stuffed animal in a truck with a wreath\\na santa claus is sitting in the back of a truck\\na group of people playing a game of fr fr fr fr fr fr fr fr fr fr fr\\na green golf cart with a white seat and a red bag\\na christmas wreath with a santa claus on it\\na stuffed santa claus is sitting in a jeep\\na man is playing golf in the yard\\na green golf cart with a red bag on it\\na man and a woman playing frc\\na man is playing golf in the grass\\na green golf cart with a santa clause on it\\na golf cart is parked on the side of a road\\ntwo people playing with a fr fr fr fr fr fr fr fr fr fr fr fr fr fr\\na wreath is placed on the back of a truck\\na green jeep with a wreath on the front\\na black bear is sitting in a green golf cart\\na man and a woman playing golf\\na man riding a small car down a dirt road\\na black bear is in the back of a golf cart\\na stuffed santa claus is placed in a garbage bin\\ntwo people playing frc in the grass\\na golf cart with a christmas tree on it\\na truck with a wreath on the back\\ntwo people playing frc in the backyard\\na green golf cart with a stuffed santa claus on it\\na stuffed teddy bear sitting in a truck\\na man in a santa hat is riding a golf cart\\na man is playing with a fr fr fr fr fr fr fr fr fr fr fr fr fr\\na boy and a girl playing golf\\na stuffed santa claus in a green truck\\na group of people playing frc in the park\\na stuffed santa claus is sitting in a tractor\\na green golf cart parked in a driveway\\na man is driving a golf cart on the grass\\na golf cart with a golf ball on it\\na santa claus wreath is placed in the back of a truck\\na green golf cart with a red rose on it\\na golf cart with a dog on it\\na christmas wreath is placed on the back of a golf cart\\na cat in a christmas wreath on a truck\\na dog is sitting in a truck with a wreath on it\\na stuffed santa claus in a christmas wreath\\na green golf cart with a red flower on it\\na santa claus wreath with red and green decorations\\na green golf cart\\na stuffed teddy bear sitting in the back of a truck\\na green golf cart with a christmas wreath on it\\na man riding a motorcycle down a dirt road\\na stuffed teddy bear in a christmas wreath\\ntwo people playing frc in the park\\na christmas wreath on a green truck\\na stuffed animal sitting in a truck with a wreath\\na santa claus in a christmas wreath\\na man and woman playing frc in the park\\na wreath with a santa claus on it\\na santa claus in a truck with a wreath\\na man and woman playing golf on a green field\\na man is playing with a frc\\na man in a green golf cart with a christmas hat on\\na green golf cart with a christmas tree on it\\na santa claus wreath on a green truck\\na christmas wreath with a stuffed animal in it\\na christmas wreath with a teddy bear in it\\na man riding a green golf cart\\na green truck with a wreath on it\\na woman is playing golf in the grass\\na boy is swinging a golf ball on the golf course\\na golf cart with a christmas decoration on it\\na man is playing golf on the grass\\na golf cart with a christmas hat on it\\na green golf cart with a white seat\\na boy and girl playing golf in the grass\\na man and woman playing golf on the grass\\na woman and a man playing golf in the grass\\na green golf cart with a red hat on it\\na golf cart with a bag on it\\ntwo people playing frc golf\\na group of people playing a game of cro\\na dog is sitting in the back of a green truck\\na dog is sitting in a golf cart\\na woman is playing golf with her friends\\na stuffed animal in a wreath\\na woman in a green shirt and red shorts playing golf\\na man and a woman playing golf on a green field\\na green golf cart with a christmas hat on it\\na christmas wreath is placed on the back of a truck\\na man and a boy playing golf\\na santa claus doll in a christmas wreath\\na stuffed animal sitting in a christmas wreath\\na man riding a golf cart down a dirt road\\na santa claus in a tractor with a wreath\\na santa claus wreath is placed on the back of a truck\\na man and a woman playing a game of fr fr fr\\na christmas wreath is placed on the back of a green truck\\na green golf cart with a red and white bag\\na christmas wreath is placed on the back of a green golf cart\\na golf cart is parked in the grass\\na stuffed bear sitting in a wreath on a truck\\na man in a green golf cart with a stuffed animal\\na group of people playing golf in the grass\\na christmas wreath on a golf cart\\na christmas wreath is placed in the back of a truck\\na group of people playing a game in the grass\\na black dog is sitting in a golf cart\\na group of people playing a game on the grass\\na santa claus in a green truck with a wreath\\na man and a woman playing golf in the grass\\na man in a green golf cart with a christmas tree\\ntwo people playing frc\\ntwo people playing with a frc fr frc frc frc frc frc fr\\na stuffed animal in a christmas wreath\\na woman is playing golf with her son\\na stuffed santa claus is placed in a truck\\na christmas wreath on the back of a truck\\na man and woman playing golf in the grass\\n', metadata={'source': '/Users/bpakra200/tubegpt/tubegpt/src/notebook/list.txt'}),\n",
       "  0.5126678943634033)]"
      ]
     },
     "execution_count": 11,
     "metadata": {},
     "output_type": "execute_result"
    }
   ],
   "source": [
    "PERSIST_DIRECTORY_OPENAI = \"../tubegptvisiondb/\"\n",
    " \n",
    "tubegptvisiondb = Chroma.from_documents(\n",
    "    documents=docs, embedding= embeddings, persist_directory=PERSIST_DIRECTORY_OPENAI\n",
    ")\n",
    "tubegptvisiondb.similarity_search_with_score(\"What was weman were playing?\", k=2)"
   ]
  },
  {
   "cell_type": "markdown",
   "metadata": {},
   "source": [
    "## Save vecrtor for large captioning models"
   ]
  },
  {
   "cell_type": "code",
   "execution_count": 32,
   "metadata": {},
   "outputs": [
    {
     "name": "stderr",
     "output_type": "stream",
     "text": [
      "Number of requested results 2 is greater than number of elements in index 1, updating n_results = 1\n"
     ]
    },
    {
     "data": {
      "text/plain": [
       "[(Document(page_content='there is a stuffed santa claus doll on a wreath on the back of a truck\\nthere is a stuffed santa claus doll on a wreath on the back of a car\\nthere is a stuffed santa claus on a wreath on the back of a car\\nthere is a stuffed santa claus sitting on a wreath on the back of a car\\nthere is a stuffed santa claus sitting on a wreath on the back of a golf cart\\nthere is a stuffed santa claus on a wreath on the back of a golf cart\\nthere is a stuffed santa claus sitting on a wreath on the back of a truck\\nthere is a stuffed animal that is sitting on a wreath\\nthere is a wreath with a santa clause on it on the back of a car\\nthere is a stuffed animal in a wreath on the back of a car\\nthere is a stuffed santa claus on a wreath on the back of a truck\\nthere is a stuffed animal in a wreath on the back of a truck\\nthere is a stuffed santa claus sitting on a christmas wreath\\nthere is a stuffed santa claus doll sitting on a christmas wreath\\nthere is a stuffed animal that is sitting in a wreath\\nthere is a stuffed animal that is sitting on a blanket\\nthere is a stuffed santa claus sitting on a green wreath\\nthere is a stuffed santa claus sitting on a green blanket\\nthere is a stuffed animal that is sitting in the back of a truck\\nthere is a stuffed santa claus sitting on a christmas tree\\nthere is a stuffed animal that is sitting in the trunk of a car\\nthere is a stuffed animal in a car with a wreath\\nthere is a stuffed animal in a christmas wreath on the back of a truck\\nthere is a stuffed animal in the back of a car with a wreath\\nthere is a stuffed animal in a christmas wreath in the back of a car\\nthere is a stuffed santa claus sitting in a green car\\nthere is a stuffed santa claus sitting in a green truck\\nthere is a stuffed santa claus sitting in a wreath on the back of a car\\nthere is a stuffed santa claus sitting in the back of a car\\nthere is a stuffed santa claus sitting in the back of a truck\\nthere is a stuffed animal that is sitting on a car\\nthere is a stuffed monkey sitting on a christmas wreath on the back of a car\\nthere is a stuffed animal that is sitting on a golf cart\\nthere is a wreath with a santa clause on it on a golf cart\\nthere is a christmas wreath on the back of a car\\nthere is a stuffed snowman sitting on a green car with a wreath\\nthere is a santa clause sitting on a wreath on the back of a car\\nthere is a stuffed animal sitting on a christmas wreath on a golf cart\\nthere is a stuffed toy sitting on a golf cart with a wreath\\nthere is a stuffed santa claus on a golf cart with a wreath\\nthere is a stuffed snowman sitting on a green golf cart\\nthere is a stuffed snowman sitting on a christmas wreath\\nthere is a stuffed animal that is sitting on a christmas wreath\\nthere is a stuffed santa claus on a christmas wreath on a golf cart\\nthere is a stuffed santa claus on a christmas wreath on the back of a truck\\nthere is a christmas wreath with a santa clause on it\\nthere is a stuffed santa claus sitting on a golf cart\\nthere is a stuffed animal sitting on a wreath on the back of a golf cart\\nthere is a stuffed santa claus on a wreath on a green truck\\nthere is a stuffed animal that is on a wreath on the back of a car\\nthere is a stuffed animal that is laying on a wreath\\nthere is a stuffed animal in a wreath on a golf cart\\nthere is a stuffed animal in a wreath on the back of a golf cart\\nthere is a stuffed santa claus sitting in a wreath on the back of a truck\\nthere is a santa clause on a wreath on the back of a car\\nthere is a santa clause hanging on a wreath on the back of a car\\nthere is a stuffed santa claus on a wreath on a golf cart\\nthere is a stuffed santa claus sitting on a wreath on a golf cart\\nthere is a stuffed santa claus sitting in a wreath on the back of a golf cart\\nthere is a stuffed animal on a wreath on the back of a golf cart\\nthere is a stuffed animal on a golf cart with a wreath\\nthere is a wreath with a santa clause on it on the back of a golf cart\\nthere is a stuffed bear that is sitting on a wreath\\nthere is a stuffed animal on a wreath on the back of a truck\\nthere is a teddy bear sitting on a wreath on the back of a golf cart\\nthere is a stuffed bear in a wreath on the back of a golf cart\\nthere is a wreath on the back of a golf cart\\nthere is a christmas wreath on the back of a golf cart\\nthere is a teddy bear and a wreath on the back of a golf cart\\nthere is a dog standing next to a golf cart with a wreath on it\\nthere is a teddy bear sitting on a golf cart with a wreath\\nthere is a teddy bear sitting on a christmas wreath on a golf cart\\nthere is a small wreath on the back of a golf cart\\nthere is a dog that is standing next to a golf cart\\nthere is a golf cart with a wreath on it and a golf ball\\nthere is a golf cart with a christmas wreath on it\\nthere is a cat sitting on a golf cart with a wreath on it\\nthere is a dog that is sitting in a golf cart\\nthere is a black cat sitting on a golf cart with a wreath on it\\nthere is a dog sitting in a golf cart with a wreath on it\\nthere is a stuffed animal in a golf cart with a wreath on it\\nthere is a stuffed animal in a golf cart with a christmas wreath\\nthere is a stuffed animal in a golf cart with a santa clause on it\\nthere is a small stuffed animal sitting on a golf cart\\nthere is a dog that is standing in a golf cart\\nthere is a black dog sitting in a golf cart with a stuffed animal\\nthere is a dog sitting in a golf cart with a stuffed animal on it\\nthere is a green golf cart with a santa clause on it\\nthere is a dog sitting in a golf cart with a christmas decoration on it\\nthere is a black dog that is standing in a golf cart\\nthere is a cat that is standing on a golf cart\\nthere is a cat sitting on a golf cart with a christmas decoration on it\\nthere is a golf cart with a christmas decoration on it\\nthere is a green golf cart with a red and white decoration on it\\nthere is a cat that is standing next to a golf cart\\nthere is a cat sitting on a golf cart with a santa hat on\\nthere is a black cat standing next to a green golf cart\\nthere is a black cat standing next to a golf cart\\nthere is a cat sitting on a golf cart with a bag on it\\nthere is a cat sitting in a golf cart with a bag on it\\nthere is a black cat sitting in a golf cart with a santa hat on\\nthere is a dog sitting in a golf cart with a hat on\\nthere is a dog sitting in a golf cart with a santa hat on\\nthere is a golf cart with a santa clause on the back\\nthere is a green golf cart with a stuffed animal on it\\nthere is a golf cart with a stuffed animal on the back\\nthere is a green golf cart with a santa hat on it\\nthere is a golf cart with a santa clause on it\\nthere is a golf cart with santa claus on it parked in the driveway\\nthere is a green golf cart with a red rose on the back\\nthere is a green golf cart with a red and white flag on it\\nthere is a green golf cart with a red and white flower on it\\nthere is a green golf cart with a red and white hat on it\\nthere is a golf cart with a christmas decoration on the back\\nthere is a green golf cart with a santa clause on the back\\nthere is a green golf cart with a christmas decoration on it\\nthere is a green golf cart with a red and white bow on it\\nthere is a green golf cart with a red and white bag on it\\nthere is a green golf cart with a red hat on it\\nthere is a green golf cart with santa hats on it\\nthere is a green golf cart with a white seat and a red bow on the back\\nthere is a green golf cart with a dog on it\\nthere is a green golf cart with a white seat and a red hat\\nthere is a small green golf cart with a santa clause on top\\nthere is a golf cart with a golf ball on the back\\nthere is a golf cart with a person on it parked in the grass\\nthere is a man riding a golf cart with a surfboard on top\\nthere is a small green golf cart with a white seat\\nthere is a golf cart with a surfboard on top of it\\nthere are many people riding golf carts on the grass\\nthere are people playing golf on a golf course with carts\\nthere are many people on golf carts on the grass\\nthere is a golf cart that is parked on the grass\\nthere is a golf cart parked on the side of the road\\nthere is a man riding a golf cart on the grass\\nthere is a man that is standing on a golf cart\\nthere is a man that is playing golf in the grass\\nthere is a man that is playing golf on the grass\\nthere is a man that is standing in the grass with a golf club\\nthere are people playing golf on a green field with a cart\\nthere are people playing golf in the park on a sunny day\\nthere are people playing a game of golf in the park\\nthere are people playing frisbee in the park on a sunny day\\nseveral people playing a game of frisbee in a park\\nseveral people playing a game of golf in a park\\nseveral people playing frisbee in a park with a golf cart\\nthere are people playing a game of frisbee in the park\\nthere are people playing frisbee in a grassy field\\nthere are people playing frisbee in a park with golf carts\\nthere are two people playing frisbee in the park on the grass\\nseveral people playing golf in a park with carts and golf carts\\nseveral people playing golf in a grassy area with carts\\nseveral people playing a game of golf in a park with carts\\nseveral people are playing golf in a grassy field with carts\\nseveral people are playing a game of golf in a park\\nseveral people playing a game of golf in a grassy field\\nseveral people are playing frisbee in a grassy field\\nseveral people playing a game of frisbee in a grassy field\\nseveral people playing frisbee in a grassy field with a golf cart\\nseveral people playing frisbee in a grassy field with golf carts\\nthere are people playing frisbee in a park with many carts\\nthere are two people playing frisbee in the grass on the golf course\\nthere are two people playing frisbee in the grass on the field\\nthere are two people playing a game of golf on the grass\\nthere are two people playing golf on a green field\\nseveral people playing golf in a grassy field with a golf cart\\nseveral people playing golf in a park with a golf cart\\nseveral people playing golf on a green field with a golf cart\\nseveral people playing golf on a green field with trees in the background\\nseveral people playing golf on a green field with carts\\nseveral people are playing golf on a green field with a golf cart\\nseveral people playing golf on a golf course with a cart in the background\\nseveral people playing golf on a sunny day in the park\\nseveral people are playing golf on a green field with trees in the background\\nseveral people are playing golf in a grassy field with trees\\nseveral people are playing golf on a green field with trees\\nthere are two people playing a game of golf in the grass\\nthey are playing frisbee in the park on a sunny day\\nthere are two people playing frisbee in the park together\\nthere are two boys playing golf on a green field\\nthere are two people playing golf in the grass on a sunny day\\nthere are two people playing a game of frisbee in the park\\nthere are two boys playing golf in the grass with a frisbee\\nthere are two people playing a game of golf in the park\\nthere are two men playing golf on a green field\\nthere are two people playing frisbee in the grass\\nthey are playing golf on the green grass in the park\\nthere are two people playing frisbee in the park on a sunny day\\nthere are two people playing golf in the grass together\\nseveral people are playing a game of frisbee in a park\\nthere are three people playing golf on a green field\\nthere are two people playing golf in the grass with a dog\\nseveral people are playing a game of golf in a grassy field\\nseveral people playing a game of golf on a sunny day\\nseveral people are playing a game of golf on a sunny day\\nseveral people are playing a game of golf on a green field\\nseveral people playing frisbee in a park with golf carts\\nseveral people are playing golf in a grassy field with a golf cart\\nseveral people playing golf on a green field with a cart\\nthere are two people playing frisbee in the park with a golf cart\\nthere are two people playing a game of golf on the green\\nthere are two people playing golf in the grass with a golf cart\\n', metadata={'source': '/Users/bpakra200/tubegpt/tubegpt/src/notebook/list-bliplarge.txt'}),\n",
       "  0.5302518606185913)]"
      ]
     },
     "execution_count": 32,
     "metadata": {},
     "output_type": "execute_result"
    }
   ],
   "source": [
    "PERSIST_DIRECTORY_OPENAI = \"../tubegptvisionlargedb/\"\n",
    " \n",
    "tubegptvisionlargedb = Chroma.from_documents(\n",
    "    documents=docs, embedding= embeddings, persist_directory=PERSIST_DIRECTORY_OPENAI\n",
    ")\n",
    "tubegptvisionlargedb.similarity_search_with_score(\"What was weman were playing?\", k=2)"
   ]
  },
  {
   "cell_type": "code",
   "execution_count": 12,
   "metadata": {},
   "outputs": [],
   "source": [
    "\n",
    "tubegptvisiondb.persist()\n"
   ]
  },
  {
   "cell_type": "code",
   "execution_count": 33,
   "metadata": {},
   "outputs": [],
   "source": [
    "tubegptvisionlargedb.persist()"
   ]
  },
  {
   "attachments": {},
   "cell_type": "markdown",
   "metadata": {},
   "source": [
    "## load Vectors from database"
   ]
  },
  {
   "cell_type": "code",
   "execution_count": 34,
   "metadata": {},
   "outputs": [
    {
     "name": "stderr",
     "output_type": "stream",
     "text": [
      "Number of requested results 2 is greater than number of elements in index 1, updating n_results = 1\n"
     ]
    },
    {
     "data": {
      "text/plain": [
       "[(Document(page_content='there is a stuffed santa claus doll on a wreath on the back of a truck\\nthere is a stuffed santa claus doll on a wreath on the back of a car\\nthere is a stuffed santa claus on a wreath on the back of a car\\nthere is a stuffed santa claus sitting on a wreath on the back of a car\\nthere is a stuffed santa claus sitting on a wreath on the back of a golf cart\\nthere is a stuffed santa claus on a wreath on the back of a golf cart\\nthere is a stuffed santa claus sitting on a wreath on the back of a truck\\nthere is a stuffed animal that is sitting on a wreath\\nthere is a wreath with a santa clause on it on the back of a car\\nthere is a stuffed animal in a wreath on the back of a car\\nthere is a stuffed santa claus on a wreath on the back of a truck\\nthere is a stuffed animal in a wreath on the back of a truck\\nthere is a stuffed santa claus sitting on a christmas wreath\\nthere is a stuffed santa claus doll sitting on a christmas wreath\\nthere is a stuffed animal that is sitting in a wreath\\nthere is a stuffed animal that is sitting on a blanket\\nthere is a stuffed santa claus sitting on a green wreath\\nthere is a stuffed santa claus sitting on a green blanket\\nthere is a stuffed animal that is sitting in the back of a truck\\nthere is a stuffed santa claus sitting on a christmas tree\\nthere is a stuffed animal that is sitting in the trunk of a car\\nthere is a stuffed animal in a car with a wreath\\nthere is a stuffed animal in a christmas wreath on the back of a truck\\nthere is a stuffed animal in the back of a car with a wreath\\nthere is a stuffed animal in a christmas wreath in the back of a car\\nthere is a stuffed santa claus sitting in a green car\\nthere is a stuffed santa claus sitting in a green truck\\nthere is a stuffed santa claus sitting in a wreath on the back of a car\\nthere is a stuffed santa claus sitting in the back of a car\\nthere is a stuffed santa claus sitting in the back of a truck\\nthere is a stuffed animal that is sitting on a car\\nthere is a stuffed monkey sitting on a christmas wreath on the back of a car\\nthere is a stuffed animal that is sitting on a golf cart\\nthere is a wreath with a santa clause on it on a golf cart\\nthere is a christmas wreath on the back of a car\\nthere is a stuffed snowman sitting on a green car with a wreath\\nthere is a santa clause sitting on a wreath on the back of a car\\nthere is a stuffed animal sitting on a christmas wreath on a golf cart\\nthere is a stuffed toy sitting on a golf cart with a wreath\\nthere is a stuffed santa claus on a golf cart with a wreath\\nthere is a stuffed snowman sitting on a green golf cart\\nthere is a stuffed snowman sitting on a christmas wreath\\nthere is a stuffed animal that is sitting on a christmas wreath\\nthere is a stuffed santa claus on a christmas wreath on a golf cart\\nthere is a stuffed santa claus on a christmas wreath on the back of a truck\\nthere is a christmas wreath with a santa clause on it\\nthere is a stuffed santa claus sitting on a golf cart\\nthere is a stuffed animal sitting on a wreath on the back of a golf cart\\nthere is a stuffed santa claus on a wreath on a green truck\\nthere is a stuffed animal that is on a wreath on the back of a car\\nthere is a stuffed animal that is laying on a wreath\\nthere is a stuffed animal in a wreath on a golf cart\\nthere is a stuffed animal in a wreath on the back of a golf cart\\nthere is a stuffed santa claus sitting in a wreath on the back of a truck\\nthere is a santa clause on a wreath on the back of a car\\nthere is a santa clause hanging on a wreath on the back of a car\\nthere is a stuffed santa claus on a wreath on a golf cart\\nthere is a stuffed santa claus sitting on a wreath on a golf cart\\nthere is a stuffed santa claus sitting in a wreath on the back of a golf cart\\nthere is a stuffed animal on a wreath on the back of a golf cart\\nthere is a stuffed animal on a golf cart with a wreath\\nthere is a wreath with a santa clause on it on the back of a golf cart\\nthere is a stuffed bear that is sitting on a wreath\\nthere is a stuffed animal on a wreath on the back of a truck\\nthere is a teddy bear sitting on a wreath on the back of a golf cart\\nthere is a stuffed bear in a wreath on the back of a golf cart\\nthere is a wreath on the back of a golf cart\\nthere is a christmas wreath on the back of a golf cart\\nthere is a teddy bear and a wreath on the back of a golf cart\\nthere is a dog standing next to a golf cart with a wreath on it\\nthere is a teddy bear sitting on a golf cart with a wreath\\nthere is a teddy bear sitting on a christmas wreath on a golf cart\\nthere is a small wreath on the back of a golf cart\\nthere is a dog that is standing next to a golf cart\\nthere is a golf cart with a wreath on it and a golf ball\\nthere is a golf cart with a christmas wreath on it\\nthere is a cat sitting on a golf cart with a wreath on it\\nthere is a dog that is sitting in a golf cart\\nthere is a black cat sitting on a golf cart with a wreath on it\\nthere is a dog sitting in a golf cart with a wreath on it\\nthere is a stuffed animal in a golf cart with a wreath on it\\nthere is a stuffed animal in a golf cart with a christmas wreath\\nthere is a stuffed animal in a golf cart with a santa clause on it\\nthere is a small stuffed animal sitting on a golf cart\\nthere is a dog that is standing in a golf cart\\nthere is a black dog sitting in a golf cart with a stuffed animal\\nthere is a dog sitting in a golf cart with a stuffed animal on it\\nthere is a green golf cart with a santa clause on it\\nthere is a dog sitting in a golf cart with a christmas decoration on it\\nthere is a black dog that is standing in a golf cart\\nthere is a cat that is standing on a golf cart\\nthere is a cat sitting on a golf cart with a christmas decoration on it\\nthere is a golf cart with a christmas decoration on it\\nthere is a green golf cart with a red and white decoration on it\\nthere is a cat that is standing next to a golf cart\\nthere is a cat sitting on a golf cart with a santa hat on\\nthere is a black cat standing next to a green golf cart\\nthere is a black cat standing next to a golf cart\\nthere is a cat sitting on a golf cart with a bag on it\\nthere is a cat sitting in a golf cart with a bag on it\\nthere is a black cat sitting in a golf cart with a santa hat on\\nthere is a dog sitting in a golf cart with a hat on\\nthere is a dog sitting in a golf cart with a santa hat on\\nthere is a golf cart with a santa clause on the back\\nthere is a green golf cart with a stuffed animal on it\\nthere is a golf cart with a stuffed animal on the back\\nthere is a green golf cart with a santa hat on it\\nthere is a golf cart with a santa clause on it\\nthere is a golf cart with santa claus on it parked in the driveway\\nthere is a green golf cart with a red rose on the back\\nthere is a green golf cart with a red and white flag on it\\nthere is a green golf cart with a red and white flower on it\\nthere is a green golf cart with a red and white hat on it\\nthere is a golf cart with a christmas decoration on the back\\nthere is a green golf cart with a santa clause on the back\\nthere is a green golf cart with a christmas decoration on it\\nthere is a green golf cart with a red and white bow on it\\nthere is a green golf cart with a red and white bag on it\\nthere is a green golf cart with a red hat on it\\nthere is a green golf cart with santa hats on it\\nthere is a green golf cart with a white seat and a red bow on the back\\nthere is a green golf cart with a dog on it\\nthere is a green golf cart with a white seat and a red hat\\nthere is a small green golf cart with a santa clause on top\\nthere is a golf cart with a golf ball on the back\\nthere is a golf cart with a person on it parked in the grass\\nthere is a man riding a golf cart with a surfboard on top\\nthere is a small green golf cart with a white seat\\nthere is a golf cart with a surfboard on top of it\\nthere are many people riding golf carts on the grass\\nthere are people playing golf on a golf course with carts\\nthere are many people on golf carts on the grass\\nthere is a golf cart that is parked on the grass\\nthere is a golf cart parked on the side of the road\\nthere is a man riding a golf cart on the grass\\nthere is a man that is standing on a golf cart\\nthere is a man that is playing golf in the grass\\nthere is a man that is playing golf on the grass\\nthere is a man that is standing in the grass with a golf club\\nthere are people playing golf on a green field with a cart\\nthere are people playing golf in the park on a sunny day\\nthere are people playing a game of golf in the park\\nthere are people playing frisbee in the park on a sunny day\\nseveral people playing a game of frisbee in a park\\nseveral people playing a game of golf in a park\\nseveral people playing frisbee in a park with a golf cart\\nthere are people playing a game of frisbee in the park\\nthere are people playing frisbee in a grassy field\\nthere are people playing frisbee in a park with golf carts\\nthere are two people playing frisbee in the park on the grass\\nseveral people playing golf in a park with carts and golf carts\\nseveral people playing golf in a grassy area with carts\\nseveral people playing a game of golf in a park with carts\\nseveral people are playing golf in a grassy field with carts\\nseveral people are playing a game of golf in a park\\nseveral people playing a game of golf in a grassy field\\nseveral people are playing frisbee in a grassy field\\nseveral people playing a game of frisbee in a grassy field\\nseveral people playing frisbee in a grassy field with a golf cart\\nseveral people playing frisbee in a grassy field with golf carts\\nthere are people playing frisbee in a park with many carts\\nthere are two people playing frisbee in the grass on the golf course\\nthere are two people playing frisbee in the grass on the field\\nthere are two people playing a game of golf on the grass\\nthere are two people playing golf on a green field\\nseveral people playing golf in a grassy field with a golf cart\\nseveral people playing golf in a park with a golf cart\\nseveral people playing golf on a green field with a golf cart\\nseveral people playing golf on a green field with trees in the background\\nseveral people playing golf on a green field with carts\\nseveral people are playing golf on a green field with a golf cart\\nseveral people playing golf on a golf course with a cart in the background\\nseveral people playing golf on a sunny day in the park\\nseveral people are playing golf on a green field with trees in the background\\nseveral people are playing golf in a grassy field with trees\\nseveral people are playing golf on a green field with trees\\nthere are two people playing a game of golf in the grass\\nthey are playing frisbee in the park on a sunny day\\nthere are two people playing frisbee in the park together\\nthere are two boys playing golf on a green field\\nthere are two people playing golf in the grass on a sunny day\\nthere are two people playing a game of frisbee in the park\\nthere are two boys playing golf in the grass with a frisbee\\nthere are two people playing a game of golf in the park\\nthere are two men playing golf on a green field\\nthere are two people playing frisbee in the grass\\nthey are playing golf on the green grass in the park\\nthere are two people playing frisbee in the park on a sunny day\\nthere are two people playing golf in the grass together\\nseveral people are playing a game of frisbee in a park\\nthere are three people playing golf on a green field\\nthere are two people playing golf in the grass with a dog\\nseveral people are playing a game of golf in a grassy field\\nseveral people playing a game of golf on a sunny day\\nseveral people are playing a game of golf on a sunny day\\nseveral people are playing a game of golf on a green field\\nseveral people playing frisbee in a park with golf carts\\nseveral people are playing golf in a grassy field with a golf cart\\nseveral people playing golf on a green field with a cart\\nthere are two people playing frisbee in the park with a golf cart\\nthere are two people playing a game of golf on the green\\nthere are two people playing golf in the grass with a golf cart\\n', metadata={'source': '/Users/bpakra200/tubegpt/tubegpt/src/notebook/list-bliplarge.txt'}),\n",
       "  0.4561895430088043)]"
      ]
     },
     "execution_count": 34,
     "metadata": {},
     "output_type": "execute_result"
    }
   ],
   "source": [
    "PERSIST_DIRECTORY_OPENAI =  \"../tubegptvisionlargedb\"\n",
    "embeddings = OpenAIEmbeddings()\n",
    "tubegptvisionlargedb = Chroma(persist_directory=PERSIST_DIRECTORY_OPENAI, embedding_function=embeddings)\n",
    "tubegptvisionlargedb.similarity_search_with_score(\"are they playing golf\", k=2)"
   ]
  },
  {
   "cell_type": "code",
   "execution_count": null,
   "metadata": {},
   "outputs": [],
   "source": [
    "PERSIST_DIRECTORY_OPENAI =  \"../tubegptvisiondb/\"\n",
    "embeddings = OpenAIEmbeddings()\n",
    "tubegptvisiondb = Chroma(persist_directory=PERSIST_DIRECTORY_OPENAI, embedding_function=embeddings)\n",
    "tubegptvisiondb.similarity_search_with_score(\"are they playing golf\", k=2)"
   ]
  },
  {
   "attachments": {},
   "cell_type": "markdown",
   "metadata": {},
   "source": [
    "## Create a prompt Templete"
   ]
  },
  {
   "cell_type": "code",
   "execution_count": 15,
   "metadata": {},
   "outputs": [
    {
     "name": "stdout",
     "output_type": "stream",
     "text": [
      "You're a Helper of poor vision person who needs help to understand a video content .\n",
      " \n",
      "A youtube user asking about contents \n",
      " \n",
      "Answer with Accurate data   to the question and the way Helper of  poor vision person speaks and only depends on provided Data. \n",
      " \n",
      "Question: Why do we need to zero out the gradient before backprop at each step?\n",
      "Answer:\n"
     ]
    }
   ],
   "source": [
    "template = \"\"\"You're a Helper of poor vision person who needs help to understand a video content .\n",
    " \n",
    "{context}\n",
    " \n",
    "Answer with Accurate data   to the question and the way Helper of  poor vision person speaks and only depends on provided Data. \n",
    " \n",
    "Question: {question}\n",
    "Answer:\"\"\"\n",
    " \n",
    "prompt = PromptTemplate(template=template, input_variables=[\"context\", \"question\"])\n",
    "print(\n",
    "    prompt.format(\n",
    "        context=\"A youtube user asking about contents \",\n",
    "        question=\"Why do we need to zero out the gradient before backprop at each step?\",\n",
    "    )\n",
    ")"
   ]
  },
  {
   "attachments": {},
   "cell_type": "markdown",
   "metadata": {},
   "source": [
    "## Create Retriver and Reader from caption Data for base model"
   ]
  },
  {
   "cell_type": "code",
   "execution_count": 18,
   "metadata": {},
   "outputs": [],
   "source": [
    "chain_type_kwargs = {\"prompt\": prompt}\n",
    "chain = RetrievalQA.from_chain_type(\n",
    "    llm=ChatOpenAI(temperature=.4),\n",
    "    chain_type=\"stuff\",\n",
    "    retriever=tubegptvisiondb.as_retriever(search_kwargs={\"k\": 1}),\n",
    "    chain_type_kwargs=chain_type_kwargs,\n",
    ")"
   ]
  },
  {
   "attachments": {},
   "cell_type": "markdown",
   "metadata": {},
   "source": [
    "## Create Retriver and Reader from caption Data for large captioning model"
   ]
  },
  {
   "cell_type": "code",
   "execution_count": 35,
   "metadata": {},
   "outputs": [],
   "source": [
    "chain_type_kwargs = {\"prompt\": prompt}\n",
    "chainlarge = RetrievalQA.from_chain_type(\n",
    "    llm=ChatOpenAI(temperature=.4),\n",
    "    chain_type=\"stuff\",\n",
    "    retriever=tubegptvisionlargedb.as_retriever(search_kwargs={\"k\": 1}),\n",
    "    chain_type_kwargs=chain_type_kwargs,\n",
    ")"
   ]
  },
  {
   "attachments": {},
   "cell_type": "markdown",
   "metadata": {},
   "source": [
    "## Asking questions on Video"
   ]
  },
  {
   "cell_type": "code",
   "execution_count": 102,
   "metadata": {},
   "outputs": [
    {
     "name": "stdout",
     "output_type": "stream",
     "text": [
      "The game they are playing is golf.\n"
     ]
    }
   ],
   "source": [
    "query = \"What was game they are playing\"\n",
    "response = chain.run(query)\n",
    "print_response(response)"
   ]
  },
  {
   "cell_type": "code",
   "execution_count": 103,
   "metadata": {},
   "outputs": [
    {
     "name": "stdout",
     "output_type": "stream",
     "text": [
      "The game they are playing is golf.\n"
     ]
    }
   ],
   "source": [
    "query = \"What was game they are playing\"\n",
    "response = chainlarge.run(query)\n",
    "print_response(response)"
   ]
  },
  {
   "cell_type": "code",
   "execution_count": 22,
   "metadata": {},
   "outputs": [
    {
     "name": "stdout",
     "output_type": "stream",
     "text": [
      "Based on the provided data, there is no information about two ladies putting their hands above their\n",
      "eyes while staring out.\n"
     ]
    }
   ],
   "source": [
    "query = \"Why did the two ladies put their hands above their eyes while staring out?\"\n",
    "response = chain.run(query)\n",
    "print_response(response)"
   ]
  },
  {
   "cell_type": "code",
   "execution_count": 115,
   "metadata": {},
   "outputs": [
    {
     "name": "stdout",
     "output_type": "stream",
     "text": [
      "I'm sorry, but based on the provided data, there is no information about two ladies putting their\n",
      "hands above their eyes while staring out.\n"
     ]
    }
   ],
   "source": [
    "query = \"Why did the two ladies put their hands above their eyes while staring out?\"\n",
    "response = chainlarge.run(query)\n",
    "print_response(response)"
   ]
  },
  {
   "cell_type": "code",
   "execution_count": 104,
   "metadata": {},
   "outputs": [
    {
     "name": "stdout",
     "output_type": "stream",
     "text": [
      "The color of the golf cart is green.\n"
     ]
    }
   ],
   "source": [
    "query = \"what was the color of golf cart?\"\n",
    "response = chainlarge.run(query)\n",
    "print_response(response)"
   ]
  },
  {
   "cell_type": "code",
   "execution_count": 105,
   "metadata": {},
   "outputs": [
    {
     "name": "stdout",
     "output_type": "stream",
     "text": [
      "The color of the golf cart was green.\n"
     ]
    }
   ],
   "source": [
    "query = \"what was the color of golf cart?\"\n",
    "response = chain.run(query)\n",
    "print_response(response)"
   ]
  },
  {
   "cell_type": "code",
   "execution_count": 40,
   "metadata": {},
   "outputs": [
    {
     "name": "stdout",
     "output_type": "stream",
     "text": [
      "I apologize, but the provided data does not mention anything about the color of the pants people are\n",
      "wearing.\n"
     ]
    }
   ],
   "source": [
    "query = \"what the color of the pant people wearing?\"\n",
    "response = chain.run(query)\n",
    "print_response(response)"
   ]
  },
  {
   "cell_type": "code",
   "execution_count": 41,
   "metadata": {},
   "outputs": [
    {
     "name": "stdout",
     "output_type": "stream",
     "text": [
      "I'm sorry, but the provided data does not mention anything about the color of the pants people are\n",
      "wearing.\n"
     ]
    }
   ],
   "source": [
    "query = \"what the color of the pant people wearing?\"\n",
    "response = chainlarge.run(query)\n",
    "print_response(response)"
   ]
  },
  {
   "cell_type": "code",
   "execution_count": 42,
   "metadata": {},
   "outputs": [
    {
     "name": "stdout",
     "output_type": "stream",
     "text": [
      "There are several people playing in the given video content.\n"
     ]
    }
   ],
   "source": [
    "query = \"how many people playing?\"\n",
    "response = chainlarge.run(query)\n",
    "print_response(response)"
   ]
  },
  {
   "cell_type": "code",
   "execution_count": 110,
   "metadata": {},
   "outputs": [
    {
     "name": "stdout",
     "output_type": "stream",
     "text": [
      "The provided data does not include any information about the number on the golf cart.\n"
     ]
    }
   ],
   "source": [
    "query = \"what is the number on golf cart?\"\n",
    "response = chainlarge.run(query)\n",
    "print_response(response)"
   ]
  },
  {
   "cell_type": "code",
   "execution_count": 107,
   "metadata": {},
   "outputs": [
    {
     "name": "stdout",
     "output_type": "stream",
     "text": [
      "Based on the provided data, there is no information about the weather or whether it was a sunny day.\n"
     ]
    }
   ],
   "source": [
    "query = \"Can you let me know if it was a sunny day?\"\n",
    "response = chainlarge.run(query)\n",
    "print_response(response)"
   ]
  },
  {
   "cell_type": "code",
   "execution_count": 109,
   "metadata": {},
   "outputs": [
    {
     "name": "stdout",
     "output_type": "stream",
     "text": [
      "The golf cart is green in color and has a wreath on the back. It may also have a stuffed animal or a\n",
      "Christmas decoration on it.\n"
     ]
    }
   ],
   "source": [
    "query = \"Can you describe the golf cart?\"\n",
    "response = chainlarge.run(query)\n",
    "print_response(response)"
   ]
  },
  {
   "cell_type": "code",
   "execution_count": 111,
   "metadata": {},
   "outputs": [
    {
     "name": "stdout",
     "output_type": "stream",
     "text": [
      "Based on the provided data, the background appears to be a park or a grassy field. People are\n",
      "playing various activities such as golf or frisbee. There are also golf carts present in the\n",
      "background. The weather seems to be sunny.\n"
     ]
    }
   ],
   "source": [
    "query = \"Can you describe the background?\"\n",
    "response = chainlarge.run(query)\n",
    "print_response(response)"
   ]
  },
  {
   "cell_type": "code",
   "execution_count": 114,
   "metadata": {},
   "outputs": [
    {
     "name": "stdout",
     "output_type": "stream",
     "text": [
      "Based on the provided data, there is no information about the weather conditions during the game.\n"
     ]
    }
   ],
   "source": [
    "query = \"Is it sunny during the game ?\"\n",
    "response = chainlarge.run(query)\n",
    "print_response(response)"
   ]
  }
 ],
 "metadata": {
  "kernelspec": {
   "display_name": "newl1gpt",
   "language": "python",
   "name": "python3"
  },
  "language_info": {
   "codemirror_mode": {
    "name": "ipython",
    "version": 3
   },
   "file_extension": ".py",
   "mimetype": "text/x-python",
   "name": "python",
   "nbconvert_exporter": "python",
   "pygments_lexer": "ipython3",
   "version": "3.11.4"
  },
  "orig_nbformat": 4
 },
 "nbformat": 4,
 "nbformat_minor": 2
}
