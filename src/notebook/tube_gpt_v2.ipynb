{
 "cells": [
  {
   "cell_type": "code",
   "execution_count": 1,
   "metadata": {},
   "outputs": [],
   "source": [
    "from langchain.llms import OpenAI\n",
    "from langchain.chat_models import ChatOpenAI\n",
    "from langchain.chains import LLMChain\n",
    "from langchain.prompts import PromptTemplate\n",
    "from langchain.chains import SimpleSequentialChain\n",
    "from langchain.chains.api.prompt import API_RESPONSE_PROMPT\n",
    "from langchain.chains import APIChain\n",
    "from langchain.prompts.prompt import PromptTemplate\n",
    "from langchain.agents.agent_toolkits import create_python_agent\n",
    "from langchain.agents import load_tools, initialize_agent\n",
    "from langchain.agents import AgentType\n",
    "from langchain.tools.python.tool import PythonREPLTool\n",
    "from langchain.python import PythonREPL\n",
    "from langchain.agents import tool\n",
    "from langchain.document_loaders import TextLoader, UnstructuredPDFLoader, YoutubeLoader\n",
    "from langchain.text_splitter import RecursiveCharacterTextSplitter\n",
    "from langchain.vectorstores import Chroma\n",
    "from langchain.embeddings import HuggingFaceEmbeddings, OpenAIEmbeddings\n",
    "from langchain.indexes import VectorstoreIndexCreator\n",
    "from langchain.chains import RetrievalQA\n",
    "import textwrap\n",
    "from langchain.utilities import GoogleSearchAPIWrapper\n",
    "from langchain.tools import Tool\n",
    "import langchain\n",
    "import json\n",
    "from langchain.document_loaders import WebBaseLoader\n",
    "from langchain.document_loaders.generic import GenericLoader\n",
    "from langchain.document_loaders.parsers import OpenAIWhisperParser\n",
    "from langchain.document_loaders.blob_loaders.youtube_audio import YoutubeAudioLoader\n",
    "from langchain.schema import Document\n",
    "from typing import Iterator, List, Literal, Optional, Sequence, Union\n",
    "from langchain.document_loaders.blob_loaders import FileSystemBlobLoader\n",
    "import os\n",
    "import openai\n",
    "from langchain.document_loaders import TextLoader\n"
   ]
  },
  {
   "cell_type": "code",
   "execution_count": 2,
   "metadata": {},
   "outputs": [],
   "source": [
    "def print_response(response: str):\n",
    "    print(\"\\n\".join(textwrap.wrap(response, width=100)))"
   ]
  },
  {
   "cell_type": "code",
   "execution_count": 3,
   "metadata": {},
   "outputs": [],
   "source": [
    "\n",
    "\n",
    "from dotenv import load_dotenv, find_dotenv\n",
    "_ = load_dotenv(find_dotenv()) # read local .env file\n",
    "openai.api_key = os.environ['OPENAI_API_KEY']\n"
   ]
  },
  {
   "attachments": {},
   "cell_type": "markdown",
   "metadata": {},
   "source": [
    "##  Download Video in Save directory\n",
    "## Transcribe the videos to text\n",
    "## keep the transcript in document "
   ]
  },
  {
   "cell_type": "code",
   "execution_count": 4,
   "metadata": {},
   "outputs": [
    {
     "name": "stdout",
     "output_type": "stream",
     "text": [
      "[youtube] Extracting URL: https://www.youtube.com/watch?v=_xASV0YmROc\n",
      "[youtube] _xASV0YmROc: Downloading webpage\n",
      "[youtube] _xASV0YmROc: Downloading ios player API JSON\n",
      "[youtube] _xASV0YmROc: Downloading android player API JSON\n",
      "[youtube] _xASV0YmROc: Downloading m3u8 information\n",
      "[info] _xASV0YmROc: Downloading 1 format(s): 140\n",
      "[download] /Users/bpakra200/Downloads/YouTubeYoga3/The 3-Minute Yoga Routine To Jump Start Your Mornings.m4a has already been downloaded\n",
      "[download] 100% of    2.70MiB\n"
     ]
    },
    {
     "name": "stderr",
     "output_type": "stream",
     "text": [
      "ERROR: Postprocessing: ffprobe and ffmpeg not found. Please install or provide the path using --ffmpeg-location\n"
     ]
    },
    {
     "name": "stdout",
     "output_type": "stream",
     "text": [
      "Error loading documents: ERROR: Postprocessing: ffprobe and ffmpeg not found. Please install or provide the path using --ffmpeg-location\n"
     ]
    }
   ],
   "source": [
    "\n",
    "#  Yoga lecture videos\n",
    "urls = [\"https://www.youtube.com/watch?v=_xASV0YmROc\"]\n",
    "\n",
    "# Directory to save audio files\n",
    "save_dir = \"/Users/bpakra200/Downloads/YouTubeYoga3\"\n",
    "\n",
    "try:\n",
    "    # Transcribe the videos to text\n",
    "    loader = GenericLoader(YoutubeAudioLoader(urls, save_dir), OpenAIWhisperParser())\n",
    "\n",
    "    docs = loader.load()\n",
    "    print(\"After load\")\n",
    "    if len(docs) == 0:\n",
    "        print(\"No documents loaded.\")\n",
    "    else:\n",
    "        for doc in docs:\n",
    "            # Process the loaded documents\n",
    "            print(doc)\n",
    "except Exception as e:\n",
    "    print(\"Error loading documents:\", str(e))    \n",
    " "
   ]
  },
  {
   "cell_type": "code",
   "execution_count": 5,
   "metadata": {},
   "outputs": [
    {
     "ename": "NameError",
     "evalue": "name 'docs' is not defined",
     "output_type": "error",
     "traceback": [
      "\u001b[0;31m---------------------------------------------------------------------------\u001b[0m",
      "\u001b[0;31mNameError\u001b[0m                                 Traceback (most recent call last)",
      "Cell \u001b[0;32mIn[5], line 2\u001b[0m\n\u001b[1;32m      1\u001b[0m \u001b[39m# Returns a list of Documents, which can be easily viewed or parsed\u001b[39;00m\n\u001b[0;32m----> 2\u001b[0m \u001b[39mlen\u001b[39m(docs)\n",
      "\u001b[0;31mNameError\u001b[0m: name 'docs' is not defined"
     ]
    }
   ],
   "source": [
    "# Returns a list of Documents, which can be easily viewed or parsed\n",
    "len(docs)"
   ]
  },
  {
   "cell_type": "code",
   "execution_count": 55,
   "metadata": {},
   "outputs": [],
   "source": [
    "# Combine doc\n",
    "combined_docs = [doc.page_content for doc in docs]\n",
    "text = \" \".join(combined_docs)"
   ]
  },
  {
   "attachments": {},
   "cell_type": "markdown",
   "metadata": {},
   "source": [
    "Although HuggingFaceEmbeddings is a free and user-friendly option to get started with embeddings, OpenAI also offers an API for text embeddings5, which might perform much better. With LangChain, it is straightforward to use the OpenAI API for embeddings:"
   ]
  },
  {
   "cell_type": "code",
   "execution_count": 56,
   "metadata": {},
   "outputs": [],
   "source": [
    "embeddings = OpenAIEmbeddings()"
   ]
  },
  {
   "attachments": {},
   "cell_type": "markdown",
   "metadata": {},
   "source": [
    "# Storing Embeddings\n",
    "Note that Chroma doesn't automatically persist the embeddings, so you'll need to provide an additional parameter persist_directory to ensure they're saved along with the documents:"
   ]
  },
  {
   "cell_type": "code",
   "execution_count": 57,
   "metadata": {},
   "outputs": [
    {
     "name": "stderr",
     "output_type": "stream",
     "text": [
      "Number of requested results 2 is greater than number of elements in index 1, updating n_results = 1\n"
     ]
    },
    {
     "data": {
      "text/plain": [
       "[(Document(page_content='there is a stuffed santa claus doll on a wreath on the back of a truck\\nthere is a stuffed santa claus doll on a wreath on the back of a car\\nthere is a stuffed santa claus on a wreath on the back of a car\\nthere is a stuffed santa claus sitting on a wreath on the back of a car\\nthere is a stuffed santa claus sitting on a wreath on the back of a golf cart\\nthere is a stuffed santa claus on a wreath on the back of a golf cart\\nthere is a stuffed santa claus sitting on a wreath on the back of a truck\\nthere is a stuffed animal that is sitting on a wreath\\nthere is a wreath with a santa clause on it on the back of a car\\nthere is a stuffed animal in a wreath on the back of a car\\nthere is a stuffed santa claus on a wreath on the back of a truck\\nthere is a stuffed animal in a wreath on the back of a truck\\nthere is a stuffed santa claus sitting on a christmas wreath\\nthere is a stuffed santa claus doll sitting on a christmas wreath\\nthere is a stuffed animal that is sitting in a wreath\\nthere is a stuffed animal that is sitting on a blanket\\nthere is a stuffed santa claus sitting on a green wreath\\nthere is a stuffed santa claus sitting on a green blanket\\nthere is a stuffed animal that is sitting in the back of a truck\\nthere is a stuffed santa claus sitting on a christmas tree\\nthere is a stuffed animal that is sitting in the trunk of a car\\nthere is a stuffed animal in a car with a wreath\\nthere is a stuffed animal in a christmas wreath on the back of a truck\\nthere is a stuffed animal in the back of a car with a wreath\\nthere is a stuffed animal in a christmas wreath in the back of a car\\nthere is a stuffed santa claus sitting in a green car\\nthere is a stuffed santa claus sitting in a green truck\\nthere is a stuffed santa claus sitting in a wreath on the back of a car\\nthere is a stuffed santa claus sitting in the back of a car\\nthere is a stuffed santa claus sitting in the back of a truck\\nthere is a stuffed animal that is sitting on a car\\nthere is a stuffed monkey sitting on a christmas wreath on the back of a car\\nthere is a stuffed animal that is sitting on a golf cart\\nthere is a wreath with a santa clause on it on a golf cart\\nthere is a christmas wreath on the back of a car\\nthere is a stuffed snowman sitting on a green car with a wreath\\nthere is a santa clause sitting on a wreath on the back of a car\\nthere is a stuffed animal sitting on a christmas wreath on a golf cart\\nthere is a stuffed toy sitting on a golf cart with a wreath\\nthere is a stuffed santa claus on a golf cart with a wreath\\nthere is a stuffed snowman sitting on a green golf cart\\nthere is a stuffed snowman sitting on a christmas wreath\\nthere is a stuffed animal that is sitting on a christmas wreath\\nthere is a stuffed santa claus on a christmas wreath on a golf cart\\nthere is a stuffed santa claus on a christmas wreath on the back of a truck\\nthere is a christmas wreath with a santa clause on it\\nthere is a stuffed santa claus sitting on a golf cart\\nthere is a stuffed animal sitting on a wreath on the back of a golf cart\\nthere is a stuffed santa claus on a wreath on a green truck\\nthere is a stuffed animal that is on a wreath on the back of a car\\nthere is a stuffed animal that is laying on a wreath\\nthere is a stuffed animal in a wreath on a golf cart\\nthere is a stuffed animal in a wreath on the back of a golf cart\\nthere is a stuffed santa claus sitting in a wreath on the back of a truck\\nthere is a santa clause on a wreath on the back of a car\\nthere is a santa clause hanging on a wreath on the back of a car\\nthere is a stuffed santa claus on a wreath on a golf cart\\nthere is a stuffed santa claus sitting on a wreath on a golf cart\\nthere is a stuffed santa claus sitting in a wreath on the back of a golf cart\\nthere is a stuffed animal on a wreath on the back of a golf cart\\nthere is a stuffed animal on a golf cart with a wreath\\nthere is a wreath with a santa clause on it on the back of a golf cart\\nthere is a stuffed bear that is sitting on a wreath\\nthere is a stuffed animal on a wreath on the back of a truck\\nthere is a teddy bear sitting on a wreath on the back of a golf cart\\nthere is a stuffed bear in a wreath on the back of a golf cart\\nthere is a wreath on the back of a golf cart\\nthere is a christmas wreath on the back of a golf cart\\nthere is a teddy bear and a wreath on the back of a golf cart\\nthere is a dog standing next to a golf cart with a wreath on it\\nthere is a teddy bear sitting on a golf cart with a wreath\\nthere is a teddy bear sitting on a christmas wreath on a golf cart\\nthere is a small wreath on the back of a golf cart\\nthere is a dog that is standing next to a golf cart\\nthere is a golf cart with a wreath on it and a golf ball\\nthere is a golf cart with a christmas wreath on it\\nthere is a cat sitting on a golf cart with a wreath on it\\nthere is a dog that is sitting in a golf cart\\nthere is a black cat sitting on a golf cart with a wreath on it\\nthere is a dog sitting in a golf cart with a wreath on it\\nthere is a stuffed animal in a golf cart with a wreath on it\\nthere is a stuffed animal in a golf cart with a christmas wreath\\nthere is a stuffed animal in a golf cart with a santa clause on it\\nthere is a small stuffed animal sitting on a golf cart\\nthere is a dog that is standing in a golf cart\\nthere is a black dog sitting in a golf cart with a stuffed animal\\nthere is a dog sitting in a golf cart with a stuffed animal on it\\nthere is a green golf cart with a santa clause on it\\nthere is a dog sitting in a golf cart with a christmas decoration on it\\nthere is a black dog that is standing in a golf cart\\nthere is a cat that is standing on a golf cart\\nthere is a cat sitting on a golf cart with a christmas decoration on it\\nthere is a golf cart with a christmas decoration on it\\nthere is a green golf cart with a red and white decoration on it\\nthere is a cat that is standing next to a golf cart\\nthere is a cat sitting on a golf cart with a santa hat on\\nthere is a black cat standing next to a green golf cart\\nthere is a black cat standing next to a golf cart\\nthere is a cat sitting on a golf cart with a bag on it\\nthere is a cat sitting in a golf cart with a bag on it\\nthere is a black cat sitting in a golf cart with a santa hat on\\nthere is a dog sitting in a golf cart with a hat on\\nthere is a dog sitting in a golf cart with a santa hat on\\nthere is a golf cart with a santa clause on the back\\nthere is a green golf cart with a stuffed animal on it\\nthere is a golf cart with a stuffed animal on the back\\nthere is a green golf cart with a santa hat on it\\nthere is a golf cart with a santa clause on it\\nthere is a golf cart with santa claus on it parked in the driveway\\nthere is a green golf cart with a red rose on the back\\nthere is a green golf cart with a red and white flag on it\\nthere is a green golf cart with a red and white flower on it\\nthere is a green golf cart with a red and white hat on it\\nthere is a golf cart with a christmas decoration on the back\\nthere is a green golf cart with a santa clause on the back\\nthere is a green golf cart with a christmas decoration on it\\nthere is a green golf cart with a red and white bow on it\\nthere is a green golf cart with a red and white bag on it\\nthere is a green golf cart with a red hat on it\\nthere is a green golf cart with santa hats on it\\nthere is a green golf cart with a white seat and a red bow on the back\\nthere is a green golf cart with a dog on it\\nthere is a green golf cart with a white seat and a red hat\\nthere is a small green golf cart with a santa clause on top\\nthere is a golf cart with a golf ball on the back\\nthere is a golf cart with a person on it parked in the grass\\nthere is a man riding a golf cart with a surfboard on top\\nthere is a small green golf cart with a white seat\\nthere is a golf cart with a surfboard on top of it\\nthere are many people riding golf carts on the grass\\nthere are people playing golf on a golf course with carts\\nthere are many people on golf carts on the grass\\nthere is a golf cart that is parked on the grass\\nthere is a golf cart parked on the side of the road\\nthere is a man riding a golf cart on the grass\\nthere is a man that is standing on a golf cart\\nthere is a man that is playing golf in the grass\\nthere is a man that is playing golf on the grass\\nthere is a man that is standing in the grass with a golf club\\nthere are people playing golf on a green field with a cart\\nthere are people playing golf in the park on a sunny day\\nthere are people playing a game of golf in the park\\nthere are people playing frisbee in the park on a sunny day\\nseveral people playing a game of frisbee in a park\\nseveral people playing a game of golf in a park\\nseveral people playing frisbee in a park with a golf cart\\nthere are people playing a game of frisbee in the park\\nthere are people playing frisbee in a grassy field\\nthere are people playing frisbee in a park with golf carts\\nthere are two people playing frisbee in the park on the grass\\nseveral people playing golf in a park with carts and golf carts\\nseveral people playing golf in a grassy area with carts\\nseveral people playing a game of golf in a park with carts\\nseveral people are playing golf in a grassy field with carts\\nseveral people are playing a game of golf in a park\\nseveral people playing a game of golf in a grassy field\\nseveral people are playing frisbee in a grassy field\\nseveral people playing a game of frisbee in a grassy field\\nseveral people playing frisbee in a grassy field with a golf cart\\nseveral people playing frisbee in a grassy field with golf carts\\nthere are people playing frisbee in a park with many carts\\nthere are two people playing frisbee in the grass on the golf course\\nthere are two people playing frisbee in the grass on the field\\nthere are two people playing a game of golf on the grass\\nthere are two people playing golf on a green field\\nseveral people playing golf in a grassy field with a golf cart\\nseveral people playing golf in a park with a golf cart\\nseveral people playing golf on a green field with a golf cart\\nseveral people playing golf on a green field with trees in the background\\nseveral people playing golf on a green field with carts\\nseveral people are playing golf on a green field with a golf cart\\nseveral people playing golf on a golf course with a cart in the background\\nseveral people playing golf on a sunny day in the park\\nseveral people are playing golf on a green field with trees in the background\\nseveral people are playing golf in a grassy field with trees\\nseveral people are playing golf on a green field with trees\\nthere are two people playing a game of golf in the grass\\nthey are playing frisbee in the park on a sunny day\\nthere are two people playing frisbee in the park together\\nthere are two boys playing golf on a green field\\nthere are two people playing golf in the grass on a sunny day\\nthere are two people playing a game of frisbee in the park\\nthere are two boys playing golf in the grass with a frisbee\\nthere are two people playing a game of golf in the park\\nthere are two men playing golf on a green field\\nthere are two people playing frisbee in the grass\\nthey are playing golf on the green grass in the park\\nthere are two people playing frisbee in the park on a sunny day\\nthere are two people playing golf in the grass together\\nseveral people are playing a game of frisbee in a park\\nthere are three people playing golf on a green field\\nthere are two people playing golf in the grass with a dog\\nseveral people are playing a game of golf in a grassy field\\nseveral people playing a game of golf on a sunny day\\nseveral people are playing a game of golf on a sunny day\\nseveral people are playing a game of golf on a green field\\nseveral people playing frisbee in a park with golf carts\\nseveral people are playing golf in a grassy field with a golf cart\\nseveral people playing golf on a green field with a cart\\nthere are two people playing frisbee in the park with a golf cart\\nthere are two people playing a game of golf on the green\\nthere are two people playing golf in the grass with a golf cart\\n', metadata={'source': '/Users/bpakra200/tubegpt/tubegpt/src/notebook/list-bliplarge.txt'}),\n",
       "  0.5877415537834167)]"
      ]
     },
     "execution_count": 57,
     "metadata": {},
     "output_type": "execute_result"
    }
   ],
   "source": [
    "PERSIST_DIRECTORY_OPENAI = \"../tubegptdb\"\n",
    " \n",
    "tubegptdb = Chroma.from_documents(\n",
    "    documents=docs, embedding= embeddings, persist_directory=PERSIST_DIRECTORY_OPENAI\n",
    ")\n",
    "tubegptdb.similarity_search_with_score(\"What was the yoga move?\", k=2)"
   ]
  },
  {
   "attachments": {},
   "cell_type": "markdown",
   "metadata": {},
   "source": [
    "# Loading Embeddings\n",
    "Loading the embeddings is just as easy, you just need to provide the persist_directory and embedding_function parameters:"
   ]
  },
  {
   "cell_type": "code",
   "execution_count": 58,
   "metadata": {},
   "outputs": [],
   "source": [
    "tubegptdb.persist()"
   ]
  },
  {
   "attachments": {},
   "cell_type": "markdown",
   "metadata": {},
   "source": [
    "# save openai embedding"
   ]
  },
  {
   "cell_type": "code",
   "execution_count": 59,
   "metadata": {},
   "outputs": [
    {
     "name": "stderr",
     "output_type": "stream",
     "text": [
      "Number of requested results 2 is greater than number of elements in index 1, updating n_results = 1\n"
     ]
    },
    {
     "data": {
      "text/plain": [
       "[(Document(page_content='there is a stuffed santa claus doll on a wreath on the back of a truck\\nthere is a stuffed santa claus doll on a wreath on the back of a car\\nthere is a stuffed santa claus on a wreath on the back of a car\\nthere is a stuffed santa claus sitting on a wreath on the back of a car\\nthere is a stuffed santa claus sitting on a wreath on the back of a golf cart\\nthere is a stuffed santa claus on a wreath on the back of a golf cart\\nthere is a stuffed santa claus sitting on a wreath on the back of a truck\\nthere is a stuffed animal that is sitting on a wreath\\nthere is a wreath with a santa clause on it on the back of a car\\nthere is a stuffed animal in a wreath on the back of a car\\nthere is a stuffed santa claus on a wreath on the back of a truck\\nthere is a stuffed animal in a wreath on the back of a truck\\nthere is a stuffed santa claus sitting on a christmas wreath\\nthere is a stuffed santa claus doll sitting on a christmas wreath\\nthere is a stuffed animal that is sitting in a wreath\\nthere is a stuffed animal that is sitting on a blanket\\nthere is a stuffed santa claus sitting on a green wreath\\nthere is a stuffed santa claus sitting on a green blanket\\nthere is a stuffed animal that is sitting in the back of a truck\\nthere is a stuffed santa claus sitting on a christmas tree\\nthere is a stuffed animal that is sitting in the trunk of a car\\nthere is a stuffed animal in a car with a wreath\\nthere is a stuffed animal in a christmas wreath on the back of a truck\\nthere is a stuffed animal in the back of a car with a wreath\\nthere is a stuffed animal in a christmas wreath in the back of a car\\nthere is a stuffed santa claus sitting in a green car\\nthere is a stuffed santa claus sitting in a green truck\\nthere is a stuffed santa claus sitting in a wreath on the back of a car\\nthere is a stuffed santa claus sitting in the back of a car\\nthere is a stuffed santa claus sitting in the back of a truck\\nthere is a stuffed animal that is sitting on a car\\nthere is a stuffed monkey sitting on a christmas wreath on the back of a car\\nthere is a stuffed animal that is sitting on a golf cart\\nthere is a wreath with a santa clause on it on a golf cart\\nthere is a christmas wreath on the back of a car\\nthere is a stuffed snowman sitting on a green car with a wreath\\nthere is a santa clause sitting on a wreath on the back of a car\\nthere is a stuffed animal sitting on a christmas wreath on a golf cart\\nthere is a stuffed toy sitting on a golf cart with a wreath\\nthere is a stuffed santa claus on a golf cart with a wreath\\nthere is a stuffed snowman sitting on a green golf cart\\nthere is a stuffed snowman sitting on a christmas wreath\\nthere is a stuffed animal that is sitting on a christmas wreath\\nthere is a stuffed santa claus on a christmas wreath on a golf cart\\nthere is a stuffed santa claus on a christmas wreath on the back of a truck\\nthere is a christmas wreath with a santa clause on it\\nthere is a stuffed santa claus sitting on a golf cart\\nthere is a stuffed animal sitting on a wreath on the back of a golf cart\\nthere is a stuffed santa claus on a wreath on a green truck\\nthere is a stuffed animal that is on a wreath on the back of a car\\nthere is a stuffed animal that is laying on a wreath\\nthere is a stuffed animal in a wreath on a golf cart\\nthere is a stuffed animal in a wreath on the back of a golf cart\\nthere is a stuffed santa claus sitting in a wreath on the back of a truck\\nthere is a santa clause on a wreath on the back of a car\\nthere is a santa clause hanging on a wreath on the back of a car\\nthere is a stuffed santa claus on a wreath on a golf cart\\nthere is a stuffed santa claus sitting on a wreath on a golf cart\\nthere is a stuffed santa claus sitting in a wreath on the back of a golf cart\\nthere is a stuffed animal on a wreath on the back of a golf cart\\nthere is a stuffed animal on a golf cart with a wreath\\nthere is a wreath with a santa clause on it on the back of a golf cart\\nthere is a stuffed bear that is sitting on a wreath\\nthere is a stuffed animal on a wreath on the back of a truck\\nthere is a teddy bear sitting on a wreath on the back of a golf cart\\nthere is a stuffed bear in a wreath on the back of a golf cart\\nthere is a wreath on the back of a golf cart\\nthere is a christmas wreath on the back of a golf cart\\nthere is a teddy bear and a wreath on the back of a golf cart\\nthere is a dog standing next to a golf cart with a wreath on it\\nthere is a teddy bear sitting on a golf cart with a wreath\\nthere is a teddy bear sitting on a christmas wreath on a golf cart\\nthere is a small wreath on the back of a golf cart\\nthere is a dog that is standing next to a golf cart\\nthere is a golf cart with a wreath on it and a golf ball\\nthere is a golf cart with a christmas wreath on it\\nthere is a cat sitting on a golf cart with a wreath on it\\nthere is a dog that is sitting in a golf cart\\nthere is a black cat sitting on a golf cart with a wreath on it\\nthere is a dog sitting in a golf cart with a wreath on it\\nthere is a stuffed animal in a golf cart with a wreath on it\\nthere is a stuffed animal in a golf cart with a christmas wreath\\nthere is a stuffed animal in a golf cart with a santa clause on it\\nthere is a small stuffed animal sitting on a golf cart\\nthere is a dog that is standing in a golf cart\\nthere is a black dog sitting in a golf cart with a stuffed animal\\nthere is a dog sitting in a golf cart with a stuffed animal on it\\nthere is a green golf cart with a santa clause on it\\nthere is a dog sitting in a golf cart with a christmas decoration on it\\nthere is a black dog that is standing in a golf cart\\nthere is a cat that is standing on a golf cart\\nthere is a cat sitting on a golf cart with a christmas decoration on it\\nthere is a golf cart with a christmas decoration on it\\nthere is a green golf cart with a red and white decoration on it\\nthere is a cat that is standing next to a golf cart\\nthere is a cat sitting on a golf cart with a santa hat on\\nthere is a black cat standing next to a green golf cart\\nthere is a black cat standing next to a golf cart\\nthere is a cat sitting on a golf cart with a bag on it\\nthere is a cat sitting in a golf cart with a bag on it\\nthere is a black cat sitting in a golf cart with a santa hat on\\nthere is a dog sitting in a golf cart with a hat on\\nthere is a dog sitting in a golf cart with a santa hat on\\nthere is a golf cart with a santa clause on the back\\nthere is a green golf cart with a stuffed animal on it\\nthere is a golf cart with a stuffed animal on the back\\nthere is a green golf cart with a santa hat on it\\nthere is a golf cart with a santa clause on it\\nthere is a golf cart with santa claus on it parked in the driveway\\nthere is a green golf cart with a red rose on the back\\nthere is a green golf cart with a red and white flag on it\\nthere is a green golf cart with a red and white flower on it\\nthere is a green golf cart with a red and white hat on it\\nthere is a golf cart with a christmas decoration on the back\\nthere is a green golf cart with a santa clause on the back\\nthere is a green golf cart with a christmas decoration on it\\nthere is a green golf cart with a red and white bow on it\\nthere is a green golf cart with a red and white bag on it\\nthere is a green golf cart with a red hat on it\\nthere is a green golf cart with santa hats on it\\nthere is a green golf cart with a white seat and a red bow on the back\\nthere is a green golf cart with a dog on it\\nthere is a green golf cart with a white seat and a red hat\\nthere is a small green golf cart with a santa clause on top\\nthere is a golf cart with a golf ball on the back\\nthere is a golf cart with a person on it parked in the grass\\nthere is a man riding a golf cart with a surfboard on top\\nthere is a small green golf cart with a white seat\\nthere is a golf cart with a surfboard on top of it\\nthere are many people riding golf carts on the grass\\nthere are people playing golf on a golf course with carts\\nthere are many people on golf carts on the grass\\nthere is a golf cart that is parked on the grass\\nthere is a golf cart parked on the side of the road\\nthere is a man riding a golf cart on the grass\\nthere is a man that is standing on a golf cart\\nthere is a man that is playing golf in the grass\\nthere is a man that is playing golf on the grass\\nthere is a man that is standing in the grass with a golf club\\nthere are people playing golf on a green field with a cart\\nthere are people playing golf in the park on a sunny day\\nthere are people playing a game of golf in the park\\nthere are people playing frisbee in the park on a sunny day\\nseveral people playing a game of frisbee in a park\\nseveral people playing a game of golf in a park\\nseveral people playing frisbee in a park with a golf cart\\nthere are people playing a game of frisbee in the park\\nthere are people playing frisbee in a grassy field\\nthere are people playing frisbee in a park with golf carts\\nthere are two people playing frisbee in the park on the grass\\nseveral people playing golf in a park with carts and golf carts\\nseveral people playing golf in a grassy area with carts\\nseveral people playing a game of golf in a park with carts\\nseveral people are playing golf in a grassy field with carts\\nseveral people are playing a game of golf in a park\\nseveral people playing a game of golf in a grassy field\\nseveral people are playing frisbee in a grassy field\\nseveral people playing a game of frisbee in a grassy field\\nseveral people playing frisbee in a grassy field with a golf cart\\nseveral people playing frisbee in a grassy field with golf carts\\nthere are people playing frisbee in a park with many carts\\nthere are two people playing frisbee in the grass on the golf course\\nthere are two people playing frisbee in the grass on the field\\nthere are two people playing a game of golf on the grass\\nthere are two people playing golf on a green field\\nseveral people playing golf in a grassy field with a golf cart\\nseveral people playing golf in a park with a golf cart\\nseveral people playing golf on a green field with a golf cart\\nseveral people playing golf on a green field with trees in the background\\nseveral people playing golf on a green field with carts\\nseveral people are playing golf on a green field with a golf cart\\nseveral people playing golf on a golf course with a cart in the background\\nseveral people playing golf on a sunny day in the park\\nseveral people are playing golf on a green field with trees in the background\\nseveral people are playing golf in a grassy field with trees\\nseveral people are playing golf on a green field with trees\\nthere are two people playing a game of golf in the grass\\nthey are playing frisbee in the park on a sunny day\\nthere are two people playing frisbee in the park together\\nthere are two boys playing golf on a green field\\nthere are two people playing golf in the grass on a sunny day\\nthere are two people playing a game of frisbee in the park\\nthere are two boys playing golf in the grass with a frisbee\\nthere are two people playing a game of golf in the park\\nthere are two men playing golf on a green field\\nthere are two people playing frisbee in the grass\\nthey are playing golf on the green grass in the park\\nthere are two people playing frisbee in the park on a sunny day\\nthere are two people playing golf in the grass together\\nseveral people are playing a game of frisbee in a park\\nthere are three people playing golf on a green field\\nthere are two people playing golf in the grass with a dog\\nseveral people are playing a game of golf in a grassy field\\nseveral people playing a game of golf on a sunny day\\nseveral people are playing a game of golf on a sunny day\\nseveral people are playing a game of golf on a green field\\nseveral people playing frisbee in a park with golf carts\\nseveral people are playing golf in a grassy field with a golf cart\\nseveral people playing golf on a green field with a cart\\nthere are two people playing frisbee in the park with a golf cart\\nthere are two people playing a game of golf on the green\\nthere are two people playing golf in the grass with a golf cart\\n', metadata={'source': '/Users/bpakra200/tubegpt/tubegpt/src/notebook/list-bliplarge.txt'}),\n",
       "  0.5294934511184692)]"
      ]
     },
     "execution_count": 59,
     "metadata": {},
     "output_type": "execute_result"
    }
   ],
   "source": [
    "PERSIST_DIRECTORY_OPENAI = \"../tubegptdb\"\n",
    "embeddings = OpenAIEmbeddings()\n",
    "tubegptdb = Chroma(persist_directory=PERSIST_DIRECTORY_OPENAI, embedding_function=embeddings)\n",
    "tubegptdb.similarity_search_with_score(\"it is yoga\", k=2)"
   ]
  },
  {
   "attachments": {},
   "cell_type": "markdown",
   "metadata": {},
   "source": [
    "##  Prompt Engineering Template"
   ]
  },
  {
   "cell_type": "code",
   "execution_count": 60,
   "metadata": {},
   "outputs": [
    {
     "name": "stdout",
     "output_type": "stream",
     "text": [
      "You're a Professor who helps students on Youtube contents .\n",
      " \n",
      "A youtube user asking about contents \n",
      " \n",
      "Answer with Accurate data   to the question and the way Professor speaks and only depends on provided Data. \n",
      " \n",
      "Question: Why do we need to zero out the gradient before backprop at each step?\n",
      "Answer:\n"
     ]
    }
   ],
   "source": [
    "template = \"\"\"You're a Professor who helps students on Youtube contents .\n",
    " \n",
    "{context}\n",
    " \n",
    "Answer with Accurate data   to the question and the way Professor speaks and only depends on provided Data. \n",
    " \n",
    "Question: {question}\n",
    "Answer:\"\"\"\n",
    " \n",
    "prompt = PromptTemplate(template=template, input_variables=[\"context\", \"question\"])\n",
    "print(\n",
    "    prompt.format(\n",
    "        context=\"A youtube user asking about contents \",\n",
    "        question=\"Why do we need to zero out the gradient before backprop at each step?\",\n",
    "    )\n",
    ")"
   ]
  },
  {
   "attachments": {},
   "cell_type": "markdown",
   "metadata": {},
   "source": [
    "## implement Retriver and Reader with Vector database"
   ]
  },
  {
   "cell_type": "code",
   "execution_count": 61,
   "metadata": {},
   "outputs": [],
   "source": [
    "chain_type_kwargs = {\"prompt\": prompt}\n",
    "chain = RetrievalQA.from_chain_type(\n",
    "    llm=ChatOpenAI(temperature=0),\n",
    "    chain_type=\"stuff\",\n",
    "    retriever=tubegptdb.as_retriever(search_kwargs={\"k\": 1}),\n",
    "    chain_type_kwargs=chain_type_kwargs,\n",
    ")"
   ]
  },
  {
   "cell_type": "code",
   "execution_count": 62,
   "metadata": {},
   "outputs": [
    {
     "name": "stdout",
     "output_type": "stream",
     "text": [
      "After heading down like a cat, the move was to continue playing frisbee in the grass on the golf\n",
      "course.\n"
     ]
    }
   ],
   "source": [
    "query = \"What was the move after heading down like a Cat\"\n",
    "response = chain.run(query)\n",
    "print_response(response)"
   ]
  },
  {
   "cell_type": "code",
   "execution_count": 63,
   "metadata": {},
   "outputs": [
    {
     "name": "stdout",
     "output_type": "stream",
     "text": [
      "When you should focus on your core depends on your specific goals and needs. If you are looking to\n",
      "improve your overall strength and stability, it is important to incorporate core exercises into your\n",
      "regular workout routine. This can include exercises such as planks, Russian twists, and bicycle\n",
      "crunches. Additionally, if you participate in activities that require a strong core, such as sports\n",
      "or weightlifting, it is important to prioritize core training to enhance your performance and reduce\n",
      "the risk of injury. It is recommended to consult with a fitness professional or personal trainer to\n",
      "develop a personalized plan that suits your individual needs and goals.\n"
     ]
    }
   ],
   "source": [
    "query = \"When I should focus on my core\"\n",
    "response = chain.run(query)\n",
    "print_response(response)"
   ]
  },
  {
   "cell_type": "code",
   "execution_count": 64,
   "metadata": {},
   "outputs": [
    {
     "name": "stdout",
     "output_type": "stream",
     "text": [
      "When you should focus on your core depends on your specific goals and needs. If you are looking to\n",
      "improve your overall strength and stability, it is important to incorporate core exercises into your\n",
      "regular workout routine. This can include exercises such as planks, Russian twists, and bicycle\n",
      "crunches. Additionally, if you participate in activities that require a strong core, such as sports\n",
      "or weightlifting, it is important to prioritize core training to enhance your performance and reduce\n",
      "the risk of injury. It is recommended to consult with a fitness professional or personal trainer to\n",
      "develop a personalized plan that suits your individual needs and goals.\n"
     ]
    }
   ],
   "source": [
    "query = \"When I should focus on my core\"\n",
    "response = chain.run(query)\n",
    "print_response(response)"
   ]
  },
  {
   "cell_type": "code",
   "execution_count": 4,
   "metadata": {},
   "outputs": [
    {
     "name": "stderr",
     "output_type": "stream",
     "text": [
      "/Users/bpakra200/.local/share/virtualenvs/tubegpt-FIUw9MBe/lib/python3.11/site-packages/tqdm/auto.py:21: TqdmWarning: IProgress not found. Please update jupyter and ipywidgets. See https://ipywidgets.readthedocs.io/en/stable/user_install.html\n",
      "  from .autonotebook import tqdm as notebook_tqdm\n"
     ]
    }
   ],
   "source": [
    "import torch\n",
    "import torchvision.transforms as transforms\n",
    "import cv2\n",
    "from PIL import Image\n",
    "import pafy\n",
    "from transformers import BlipProcessor, BlipForConditionalGeneration\n",
    "import youtube_dl"
   ]
  },
  {
   "attachments": {},
   "cell_type": "markdown",
   "metadata": {},
   "source": [
    "## Computer Vision Model with BLIP2 "
   ]
  },
  {
   "cell_type": "code",
   "execution_count": 5,
   "metadata": {},
   "outputs": [],
   "source": [
    "import torch\n",
    "import torchvision.transforms as transforms\n",
    "import cv2\n",
    "from PIL import Image\n",
    "import pafy\n",
    "from transformers import BlipProcessor, BlipForConditionalGeneration,AutoProcessor, Blip2Processor, Blip2ForConditionalGeneration\n",
    "\n",
    "import youtube_dl"
   ]
  },
  {
   "cell_type": "code",
   "execution_count": 6,
   "metadata": {},
   "outputs": [],
   "source": [
    "import inspect\n",
    "\n",
    "if not hasattr(inspect, 'getargspec'):\n",
    "    inspect.getargspec = inspect.getfullargspec"
   ]
  },
  {
   "cell_type": "code",
   "execution_count": 68,
   "metadata": {},
   "outputs": [
    {
     "name": "stdout",
     "output_type": "stream",
     "text": [
      "[youtube] 6n9ESFJTnHs: Downloading webpage\n",
      "[download] video.mp4 has already been downloaded\n",
      "[download] 100% of 26.85MiB\n"
     ]
    }
   ],
   "source": [
    "video_url = 'https://www.youtube.com/watch?v=6n9ESFJTnHs'\n",
    "\n",
    "#video_url = 'https://www.youtube.com/watch?v=orbkg5JH9C8'\n",
    "\n",
    "# Download the video using youtube_dl and extract the frames using OpenCV\n",
    "ydl_opts = {\n",
    "    'format': 'best',\n",
    "    'outtmpl': 'video.mp4'\n",
    "}\n",
    "with youtube_dl.YoutubeDL(ydl_opts) as ydl:\n",
    "    ydl.download([video_url])"
   ]
  },
  {
   "attachments": {},
   "cell_type": "markdown",
   "metadata": {},
   "source": [
    "## find Framerate of the video"
   ]
  },
  {
   "cell_type": "code",
   "execution_count": 69,
   "metadata": {},
   "outputs": [
    {
     "name": "stdout",
     "output_type": "stream",
     "text": [
      "The frame rate is 29.97002997002997 frames per second\n"
     ]
    }
   ],
   "source": [
    "\n",
    "# Create a VideoCapture object\n",
    "cap = cv2.VideoCapture(\"demo1.mp4\")\n",
    "\n",
    "# Get the frame rate property\n",
    "frame_rate = cap.get(cv2.CAP_PROP_FPS)\n",
    "\n",
    "# Print the frame rate\n",
    "print(\"The frame rate is {} frames per second\".format(frame_rate))\n",
    "\n",
    "# Release the VideoCapture object\n",
    "cap.release() "
   ]
  },
  {
   "attachments": {},
   "cell_type": "markdown",
   "metadata": {},
   "source": [
    "## set lower framerate "
   ]
  },
  {
   "cell_type": "code",
   "execution_count": 70,
   "metadata": {},
   "outputs": [],
   "source": [
    "# Create a VideoCapture object\n",
    "cap = cv2.VideoCapture(\"demo1.mp4\")\n",
    "\n",
    "# Set the desired frame rate to 20\n",
    "cap.set(cv2.CAP_PROP_FPS, 10)\n",
    "cap.release() "
   ]
  },
  {
   "cell_type": "code",
   "execution_count": 71,
   "metadata": {},
   "outputs": [],
   "source": [
    "# Create a VideoCapture object\n",
    "cap = cv2.VideoCapture(\"video.mp4\")\n",
    "\n",
    "# Set the desired frame rate to 20\n",
    "cap.set(cv2.CAP_PROP_FPS, 1)\n",
    "cap.release() "
   ]
  },
  {
   "attachments": {},
   "cell_type": "markdown",
   "metadata": {},
   "source": [
    "## set model Different Models for testing"
   ]
  },
  {
   "cell_type": "code",
   "execution_count": 7,
   "metadata": {},
   "outputs": [
    {
     "name": "stderr",
     "output_type": "stream",
     "text": [
      "Loading checkpoint shards: 100%|██████████| 2/2 [00:42<00:00, 21.09s/it]\n"
     ]
    }
   ],
   "source": [
    "#model_id = \"Salesforce/blip-image-captioning-large\"\n",
    "\n",
    "\n",
    "model_id = \"Salesforce/blip-image-captioning-large\"\n",
    "\n",
    "model_id_blip2 = \"Salesforce/blip2-opt-2.7b\"\n",
    "\n",
    "# Set up the Hugging Face model \n",
    "# model = BlipForConditionalGeneration.from_pretrained(model_id)\n",
    "# processor = AutoProcessor.from_pretrained(model_id)\n",
    "\n",
    "blip2_processor = Blip2Processor.from_pretrained(model_id_blip2)\n",
    "blip2_model = Blip2ForConditionalGeneration.from_pretrained(model_id_blip2)"
   ]
  },
  {
   "cell_type": "code",
   "execution_count": null,
   "metadata": {},
   "outputs": [],
   "source": [
    "import requests\n",
    "from PIL import Image\n",
    "from transformers import Blip2Processor, Blip2ForConditionalGeneration\n",
    "\n",
    "processor = Blip2Processor.from_pretrained(\"Salesforce/blip2-opt-2.7b\")\n",
    "model = Blip2ForConditionalGeneration.from_pretrained(\"Salesforce/blip2-opt-2.7b\")\n",
    "\n",
    "img_url = 'https://storage.googleapis.com/sfr-vision-language-research/BLIP/demo.jpg' \n",
    "raw_image = Image.open(requests.get(img_url, stream=True).raw).convert('RGB')\n",
    "\n",
    "question = \"Describe The picture?\"\n",
    "inputs = processor(raw_image, question, return_tensors=\"pt\")\n",
    "\n",
    "out = model.generate(**inputs)\n",
    "print(\"Answers\")\n",
    "print(processor.decode(out[0], skip_special_tokens=True))\n"
   ]
  },
  {
   "cell_type": "code",
   "execution_count": 1,
   "metadata": {},
   "outputs": [
    {
     "name": "stderr",
     "output_type": "stream",
     "text": [
      "/Users/bpakra200/.local/share/virtualenvs/tubegpt-FIUw9MBe/lib/python3.11/site-packages/tqdm/auto.py:21: TqdmWarning: IProgress not found. Please update jupyter and ipywidgets. See https://ipywidgets.readthedocs.io/en/stable/user_install.html\n",
      "  from .autonotebook import tqdm as notebook_tqdm\n",
      "Loading checkpoint shards: 100%|██████████| 2/2 [00:21<00:00, 10.78s/it]\n"
     ]
    },
    {
     "ename": "AssertionError",
     "evalue": "Torch not compiled with CUDA enabled",
     "output_type": "error",
     "traceback": [
      "\u001b[0;31m---------------------------------------------------------------------------\u001b[0m",
      "\u001b[0;31mAssertionError\u001b[0m                            Traceback (most recent call last)",
      "Cell \u001b[0;32mIn[1], line 14\u001b[0m\n\u001b[1;32m     11\u001b[0m raw_image \u001b[39m=\u001b[39m Image\u001b[39m.\u001b[39mopen(requests\u001b[39m.\u001b[39mget(img_url, stream\u001b[39m=\u001b[39m\u001b[39mTrue\u001b[39;00m)\u001b[39m.\u001b[39mraw)\u001b[39m.\u001b[39mconvert(\u001b[39m'\u001b[39m\u001b[39mRGB\u001b[39m\u001b[39m'\u001b[39m)\n\u001b[1;32m     13\u001b[0m question \u001b[39m=\u001b[39m \u001b[39m\"\u001b[39m\u001b[39mhow many dogs are in the picture?\u001b[39m\u001b[39m\"\u001b[39m\n\u001b[0;32m---> 14\u001b[0m inputs \u001b[39m=\u001b[39m processor(raw_image, question, return_tensors\u001b[39m=\u001b[39;49m\u001b[39m\"\u001b[39;49m\u001b[39mpt\u001b[39;49m\u001b[39m\"\u001b[39;49m)\u001b[39m.\u001b[39;49mto(\u001b[39m\"\u001b[39;49m\u001b[39mcuda\u001b[39;49m\u001b[39m\"\u001b[39;49m, torch\u001b[39m.\u001b[39;49mfloat16)\n\u001b[1;32m     16\u001b[0m out \u001b[39m=\u001b[39m model\u001b[39m.\u001b[39mgenerate(\u001b[39m*\u001b[39m\u001b[39m*\u001b[39minputs)\n\u001b[1;32m     17\u001b[0m \u001b[39mprint\u001b[39m(processor\u001b[39m.\u001b[39mdecode(out[\u001b[39m0\u001b[39m], skip_special_tokens\u001b[39m=\u001b[39m\u001b[39mTrue\u001b[39;00m))\n",
      "File \u001b[0;32m~/.local/share/virtualenvs/tubegpt-FIUw9MBe/lib/python3.11/site-packages/transformers/feature_extraction_utils.py:224\u001b[0m, in \u001b[0;36mBatchFeature.to\u001b[0;34m(self, *args, **kwargs)\u001b[0m\n\u001b[1;32m    220\u001b[0m \u001b[39mfor\u001b[39;00m k, v \u001b[39min\u001b[39;00m \u001b[39mself\u001b[39m\u001b[39m.\u001b[39mitems():\n\u001b[1;32m    221\u001b[0m     \u001b[39m# check if v is a floating point\u001b[39;00m\n\u001b[1;32m    222\u001b[0m     \u001b[39mif\u001b[39;00m torch\u001b[39m.\u001b[39mis_floating_point(v):\n\u001b[1;32m    223\u001b[0m         \u001b[39m# cast and send to device\u001b[39;00m\n\u001b[0;32m--> 224\u001b[0m         new_data[k] \u001b[39m=\u001b[39m v\u001b[39m.\u001b[39;49mto(\u001b[39m*\u001b[39;49margs, \u001b[39m*\u001b[39;49m\u001b[39m*\u001b[39;49mkwargs)\n\u001b[1;32m    225\u001b[0m     \u001b[39melif\u001b[39;00m device \u001b[39mis\u001b[39;00m \u001b[39mnot\u001b[39;00m \u001b[39mNone\u001b[39;00m:\n\u001b[1;32m    226\u001b[0m         new_data[k] \u001b[39m=\u001b[39m v\u001b[39m.\u001b[39mto(device\u001b[39m=\u001b[39mdevice)\n",
      "File \u001b[0;32m~/.local/share/virtualenvs/tubegpt-FIUw9MBe/lib/python3.11/site-packages/torch/cuda/__init__.py:239\u001b[0m, in \u001b[0;36m_lazy_init\u001b[0;34m()\u001b[0m\n\u001b[1;32m    235\u001b[0m     \u001b[39mraise\u001b[39;00m \u001b[39mRuntimeError\u001b[39;00m(\n\u001b[1;32m    236\u001b[0m         \u001b[39m\"\u001b[39m\u001b[39mCannot re-initialize CUDA in forked subprocess. To use CUDA with \u001b[39m\u001b[39m\"\u001b[39m\n\u001b[1;32m    237\u001b[0m         \u001b[39m\"\u001b[39m\u001b[39mmultiprocessing, you must use the \u001b[39m\u001b[39m'\u001b[39m\u001b[39mspawn\u001b[39m\u001b[39m'\u001b[39m\u001b[39m start method\u001b[39m\u001b[39m\"\u001b[39m)\n\u001b[1;32m    238\u001b[0m \u001b[39mif\u001b[39;00m \u001b[39mnot\u001b[39;00m \u001b[39mhasattr\u001b[39m(torch\u001b[39m.\u001b[39m_C, \u001b[39m'\u001b[39m\u001b[39m_cuda_getDeviceCount\u001b[39m\u001b[39m'\u001b[39m):\n\u001b[0;32m--> 239\u001b[0m     \u001b[39mraise\u001b[39;00m \u001b[39mAssertionError\u001b[39;00m(\u001b[39m\"\u001b[39m\u001b[39mTorch not compiled with CUDA enabled\u001b[39m\u001b[39m\"\u001b[39m)\n\u001b[1;32m    240\u001b[0m \u001b[39mif\u001b[39;00m _cudart \u001b[39mis\u001b[39;00m \u001b[39mNone\u001b[39;00m:\n\u001b[1;32m    241\u001b[0m     \u001b[39mraise\u001b[39;00m \u001b[39mAssertionError\u001b[39;00m(\n\u001b[1;32m    242\u001b[0m         \u001b[39m\"\u001b[39m\u001b[39mlibcudart functions unavailable. It looks like you have a broken build?\u001b[39m\u001b[39m\"\u001b[39m)\n",
      "\u001b[0;31mAssertionError\u001b[0m: Torch not compiled with CUDA enabled"
     ]
    }
   ],
   "source": [
    "# pip install accelerate\n",
    "import torch\n",
    "import requests\n",
    "from PIL import Image\n",
    "from transformers import Blip2Processor, Blip2ForConditionalGeneration\n",
    "\n",
    "processor = Blip2Processor.from_pretrained(\"Salesforce/blip2-opt-2.7b\")\n",
    "model = Blip2ForConditionalGeneration.from_pretrained(\"Salesforce/blip2-opt-2.7b\", torch_dtype=torch.float16, device_map=\"auto\")\n",
    "\n",
    "img_url = 'https://storage.googleapis.com/sfr-vision-language-research/BLIP/demo.jpg' \n",
    "raw_image = Image.open(requests.get(img_url, stream=True).raw).convert('RGB')\n",
    "\n",
    "question = \"how many dogs are in the picture?\"\n",
    "inputs = processor(raw_image, question, return_tensors=\"pt\").to(\"cuda\", torch.float16)\n",
    "\n",
    "out = model.generate(**inputs)\n",
    "print(processor.decode(out[0], skip_special_tokens=True))\n"
   ]
  },
  {
   "attachments": {},
   "cell_type": "markdown",
   "metadata": {},
   "source": [
    "## Generate text from Image"
   ]
  },
  {
   "cell_type": "code",
   "execution_count": 8,
   "metadata": {},
   "outputs": [],
   "source": [
    "import torch\n",
    "\n",
    "def generate_text(image, prompt, model, processor, device):\n",
    "    inputs = processor(image, return_tensors=\"pt\")\n",
    "\n",
    "    generated_ids = model.generate(**inputs)\n",
    "    generated_text = processor.batch_decode(generated_ids, skip_special_tokens=True)[0].strip()\n",
    "    return generated_text"
   ]
  },
  {
   "attachments": {},
   "cell_type": "markdown",
   "metadata": {},
   "source": [
    "## Create Captions from image by base models"
   ]
  },
  {
   "cell_type": "code",
   "execution_count": 9,
   "metadata": {},
   "outputs": [],
   "source": [
    "def caption_youtube(path):\n",
    "\n",
    "                # Open the video file\n",
    "            cap = cv2.VideoCapture(path)\n",
    "            cap.set(cv2.CAP_PROP_FPS, 10)\n",
    "            # Loop through the frames of the video\n",
    "            combined_docs = []\n",
    "  \n",
    "            while cap.isOpened():\n",
    "                        # Read the next frame\n",
    "                        ret, frame = cap.read()\n",
    "                    \n",
    "                        # If we've reached the end of the video, break out of the loop\n",
    "                        if not ret:\n",
    "                            break\n",
    "                    \n",
    "                        # Convert the frame to a PIL image and apply the image transformation pipeline\n",
    "                        image = Image.fromarray(cv2.cvtColor(frame, cv2.COLOR_BGR2RGB))\n",
    "                        # image = image_transforms(image)\n",
    "                    \n",
    "                        # # Add batch dimension to the image tensor\n",
    "                        # image = image.unsqueeze(0)\n",
    "                        inputs = processor(image, return_tensors=\"pt\")\n",
    "                        out = model.generate(**inputs)\n",
    "                        caption = processor.decode(out[0], skip_special_tokens=True)\n",
    "                        # Print the caption for the frame\n",
    "\n",
    "                        print(caption)\n",
    "                        if caption not in combined_docs:\n",
    "                             combined_docs.append(caption)\n",
    "                      \n",
    "                    # Release the video file\n",
    "                    \n",
    "            cap.release()\n",
    "            return combined_docs"
   ]
  },
  {
   "cell_type": "markdown",
   "metadata": {},
   "source": [
    "## device "
   ]
  },
  {
   "cell_type": "code",
   "execution_count": 11,
   "metadata": {},
   "outputs": [
    {
     "data": {
      "text/plain": [
       "Blip2ForConditionalGeneration(\n",
       "  (vision_model): Blip2VisionModel(\n",
       "    (embeddings): Blip2VisionEmbeddings(\n",
       "      (patch_embedding): Conv2d(3, 1408, kernel_size=(14, 14), stride=(14, 14))\n",
       "    )\n",
       "    (encoder): Blip2Encoder(\n",
       "      (layers): ModuleList(\n",
       "        (0-38): 39 x Blip2EncoderLayer(\n",
       "          (self_attn): Blip2Attention(\n",
       "            (dropout): Dropout(p=0.0, inplace=False)\n",
       "            (qkv): Linear(in_features=1408, out_features=4224, bias=True)\n",
       "            (projection): Linear(in_features=1408, out_features=1408, bias=True)\n",
       "          )\n",
       "          (layer_norm1): LayerNorm((1408,), eps=1e-05, elementwise_affine=True)\n",
       "          (mlp): Blip2MLP(\n",
       "            (activation_fn): GELUActivation()\n",
       "            (fc1): Linear(in_features=1408, out_features=6144, bias=True)\n",
       "            (fc2): Linear(in_features=6144, out_features=1408, bias=True)\n",
       "          )\n",
       "          (layer_norm2): LayerNorm((1408,), eps=1e-05, elementwise_affine=True)\n",
       "        )\n",
       "      )\n",
       "    )\n",
       "    (post_layernorm): LayerNorm((1408,), eps=1e-05, elementwise_affine=True)\n",
       "  )\n",
       "  (qformer): Blip2QFormerModel(\n",
       "    (layernorm): LayerNorm((768,), eps=1e-12, elementwise_affine=True)\n",
       "    (dropout): Dropout(p=0.1, inplace=False)\n",
       "    (encoder): Blip2QFormerEncoder(\n",
       "      (layer): ModuleList(\n",
       "        (0): Blip2QFormerLayer(\n",
       "          (attention): Blip2QFormerAttention(\n",
       "            (attention): Blip2QFormerMultiHeadAttention(\n",
       "              (query): Linear(in_features=768, out_features=768, bias=True)\n",
       "              (key): Linear(in_features=768, out_features=768, bias=True)\n",
       "              (value): Linear(in_features=768, out_features=768, bias=True)\n",
       "              (dropout): Dropout(p=0.1, inplace=False)\n",
       "            )\n",
       "            (output): Blip2QFormerSelfOutput(\n",
       "              (dense): Linear(in_features=768, out_features=768, bias=True)\n",
       "              (LayerNorm): LayerNorm((768,), eps=1e-12, elementwise_affine=True)\n",
       "              (dropout): Dropout(p=0.1, inplace=False)\n",
       "            )\n",
       "          )\n",
       "          (crossattention): Blip2QFormerAttention(\n",
       "            (attention): Blip2QFormerMultiHeadAttention(\n",
       "              (query): Linear(in_features=768, out_features=768, bias=True)\n",
       "              (key): Linear(in_features=1408, out_features=768, bias=True)\n",
       "              (value): Linear(in_features=1408, out_features=768, bias=True)\n",
       "              (dropout): Dropout(p=0.1, inplace=False)\n",
       "            )\n",
       "            (output): Blip2QFormerSelfOutput(\n",
       "              (dense): Linear(in_features=768, out_features=768, bias=True)\n",
       "              (LayerNorm): LayerNorm((768,), eps=1e-12, elementwise_affine=True)\n",
       "              (dropout): Dropout(p=0.1, inplace=False)\n",
       "            )\n",
       "          )\n",
       "          (intermediate_query): Blip2QFormerIntermediate(\n",
       "            (dense): Linear(in_features=768, out_features=3072, bias=True)\n",
       "            (intermediate_act_fn): GELUActivation()\n",
       "          )\n",
       "          (output_query): Blip2QFormerOutput(\n",
       "            (dense): Linear(in_features=3072, out_features=768, bias=True)\n",
       "            (LayerNorm): LayerNorm((768,), eps=1e-12, elementwise_affine=True)\n",
       "            (dropout): Dropout(p=0.1, inplace=False)\n",
       "          )\n",
       "        )\n",
       "        (1): Blip2QFormerLayer(\n",
       "          (attention): Blip2QFormerAttention(\n",
       "            (attention): Blip2QFormerMultiHeadAttention(\n",
       "              (query): Linear(in_features=768, out_features=768, bias=True)\n",
       "              (key): Linear(in_features=768, out_features=768, bias=True)\n",
       "              (value): Linear(in_features=768, out_features=768, bias=True)\n",
       "              (dropout): Dropout(p=0.1, inplace=False)\n",
       "            )\n",
       "            (output): Blip2QFormerSelfOutput(\n",
       "              (dense): Linear(in_features=768, out_features=768, bias=True)\n",
       "              (LayerNorm): LayerNorm((768,), eps=1e-12, elementwise_affine=True)\n",
       "              (dropout): Dropout(p=0.1, inplace=False)\n",
       "            )\n",
       "          )\n",
       "          (intermediate_query): Blip2QFormerIntermediate(\n",
       "            (dense): Linear(in_features=768, out_features=3072, bias=True)\n",
       "            (intermediate_act_fn): GELUActivation()\n",
       "          )\n",
       "          (output_query): Blip2QFormerOutput(\n",
       "            (dense): Linear(in_features=3072, out_features=768, bias=True)\n",
       "            (LayerNorm): LayerNorm((768,), eps=1e-12, elementwise_affine=True)\n",
       "            (dropout): Dropout(p=0.1, inplace=False)\n",
       "          )\n",
       "        )\n",
       "        (2): Blip2QFormerLayer(\n",
       "          (attention): Blip2QFormerAttention(\n",
       "            (attention): Blip2QFormerMultiHeadAttention(\n",
       "              (query): Linear(in_features=768, out_features=768, bias=True)\n",
       "              (key): Linear(in_features=768, out_features=768, bias=True)\n",
       "              (value): Linear(in_features=768, out_features=768, bias=True)\n",
       "              (dropout): Dropout(p=0.1, inplace=False)\n",
       "            )\n",
       "            (output): Blip2QFormerSelfOutput(\n",
       "              (dense): Linear(in_features=768, out_features=768, bias=True)\n",
       "              (LayerNorm): LayerNorm((768,), eps=1e-12, elementwise_affine=True)\n",
       "              (dropout): Dropout(p=0.1, inplace=False)\n",
       "            )\n",
       "          )\n",
       "          (crossattention): Blip2QFormerAttention(\n",
       "            (attention): Blip2QFormerMultiHeadAttention(\n",
       "              (query): Linear(in_features=768, out_features=768, bias=True)\n",
       "              (key): Linear(in_features=1408, out_features=768, bias=True)\n",
       "              (value): Linear(in_features=1408, out_features=768, bias=True)\n",
       "              (dropout): Dropout(p=0.1, inplace=False)\n",
       "            )\n",
       "            (output): Blip2QFormerSelfOutput(\n",
       "              (dense): Linear(in_features=768, out_features=768, bias=True)\n",
       "              (LayerNorm): LayerNorm((768,), eps=1e-12, elementwise_affine=True)\n",
       "              (dropout): Dropout(p=0.1, inplace=False)\n",
       "            )\n",
       "          )\n",
       "          (intermediate_query): Blip2QFormerIntermediate(\n",
       "            (dense): Linear(in_features=768, out_features=3072, bias=True)\n",
       "            (intermediate_act_fn): GELUActivation()\n",
       "          )\n",
       "          (output_query): Blip2QFormerOutput(\n",
       "            (dense): Linear(in_features=3072, out_features=768, bias=True)\n",
       "            (LayerNorm): LayerNorm((768,), eps=1e-12, elementwise_affine=True)\n",
       "            (dropout): Dropout(p=0.1, inplace=False)\n",
       "          )\n",
       "        )\n",
       "        (3): Blip2QFormerLayer(\n",
       "          (attention): Blip2QFormerAttention(\n",
       "            (attention): Blip2QFormerMultiHeadAttention(\n",
       "              (query): Linear(in_features=768, out_features=768, bias=True)\n",
       "              (key): Linear(in_features=768, out_features=768, bias=True)\n",
       "              (value): Linear(in_features=768, out_features=768, bias=True)\n",
       "              (dropout): Dropout(p=0.1, inplace=False)\n",
       "            )\n",
       "            (output): Blip2QFormerSelfOutput(\n",
       "              (dense): Linear(in_features=768, out_features=768, bias=True)\n",
       "              (LayerNorm): LayerNorm((768,), eps=1e-12, elementwise_affine=True)\n",
       "              (dropout): Dropout(p=0.1, inplace=False)\n",
       "            )\n",
       "          )\n",
       "          (intermediate_query): Blip2QFormerIntermediate(\n",
       "            (dense): Linear(in_features=768, out_features=3072, bias=True)\n",
       "            (intermediate_act_fn): GELUActivation()\n",
       "          )\n",
       "          (output_query): Blip2QFormerOutput(\n",
       "            (dense): Linear(in_features=3072, out_features=768, bias=True)\n",
       "            (LayerNorm): LayerNorm((768,), eps=1e-12, elementwise_affine=True)\n",
       "            (dropout): Dropout(p=0.1, inplace=False)\n",
       "          )\n",
       "        )\n",
       "        (4): Blip2QFormerLayer(\n",
       "          (attention): Blip2QFormerAttention(\n",
       "            (attention): Blip2QFormerMultiHeadAttention(\n",
       "              (query): Linear(in_features=768, out_features=768, bias=True)\n",
       "              (key): Linear(in_features=768, out_features=768, bias=True)\n",
       "              (value): Linear(in_features=768, out_features=768, bias=True)\n",
       "              (dropout): Dropout(p=0.1, inplace=False)\n",
       "            )\n",
       "            (output): Blip2QFormerSelfOutput(\n",
       "              (dense): Linear(in_features=768, out_features=768, bias=True)\n",
       "              (LayerNorm): LayerNorm((768,), eps=1e-12, elementwise_affine=True)\n",
       "              (dropout): Dropout(p=0.1, inplace=False)\n",
       "            )\n",
       "          )\n",
       "          (crossattention): Blip2QFormerAttention(\n",
       "            (attention): Blip2QFormerMultiHeadAttention(\n",
       "              (query): Linear(in_features=768, out_features=768, bias=True)\n",
       "              (key): Linear(in_features=1408, out_features=768, bias=True)\n",
       "              (value): Linear(in_features=1408, out_features=768, bias=True)\n",
       "              (dropout): Dropout(p=0.1, inplace=False)\n",
       "            )\n",
       "            (output): Blip2QFormerSelfOutput(\n",
       "              (dense): Linear(in_features=768, out_features=768, bias=True)\n",
       "              (LayerNorm): LayerNorm((768,), eps=1e-12, elementwise_affine=True)\n",
       "              (dropout): Dropout(p=0.1, inplace=False)\n",
       "            )\n",
       "          )\n",
       "          (intermediate_query): Blip2QFormerIntermediate(\n",
       "            (dense): Linear(in_features=768, out_features=3072, bias=True)\n",
       "            (intermediate_act_fn): GELUActivation()\n",
       "          )\n",
       "          (output_query): Blip2QFormerOutput(\n",
       "            (dense): Linear(in_features=3072, out_features=768, bias=True)\n",
       "            (LayerNorm): LayerNorm((768,), eps=1e-12, elementwise_affine=True)\n",
       "            (dropout): Dropout(p=0.1, inplace=False)\n",
       "          )\n",
       "        )\n",
       "        (5): Blip2QFormerLayer(\n",
       "          (attention): Blip2QFormerAttention(\n",
       "            (attention): Blip2QFormerMultiHeadAttention(\n",
       "              (query): Linear(in_features=768, out_features=768, bias=True)\n",
       "              (key): Linear(in_features=768, out_features=768, bias=True)\n",
       "              (value): Linear(in_features=768, out_features=768, bias=True)\n",
       "              (dropout): Dropout(p=0.1, inplace=False)\n",
       "            )\n",
       "            (output): Blip2QFormerSelfOutput(\n",
       "              (dense): Linear(in_features=768, out_features=768, bias=True)\n",
       "              (LayerNorm): LayerNorm((768,), eps=1e-12, elementwise_affine=True)\n",
       "              (dropout): Dropout(p=0.1, inplace=False)\n",
       "            )\n",
       "          )\n",
       "          (intermediate_query): Blip2QFormerIntermediate(\n",
       "            (dense): Linear(in_features=768, out_features=3072, bias=True)\n",
       "            (intermediate_act_fn): GELUActivation()\n",
       "          )\n",
       "          (output_query): Blip2QFormerOutput(\n",
       "            (dense): Linear(in_features=3072, out_features=768, bias=True)\n",
       "            (LayerNorm): LayerNorm((768,), eps=1e-12, elementwise_affine=True)\n",
       "            (dropout): Dropout(p=0.1, inplace=False)\n",
       "          )\n",
       "        )\n",
       "        (6): Blip2QFormerLayer(\n",
       "          (attention): Blip2QFormerAttention(\n",
       "            (attention): Blip2QFormerMultiHeadAttention(\n",
       "              (query): Linear(in_features=768, out_features=768, bias=True)\n",
       "              (key): Linear(in_features=768, out_features=768, bias=True)\n",
       "              (value): Linear(in_features=768, out_features=768, bias=True)\n",
       "              (dropout): Dropout(p=0.1, inplace=False)\n",
       "            )\n",
       "            (output): Blip2QFormerSelfOutput(\n",
       "              (dense): Linear(in_features=768, out_features=768, bias=True)\n",
       "              (LayerNorm): LayerNorm((768,), eps=1e-12, elementwise_affine=True)\n",
       "              (dropout): Dropout(p=0.1, inplace=False)\n",
       "            )\n",
       "          )\n",
       "          (crossattention): Blip2QFormerAttention(\n",
       "            (attention): Blip2QFormerMultiHeadAttention(\n",
       "              (query): Linear(in_features=768, out_features=768, bias=True)\n",
       "              (key): Linear(in_features=1408, out_features=768, bias=True)\n",
       "              (value): Linear(in_features=1408, out_features=768, bias=True)\n",
       "              (dropout): Dropout(p=0.1, inplace=False)\n",
       "            )\n",
       "            (output): Blip2QFormerSelfOutput(\n",
       "              (dense): Linear(in_features=768, out_features=768, bias=True)\n",
       "              (LayerNorm): LayerNorm((768,), eps=1e-12, elementwise_affine=True)\n",
       "              (dropout): Dropout(p=0.1, inplace=False)\n",
       "            )\n",
       "          )\n",
       "          (intermediate_query): Blip2QFormerIntermediate(\n",
       "            (dense): Linear(in_features=768, out_features=3072, bias=True)\n",
       "            (intermediate_act_fn): GELUActivation()\n",
       "          )\n",
       "          (output_query): Blip2QFormerOutput(\n",
       "            (dense): Linear(in_features=3072, out_features=768, bias=True)\n",
       "            (LayerNorm): LayerNorm((768,), eps=1e-12, elementwise_affine=True)\n",
       "            (dropout): Dropout(p=0.1, inplace=False)\n",
       "          )\n",
       "        )\n",
       "        (7): Blip2QFormerLayer(\n",
       "          (attention): Blip2QFormerAttention(\n",
       "            (attention): Blip2QFormerMultiHeadAttention(\n",
       "              (query): Linear(in_features=768, out_features=768, bias=True)\n",
       "              (key): Linear(in_features=768, out_features=768, bias=True)\n",
       "              (value): Linear(in_features=768, out_features=768, bias=True)\n",
       "              (dropout): Dropout(p=0.1, inplace=False)\n",
       "            )\n",
       "            (output): Blip2QFormerSelfOutput(\n",
       "              (dense): Linear(in_features=768, out_features=768, bias=True)\n",
       "              (LayerNorm): LayerNorm((768,), eps=1e-12, elementwise_affine=True)\n",
       "              (dropout): Dropout(p=0.1, inplace=False)\n",
       "            )\n",
       "          )\n",
       "          (intermediate_query): Blip2QFormerIntermediate(\n",
       "            (dense): Linear(in_features=768, out_features=3072, bias=True)\n",
       "            (intermediate_act_fn): GELUActivation()\n",
       "          )\n",
       "          (output_query): Blip2QFormerOutput(\n",
       "            (dense): Linear(in_features=3072, out_features=768, bias=True)\n",
       "            (LayerNorm): LayerNorm((768,), eps=1e-12, elementwise_affine=True)\n",
       "            (dropout): Dropout(p=0.1, inplace=False)\n",
       "          )\n",
       "        )\n",
       "        (8): Blip2QFormerLayer(\n",
       "          (attention): Blip2QFormerAttention(\n",
       "            (attention): Blip2QFormerMultiHeadAttention(\n",
       "              (query): Linear(in_features=768, out_features=768, bias=True)\n",
       "              (key): Linear(in_features=768, out_features=768, bias=True)\n",
       "              (value): Linear(in_features=768, out_features=768, bias=True)\n",
       "              (dropout): Dropout(p=0.1, inplace=False)\n",
       "            )\n",
       "            (output): Blip2QFormerSelfOutput(\n",
       "              (dense): Linear(in_features=768, out_features=768, bias=True)\n",
       "              (LayerNorm): LayerNorm((768,), eps=1e-12, elementwise_affine=True)\n",
       "              (dropout): Dropout(p=0.1, inplace=False)\n",
       "            )\n",
       "          )\n",
       "          (crossattention): Blip2QFormerAttention(\n",
       "            (attention): Blip2QFormerMultiHeadAttention(\n",
       "              (query): Linear(in_features=768, out_features=768, bias=True)\n",
       "              (key): Linear(in_features=1408, out_features=768, bias=True)\n",
       "              (value): Linear(in_features=1408, out_features=768, bias=True)\n",
       "              (dropout): Dropout(p=0.1, inplace=False)\n",
       "            )\n",
       "            (output): Blip2QFormerSelfOutput(\n",
       "              (dense): Linear(in_features=768, out_features=768, bias=True)\n",
       "              (LayerNorm): LayerNorm((768,), eps=1e-12, elementwise_affine=True)\n",
       "              (dropout): Dropout(p=0.1, inplace=False)\n",
       "            )\n",
       "          )\n",
       "          (intermediate_query): Blip2QFormerIntermediate(\n",
       "            (dense): Linear(in_features=768, out_features=3072, bias=True)\n",
       "            (intermediate_act_fn): GELUActivation()\n",
       "          )\n",
       "          (output_query): Blip2QFormerOutput(\n",
       "            (dense): Linear(in_features=3072, out_features=768, bias=True)\n",
       "            (LayerNorm): LayerNorm((768,), eps=1e-12, elementwise_affine=True)\n",
       "            (dropout): Dropout(p=0.1, inplace=False)\n",
       "          )\n",
       "        )\n",
       "        (9): Blip2QFormerLayer(\n",
       "          (attention): Blip2QFormerAttention(\n",
       "            (attention): Blip2QFormerMultiHeadAttention(\n",
       "              (query): Linear(in_features=768, out_features=768, bias=True)\n",
       "              (key): Linear(in_features=768, out_features=768, bias=True)\n",
       "              (value): Linear(in_features=768, out_features=768, bias=True)\n",
       "              (dropout): Dropout(p=0.1, inplace=False)\n",
       "            )\n",
       "            (output): Blip2QFormerSelfOutput(\n",
       "              (dense): Linear(in_features=768, out_features=768, bias=True)\n",
       "              (LayerNorm): LayerNorm((768,), eps=1e-12, elementwise_affine=True)\n",
       "              (dropout): Dropout(p=0.1, inplace=False)\n",
       "            )\n",
       "          )\n",
       "          (intermediate_query): Blip2QFormerIntermediate(\n",
       "            (dense): Linear(in_features=768, out_features=3072, bias=True)\n",
       "            (intermediate_act_fn): GELUActivation()\n",
       "          )\n",
       "          (output_query): Blip2QFormerOutput(\n",
       "            (dense): Linear(in_features=3072, out_features=768, bias=True)\n",
       "            (LayerNorm): LayerNorm((768,), eps=1e-12, elementwise_affine=True)\n",
       "            (dropout): Dropout(p=0.1, inplace=False)\n",
       "          )\n",
       "        )\n",
       "        (10): Blip2QFormerLayer(\n",
       "          (attention): Blip2QFormerAttention(\n",
       "            (attention): Blip2QFormerMultiHeadAttention(\n",
       "              (query): Linear(in_features=768, out_features=768, bias=True)\n",
       "              (key): Linear(in_features=768, out_features=768, bias=True)\n",
       "              (value): Linear(in_features=768, out_features=768, bias=True)\n",
       "              (dropout): Dropout(p=0.1, inplace=False)\n",
       "            )\n",
       "            (output): Blip2QFormerSelfOutput(\n",
       "              (dense): Linear(in_features=768, out_features=768, bias=True)\n",
       "              (LayerNorm): LayerNorm((768,), eps=1e-12, elementwise_affine=True)\n",
       "              (dropout): Dropout(p=0.1, inplace=False)\n",
       "            )\n",
       "          )\n",
       "          (crossattention): Blip2QFormerAttention(\n",
       "            (attention): Blip2QFormerMultiHeadAttention(\n",
       "              (query): Linear(in_features=768, out_features=768, bias=True)\n",
       "              (key): Linear(in_features=1408, out_features=768, bias=True)\n",
       "              (value): Linear(in_features=1408, out_features=768, bias=True)\n",
       "              (dropout): Dropout(p=0.1, inplace=False)\n",
       "            )\n",
       "            (output): Blip2QFormerSelfOutput(\n",
       "              (dense): Linear(in_features=768, out_features=768, bias=True)\n",
       "              (LayerNorm): LayerNorm((768,), eps=1e-12, elementwise_affine=True)\n",
       "              (dropout): Dropout(p=0.1, inplace=False)\n",
       "            )\n",
       "          )\n",
       "          (intermediate_query): Blip2QFormerIntermediate(\n",
       "            (dense): Linear(in_features=768, out_features=3072, bias=True)\n",
       "            (intermediate_act_fn): GELUActivation()\n",
       "          )\n",
       "          (output_query): Blip2QFormerOutput(\n",
       "            (dense): Linear(in_features=3072, out_features=768, bias=True)\n",
       "            (LayerNorm): LayerNorm((768,), eps=1e-12, elementwise_affine=True)\n",
       "            (dropout): Dropout(p=0.1, inplace=False)\n",
       "          )\n",
       "        )\n",
       "        (11): Blip2QFormerLayer(\n",
       "          (attention): Blip2QFormerAttention(\n",
       "            (attention): Blip2QFormerMultiHeadAttention(\n",
       "              (query): Linear(in_features=768, out_features=768, bias=True)\n",
       "              (key): Linear(in_features=768, out_features=768, bias=True)\n",
       "              (value): Linear(in_features=768, out_features=768, bias=True)\n",
       "              (dropout): Dropout(p=0.1, inplace=False)\n",
       "            )\n",
       "            (output): Blip2QFormerSelfOutput(\n",
       "              (dense): Linear(in_features=768, out_features=768, bias=True)\n",
       "              (LayerNorm): LayerNorm((768,), eps=1e-12, elementwise_affine=True)\n",
       "              (dropout): Dropout(p=0.1, inplace=False)\n",
       "            )\n",
       "          )\n",
       "          (intermediate_query): Blip2QFormerIntermediate(\n",
       "            (dense): Linear(in_features=768, out_features=3072, bias=True)\n",
       "            (intermediate_act_fn): GELUActivation()\n",
       "          )\n",
       "          (output_query): Blip2QFormerOutput(\n",
       "            (dense): Linear(in_features=3072, out_features=768, bias=True)\n",
       "            (LayerNorm): LayerNorm((768,), eps=1e-12, elementwise_affine=True)\n",
       "            (dropout): Dropout(p=0.1, inplace=False)\n",
       "          )\n",
       "        )\n",
       "      )\n",
       "    )\n",
       "  )\n",
       "  (language_projection): Linear(in_features=768, out_features=2560, bias=True)\n",
       "  (language_model): OPTForCausalLM(\n",
       "    (model): OPTModel(\n",
       "      (decoder): OPTDecoder(\n",
       "        (embed_tokens): Embedding(50272, 2560, padding_idx=1)\n",
       "        (embed_positions): OPTLearnedPositionalEmbedding(2050, 2560)\n",
       "        (final_layer_norm): LayerNorm((2560,), eps=1e-05, elementwise_affine=True)\n",
       "        (layers): ModuleList(\n",
       "          (0-31): 32 x OPTDecoderLayer(\n",
       "            (self_attn): OPTAttention(\n",
       "              (k_proj): Linear(in_features=2560, out_features=2560, bias=True)\n",
       "              (v_proj): Linear(in_features=2560, out_features=2560, bias=True)\n",
       "              (q_proj): Linear(in_features=2560, out_features=2560, bias=True)\n",
       "              (out_proj): Linear(in_features=2560, out_features=2560, bias=True)\n",
       "            )\n",
       "            (activation_fn): ReLU()\n",
       "            (self_attn_layer_norm): LayerNorm((2560,), eps=1e-05, elementwise_affine=True)\n",
       "            (fc1): Linear(in_features=2560, out_features=10240, bias=True)\n",
       "            (fc2): Linear(in_features=10240, out_features=2560, bias=True)\n",
       "            (final_layer_norm): LayerNorm((2560,), eps=1e-05, elementwise_affine=True)\n",
       "          )\n",
       "        )\n",
       "      )\n",
       "    )\n",
       "    (lm_head): Linear(in_features=2560, out_features=50272, bias=False)\n",
       "  )\n",
       ")"
      ]
     },
     "execution_count": 11,
     "metadata": {},
     "output_type": "execute_result"
    }
   ],
   "source": [
    "device = \"cuda\" if torch.cuda.is_available() else \"cpu\"\n",
    "blip2_model.to(device)"
   ]
  },
  {
   "attachments": {},
   "cell_type": "markdown",
   "metadata": {},
   "source": [
    "## Create Caption with Advance Model like Blip2"
   ]
  },
  {
   "cell_type": "code",
   "execution_count": 12,
   "metadata": {},
   "outputs": [],
   "source": [
    "def caption_youtube_blip2(path):\n",
    "\n",
    "                # Open the video file\n",
    "            cap = cv2.VideoCapture(path)\n",
    "            cap.set(cv2.CAP_PROP_FPS, 2)\n",
    "            # Loop through the frames of the video\n",
    "            combined_docs = []\n",
    "            prompt = \" Notice All Human Activity carefully and Notice All numbers and words in images\"\n",
    "            while cap.isOpened():\n",
    "                        # Read the next frame\n",
    "                        ret, frame = cap.read()\n",
    "                    \n",
    "                        # If we've reached the end of the video, break out of the loop\n",
    "                        if not ret:\n",
    "                            break\n",
    "                    \n",
    "                        # Convert the frame to a PIL image and apply the image transformation pipeline\n",
    "                        image = Image.fromarray(cv2.cvtColor(frame, cv2.COLOR_BGR2RGB))\n",
    "                        # image = image_transforms(image)\n",
    "                        caption = generate_text(image, prompt, blip2_model, blip2_processor, device)\n",
    "                        print(caption)\n",
    "                        if caption not in combined_docs:\n",
    "                             combined_docs.append(caption)\n",
    "                      \n",
    "                    # Release the video file\n",
    "                    \n",
    "            cap.release()\n",
    "            return combined_docs"
   ]
  },
  {
   "cell_type": "code",
   "execution_count": null,
   "metadata": {},
   "outputs": [],
   "source": [
    "\n",
    "\n",
    "\n"
   ]
  },
  {
   "cell_type": "code",
   "execution_count": 13,
   "metadata": {},
   "outputs": [
    {
     "ename": "NameError",
     "evalue": "name 'processor' is not defined",
     "output_type": "error",
     "traceback": [
      "\u001b[0;31m---------------------------------------------------------------------------\u001b[0m",
      "\u001b[0;31mNameError\u001b[0m                                 Traceback (most recent call last)",
      "Cell \u001b[0;32mIn[13], line 1\u001b[0m\n\u001b[0;32m----> 1\u001b[0m combined_docs \u001b[39m=\u001b[39m caption_youtube(\u001b[39m\"\u001b[39;49m\u001b[39m/Users/bpakra200/tubegpt/tubegpt/src/notebook/demo1.mp4\u001b[39;49m\u001b[39m\"\u001b[39;49m)\n",
      "Cell \u001b[0;32mIn[9], line 23\u001b[0m, in \u001b[0;36mcaption_youtube\u001b[0;34m(path)\u001b[0m\n\u001b[1;32m     18\u001b[0m image \u001b[39m=\u001b[39m Image\u001b[39m.\u001b[39mfromarray(cv2\u001b[39m.\u001b[39mcvtColor(frame, cv2\u001b[39m.\u001b[39mCOLOR_BGR2RGB))\n\u001b[1;32m     19\u001b[0m \u001b[39m# image = image_transforms(image)\u001b[39;00m\n\u001b[1;32m     20\u001b[0m \n\u001b[1;32m     21\u001b[0m \u001b[39m# # Add batch dimension to the image tensor\u001b[39;00m\n\u001b[1;32m     22\u001b[0m \u001b[39m# image = image.unsqueeze(0)\u001b[39;00m\n\u001b[0;32m---> 23\u001b[0m inputs \u001b[39m=\u001b[39m processor(image, return_tensors\u001b[39m=\u001b[39m\u001b[39m\"\u001b[39m\u001b[39mpt\u001b[39m\u001b[39m\"\u001b[39m)\n\u001b[1;32m     24\u001b[0m out \u001b[39m=\u001b[39m model\u001b[39m.\u001b[39mgenerate(\u001b[39m*\u001b[39m\u001b[39m*\u001b[39minputs)\n\u001b[1;32m     25\u001b[0m caption \u001b[39m=\u001b[39m processor\u001b[39m.\u001b[39mdecode(out[\u001b[39m0\u001b[39m], skip_special_tokens\u001b[39m=\u001b[39m\u001b[39mTrue\u001b[39;00m)\n",
      "\u001b[0;31mNameError\u001b[0m: name 'processor' is not defined"
     ]
    }
   ],
   "source": [
    "\n",
    "combined_docs = caption_youtube(\"/Users/bpakra200/tubegpt/tubegpt/src/notebook/demo1.mp4\")"
   ]
  },
  {
   "cell_type": "code",
   "execution_count": 14,
   "metadata": {},
   "outputs": [
    {
     "name": "stderr",
     "output_type": "stream",
     "text": [
      "/Users/bpakra200/.local/share/virtualenvs/tubegpt-FIUw9MBe/lib/python3.11/site-packages/transformers/generation/utils.py:1369: UserWarning: Using `max_length`'s default (20) to control the generation length. This behaviour is deprecated and will be removed from the config in v5 of Transformers -- we recommend using `max_new_tokens` to control the maximum length of the generation.\n",
      "  warnings.warn(\n"
     ]
    },
    {
     "name": "stdout",
     "output_type": "stream",
     "text": [
      "a santa clause wreath on the back of a golf cart\n",
      "a santa clause wreath on a golf cart\n",
      "a santa clause wreath on the back of a golf cart\n",
      "a wreath with a santa clause on top of a golf cart\n",
      "a wreath with a santa clause on top of a golf cart\n",
      "a santa clause wreath on the back of a golf cart\n",
      "a santa clause wreath on a golf cart\n",
      "a santa clause wreath on the back of a golf cart\n",
      "a santa clause wreath on the back of a golf cart\n",
      "a santa clause wreath on the back of a golf cart\n",
      "a wreath on the back of a golf cart\n",
      "a santa clause wreath on the back of a golf cart\n",
      "a wreath with a santa clause on top of a golf cart\n",
      "a wreath on the back of a golf cart\n",
      "a santa clause wreath on a golf cart\n",
      "a santa clause wreath on a golf cart\n",
      "a santa clause wreath on the back of a golf cart\n",
      "a santa clause wreath on a golf cart\n",
      "a wreath with a santa clause on top of a golf cart\n",
      "a santa clause wreath on the back of a golf cart\n",
      "a wreath with a santa clause on top of a green golf cart\n",
      "a wreath with a santa clause on top of a green golf cart\n",
      "a wreath with a santa clause on it is on a golf cart\n",
      "a wreath with a santa clause on it is on a green car\n",
      "a wreath on the back of a golf cart\n",
      "a wreath with a santa clause on the back of a green car\n",
      "a wreath with santa claus on it is on a green car\n",
      "a wreath with santa claus on the back of a green golf cart\n",
      "a wreath with a santa clause on it is on a green car\n",
      "a christmas wreath on the back of a truck\n",
      "a wreath with santa claus on it is on the back of a truck\n",
      "a wreath with a santa clause on it is on a truck\n",
      "a christmas wreath on the back of a truck\n",
      "a christmas wreath on the back of a truck\n",
      "a christmas wreath on the back of a truck\n",
      "a wreath on the back of a green car\n",
      "a wreath with santa claus on it is hanging on the back of a truck\n",
      "a christmas wreath on the back of a car\n",
      "a christmas wreath on the back of a car\n",
      "a christmas wreath on the back of a car\n",
      "a christmas wreath on the front of a jeep\n",
      "a christmas wreath on the hood of a car\n",
      "a christmas wreath on the back of a green jeep\n",
      "a christmas wreath on the back of a truck\n",
      "a christmas wreath on the back of a green golf cart\n",
      "a christmas wreath on the back of a green golf cart\n",
      "a christmas wreath on the back of a golf cart\n",
      "a christmas wreath on the back of a green golf cart\n",
      "a christmas wreath on the back of a golf cart\n",
      "a christmas wreath on the back of a green golf cart\n",
      "a christmas wreath on the back of a golf cart\n",
      "a christmas wreath on the back of a golf cart\n",
      "a christmas wreath on the back of a golf cart\n",
      "a christmas wreath on the back of a golf cart\n",
      "a christmas wreath on the back of a golf cart\n",
      "a santa claus wreath on the back of a golf cart\n",
      "a christmas wreath on the back of a golf cart\n",
      "a christmas wreath on the back of a golf cart\n",
      "a christmas wreath on the back of a green golf cart\n",
      "a christmas wreath on the back of a green golf cart\n",
      "a santa clause is sitting on top of a green golf cart\n",
      "a santa claus wreath on the back of a green golf cart\n",
      "a santa claus wreath on the back of a green golf cart\n",
      "a christmas wreath on the back of a green car\n",
      "a christmas wreath on the back of a golf cart\n",
      "a christmas wreath on the back of a golf cart\n",
      "a christmas wreath on the back of a golf cart\n",
      "a wreath on the back of a green golf cart\n",
      "a christmas wreath on the front of a green car\n",
      "a christmas wreath on the back of a green car\n",
      "a christmas wreath on the back of a car\n",
      "a christmas wreath on the back of a green golf cart\n",
      "a wreath on the front of a green golf cart\n",
      "a christmas wreath on the back of a golf cart\n",
      "a christmas wreath on the front of a golf cart\n",
      "a christmas wreath on the back of a golf cart\n",
      "a wreath on the front of a golf cart\n",
      "a santa clause wreath on the back of a golf cart\n",
      "a christmas wreath on the back of a golf cart\n",
      "a christmas wreath on the back of a golf cart\n",
      "a christmas wreath on the back of a golf cart\n",
      "a christmas wreath on the back of a golf cart\n",
      "a wreath on the back of a golf cart\n",
      "a wreath on the back of a golf cart\n",
      "a wreath on the back of a golf cart\n",
      "a wreath on the back of a golf cart\n",
      "a christmas wreath on the back of a golf cart\n",
      "a wreath on the back of a golf cart\n",
      "a wreath on the back of a golf cart\n",
      "a wreath on the back of a golf cart\n",
      "a wreath with santa claus on it is on a golf cart\n",
      "a santa clause wreath on a green car\n",
      "a santa clause wreath on the back of a golf cart\n",
      "a wreath with a santa clause on it\n",
      "a santa clause wreath on a green truck\n",
      "a santa clause wreath on a golf cart\n",
      "a santa clause wreath on a golf cart\n",
      "a santa clause wreath on a golf cart\n",
      "a santa clause wreath on the back of a golf cart\n",
      "a wreath on the back of a golf cart\n",
      "a christmas wreath on the back of a golf cart\n",
      "a christmas wreath on the back of a golf cart\n",
      "a christmas wreath on the back of a golf cart\n",
      "a christmas wreath on the back of a golf cart\n",
      "a christmas wreath on the back of a golf cart\n",
      "a christmas wreath on the back of a golf cart\n",
      "a christmas wreath on the back of a golf cart\n",
      "a wreath on the back of a golf cart\n",
      "a christmas wreath on the back of a golf cart\n"
     ]
    },
    {
     "ename": "KeyboardInterrupt",
     "evalue": "",
     "output_type": "error",
     "traceback": [
      "\u001b[0;31m---------------------------------------------------------------------------\u001b[0m",
      "\u001b[0;31mKeyboardInterrupt\u001b[0m                         Traceback (most recent call last)",
      "Cell \u001b[0;32mIn[14], line 1\u001b[0m\n\u001b[0;32m----> 1\u001b[0m combined_docs \u001b[39m=\u001b[39m caption_youtube_blip2(\u001b[39m\"\u001b[39;49m\u001b[39m/Users/bpakra200/tubegpt/tubegpt/src/notebook/demo1.mp4\u001b[39;49m\u001b[39m\"\u001b[39;49m)\n",
      "Cell \u001b[0;32mIn[12], line 20\u001b[0m, in \u001b[0;36mcaption_youtube_blip2\u001b[0;34m(path)\u001b[0m\n\u001b[1;32m     18\u001b[0m image \u001b[39m=\u001b[39m Image\u001b[39m.\u001b[39mfromarray(cv2\u001b[39m.\u001b[39mcvtColor(frame, cv2\u001b[39m.\u001b[39mCOLOR_BGR2RGB))\n\u001b[1;32m     19\u001b[0m \u001b[39m# image = image_transforms(image)\u001b[39;00m\n\u001b[0;32m---> 20\u001b[0m caption \u001b[39m=\u001b[39m generate_text(image, prompt, blip2_model, blip2_processor, device)\n\u001b[1;32m     21\u001b[0m \u001b[39mprint\u001b[39m(caption)\n\u001b[1;32m     22\u001b[0m \u001b[39mif\u001b[39;00m caption \u001b[39mnot\u001b[39;00m \u001b[39min\u001b[39;00m combined_docs:\n",
      "Cell \u001b[0;32mIn[8], line 6\u001b[0m, in \u001b[0;36mgenerate_text\u001b[0;34m(image, prompt, model, processor, device)\u001b[0m\n\u001b[1;32m      3\u001b[0m \u001b[39mdef\u001b[39;00m \u001b[39mgenerate_text\u001b[39m(image, prompt, model, processor, device):\n\u001b[1;32m      4\u001b[0m     inputs \u001b[39m=\u001b[39m processor(image, return_tensors\u001b[39m=\u001b[39m\u001b[39m\"\u001b[39m\u001b[39mpt\u001b[39m\u001b[39m\"\u001b[39m)\n\u001b[0;32m----> 6\u001b[0m     generated_ids \u001b[39m=\u001b[39m model\u001b[39m.\u001b[39;49mgenerate(\u001b[39m*\u001b[39;49m\u001b[39m*\u001b[39;49minputs)\n\u001b[1;32m      7\u001b[0m     generated_text \u001b[39m=\u001b[39m processor\u001b[39m.\u001b[39mbatch_decode(generated_ids, skip_special_tokens\u001b[39m=\u001b[39m\u001b[39mTrue\u001b[39;00m)[\u001b[39m0\u001b[39m]\u001b[39m.\u001b[39mstrip()\n\u001b[1;32m      8\u001b[0m     \u001b[39mreturn\u001b[39;00m generated_text\n",
      "File \u001b[0;32m~/.local/share/virtualenvs/tubegpt-FIUw9MBe/lib/python3.11/site-packages/torch/utils/_contextlib.py:115\u001b[0m, in \u001b[0;36mcontext_decorator.<locals>.decorate_context\u001b[0;34m(*args, **kwargs)\u001b[0m\n\u001b[1;32m    112\u001b[0m \u001b[39m@functools\u001b[39m\u001b[39m.\u001b[39mwraps(func)\n\u001b[1;32m    113\u001b[0m \u001b[39mdef\u001b[39;00m \u001b[39mdecorate_context\u001b[39m(\u001b[39m*\u001b[39margs, \u001b[39m*\u001b[39m\u001b[39m*\u001b[39mkwargs):\n\u001b[1;32m    114\u001b[0m     \u001b[39mwith\u001b[39;00m ctx_factory():\n\u001b[0;32m--> 115\u001b[0m         \u001b[39mreturn\u001b[39;00m func(\u001b[39m*\u001b[39;49margs, \u001b[39m*\u001b[39;49m\u001b[39m*\u001b[39;49mkwargs)\n",
      "File \u001b[0;32m~/.local/share/virtualenvs/tubegpt-FIUw9MBe/lib/python3.11/site-packages/transformers/models/blip_2/modeling_blip_2.py:1849\u001b[0m, in \u001b[0;36mBlip2ForConditionalGeneration.generate\u001b[0;34m(self, pixel_values, input_ids, attention_mask, **generate_kwargs)\u001b[0m\n\u001b[1;32m   1846\u001b[0m inputs_embeds \u001b[39m=\u001b[39m \u001b[39mself\u001b[39m\u001b[39m.\u001b[39mget_input_embeddings()(input_ids)\n\u001b[1;32m   1847\u001b[0m inputs_embeds \u001b[39m=\u001b[39m torch\u001b[39m.\u001b[39mcat([language_model_inputs, inputs_embeds\u001b[39m.\u001b[39mto(language_model_inputs\u001b[39m.\u001b[39mdevice)], dim\u001b[39m=\u001b[39m\u001b[39m1\u001b[39m)\n\u001b[0;32m-> 1849\u001b[0m outputs \u001b[39m=\u001b[39m \u001b[39mself\u001b[39;49m\u001b[39m.\u001b[39;49mlanguage_model\u001b[39m.\u001b[39;49mgenerate(\n\u001b[1;32m   1850\u001b[0m     inputs_embeds\u001b[39m=\u001b[39;49minputs_embeds,\n\u001b[1;32m   1851\u001b[0m     attention_mask\u001b[39m=\u001b[39;49mattention_mask,\n\u001b[1;32m   1852\u001b[0m     \u001b[39m*\u001b[39;49m\u001b[39m*\u001b[39;49mgenerate_kwargs,\n\u001b[1;32m   1853\u001b[0m )\n\u001b[1;32m   1855\u001b[0m \u001b[39mreturn\u001b[39;00m outputs\n",
      "File \u001b[0;32m~/.local/share/virtualenvs/tubegpt-FIUw9MBe/lib/python3.11/site-packages/torch/utils/_contextlib.py:115\u001b[0m, in \u001b[0;36mcontext_decorator.<locals>.decorate_context\u001b[0;34m(*args, **kwargs)\u001b[0m\n\u001b[1;32m    112\u001b[0m \u001b[39m@functools\u001b[39m\u001b[39m.\u001b[39mwraps(func)\n\u001b[1;32m    113\u001b[0m \u001b[39mdef\u001b[39;00m \u001b[39mdecorate_context\u001b[39m(\u001b[39m*\u001b[39margs, \u001b[39m*\u001b[39m\u001b[39m*\u001b[39mkwargs):\n\u001b[1;32m    114\u001b[0m     \u001b[39mwith\u001b[39;00m ctx_factory():\n\u001b[0;32m--> 115\u001b[0m         \u001b[39mreturn\u001b[39;00m func(\u001b[39m*\u001b[39;49margs, \u001b[39m*\u001b[39;49m\u001b[39m*\u001b[39;49mkwargs)\n",
      "File \u001b[0;32m~/.local/share/virtualenvs/tubegpt-FIUw9MBe/lib/python3.11/site-packages/transformers/generation/utils.py:1538\u001b[0m, in \u001b[0;36mGenerationMixin.generate\u001b[0;34m(self, inputs, generation_config, logits_processor, stopping_criteria, prefix_allowed_tokens_fn, synced_gpus, assistant_model, streamer, **kwargs)\u001b[0m\n\u001b[1;32m   1532\u001b[0m         \u001b[39mraise\u001b[39;00m \u001b[39mValueError\u001b[39;00m(\n\u001b[1;32m   1533\u001b[0m             \u001b[39m\"\u001b[39m\u001b[39mnum_return_sequences has to be 1 when doing greedy search, \u001b[39m\u001b[39m\"\u001b[39m\n\u001b[1;32m   1534\u001b[0m             \u001b[39mf\u001b[39m\u001b[39m\"\u001b[39m\u001b[39mbut is \u001b[39m\u001b[39m{\u001b[39;00mgeneration_config\u001b[39m.\u001b[39mnum_return_sequences\u001b[39m}\u001b[39;00m\u001b[39m.\u001b[39m\u001b[39m\"\u001b[39m\n\u001b[1;32m   1535\u001b[0m         )\n\u001b[1;32m   1537\u001b[0m     \u001b[39m# 11. run greedy search\u001b[39;00m\n\u001b[0;32m-> 1538\u001b[0m     \u001b[39mreturn\u001b[39;00m \u001b[39mself\u001b[39;49m\u001b[39m.\u001b[39;49mgreedy_search(\n\u001b[1;32m   1539\u001b[0m         input_ids,\n\u001b[1;32m   1540\u001b[0m         logits_processor\u001b[39m=\u001b[39;49mlogits_processor,\n\u001b[1;32m   1541\u001b[0m         stopping_criteria\u001b[39m=\u001b[39;49mstopping_criteria,\n\u001b[1;32m   1542\u001b[0m         pad_token_id\u001b[39m=\u001b[39;49mgeneration_config\u001b[39m.\u001b[39;49mpad_token_id,\n\u001b[1;32m   1543\u001b[0m         eos_token_id\u001b[39m=\u001b[39;49mgeneration_config\u001b[39m.\u001b[39;49meos_token_id,\n\u001b[1;32m   1544\u001b[0m         output_scores\u001b[39m=\u001b[39;49mgeneration_config\u001b[39m.\u001b[39;49moutput_scores,\n\u001b[1;32m   1545\u001b[0m         return_dict_in_generate\u001b[39m=\u001b[39;49mgeneration_config\u001b[39m.\u001b[39;49mreturn_dict_in_generate,\n\u001b[1;32m   1546\u001b[0m         synced_gpus\u001b[39m=\u001b[39;49msynced_gpus,\n\u001b[1;32m   1547\u001b[0m         streamer\u001b[39m=\u001b[39;49mstreamer,\n\u001b[1;32m   1548\u001b[0m         \u001b[39m*\u001b[39;49m\u001b[39m*\u001b[39;49mmodel_kwargs,\n\u001b[1;32m   1549\u001b[0m     )\n\u001b[1;32m   1551\u001b[0m \u001b[39melif\u001b[39;00m is_contrastive_search_gen_mode:\n\u001b[1;32m   1552\u001b[0m     \u001b[39mif\u001b[39;00m generation_config\u001b[39m.\u001b[39mnum_return_sequences \u001b[39m>\u001b[39m \u001b[39m1\u001b[39m:\n",
      "File \u001b[0;32m~/.local/share/virtualenvs/tubegpt-FIUw9MBe/lib/python3.11/site-packages/transformers/generation/utils.py:2362\u001b[0m, in \u001b[0;36mGenerationMixin.greedy_search\u001b[0;34m(self, input_ids, logits_processor, stopping_criteria, max_length, pad_token_id, eos_token_id, output_attentions, output_hidden_states, output_scores, return_dict_in_generate, synced_gpus, streamer, **model_kwargs)\u001b[0m\n\u001b[1;32m   2359\u001b[0m model_inputs \u001b[39m=\u001b[39m \u001b[39mself\u001b[39m\u001b[39m.\u001b[39mprepare_inputs_for_generation(input_ids, \u001b[39m*\u001b[39m\u001b[39m*\u001b[39mmodel_kwargs)\n\u001b[1;32m   2361\u001b[0m \u001b[39m# forward pass to get next token\u001b[39;00m\n\u001b[0;32m-> 2362\u001b[0m outputs \u001b[39m=\u001b[39m \u001b[39mself\u001b[39;49m(\n\u001b[1;32m   2363\u001b[0m     \u001b[39m*\u001b[39;49m\u001b[39m*\u001b[39;49mmodel_inputs,\n\u001b[1;32m   2364\u001b[0m     return_dict\u001b[39m=\u001b[39;49m\u001b[39mTrue\u001b[39;49;00m,\n\u001b[1;32m   2365\u001b[0m     output_attentions\u001b[39m=\u001b[39;49moutput_attentions,\n\u001b[1;32m   2366\u001b[0m     output_hidden_states\u001b[39m=\u001b[39;49moutput_hidden_states,\n\u001b[1;32m   2367\u001b[0m )\n\u001b[1;32m   2369\u001b[0m \u001b[39mif\u001b[39;00m synced_gpus \u001b[39mand\u001b[39;00m this_peer_finished:\n\u001b[1;32m   2370\u001b[0m     \u001b[39mcontinue\u001b[39;00m  \u001b[39m# don't waste resources running the code we don't need\u001b[39;00m\n",
      "File \u001b[0;32m~/.local/share/virtualenvs/tubegpt-FIUw9MBe/lib/python3.11/site-packages/torch/nn/modules/module.py:1501\u001b[0m, in \u001b[0;36mModule._call_impl\u001b[0;34m(self, *args, **kwargs)\u001b[0m\n\u001b[1;32m   1496\u001b[0m \u001b[39m# If we don't have any hooks, we want to skip the rest of the logic in\u001b[39;00m\n\u001b[1;32m   1497\u001b[0m \u001b[39m# this function, and just call forward.\u001b[39;00m\n\u001b[1;32m   1498\u001b[0m \u001b[39mif\u001b[39;00m \u001b[39mnot\u001b[39;00m (\u001b[39mself\u001b[39m\u001b[39m.\u001b[39m_backward_hooks \u001b[39mor\u001b[39;00m \u001b[39mself\u001b[39m\u001b[39m.\u001b[39m_backward_pre_hooks \u001b[39mor\u001b[39;00m \u001b[39mself\u001b[39m\u001b[39m.\u001b[39m_forward_hooks \u001b[39mor\u001b[39;00m \u001b[39mself\u001b[39m\u001b[39m.\u001b[39m_forward_pre_hooks\n\u001b[1;32m   1499\u001b[0m         \u001b[39mor\u001b[39;00m _global_backward_pre_hooks \u001b[39mor\u001b[39;00m _global_backward_hooks\n\u001b[1;32m   1500\u001b[0m         \u001b[39mor\u001b[39;00m _global_forward_hooks \u001b[39mor\u001b[39;00m _global_forward_pre_hooks):\n\u001b[0;32m-> 1501\u001b[0m     \u001b[39mreturn\u001b[39;00m forward_call(\u001b[39m*\u001b[39;49margs, \u001b[39m*\u001b[39;49m\u001b[39m*\u001b[39;49mkwargs)\n\u001b[1;32m   1502\u001b[0m \u001b[39m# Do not call functions when jit is used\u001b[39;00m\n\u001b[1;32m   1503\u001b[0m full_backward_hooks, non_full_backward_hooks \u001b[39m=\u001b[39m [], []\n",
      "File \u001b[0;32m~/.local/share/virtualenvs/tubegpt-FIUw9MBe/lib/python3.11/site-packages/transformers/models/opt/modeling_opt.py:944\u001b[0m, in \u001b[0;36mOPTForCausalLM.forward\u001b[0;34m(self, input_ids, attention_mask, head_mask, past_key_values, inputs_embeds, labels, use_cache, output_attentions, output_hidden_states, return_dict)\u001b[0m\n\u001b[1;32m    941\u001b[0m return_dict \u001b[39m=\u001b[39m return_dict \u001b[39mif\u001b[39;00m return_dict \u001b[39mis\u001b[39;00m \u001b[39mnot\u001b[39;00m \u001b[39mNone\u001b[39;00m \u001b[39melse\u001b[39;00m \u001b[39mself\u001b[39m\u001b[39m.\u001b[39mconfig\u001b[39m.\u001b[39muse_return_dict\n\u001b[1;32m    943\u001b[0m \u001b[39m# decoder outputs consists of (dec_features, layer_state, dec_hidden, dec_attn)\u001b[39;00m\n\u001b[0;32m--> 944\u001b[0m outputs \u001b[39m=\u001b[39m \u001b[39mself\u001b[39;49m\u001b[39m.\u001b[39;49mmodel\u001b[39m.\u001b[39;49mdecoder(\n\u001b[1;32m    945\u001b[0m     input_ids\u001b[39m=\u001b[39;49minput_ids,\n\u001b[1;32m    946\u001b[0m     attention_mask\u001b[39m=\u001b[39;49mattention_mask,\n\u001b[1;32m    947\u001b[0m     head_mask\u001b[39m=\u001b[39;49mhead_mask,\n\u001b[1;32m    948\u001b[0m     past_key_values\u001b[39m=\u001b[39;49mpast_key_values,\n\u001b[1;32m    949\u001b[0m     inputs_embeds\u001b[39m=\u001b[39;49minputs_embeds,\n\u001b[1;32m    950\u001b[0m     use_cache\u001b[39m=\u001b[39;49muse_cache,\n\u001b[1;32m    951\u001b[0m     output_attentions\u001b[39m=\u001b[39;49moutput_attentions,\n\u001b[1;32m    952\u001b[0m     output_hidden_states\u001b[39m=\u001b[39;49moutput_hidden_states,\n\u001b[1;32m    953\u001b[0m     return_dict\u001b[39m=\u001b[39;49mreturn_dict,\n\u001b[1;32m    954\u001b[0m )\n\u001b[1;32m    956\u001b[0m logits \u001b[39m=\u001b[39m \u001b[39mself\u001b[39m\u001b[39m.\u001b[39mlm_head(outputs[\u001b[39m0\u001b[39m])\u001b[39m.\u001b[39mcontiguous()\n\u001b[1;32m    958\u001b[0m loss \u001b[39m=\u001b[39m \u001b[39mNone\u001b[39;00m\n",
      "File \u001b[0;32m~/.local/share/virtualenvs/tubegpt-FIUw9MBe/lib/python3.11/site-packages/torch/nn/modules/module.py:1501\u001b[0m, in \u001b[0;36mModule._call_impl\u001b[0;34m(self, *args, **kwargs)\u001b[0m\n\u001b[1;32m   1496\u001b[0m \u001b[39m# If we don't have any hooks, we want to skip the rest of the logic in\u001b[39;00m\n\u001b[1;32m   1497\u001b[0m \u001b[39m# this function, and just call forward.\u001b[39;00m\n\u001b[1;32m   1498\u001b[0m \u001b[39mif\u001b[39;00m \u001b[39mnot\u001b[39;00m (\u001b[39mself\u001b[39m\u001b[39m.\u001b[39m_backward_hooks \u001b[39mor\u001b[39;00m \u001b[39mself\u001b[39m\u001b[39m.\u001b[39m_backward_pre_hooks \u001b[39mor\u001b[39;00m \u001b[39mself\u001b[39m\u001b[39m.\u001b[39m_forward_hooks \u001b[39mor\u001b[39;00m \u001b[39mself\u001b[39m\u001b[39m.\u001b[39m_forward_pre_hooks\n\u001b[1;32m   1499\u001b[0m         \u001b[39mor\u001b[39;00m _global_backward_pre_hooks \u001b[39mor\u001b[39;00m _global_backward_hooks\n\u001b[1;32m   1500\u001b[0m         \u001b[39mor\u001b[39;00m _global_forward_hooks \u001b[39mor\u001b[39;00m _global_forward_pre_hooks):\n\u001b[0;32m-> 1501\u001b[0m     \u001b[39mreturn\u001b[39;00m forward_call(\u001b[39m*\u001b[39;49margs, \u001b[39m*\u001b[39;49m\u001b[39m*\u001b[39;49mkwargs)\n\u001b[1;32m   1502\u001b[0m \u001b[39m# Do not call functions when jit is used\u001b[39;00m\n\u001b[1;32m   1503\u001b[0m full_backward_hooks, non_full_backward_hooks \u001b[39m=\u001b[39m [], []\n",
      "File \u001b[0;32m~/.local/share/virtualenvs/tubegpt-FIUw9MBe/lib/python3.11/site-packages/transformers/models/opt/modeling_opt.py:710\u001b[0m, in \u001b[0;36mOPTDecoder.forward\u001b[0;34m(self, input_ids, attention_mask, head_mask, past_key_values, inputs_embeds, use_cache, output_attentions, output_hidden_states, return_dict)\u001b[0m\n\u001b[1;32m    702\u001b[0m     layer_outputs \u001b[39m=\u001b[39m torch\u001b[39m.\u001b[39mutils\u001b[39m.\u001b[39mcheckpoint\u001b[39m.\u001b[39mcheckpoint(\n\u001b[1;32m    703\u001b[0m         create_custom_forward(decoder_layer),\n\u001b[1;32m    704\u001b[0m         hidden_states,\n\u001b[0;32m   (...)\u001b[0m\n\u001b[1;32m    707\u001b[0m         \u001b[39mNone\u001b[39;00m,\n\u001b[1;32m    708\u001b[0m     )\n\u001b[1;32m    709\u001b[0m \u001b[39melse\u001b[39;00m:\n\u001b[0;32m--> 710\u001b[0m     layer_outputs \u001b[39m=\u001b[39m decoder_layer(\n\u001b[1;32m    711\u001b[0m         hidden_states,\n\u001b[1;32m    712\u001b[0m         attention_mask\u001b[39m=\u001b[39;49mcausal_attention_mask,\n\u001b[1;32m    713\u001b[0m         layer_head_mask\u001b[39m=\u001b[39;49m(head_mask[idx] \u001b[39mif\u001b[39;49;00m head_mask \u001b[39mis\u001b[39;49;00m \u001b[39mnot\u001b[39;49;00m \u001b[39mNone\u001b[39;49;00m \u001b[39melse\u001b[39;49;00m \u001b[39mNone\u001b[39;49;00m),\n\u001b[1;32m    714\u001b[0m         past_key_value\u001b[39m=\u001b[39;49mpast_key_value,\n\u001b[1;32m    715\u001b[0m         output_attentions\u001b[39m=\u001b[39;49moutput_attentions,\n\u001b[1;32m    716\u001b[0m         use_cache\u001b[39m=\u001b[39;49muse_cache,\n\u001b[1;32m    717\u001b[0m     )\n\u001b[1;32m    719\u001b[0m hidden_states \u001b[39m=\u001b[39m layer_outputs[\u001b[39m0\u001b[39m]\n\u001b[1;32m    721\u001b[0m \u001b[39mif\u001b[39;00m use_cache:\n",
      "File \u001b[0;32m~/.local/share/virtualenvs/tubegpt-FIUw9MBe/lib/python3.11/site-packages/torch/nn/modules/module.py:1501\u001b[0m, in \u001b[0;36mModule._call_impl\u001b[0;34m(self, *args, **kwargs)\u001b[0m\n\u001b[1;32m   1496\u001b[0m \u001b[39m# If we don't have any hooks, we want to skip the rest of the logic in\u001b[39;00m\n\u001b[1;32m   1497\u001b[0m \u001b[39m# this function, and just call forward.\u001b[39;00m\n\u001b[1;32m   1498\u001b[0m \u001b[39mif\u001b[39;00m \u001b[39mnot\u001b[39;00m (\u001b[39mself\u001b[39m\u001b[39m.\u001b[39m_backward_hooks \u001b[39mor\u001b[39;00m \u001b[39mself\u001b[39m\u001b[39m.\u001b[39m_backward_pre_hooks \u001b[39mor\u001b[39;00m \u001b[39mself\u001b[39m\u001b[39m.\u001b[39m_forward_hooks \u001b[39mor\u001b[39;00m \u001b[39mself\u001b[39m\u001b[39m.\u001b[39m_forward_pre_hooks\n\u001b[1;32m   1499\u001b[0m         \u001b[39mor\u001b[39;00m _global_backward_pre_hooks \u001b[39mor\u001b[39;00m _global_backward_hooks\n\u001b[1;32m   1500\u001b[0m         \u001b[39mor\u001b[39;00m _global_forward_hooks \u001b[39mor\u001b[39;00m _global_forward_pre_hooks):\n\u001b[0;32m-> 1501\u001b[0m     \u001b[39mreturn\u001b[39;00m forward_call(\u001b[39m*\u001b[39;49margs, \u001b[39m*\u001b[39;49m\u001b[39m*\u001b[39;49mkwargs)\n\u001b[1;32m   1502\u001b[0m \u001b[39m# Do not call functions when jit is used\u001b[39;00m\n\u001b[1;32m   1503\u001b[0m full_backward_hooks, non_full_backward_hooks \u001b[39m=\u001b[39m [], []\n",
      "File \u001b[0;32m~/.local/share/virtualenvs/tubegpt-FIUw9MBe/lib/python3.11/site-packages/transformers/models/opt/modeling_opt.py:353\u001b[0m, in \u001b[0;36mOPTDecoderLayer.forward\u001b[0;34m(self, hidden_states, attention_mask, layer_head_mask, past_key_value, output_attentions, use_cache)\u001b[0m\n\u001b[1;32m    350\u001b[0m \u001b[39mif\u001b[39;00m \u001b[39mself\u001b[39m\u001b[39m.\u001b[39mdo_layer_norm_before:\n\u001b[1;32m    351\u001b[0m     hidden_states \u001b[39m=\u001b[39m \u001b[39mself\u001b[39m\u001b[39m.\u001b[39mfinal_layer_norm(hidden_states)\n\u001b[0;32m--> 353\u001b[0m hidden_states \u001b[39m=\u001b[39m \u001b[39mself\u001b[39;49m\u001b[39m.\u001b[39;49mfc1(hidden_states)\n\u001b[1;32m    354\u001b[0m hidden_states \u001b[39m=\u001b[39m \u001b[39mself\u001b[39m\u001b[39m.\u001b[39mactivation_fn(hidden_states)\n\u001b[1;32m    356\u001b[0m hidden_states \u001b[39m=\u001b[39m \u001b[39mself\u001b[39m\u001b[39m.\u001b[39mfc2(hidden_states)\n",
      "File \u001b[0;32m~/.local/share/virtualenvs/tubegpt-FIUw9MBe/lib/python3.11/site-packages/torch/nn/modules/module.py:1501\u001b[0m, in \u001b[0;36mModule._call_impl\u001b[0;34m(self, *args, **kwargs)\u001b[0m\n\u001b[1;32m   1496\u001b[0m \u001b[39m# If we don't have any hooks, we want to skip the rest of the logic in\u001b[39;00m\n\u001b[1;32m   1497\u001b[0m \u001b[39m# this function, and just call forward.\u001b[39;00m\n\u001b[1;32m   1498\u001b[0m \u001b[39mif\u001b[39;00m \u001b[39mnot\u001b[39;00m (\u001b[39mself\u001b[39m\u001b[39m.\u001b[39m_backward_hooks \u001b[39mor\u001b[39;00m \u001b[39mself\u001b[39m\u001b[39m.\u001b[39m_backward_pre_hooks \u001b[39mor\u001b[39;00m \u001b[39mself\u001b[39m\u001b[39m.\u001b[39m_forward_hooks \u001b[39mor\u001b[39;00m \u001b[39mself\u001b[39m\u001b[39m.\u001b[39m_forward_pre_hooks\n\u001b[1;32m   1499\u001b[0m         \u001b[39mor\u001b[39;00m _global_backward_pre_hooks \u001b[39mor\u001b[39;00m _global_backward_hooks\n\u001b[1;32m   1500\u001b[0m         \u001b[39mor\u001b[39;00m _global_forward_hooks \u001b[39mor\u001b[39;00m _global_forward_pre_hooks):\n\u001b[0;32m-> 1501\u001b[0m     \u001b[39mreturn\u001b[39;00m forward_call(\u001b[39m*\u001b[39;49margs, \u001b[39m*\u001b[39;49m\u001b[39m*\u001b[39;49mkwargs)\n\u001b[1;32m   1502\u001b[0m \u001b[39m# Do not call functions when jit is used\u001b[39;00m\n\u001b[1;32m   1503\u001b[0m full_backward_hooks, non_full_backward_hooks \u001b[39m=\u001b[39m [], []\n",
      "File \u001b[0;32m~/.local/share/virtualenvs/tubegpt-FIUw9MBe/lib/python3.11/site-packages/torch/nn/modules/linear.py:114\u001b[0m, in \u001b[0;36mLinear.forward\u001b[0;34m(self, input)\u001b[0m\n\u001b[1;32m    113\u001b[0m \u001b[39mdef\u001b[39;00m \u001b[39mforward\u001b[39m(\u001b[39mself\u001b[39m, \u001b[39minput\u001b[39m: Tensor) \u001b[39m-\u001b[39m\u001b[39m>\u001b[39m Tensor:\n\u001b[0;32m--> 114\u001b[0m     \u001b[39mreturn\u001b[39;00m F\u001b[39m.\u001b[39;49mlinear(\u001b[39minput\u001b[39;49m, \u001b[39mself\u001b[39;49m\u001b[39m.\u001b[39;49mweight, \u001b[39mself\u001b[39;49m\u001b[39m.\u001b[39;49mbias)\n",
      "\u001b[0;31mKeyboardInterrupt\u001b[0m: "
     ]
    }
   ],
   "source": [
    "combined_docs = caption_youtube_blip2(\"/Users/bpakra200/tubegpt/tubegpt/src/notebook/demo1.mp4\")"
   ]
  },
  {
   "cell_type": "markdown",
   "metadata": {},
   "source": [
    "## Save Captions in Text"
   ]
  },
  {
   "cell_type": "code",
   "execution_count": null,
   "metadata": {},
   "outputs": [],
   "source": [
    "with open(\"list-blip2.txt\", \"w\") as file:\n",
    "    for item in combined_docs:\n",
    "        file.write(str(item) + \"\\n\")"
   ]
  },
  {
   "attachments": {},
   "cell_type": "markdown",
   "metadata": {},
   "source": [
    "## if we don't like to save captions in Text we can directly Convert text to LAngchain documents"
   ]
  },
  {
   "cell_type": "code",
   "execution_count": 34,
   "metadata": {},
   "outputs": [],
   "source": [
    "# Load the dynamic text into a LangChain document\n",
    "docs = [Document(page_content=text) for text in combined_docs ]\n"
   ]
  },
  {
   "attachments": {},
   "cell_type": "markdown",
   "metadata": {},
   "source": [
    "## load Texts"
   ]
  },
  {
   "cell_type": "code",
   "execution_count": 5,
   "metadata": {},
   "outputs": [],
   "source": [
    "\n",
    "loader = TextLoader('/Users/bpakra200/tubegpt/tubegpt/src/notebook/list.txt')\n",
    "\n",
    "docs = loader.load()"
   ]
  },
  {
   "cell_type": "code",
   "execution_count": 6,
   "metadata": {},
   "outputs": [
    {
     "data": {
      "text/plain": [
       "1"
      ]
     },
     "execution_count": 6,
     "metadata": {},
     "output_type": "execute_result"
    }
   ],
   "source": [
    "len(docs)"
   ]
  },
  {
   "cell_type": "code",
   "execution_count": 30,
   "metadata": {},
   "outputs": [],
   "source": [
    "loader = TextLoader('/Users/bpakra200/tubegpt/tubegpt/src/notebook/list-bliplarge.txt')\n",
    "\n",
    "docs = loader.load()"
   ]
  },
  {
   "cell_type": "code",
   "execution_count": 22,
   "metadata": {},
   "outputs": [],
   "source": [
    "loader = TextLoader('/Users/bpakra200/tubegpt/tubegpt/src/notebook/list-blip2-universalv2.txt')\n",
    "\n",
    "docs = loader.load()"
   ]
  },
  {
   "cell_type": "code",
   "execution_count": 23,
   "metadata": {},
   "outputs": [],
   "source": [
    "text_splitter = RecursiveCharacterTextSplitter(chunk_size=1024, chunk_overlap=64)\n",
    "splits = text_splitter.split_documents(docs)"
   ]
  },
  {
   "cell_type": "code",
   "execution_count": 30,
   "metadata": {},
   "outputs": [],
   "source": [
    "def create_prompt_details_deccribtion():\n",
    "  \n",
    "\n",
    "    template = \"\"\"you are a Video content describer   and create a details describtion of a video depends on    \n",
    "     captions of all images   . All captions are in sequence of the video \n",
    "    {image_captions}\n",
    "    Create a Title :\n",
    "    Create  a Full Descrption :\n",
    "    \"\"\"\n",
    "    prompt = PromptTemplate(input_variables=[\"image_captions\"], template=template)\n",
    "    return prompt"
   ]
  },
  {
   "cell_type": "code",
   "execution_count": 31,
   "metadata": {},
   "outputs": [],
   "source": [
    " video_descrption_prompt = create_prompt_details_deccribtion()\n",
    " llm = ChatOpenAI(temperature=0)\n",
    " video_descrption_chain = LLMChain(\n",
    "        llm=llm, prompt=video_descrption_prompt, verbose=True,)\n",
    "    "
   ]
  },
  {
   "cell_type": "code",
   "execution_count": 32,
   "metadata": {},
   "outputs": [
    {
     "name": "stdout",
     "output_type": "stream",
     "text": [
      "\n",
      "\n",
      "\u001b[1m> Entering new  chain...\u001b[0m\n",
      "Prompt after formatting:\n",
      "\u001b[32;1m\u001b[1;3myou are a Video content describer   and create a details describtion of a video depends on    \n",
      "     captions of all images   . All captions are in sequence of the video \n",
      "    page_content=\"the image of a white spot in front of the lens\\nan abstract image of a camera with lenses\\ndjs free download wmp2 wmp3 wmp3 wmp2 wmp3 free dj\\ndis board logos, icons, and more, free to download\\ndownload links of the dis logo\\nwebinars and training to get you up and running in no time\\ndowntown disney disney parks dark sky\\nan open gate with the lights on and people around\\nan image of the entrance to universal studios\\na large sign that says universal entertainment is shown\\na building with a huge arch in the front\\na photo of the entrance to a movie theater\\nuniversal studios florida logo\\nuniversal studios florida announces opening dates for disney's star wars resort & more\\na large sign for universal Studios Orlando with the word' universal st louis on top\\nthe building that houses the uvm's shop at universal studios orlando, florida\\nuniversal studios florida gets a facelift\\nuniversal studios florida reopens with new attractions\\nuniversal orlando's super star wars planet may open next year\" metadata={'source': '/Users/bpakra200/tubegpt/tubegpt/src/notebook/list-blip2-universalv2.txt'}\n",
      "    Create a Title :\n",
      "    Create  a Full Descrption :\n",
      "    \u001b[0m\n",
      "\n",
      "\u001b[1m> Finished chain.\u001b[0m\n",
      "\n",
      "\n",
      "\u001b[1m> Entering new  chain...\u001b[0m\n",
      "Prompt after formatting:\n",
      "\u001b[32;1m\u001b[1;3myou are a Video content describer   and create a details describtion of a video depends on    \n",
      "     captions of all images   . All captions are in sequence of the video \n",
      "    page_content=\"universal orlando's super star wars planet may open next year\\nthe universal logo is on top of the sphere, surrounded by a sign saying universal world theme park\\na globe at universal studios in florida\\nuniversal orlando is known for its world - class entertainment experiences, especially the disney parks, which bring millions of visitors each year\\nuniversal's new theme park in orlando\\nuniversal orlando florida disney world resort new orlando\\nuniversal world of adventures - world of super heroes dvd\\nuniversal studios orlando opening hours 2020\\nmonsters inc meet & greet at disney's monorail in las vegas\\nmonsters inc 3d tour video 4, atlanta georgia university, atlanta, georgia, usa\\nthe famous mickey mouse movie theatre\\na building with a clock on top of it sits next to a parking lot\\ndespicable me 2 minion bathroom sign\\ntwo minion characters next to an open sign\\na wall display of two minions with blue and yellow faces\\ndespicable me, minions, minions 2, minion 1\\nminions - minions toys movie 1\" metadata={'source': '/Users/bpakra200/tubegpt/tubegpt/src/notebook/list-blip2-universalv2.txt'}\n",
      "    Create a Title :\n",
      "    Create  a Full Descrption :\n",
      "    \u001b[0m\n",
      "\n",
      "\u001b[1m> Finished chain.\u001b[0m\n",
      "\n",
      "\n",
      "\u001b[1m> Entering new  chain...\u001b[0m\n",
      "Prompt after formatting:\n",
      "\u001b[32;1m\u001b[1;3myou are a Video content describer   and create a details describtion of a video depends on    \n",
      "     captions of all images   . All captions are in sequence of the video \n",
      "    page_content=\"minions - minions toys movie 1\\nfour minion heads are shown together\\ndespicable me Minion Movie 3d Blu Ray/DVD Combo pack\\na group of minions that are all wearing little helmets\\ndisneyland disney on ice peter pan's parade review\\ntwo people taking photos next to a large robot figure\\na young boy in a costume is standing near a large vehicle\\nthe big bang theory big bang theory big bang theory katie luigi, derek anderson, tina fey, tiffany\\na man in an orange outfit stands next to some people with an air plane\\nthe first ever episode of the diavolo live show with despicable me 2 villain and peter's mom\\nseveral people standing near an airplane and an orange man in overalls\\nin this clip from the new minions movie, minions and other minions and minion family members make an appearance at disneyland\\npeople walk by an airplane that is in the air and people are dressed as the characters\\npeople standing around in front of an airplane on a street\\npeople walk by a big truck and there is a cartoon mascot on top of it\" metadata={'source': '/Users/bpakra200/tubegpt/tubegpt/src/notebook/list-blip2-universalv2.txt'}\n",
      "    Create a Title :\n",
      "    Create  a Full Descrption :\n",
      "    \u001b[0m\n",
      "\n",
      "\u001b[1m> Finished chain.\u001b[0m\n",
      "\n",
      "\n",
      "\u001b[1m> Entering new  chain...\u001b[0m\n",
      "Prompt after formatting:\n",
      "\u001b[32;1m\u001b[1;3myou are a Video content describer   and create a details describtion of a video depends on    \n",
      "     captions of all images   . All captions are in sequence of the video \n",
      "    page_content='jessi anderson - mickey mouse parade\\nthe minions at disneyland theme park\\ndisneyland - muppets and minionz\\nthree people standing around a large minion\\npeople wearing yellow outfits posing with yellow balloons and minion toys\\na parade with a giant silver machine on the street\\na bunch of people in uniform standing around a machine\\ndisney characters walk through an old street on a busy street\\nan image of an electric wheel that is made of shiny metal\\na futuristic shaped white boat on display in the city\\na large, orange, spaceship on display at disney world\\na minion with a toy arm is shown on a float with a bunch of other characters\\ndiagon alley - the minions from the despicable me movies\\nthe despicable me 3 ride\\na minion statue stands in front of an amusement park\\na sign with pictures of shrek and his friends in front of it\\nthe movie poster for shrek 4 is displayed in a shop\\nsharks vs donkeys\\npeople are sitting on top of some signs\\nthere are some signs for donkey kong on top of a building' metadata={'source': '/Users/bpakra200/tubegpt/tubegpt/src/notebook/list-blip2-universalv2.txt'}\n",
      "    Create a Title :\n",
      "    Create  a Full Descrption :\n",
      "    \u001b[0m\n",
      "\n",
      "\u001b[1m> Finished chain.\u001b[0m\n",
      "\n",
      "\n",
      "\u001b[1m> Entering new  chain...\u001b[0m\n",
      "Prompt after formatting:\n",
      "\u001b[32;1m\u001b[1;3myou are a Video content describer   and create a details describtion of a video depends on    \n",
      "     captions of all images   . All captions are in sequence of the video \n",
      "    page_content=\"there are some signs for donkey kong on top of a building\\nan animated sign that reads donkey's ranch\\ntwo men and two women are posing with shrapshy\\nshrek and shrek 2 meet and greets at disneyland disney's hollywood studio\\na man taking a photo of two people in costume\\nan image of an animated character being photographed by a woman\\na woman and a man are posing with characters in front of a wall\\na man in a green shirt and another man dressed up as shrek with two other people in blue costumes\\nthe horror museum in atlanta ga - monster city\\nmonsters vs zombies maryland statue\\nnew york, ny -- march 15, 2018 -- a new york state court judge today approved a settlement that will give the creators of the\\nmonsters inc at universal studios\\ndisney's monsters cafe grand opening\\nuniversal studios classic monsters cafe\\nthe monsters cafe is a disney theme park\\na giant sign for monsters cafe at universal studios\\nhobbit hole - disney land park, florida\" metadata={'source': '/Users/bpakra200/tubegpt/tubegpt/src/notebook/list-blip2-universalv2.txt'}\n",
      "    Create a Title :\n",
      "    Create  a Full Descrption :\n",
      "    \u001b[0m\n",
      "\n",
      "\u001b[1m> Finished chain.\u001b[0m\n",
      "\n",
      "\n",
      "\u001b[1m> Entering new  chain...\u001b[0m\n",
      "Prompt after formatting:\n",
      "\u001b[32;1m\u001b[1;3myou are a Video content describer   and create a details describtion of a video depends on    \n",
      "     captions of all images   . All captions are in sequence of the video \n",
      "    page_content='hobbit hole - disney land park, florida\\nthe iron king - japanese steel roller coaster at universal studios hollywood | disneyworld in hollywood | disneyland park in hollywood\\nred and white roller coaster and people in the sky\\nthe roller coaster has red and white people\\nthe disney world logo is in the foreground as the people stand around\\na sign above a sign for clearance at fanta land\\na red roller coaster ride is next to a large white building\\na roller coaster at a amusement park with a blue sky\\nthe thunder mountain roller coaster in new orleans\\nthe flying roller coaster is going to a high speed\\nlions, tigers and bears, oh my!\\nskydive toronto,disloyalty,disloyalty,fault,fault,pushing the limits\\nthe roller coaster and its riders in the sky\\na red and white roller coaster is moving under cloudy skies\\ntwo men stand on the back of the red roller coaster at the disneyland\\nperson is back at ds\\nthe new superman flight simulator\\na red and yellow roller coaster ride in an amusement park' metadata={'source': '/Users/bpakra200/tubegpt/tubegpt/src/notebook/list-blip2-universalv2.txt'}\n",
      "    Create a Title :\n",
      "    Create  a Full Descrption :\n",
      "    \u001b[0m\n",
      "\n",
      "\u001b[1m> Finished chain.\u001b[0m\n",
      "\n",
      "\n",
      "\u001b[1m> Entering new  chain...\u001b[0m\n",
      "Prompt after formatting:\n",
      "\u001b[32;1m\u001b[1;3myou are a Video content describer   and create a details describtion of a video depends on    \n",
      "     captions of all images   . All captions are in sequence of the video \n",
      "    page_content='a red and yellow roller coaster ride in an amusement park\\nan amusement ride ride in the city is being shown on video\\na roller coaster has a car on the top of it\\nhollywood studios - the queue to the dumbo ride\\ndine and dash video at universal studios hollywood\\na roller coaster in an amusement park\\na roller coaster is riding down a coaster coaster\\na man is riding on a roller coaster in a roller coaster park\\nan amusement coaster riding on top of a track\\nthe marquee for twisted at cinema 25\\nan advertisement is seen on the side of a movie theater\\ntwisted – video clip\\na theater that is painted with the words twistel\\na building with large advertising on it\\nan outside view of a movie theater\\na vintage industrial size machine sitting on a cart\\nthe industrial machine is made of old metal\\nan old machine is sitting on top of a stand\\nsanta monica, ca museum of science and industry shows the original electric furnace of the japanese pacific war ship, the \"yosh\\nfungal growth on a large old iron oven and inside' metadata={'source': '/Users/bpakra200/tubegpt/tubegpt/src/notebook/list-blip2-universalv2.txt'}\n",
      "    Create a Title :\n",
      "    Create  a Full Descrption :\n",
      "    \u001b[0m\n",
      "\n",
      "\u001b[1m> Finished chain.\u001b[0m\n",
      "\n",
      "\n",
      "\u001b[1m> Entering new  chain...\u001b[0m\n",
      "Prompt after formatting:\n",
      "\u001b[32;1m\u001b[1;3myou are a Video content describer   and create a details describtion of a video depends on    \n",
      "     captions of all images   . All captions are in sequence of the video \n",
      "    page_content=\"fungal growth on a large old iron oven and inside\\nthe best homemade industrial heaters\\nthe real cow daniela\\nthe cow has horns sticking out of it's head\\na cow that has been painted black and white\\na cow statue is seen in a room\\na model of a black and white cow is standing inside a garage\\nstraw bale cows have 'unique characteristics' and require a lot of maintenance\\nthis is an old wrecking ball being pulled by an electric motor\\na construction site with a brick wall and a red truck\\nmisfit toys | disney magic at disneyland\\nan old tractor is seen on a brick wall\\ndisneyland disney's fantasyland disney world magic kingdom disneyland disney's fantasyland disney's world disney world disney\\na tractor is standing next to a wall\\nthere is a windmill on top of a building in this image\\nan electric windmill sits in the front of a restaurant\\na building with a sign that says twitpic on it\\ntwister on broadway - downtown dallas twister - tulsa, ok twister - dallas twister\\na big sign is painted to the side of a building\" metadata={'source': '/Users/bpakra200/tubegpt/tubegpt/src/notebook/list-blip2-universalv2.txt'}\n",
      "    Create a Title :\n",
      "    Create  a Full Descrption :\n",
      "    \u001b[0m\n",
      "\n",
      "\u001b[1m> Finished chain.\u001b[0m\n",
      "\n",
      "\n",
      "\u001b[1m> Entering new  chain...\u001b[0m\n",
      "Prompt after formatting:\n",
      "\u001b[32;1m\u001b[1;3myou are a Video content describer   and create a details describtion of a video depends on    \n",
      "     captions of all images   . All captions are in sequence of the video \n",
      "    page_content=\"a big sign is painted to the side of a building\\nthe twister on new york avenue in san diego\\nthe transformers building at disney's world of transformers\\ntransformers land is now open\\na large black and red robot standing on top of a warehouse\\nan opttum robot stands in front of a building\\nthe statue of optimus prime stands in the sun at the back of a large building\\nan enormous, black robot on a roof near a clock tower\\na giant robot standing in front of a building\\na large metal statue is posing outside on top of a building\\nthis is the robot from transformers world of the robots\\noptimus prime robot is on display at the dallas symphony center\\nthis was my best transformers toy ever video\\ntransformers news optotron Optimus prime in motion-capture 3d animated movie\\noptimus prime the film\\nan open, silver and blue robot that looks like an optimus prime\\ntransformers news in 2017 - optimus prime reveals the full extent of his latest transformation and how it came to be\" metadata={'source': '/Users/bpakra200/tubegpt/tubegpt/src/notebook/list-blip2-universalv2.txt'}\n",
      "    Create a Title :\n",
      "    Create  a Full Descrption :\n",
      "    \u001b[0m\n",
      "\n",
      "\u001b[1m> Finished chain.\u001b[0m\n",
      "\n",
      "\n",
      "\u001b[1m> Entering new  chain...\u001b[0m\n",
      "Prompt after formatting:\n",
      "\u001b[32;1m\u001b[1;3myou are a Video content describer   and create a details describtion of a video depends on    \n",
      "     captions of all images   . All captions are in sequence of the video \n",
      "    page_content='a large transformer statue sitting outside of a garage door\\na man in uniform is standing next to a robot with a gun\\ntransformers the movie special features review part 3 of 3\\ntransformers robots in disguise the final fight - video - bumblebee - part two\\na man in front of a wall with two large transformers logos on it\\na man is taking a photo of a car on the side of a building\\ntransformers live action movie 2 trailer\\na man standing next to a camera while taking a picture\\nthe transformers: bumblebee team film set up and a photo op with the director brent hamblen\\ntransformers the last knight exclusive toys and collectibles\\na yellow and black robot is being displayed on a case\\ntransformers news new toy collection\\na glass display case displaying a metal helmet\\ntransformers toys review nest 1/2 scale wall decal | transformers news\\nnest logo\\na man with an autobot logo on his shirt\\nthe door to the building that houses the decepticon logo\\njosh kubal the king of the street event - the car of the year award' metadata={'source': '/Users/bpakra200/tubegpt/tubegpt/src/notebook/list-blip2-universalv2.txt'}\n",
      "    Create a Title :\n",
      "    Create  a Full Descrption :\n",
      "    \u001b[0m\n",
      "\n",
      "\u001b[1m> Finished chain.\u001b[0m\n",
      "\n",
      "\n",
      "\u001b[1m> Entering new  chain...\u001b[0m\n",
      "Prompt after formatting:\n",
      "\u001b[32;1m\u001b[1;3myou are a Video content describer   and create a details describtion of a video depends on    \n",
      "     captions of all images   . All captions are in sequence of the video \n",
      "    page_content=\"an old cadillac is parked on the side of the street\\na black and silver car has a large loudspeaker on top\\nthe giant speaker on a black car\\na group of people standing outside on a sidewalk\\nmany people walk on a street and the man has a backpack on\\nthe disneyland fireworks were cancelled. you don't know which disneyland park? pic.twitter.com/Q7iYqH\\na crowd of people standing in front of the white house\\na group of people standing in a crowd in a city\\npeople watching an entertainer perform in front of a stage\\ntweeting at disneyworld paris\\na crowd of people walk past a street outside\\na person is standing outside in a crowd of people\\na crowd of people on a sidewalk\\ndisney world news disney world news disney world news disney world news disney world news disney world news disney world news disney\\na crowd is gathered around a man walking towards a building\\nthousands celebrate a day of music and culture in chicago\\na crowd of people are gathered on a street with one person holding an apple\" metadata={'source': '/Users/bpakra200/tubegpt/tubegpt/src/notebook/list-blip2-universalv2.txt'}\n",
      "    Create a Title :\n",
      "    Create  a Full Descrption :\n",
      "    \u001b[0m\n",
      "\n",
      "\u001b[1m> Finished chain.\u001b[0m\n",
      "\n",
      "\n",
      "\u001b[1m> Entering new  chain...\u001b[0m\n",
      "Prompt after formatting:\n",
      "\u001b[32;1m\u001b[1;3myou are a Video content describer   and create a details describtion of a video depends on    \n",
      "     captions of all images   . All captions are in sequence of the video \n",
      "    page_content=\"people walk by a street with a sign that says dsi and the building in the background\\na crowd of people standing around in a street\\ntwo men playing saxophones in a restaurant\\ntwo woman wearing dresses stand on a porch with a saxophone player\\nhouston's bobby ebb on the 'jazz band' and his favorite song in the movie\\nlady in a white shirt and a man wearing a bow tie with a saxophone\\na woman and man in white shirts are singing in a park\\na woman is singing to people on a stage\\na man in a black suit and hat is dancing on the sidewalk\\nthe person is dancing at a park while other people walk around him\\nsinger person and crowd at city hall. | s3\\na crowd with some people dressed up in costumes on stage\\nthe crowd is cheering while the man in sunglasses waves\\nmichael jackson walt disney world surprise\\nan event for the disney-disneyland july 4 celebration\\ndowntown philly - downtown street festivals\\ncrowds gather on the street near a building and a woman taking a selfie\" metadata={'source': '/Users/bpakra200/tubegpt/tubegpt/src/notebook/list-blip2-universalv2.txt'}\n",
      "    Create a Title :\n",
      "    Create  a Full Descrption :\n",
      "    \u001b[0m\n",
      "\n",
      "\u001b[1m> Finished chain.\u001b[0m\n",
      "\n",
      "\n",
      "\u001b[1m> Entering new  chain...\u001b[0m\n",
      "Prompt after formatting:\n",
      "\u001b[32;1m\u001b[1;3myou are a Video content describer   and create a details describtion of a video depends on    \n",
      "     captions of all images   . All captions are in sequence of the video \n",
      "    page_content='people are gathered outside on a busy sidewalk with an old man taking a picture\\nthis is what the sign says\\nthe simpsons characters meet springfield\\nvideo\\na cartoon character with a face made up in the shape of a large\\na sign with a picture of springfield\\nspringfield is shown in a commercial during disney world\\nsome people walking by a big sign saying springfield world of fun\\nthe sign at disney\\'s springfield resort in springfield, ohio\\nwalt disney world speed skater\\na large sign with the words \"superhero\" on it\\nthe donuts are for sale at the end of a street\\nanimated characters, a sign and a donut shaped statue are all part of the scene\\na large crowd is standing around the giant bee and donut\\na busy street scene with lots of people walking around\\na giant bee is on top of a red, yellow, and black food truck\\nthe face of a cartoon character on top of the logo for a restaurant\\na toy-like yi yi truck parked in front of a building\\na giant mascot for a food truck with a sign that reads tay yi' metadata={'source': '/Users/bpakra200/tubegpt/tubegpt/src/notebook/list-blip2-universalv2.txt'}\n",
      "    Create a Title :\n",
      "    Create  a Full Descrption :\n",
      "    \u001b[0m\n",
      "\n",
      "\u001b[1m> Finished chain.\u001b[0m\n",
      "\n",
      "\n",
      "\u001b[1m> Entering new  chain...\u001b[0m\n",
      "Prompt after formatting:\n",
      "\u001b[32;1m\u001b[1;3myou are a Video content describer   and create a details describtion of a video depends on    \n",
      "     captions of all images   . All captions are in sequence of the video \n",
      "    page_content='a giant mascot for a food truck with a sign that reads tay yi\\nthe disneyland paris food truck features a paris disney theme\\nyay yoi restaurant opens up in disneyland\\nsideshow with the simpsons characters\\nthe simpsons giant, cartoon mascot statue\\nan outdoor statue of a toy figure in front of a building\\nthis giant inflatable rubber duck has become a huge tourist attraction in dortmund, germany\\nwawa doughnuts unveils new donut with a hidden egg, eggnog and marshmallow donut hole\\nan oversized doughnut on top of a building\\nthe infamous lard ass doughnut - djs in america\\na giant, illuminated donut with the word lardado written on it\\na building with a kwik - e - mart sign in front of it\\nthe sign above the kwik - e - mart in the background\\na logo on the sign of kwik - e - mart\\na sign for kwiie - e mart and palm trees outside\\nharry simpson krusty the clown burger at disney world\\nthe simpsons krusty burger sign outside a restaurant\\nthe simpsons topiary gardens' metadata={'source': '/Users/bpakra200/tubegpt/tubegpt/src/notebook/list-blip2-universalv2.txt'}\n",
      "    Create a Title :\n",
      "    Create  a Full Descrption :\n",
      "    \u001b[0m\n",
      "\n",
      "\u001b[1m> Finished chain.\u001b[0m\n",
      "\n",
      "\n",
      "\u001b[1m> Entering new  chain...\u001b[0m\n",
      "Prompt after formatting:\n",
      "\u001b[32;1m\u001b[1;3myou are a Video content describer   and create a details describtion of a video depends on    \n",
      "     captions of all images   . All captions are in sequence of the video \n",
      "    page_content=\"the simpsons topiary gardens\\na couple of duff bottles have been planted in the grass to look like duffy the dog\\nan old school soda mascot statue is on display\\nthe simpsons soda bottling plant at universal studios\\nmoose's jamboree downtown, ca\\nmoe's burrito shop-new orleans - burbank, ca\\na man is pouring drinks out of a glass\\na woman in an apron stands behind the counter holding a large beer\\nsomeone is pouring a beer into a glass\\nthe employee is placing a glass on the bar\\nvideo game review for alfreds burger palace bar - youtube\\nhand shake between a man and a bartender at a bar\\nperson eats his burger at person's house\\na simpsons statue with water running down it's arms\\nthe simpsons at universal studios epcot\\na huge simpsons figurine in front of other people\\ntwo men and three women standing in front of a wall with the simpsons characters\\na group of simpsons cartoon figures posing in front of a wall\\nthe simpsons park at universal hollywood opening\\na girl and two girls pose with a family of simpsons\" metadata={'source': '/Users/bpakra200/tubegpt/tubegpt/src/notebook/list-blip2-universalv2.txt'}\n",
      "    Create a Title :\n",
      "    Create  a Full Descrption :\n",
      "    \u001b[0m\n",
      "\n",
      "\u001b[1m> Finished chain.\u001b[0m\n",
      "\n",
      "\n",
      "\u001b[1m> Entering new  chain...\u001b[0m\n",
      "Prompt after formatting:\n",
      "\u001b[32;1m\u001b[1;3myou are a Video content describer   and create a details describtion of a video depends on    \n",
      "     captions of all images   . All captions are in sequence of the video \n",
      "    page_content=\"a girl and two girls pose with a family of simpsons\\nthe simpsons, park and more from a family in paris\\na girl with her head near a simpsons character\\nan animated ride that has some octopus themed rides\\na man in a suit stands near a squid shaped ride\\na ride that looks like a monster ride\\nthe incredibles ride at disneyland hollywood studios\\nthe simpsons world at disneyland park opening night 2016\\ndisneyland's simpsons world, disney world disney world, disney land, disney land attractions\\na crowd of people at disneyland amusement park\\nan amusement park that has an eye shaped head at the entrance\\ntampa's new simpsons world will open in july\\ndisneyland is coming to houston for spring break\\nthe simpsons ride disney's animal kingdom\\nthe simpsons ride ride simpson's journey simpsons world\\nthe simpsons ride is the most expensive ride at disney's hollywood studios\\nthe simpsons ride at universal studios orlando is a ride based on the simpsons\\na large sign with cartoon characters in the middle of it\" metadata={'source': '/Users/bpakra200/tubegpt/tubegpt/src/notebook/list-blip2-universalv2.txt'}\n",
      "    Create a Title :\n",
      "    Create  a Full Descrption :\n",
      "    \u001b[0m\n",
      "\n",
      "\u001b[1m> Finished chain.\u001b[0m\n",
      "\n",
      "\n",
      "\u001b[1m> Entering new  chain...\u001b[0m\n",
      "Prompt after formatting:\n",
      "\u001b[32;1m\u001b[1;3myou are a Video content describer   and create a details describtion of a video depends on    \n",
      "     captions of all images   . All captions are in sequence of the video \n",
      "    page_content=\"a large sign with cartoon characters in the middle of it\\nthe sign in front of an amusement park\\nthe sign for the kid zone in a park\\nwendy's kidzone is open for play\\nthere is a welcome sign for the mouseketeers on a sidewalk\\nthere is a mouse statue that is placed on a sidewalk\\nthe disneyland resort at disney's epcot theme park has two disneyland resorts\\ndumbo mouse at disneyland resort\\nthe logo for barney's is shown next to an arch\\nan arch with a sign reading barney\\na statue of a man wearing a t-shirt on a park bench\\nking kong dong dong dong dong dong\\nwilly's nutter city\\nwacky world of wonderland - wacky world of wonderland\\nwonderland disneyland disneyland sign disneyland disneyland disneyland disneyland disneyland disneyland disney\\nan amusement park with a sign that says woody and the wooden nut\\na small red plastic car that has a red and orange top\\nthe orange and yellow dinosaur sculpture in disneyland is displayed at the top of a tree\\ngiant statue of person atop the world\" metadata={'source': '/Users/bpakra200/tubegpt/tubegpt/src/notebook/list-blip2-universalv2.txt'}\n",
      "    Create a Title :\n",
      "    Create  a Full Descrption :\n",
      "    \u001b[0m\n",
      "\n",
      "\u001b[1m> Finished chain.\u001b[0m\n",
      "\n",
      "\n",
      "\u001b[1m> Entering new  chain...\u001b[0m\n",
      "Prompt after formatting:\n",
      "\u001b[32;1m\u001b[1;3myou are a Video content describer   and create a details describtion of a video depends on    \n",
      "     captions of all images   . All captions are in sequence of the video \n",
      "    page_content=\"giant statue of person atop the world\\na statue that is decorated with an orange and yellow bird\\nthere are many people riding a roller coaster at disney world\\nbristol bay video - maryland's best summer time activity - samsquan\\na blue and red roller coaster is spinning in a theme park\\na red and blue roller coaster going down a path\\nthe kiddiecoaster ride is pictured here\\na roller coaster ride at a theme park\\nthe roller coaster at an amusement park is blue and red\\na red roller coaster going down a hillside at a park\\nthe entrance to an amusement park with signs and people in the street\\nthe sign for curious george park in the background\\ncartoon land at disney's anaheim\\na sign for the cartoon george theme park at disney world\\nan open book showing children's books on display\\na cartoon of an open book with two children looking at it\\na picture of a book is shown with a child reading it\\nsunny the sock monkey by charlie and the china doll, cbs tv's cbs news, 2016\\na book with the book sitting on the floor\" metadata={'source': '/Users/bpakra200/tubegpt/tubegpt/src/notebook/list-blip2-universalv2.txt'}\n",
      "    Create a Title :\n",
      "    Create  a Full Descrption :\n",
      "    \u001b[0m\n",
      "\n",
      "\u001b[1m> Finished chain.\u001b[0m\n",
      "\n",
      "\n",
      "\u001b[1m> Entering new  chain...\u001b[0m\n",
      "Prompt after formatting:\n",
      "\u001b[32;1m\u001b[1;3myou are a Video content describer   and create a details describtion of a video depends on    \n",
      "     captions of all images   . All captions are in sequence of the video \n",
      "    page_content=\"a book with the book sitting on the floor\\nthis book is open to the picture of a monkey\\nbig blue truck and little red truck splashdown and more at disney world\\ndisneyland disney on ice performance review\\nhollywood studios splash mountain ds hd video\\na small child is playing in the water at the play area\\npeople are standing outside in front of a big colored children's theme park\\na large colorful playground area with a little girl\\nthe fun is still on in mickey mouse's mickey's kingdom\\nan indoor amusement park has a colorful facade and clock tower\\na large children's playground has a tower and a clock\\nsome people in the children's playground area of a city\\nthere is a very colorful house that has a clock on it\\ndisneyland's little people village is not a fake place, it's really just a fun little town with little kids, and no adults\\npixar worlds new land disney springs\\na building is shaped like a cartoon town with a woman walking away from it\" metadata={'source': '/Users/bpakra200/tubegpt/tubegpt/src/notebook/list-blip2-universalv2.txt'}\n",
      "    Create a Title :\n",
      "    Create  a Full Descrption :\n",
      "    \u001b[0m\n",
      "\n",
      "\u001b[1m> Finished chain.\u001b[0m\n",
      "\n",
      "\n",
      "\u001b[1m> Entering new  chain...\u001b[0m\n",
      "Prompt after formatting:\n",
      "\u001b[32;1m\u001b[1;3myou are a Video content describer   and create a details describtion of a video depends on    \n",
      "     captions of all images   . All captions are in sequence of the video \n",
      "    page_content=\"the world of jakks pacific and disney are the world's most exciting entertainment companies in the world of entertainment for the best family entertainment\\nthe spongebob sign in the background is located on a store\\nkristen bell as krusty the clown in the spongebob squarepants parade in hollywood\\nhollywood sign, mariachi music and a spongebob float\\nspongebob in the hollywood studios parade\\nan animated spongebob float in a parade with people watching\\npeople standing near a statue in the street\\nthe crowd around a street on the street while a large spongebob character stands on a float\\na parade float with people on it and Spongebob character in the parade\\na lot of people are on the street with a spongebob figure\\npeople are getting hugs from spongebob character in a parade\\na group of people dressed in spongebob costumes and other characters on the street\\na building has a sign for gringott's\\nthe sign for gringott's at the entrance to disneyland park in miami\\nperson at the top of a large building with statues\" metadata={'source': '/Users/bpakra200/tubegpt/tubegpt/src/notebook/list-blip2-universalv2.txt'}\n",
      "    Create a Title :\n",
      "    Create  a Full Descrption :\n",
      "    \u001b[0m\n",
      "\n",
      "\u001b[1m> Finished chain.\u001b[0m\n",
      "\n",
      "\n",
      "\u001b[1m> Entering new  chain...\u001b[0m\n",
      "Prompt after formatting:\n",
      "\u001b[32;1m\u001b[1;3myou are a Video content describer   and create a details describtion of a video depends on    \n",
      "     captions of all images   . All captions are in sequence of the video \n",
      "    page_content=\"person at the top of a large building with statues\\na building with tall columns and a statue on a balcony\\nthe top of an apartment building with columns and columns on the top\\nthe person building by boston architecture studio | design | design blog\\na statue is sitting on top of a building with the sky behind it\\na statue on top of a building with a statue in front\\nthe movie ticket office is the place to go for the latest in movies and tv\\ndisneyland's 'hogwarts hall of terror' and 'hogwarts express' are both closed for good\\nthree women standing in front of a wooden fence at the end of a building\\ntwo girls in blue dresses on a balcony outside\\nfour women dancing on the balcony of a building\\nthree dancers are seen on stage at the top of a building\\ndisneyland disneyland harry potter themed beer\\na pint of Guinness is being served through the window of a bar\\nharry potter world dalmatian dog\\nharry potter land in universal studios hollywood | video\\nharry potter world's beer mugs to make their way to us\" metadata={'source': '/Users/bpakra200/tubegpt/tubegpt/src/notebook/list-blip2-universalv2.txt'}\n",
      "    Create a Title :\n",
      "    Create  a Full Descrption :\n",
      "    \u001b[0m\n",
      "\n",
      "\u001b[1m> Finished chain.\u001b[0m\n",
      "\n",
      "\n",
      "\u001b[1m> Entering new  chain...\u001b[0m\n",
      "Prompt after formatting:\n",
      "\u001b[32;1m\u001b[1;3myou are a Video content describer   and create a details describtion of a video depends on    \n",
      "     captions of all images   . All captions are in sequence of the video \n",
      "    page_content='harry potter world\\'s beer mugs to make their way to us\\na coffee mug is in a glass case with an item for sale\\nkane hill - an angel alley\\na wooden sign is attached to a brick wall\\na black and white sign on a brick wall\\nthe sign in brooklyn alley says brooklyn and alley\\na sign in front of a brick building says brockton\\nthe brooklyn museum\\'s new exhibit on the making of the world\\'s greatest museums\\na sign that says \"kook\" on the brick wall\\nthe house of the knife\\nthe wanted poster is hanging on the wall of the building\\nfile photo of the wanted poster\\nbellatrix lestrastange wants the muggleborns back in \\'the house at the end of time\\'\\nan advertisement for the band belladimix and strang\\nbelletta x btj s5e6 the one\\na wanted poster is displayed on a wall\\ndisney\\'s magic kingdom has two new \\'wishes\\' in the works - disney\\'s disney village at disney world disney\\'s magic\\nthe story of the clowns is told through projections on the wall\\nan empty window display with several faces in them' metadata={'source': '/Users/bpakra200/tubegpt/tubegpt/src/notebook/list-blip2-universalv2.txt'}\n",
      "    Create a Title :\n",
      "    Create  a Full Descrption :\n",
      "    \u001b[0m\n",
      "\n",
      "\u001b[1m> Finished chain.\u001b[0m\n",
      "\n",
      "\n",
      "\u001b[1m> Entering new  chain...\u001b[0m\n",
      "Prompt after formatting:\n",
      "\u001b[32;1m\u001b[1;3myou are a Video content describer   and create a details describtion of a video depends on    \n",
      "     captions of all images   . All captions are in sequence of the video \n",
      "    page_content=\"an empty window display with several faces in them\\nhorror masks hanging from the windows of a building\\nthe jesus faces are behind glass in the dark\\nthe man from earth - dvd screencap\\na bunch of zombies look out of a window\\nprestige horror film dallas, texas\\nan animal hanging from a ceiling in front of a book shelf\\na snake head is hanging in the air in front of a glass wall\\na museum worker is shown holding a snake\\na snake head on display in a store window\\nfans who have spent too much time in harry potter shop on london's euston road\\na stack of books stacked with an ugly monster on top\\nthis photo of the harry potter studio at disney's paris harry potter studio tour video has been edited\\na display case with books and some scary books\\nthe harry potter shop – dios mamá el tío\\ndumbledore and the book of snakes in harry potter ride\\nharry potter in a wizarding shop\\na store front has windows and signs outside\\nthe entrance to floran's folly's is shown with a sign on it\" metadata={'source': '/Users/bpakra200/tubegpt/tubegpt/src/notebook/list-blip2-universalv2.txt'}\n",
      "    Create a Title :\n",
      "    Create  a Full Descrption :\n",
      "    \u001b[0m\n",
      "\n",
      "\u001b[1m> Finished chain.\u001b[0m\n",
      "\n",
      "\n",
      "\u001b[1m> Entering new  chain...\u001b[0m\n",
      "Prompt after formatting:\n",
      "\u001b[32;1m\u001b[1;3myou are a Video content describer   and create a details describtion of a video depends on    \n",
      "     captions of all images   . All captions are in sequence of the video \n",
      "    page_content=\"the entrance to floran's folly's is shown with a sign on it\\nharry potter and the deathly hallows part 2 video of harry potter and the deathly hallows part 2 part 2 - the\\nan ice cream cone sticking out of the window of a building\\nharry potter and the escape from hogwarts ride, lily cottage, hogwarts castle, hogwarts house\\nthe sign is hanging from the building on top of the building\\na large ice cream cone is on top of a building\\ncandy store milan's new ice cream truck\\na woman's hand is scooping out ice cream from a mixing bowl\\nsomeone hands the scoops of ice cream into a bowl\\nsomeone taking ice cream from a bowl in front of a camera\\nan empty cupcake display with two ice cream cones sitting on top\\ndisco cake the movie - toy story 4 promo spot - 3\\nice cream stands are in a room with lights\\ndisneyland restaurant tv spot, 'you'll be so delighted' - screenshot 6\\npizza hut's panda ice cream ice cream sundae\\na group of ice cream cones in front of a mirror\\na man has some ice cream in a glass cabinet\" metadata={'source': '/Users/bpakra200/tubegpt/tubegpt/src/notebook/list-blip2-universalv2.txt'}\n",
      "    Create a Title :\n",
      "    Create  a Full Descrption :\n",
      "    \u001b[0m\n",
      "\n",
      "\u001b[1m> Finished chain.\u001b[0m\n",
      "\n",
      "\n",
      "\u001b[1m> Entering new  chain...\u001b[0m\n",
      "Prompt after formatting:\n",
      "\u001b[32;1m\u001b[1;3myou are a Video content describer   and create a details describtion of a video depends on    \n",
      "     captions of all images   . All captions are in sequence of the video \n",
      "    page_content=\"a man has some ice cream in a glass cabinet\\nice cream cones in a mirror view behind a window\\nthere is a clock tower with a lot of doors\\nharry potter world the walk of life\\na large clock that has wooden faces\\ngothic bell tower disney world harry potter tour\\nharry potter the escape to ogley magic castle walk through\\nthe owl clock at the universal studios\\nharry potter and the chamber of secrets - the owl's head of slytherin castle\\nharry potter wizarding world hogsmeade – hocus pocus hogwarts\\na woman wearing a witch costume holds an old book in front of a group of zombies\\nthe people are dressed in costume with swords\\ntwo men dressed in medieval costume stand on top of a building\\ntwo men are dressed up for a photo with a black cape\\nthe sims 2 is coming soon to vr, and this is how it works\\nthe man in a black vest and tie is on stage\\na man in black suit sitting behind a podium\\ndishonored 2-zoomed in the mask\\nwomen in blue dresses are dancing on stage\" metadata={'source': '/Users/bpakra200/tubegpt/tubegpt/src/notebook/list-blip2-universalv2.txt'}\n",
      "    Create a Title :\n",
      "    Create  a Full Descrption :\n",
      "    \u001b[0m\n",
      "\n",
      "\u001b[1m> Finished chain.\u001b[0m\n",
      "\n",
      "\n",
      "\u001b[1m> Entering new  chain...\u001b[0m\n",
      "Prompt after formatting:\n",
      "\u001b[32;1m\u001b[1;3myou are a Video content describer   and create a details describtion of a video depends on    \n",
      "     captions of all images   . All captions are in sequence of the video \n",
      "    page_content=\"women in blue dresses are dancing on stage\\nharry potter & the deathly hallows part 1 – harry potter and the deathly hallows part 1 movie trailer 2\\na group of dancers on stage at a circus\\ntamagotchi tamagotchi on stage - wands and wands\\nthe famous wands shop on hogwarts\\nthe windows of an old fashioned shop with lots of windows\\nan old window display with pictures of clowns on it\\nthe wizarding world of harry potter uk video\\nthe man in the window of a building with glass in the top\\nwand shop the world of harry potter uk\\nthis shop in the wizarding world of harry potter is filled with pieces of chess\\nthe wizard's corner harry potter world uk\\na statue of a man on the facade of the building\\na red and white building with people sitting on top of it\\nharry potter studio tour - the wizarding world of harry potter\\nhogwarts street scene, harry potter world\\nharry potter world, universal studios\\nthe scene at wizarding world of harry potter at universal studios hollywood\" metadata={'source': '/Users/bpakra200/tubegpt/tubegpt/src/notebook/list-blip2-universalv2.txt'}\n",
      "    Create a Title :\n",
      "    Create  a Full Descrption :\n",
      "    \u001b[0m\n",
      "\n",
      "\u001b[1m> Finished chain.\u001b[0m\n",
      "\n",
      "\n",
      "\u001b[1m> Entering new  chain...\u001b[0m\n",
      "Prompt after formatting:\n",
      "\u001b[32;1m\u001b[1;3myou are a Video content describer   and create a details describtion of a video depends on    \n",
      "     captions of all images   . All captions are in sequence of the video \n",
      "    page_content=\"harry potter and the harry potter rides in universal studios theme park\\nharry potter world the harry potter studios interactive experience, utah, utah\\na man standing in front of a statue in front of a building\\nharry potter tour | the harry potter journey harry potter | wizarding world of harry potter tour\\ntwo men are standing around the ghost at the dark tower\\nharry potter and the escape from gringotts bank - wizarding world of harry potter dios cedar fair inc harry\\nthe dragon is in the dark inside of the dragonarium\\ndisney's harry potter world at universal studios orlando\\nharry potter and the hogwarts express – the dragon is on fire at hogwarts express\\nharry potter and the diagon alley diagon alley diagon alley diagon alley diagon alley harry potter and the horcrux\\na dragon is shooting flames from its mouth at the top of a castle\\nthe beast that roars. the dragon that breathes fire. the dragon that flies\\na dragon statue is on top of a tower\\nthe dragon in the wizarding world\" metadata={'source': '/Users/bpakra200/tubegpt/tubegpt/src/notebook/list-blip2-universalv2.txt'}\n",
      "    Create a Title :\n",
      "    Create  a Full Descrption :\n",
      "    \u001b[0m\n",
      "\n",
      "\u001b[1m> Finished chain.\u001b[0m\n",
      "\n",
      "\n",
      "\u001b[1m> Entering new  chain...\u001b[0m\n",
      "Prompt after formatting:\n",
      "\u001b[32;1m\u001b[1;3myou are a Video content describer   and create a details describtion of a video depends on    \n",
      "     captions of all images   . All captions are in sequence of the video \n",
      "    page_content=\"the dragon in the wizarding world\\nuniversal studios hollywood review & guide 2017\\nuniversal orlando theme park tour\\na large illuminated sign that reads universal studios\\nuniversal's new logo with the logo's letter\\na lit up globe with the universal logo that says universal on it\\na large sign with a logo that says universal Orlando in front of it\\nthe universal logo lights up in blue lights\\nuniversal studios theme park, hollywood, florida, usa - video stock footage & b-roll\\nthe esal world of adventure in macau a world of adventures\\nthe sun has the name asal on it and there is a giant ball with the word in it\\nan airplane flying in the air at night\\nan image of a small plane flying in the sky\\na full moon in the dark with the moonlight shining\\nthe jalapeno beer tattoo on woman's thigh\\ndisney disqus facebook icon\\ndisneys wwe youtube channel\\ndisney news, tips and tricks, articles and information\\ndisney disney disney disney disney disney disney disney disney disney disney disney disney disney disney\" metadata={'source': '/Users/bpakra200/tubegpt/tubegpt/src/notebook/list-blip2-universalv2.txt'}\n",
      "    Create a Title :\n",
      "    Create  a Full Descrption :\n",
      "    \u001b[0m\n",
      "\n",
      "\u001b[1m> Finished chain.\u001b[0m\n",
      "\n",
      "\n",
      "\u001b[1m> Entering new  chain...\u001b[0m\n",
      "Prompt after formatting:\n",
      "\u001b[32;1m\u001b[1;3myou are a Video content describer   and create a details describtion of a video depends on    \n",
      "     captions of all images   . All captions are in sequence of the video \n",
      "    page_content=\"disney disney disney disney disney disney disney disney disney disney disney disney disney disney disney\\na flyer that has a video on it with the word subscribe\\ndisney channel's website has an animation of the disney channel logo\\ndisney disney disney disney disney disney disney disney disney disney disney disney disney disney disney\\ndisney DIS-020926 disney channel disney channel video game disney disney disney disney disney disney disney dis\\ndisney plus disney news\\ndisney + free to get and get to stay on the disney channel for a month\\ndisney's youtube page has been redesigned to give users access to videos from all the disney parks\\ndisneys YouTube channel with multiple videos about disney theme parks and attractions\\ndisney video downloads free widescreen downloads disney video clips\\na webpage with a video about disney world and dis news, click here to go to dis world's site\\ndisney disney on disney channel app\" metadata={'source': '/Users/bpakra200/tubegpt/tubegpt/src/notebook/list-blip2-universalv2.txt'}\n",
      "    Create a Title :\n",
      "    Create  a Full Descrption :\n",
      "    \u001b[0m\n",
      "\n",
      "\u001b[1m> Finished chain.\u001b[0m\n"
     ]
    }
   ],
   "source": [
    "\n",
    "\n",
    "processed_splits = []\n",
    "for split in splits:\n",
    "    result = video_descrption_chain({\"image_captions\": split}, return_only_outputs=True)\n",
    "    processed_splits.append(result['text'])"
   ]
  },
  {
   "cell_type": "code",
   "execution_count": 33,
   "metadata": {},
   "outputs": [],
   "source": [
    "\n",
    "\n",
    "with open(\"universal-descrption-blip2v2.txt\", \"w\") as file:\n",
    "    for item in processed_splits:\n",
    "        file.write(str(item) + \"\\n\")"
   ]
  },
  {
   "cell_type": "code",
   "execution_count": 34,
   "metadata": {},
   "outputs": [],
   "source": [
    "loader = TextLoader('/Users/bpakra200/tubegpt/tubegpt/src/notebook/universal-descrption-blip2v2.txt')\n",
    "\n",
    "docs = loader.load()"
   ]
  },
  {
   "cell_type": "code",
   "execution_count": 54,
   "metadata": {},
   "outputs": [
    {
     "data": {
      "text/plain": [
       "91"
      ]
     },
     "execution_count": 54,
     "metadata": {},
     "output_type": "execute_result"
    }
   ],
   "source": [
    "text_splitter = RecursiveCharacterTextSplitter(chunk_size=1024, chunk_overlap=64)\n",
    "texts = text_splitter.split_documents(docs)\n",
    "len(texts)"
   ]
  },
  {
   "cell_type": "markdown",
   "metadata": {},
   "source": [
    "## Define embedding"
   ]
  },
  {
   "cell_type": "code",
   "execution_count": 35,
   "metadata": {},
   "outputs": [],
   "source": [
    "embeddings = OpenAIEmbeddings()"
   ]
  },
  {
   "attachments": {},
   "cell_type": "markdown",
   "metadata": {},
   "source": [
    "## Save Vectors in Database base model"
   ]
  },
  {
   "cell_type": "code",
   "execution_count": 36,
   "metadata": {},
   "outputs": [
    {
     "data": {
      "text/plain": [
       "[(Document(page_content='Title: Exploring Universal Studios Florida: New Attractions, Star Wars Resort, and More\\n\\nFull Description: \\nIn this video, we take you on a virtual tour of Universal Studios Florida, showcasing its exciting new attractions, upcoming Star Wars resort, and recent renovations. \\n\\nThe video begins with an image of a white spot in front of the lens, setting the stage for our adventure. We then see an abstract image of a camera with multiple lenses, symbolizing the diverse experiences Universal Studios has to offer.\\n\\nAs the video progresses, we are introduced to various elements of the park. We learn about DJ\\'s free downloads, including WMP2 and WMP3, which add a musical touch to the overall experience. The video also highlights the availability of free downloads for Dis board logos, icons, and more, allowing visitors to personalize their Universal Studios experience.\\n\\nNext, we are provided with download links for the Dis logo, enabling fans to show their support for the brand. The video emphasizes the importance of webinars and training sessions offered by Universal Studios, ensuring visitors are well-prepared and ready to make the most of their time at the park.\\n\\nMoving on, we catch a glimpse of Downtown Disney, a vibrant area within the park known for its lively atmosphere and dark sky ambiance. An open gate with lights and people around signifies the welcoming nature of Universal Studios.\\n\\nThe video then shifts its focus to the entrance of Universal Studios Orlando, showcasing a large sign that proudly displays the name \"Universal Entertainment.\" This sets the stage for the exciting experiences that await visitors within the park.\\n\\nWe are then treated to an image of a building with a grand arch in the front, hinting at the architectural marvels within Universal Studios. A photo of the entrance to a movie theater further emphasizes the park\\'s dedication to providing a cinematic experience.\\n\\nThe video highlights the Universal Studios Florida logo, a recognizable symbol of the park\\'s identity. It also announces the opening dates for Disney\\'s Star Wars resort and other upcoming attractions, building anticipation for future visits.\\n\\nA large sign for Universal Studios Orlando, featuring the words \"Universal St. Louis\" on top, adds an interesting twist, showcasing the park\\'s connection to different locations.\\n\\nThe video concludes by showcasing the building that houses the UVM\\'s shop at Universal Studios Orlando, Florida. This highlights the diverse shopping opportunities available within the park.\\n\\nFinally, we learn about the recent facelift Universal Studios Florida has undergone, with new attractions and refreshed areas to enhance the visitor experience. The video concludes with the exciting news that Universal Orlando\\'s Super Star Wars planet may open next year, leaving viewers eager to plan their next visit.\\n\\nJoin us on this virtual journey through Universal Studios Florida, where adventure, entertainment, and unforgettable experiences await.\\nTitle: \"Universal Orlando\\'s Super Star Wars Planet: A World-Class Theme Park Experience\"\\n\\nFull Description: \\n\"Universal Orlando\\'s Super Star Wars Planet may open next year, offering an immersive and thrilling experience for fans of the iconic franchise. The video begins with the Universal logo atop a sphere, surrounded by a sign that proudly displays \\'Universal World Theme Park.\\' As the camera pans out, we are greeted by a stunning globe at Universal Studios in Florida, setting the stage for the world-class entertainment experiences that await.\\n\\nUniversal Orlando is renowned for its exceptional entertainment offerings, particularly its Disney parks, which attract millions of visitors annually. The new theme park in Orlando promises to elevate the excitement even further, captivating guests with its innovative attractions and immersive storytelling.\\n\\nAs we delve deeper into the video, we catch glimpses of the Universal World of Adventures - World of Super Heroes DVD, hinting at the incredible adventures and heroic encounters that await visitors. The opening hours for Universal Studios Orlando in 2020 are also highlighted, ensuring that guests can plan their visit accordingly.\\n\\nThe video then takes us on a detour to Las Vegas, where we encounter the delightful Monsters Inc meet & greet at Disney\\'s Monorail. This unexpected twist adds an extra layer of excitement, showcasing the diverse range of experiences available at Universal Orlando.\\n\\nNext, we are transported to Atlanta, Georgia, where we catch a glimpse of the Monsters Inc 3D tour video 4. This captivating tour allows visitors to explore the enchanting world of Monsters Inc in a whole new dimension. The video also showcases the famous Mickey Mouse movie theatre, a beloved landmark that adds a touch of nostalgia to the overall experience.\\n\\nContinuing our journey, we come across a building with a clock on top, situated next to a convenient parking lot. This serves as a reminder of the attention to detail and convenience that Universal Orlando offers its guests.\\n\\nThe video then shifts focus to the beloved Despicable Me franchise, featuring the iconic Minions. We are treated to a glimpse of the Despicable Me 2 minion bathroom sign, adding a playful touch to the overall experience. Two lovable Minion characters are seen next to an open sign, inviting guests to explore the whimsical world of Despicable Me.\\n\\nA wall display featuring two Minions with blue and yellow faces further immerses us in the Minion universe, reminding us of the enduring popularity of these mischievous characters. The video concludes with a mention of the Minions movies, including Minions, Minions 2, and Minion 1, highlighting the vast entertainment offerings available at Universal Orlando.\\n\\nIn summary, Universal Orlando\\'s Super Star Wars Planet promises to be a world-class theme park experience, combining the magic of Disney, the excitement of Super Heroes, the charm of Monsters Inc, and the whimsy of the Minions. With its diverse range of attractions and unforgettable entertainment, this new addition to the Universal Orlando family is sure to captivate visitors of all ages.\"\\nTitle: \"Minions Toys Movie 1 - A Fun-filled Adventure with Minion Family Members at Disneyland\"\\n\\nFull Description: \\n\"Minions Toys Movie 1\" is an exciting video that takes us on a journey with the lovable Minions and their family members. The video begins with a captivating scene featuring four Minion heads displayed together, setting the stage for the fun-filled adventure that awaits.\\n\\nAs the video progresses, we are introduced to the \"Despicable Me Minion Movie 3D Blu Ray/DVD Combo Pack,\" showcasing a group of Minions sporting adorable little helmets. The Minions\\' mischievous charm is further highlighted as they make an appearance at Disneyland\\'s Peter Pan\\'s Parade. We witness two individuals capturing memorable moments next to a large robot figure, adding to the excitement.\\n\\nThe video then transitions to a young boy dressed in a costume, standing near a large vehicle, immersing himself in the magical atmosphere. The mention of \"The Big Bang Theory\" and notable personalities like Katie Luigi, Derek Anderson, Tina Fey, and Tiffany adds an unexpected twist to the narrative.\\n\\nContinuing the adventure, we encounter an orange-clad man standing alongside airplane enthusiasts. The video also features the first-ever episode of the \"Diavolo Live Show,\" featuring the villain from \"Despicable Me 2\" and Peter\\'s mom. The presence of several people near an airplane and an orange man in overalls adds to the intrigue.\\n\\nIn an exciting clip from the new Minions movie, we witness the Minions and their extended family making a special appearance at Disneyland. The characters come to life as people walk by an airborne airplane, dressed as their beloved Minion counterparts.\\n\\nThe video concludes with people gathered in front of an airplane on a street, creating a vibrant atmosphere. Additionally, a big truck with a cartoon mascot atop it catches the attention of passersby.\\n\\n\"Minions Toys Movie 1\" is a delightful video that combines the charm of the Minions, the excitement of Disneyland, and unexpected surprises. Join the Minions and their family members on this unforgettable adventure filled with laughter, joy, and endless fun.\\nTitle: \"Disneyland Adventure: Minions, Disney Characters, and Shrek Fun!\"\\n\\nFull Description: \\nJoin Jessi Anderson as she takes you on a thrilling adventure through Disneyland theme park. The video begins with a lively Mickey Mouse parade, followed by a delightful encounter with the mischievous Minions. Next, we explore the magical world of Disneyland, where the Muppets and Minions come to life.\\n\\nAs we continue our journey, we come across three people standing around a large Minion, capturing a fun-filled moment. The excitement continues as we see people wearing yellow outfits, posing with yellow balloons and adorable Minion toys.\\n\\nThe video then showcases a captivating parade featuring a giant silver machine on the street, surrounded by a group of uniformed individuals. We are then treated to the sight of beloved Disney characters strolling through an old street on a bustling city.\\n\\nPrepare to be amazed as we witness an image of an electric wheel made of shiny metal, adding a touch of futuristic charm to the scene. The adventure takes an unexpected turn as we encounter a magnificent white boat on display in the city, showcasing its unique and futuristic design.\\n\\nBut the surprises don\\'t end there! Get ready to be awestruck by a large, orange spaceship on display at Disney World, leaving us in awe of its grandeur. As the video progresses, we see a delightful float featuring a Minion with a toy arm, accompanied by a host of other beloved characters.\\n\\nOur adventure takes us to Diagon Alley, where we encounter the lovable Minions from the Despicable Me movies. We then embark on the thrilling Despicable Me 3 ride, experiencing the excitement firsthand.\\n\\nAs we explore further, we come across a charming Minion statue standing proudly in front of an amusement park. The video also showcases a sign featuring pictures of Shrek and his friends, enticing us to explore their world. We catch a glimpse of the movie poster for Shrek 4 displayed in a shop, reminding us of the beloved franchise.\\n\\nThe video concludes with a playful segment titled \"Sharks vs. Donkeys,\" where people are seen sitting on top of signs, adding a touch of whimsy to the scene. The adventure ends with signs for Donkey Kong atop a building, leaving us with a sense of anticipation for what lies ahead.\\n\\nJoin Jessi Anderson on this unforgettable Disneyland adventure, filled with Minions, Disney characters, and the enchanting world of Shrek. Get ready to be immersed in a world of magic, laughter, and endless fun!\\nTitle: Exploring the World of Animated Characters at Theme Parks\\n\\nFull Description: In this exciting video, we embark on a journey through various theme parks and attractions, immersing ourselves in the world of animated characters. The adventure begins with a glimpse of a building adorned with signs featuring the iconic Donkey Kong. As we continue, we come across an animated sign that proudly reads \"Donkey\\'s Ranch,\" adding to the anticipation of what lies ahead.\\n\\nNext, we are introduced to a group of two men and two women striking a pose with Shrapshy, a beloved character. The excitement builds as we witness the meeting of Shrek and Shrek 2 at Disneyland\\'s Disney\\'s Hollywood Studio. Visitors are seen eagerly taking photos of two individuals dressed in costume, capturing the magical moments.\\n\\nThe video then showcases an image of a woman photographing an animated character, highlighting the interaction between visitors and the enchanting world of animation. A couple, consisting of a man and a woman, are seen posing with various characters against a vibrant wall, creating lasting memories.\\n\\nThe scene transitions to a man wearing a green shirt, accompanied by another individual dressed as Shrek, along with two others donning blue costumes. Their presence adds to the lively atmosphere, further immersing us in the world of animated characters.\\n\\nOur journey takes a thrilling turn as we explore the Horror Museum in Atlanta, GA, known as Monster City. The video briefly captures the Monsters vs. Zombies Maryland statue, showcasing the diverse range of attractions available.\\n\\nMoving on, we find ourselves in New York, NY, where a settlement has been approved by a state court judge, granting the creators of Monsters Inc their well-deserved recognition. The video then transports us to Universal Studios, where the iconic Monsters Inc comes to life, captivating visitors with its charm.\\n\\nThe grand opening of Disney\\'s Monsters Cafe is a significant highlight, as we witness the excitement surrounding this new addition to the park. The video also showcases the Universal Studios Classic Monsters Cafe, further emphasizing the popularity of these animated characters.\\n\\nA giant sign for Monsters Cafe at Universal Studios catches our attention, serving as a visual landmark within the park. Finally, our adventure concludes with a glimpse of the Hobbit Hole at Disney Land Park in Florida, leaving us with a sense of wonder and anticipation for future animated adventures.\\n\\nJoin us on this captivating journey as we explore the enchanting world of animated characters at various theme parks and attractions. Experience the magic, meet your favorite characters, and create memories that will last a lifetime.\\nTitle: Thrilling Roller Coasters and Magical Adventures at Disney World and Universal Studios\\n\\nFull Description: \\nGet ready for an exhilarating journey through the world of amusement parks with this captivating video. The adventure begins at Disney Land Park in Florida, where you\\'ll be transported to a whimsical hobbit hole. Next, brace yourself for the adrenaline-pumping experience of riding the Iron King, a Japanese steel roller coaster at Universal Studios Hollywood. This thrilling coaster can also be found at Disney World and Disneyland Park in Hollywood.\\n\\nAs the video progresses, you\\'ll witness the excitement of a red and white roller coaster soaring through the sky, surrounded by awe-struck riders. The iconic Disney World logo takes center stage as people gather around, enjoying the atmosphere of the amusement park. A sign for clearance at Fanta Land catches your attention, hinting at more thrilling adventures to come.\\n\\nPrepare for a breathtaking sight as a red roller coaster stands tall next to a magnificent white building. Against the backdrop of a clear blue sky, you\\'ll feel the rush of adrenaline as you embark on this roller coaster at an amusement park. The Thunder Mountain roller coaster in New Orleans promises an unforgettable experience, while the flying roller coaster takes you to new heights at high speeds.\\n\\nBut the excitement doesn\\'t end there. The video takes a surprising turn as it showcases the incredible wildlife encounters at the amusement park. Lions, tigers, and bears make an appearance, adding a touch of wonder to the already thrilling atmosphere. Skydiving in Toronto pushes the limits of adventure, as daredevils defy gravity and experience the ultimate rush.\\n\\nReturning to the roller coasters, you\\'ll witness the red and white marvel moving gracefully under cloudy skies. Two brave individuals stand on the back of the red roller coaster at Disneyland, showcasing their fearlessness. The video then transitions to a person back at DS, perhaps reminiscing about the incredible experiences they\\'ve had.\\n\\nThe adventure continues with the new Superman flight simulator, offering a thrilling virtual experience. Finally, a red and yellow roller coaster ride at an amusement park brings the video to a thrilling conclusion.\\n\\nJoin us on this incredible journey through amusement parks, where magical moments and heart-pounding thrills await at every turn.\\nTitle: Thrilling Roller Coaster Ride at an Amusement Park\\n\\nFull Description: Get ready for an adrenaline-pumping experience as you embark on a red and yellow roller coaster ride in an amusement park. This thrilling video takes you on a journey through the twists and turns of the coaster, providing an exhilarating view of the cityscape. As the camera captures the ride from different angles, you can see a car perched on top of the roller coaster, adding to the excitement.\\n\\nNext, the video takes you to Hollywood Studios, where you witness the queue for the famous Dumbo ride. The vibrant atmosphere of the park is evident as visitors eagerly wait for their turn to enjoy this classic amusement ride. \\n\\nSwitching gears, the video then showcases a dine and dash incident at Universal Studios Hollywood. While this unexpected event unfolds, the roller coaster in the background continues to provide thrills to park-goers. \\n\\nBack to the amusement park, the roller coaster takes center stage once again. This time, it races down the tracks, offering an exhilarating ride to those brave enough to hop on. A man can be seen enjoying the roller coaster, his face filled with excitement and joy.\\n\\nThe video then transitions to the marquee for the movie \"Twisted\" at Cinema 25. The captivating advertisement on the side of the theater catches your attention, building anticipation for the film. Inside the theater, the words \"Twistel\" are painted, adding a touch of uniqueness to the venue.\\n\\nMoving on, the video showcases a building adorned with large advertising. The vibrant colors and eye-catching designs create a visually appealing scene. \\n\\nThe next scene takes you outside a movie theater, providing a glimpse of its exterior. The architecture and signage give off a vintage vibe, adding charm to the surroundings.\\n\\nThe video then takes a detour to the Santa Monica Museum of Science and Industry, where you get a glimpse of the original electric furnace of the Japanese Pacific War ship, the \"Yosh.\" This historical artifact serves as a reminder of the past and the technological advancements made over the years.\\n\\nFinally, the video concludes with a close-up of a large old iron oven, showcasing fungal growth both on its exterior and interior. This intriguing sight highlights the effects of time and nature on man-made objects.\\n\\nOverall, this video takes you on a thrilling roller coaster ride, immersing you in the excitement of amusement parks and showcasing various intriguing sights along the way. From amusement rides to movie theaters and historical artifacts, this video offers a diverse range of captivating visuals.\\nTitle: \"Exploring Unique Cow Art, Construction Sites, and Twister Signs | A Visual Journey\"\\n\\nFull Description: \\nIn this captivating video, we embark on a visual journey that takes us through a variety of intriguing scenes. The adventure begins with a close-up of fungal growth on a large, old iron oven, showcasing the beauty and decay of nature. Moving on, we discover the best homemade industrial heaters, providing warmth and comfort in industrial settings.\\n\\nNext, we encounter the real cow Daniela, a magnificent creature with horns sticking out of its head, adding a touch of uniqueness to its appearance. We then witness a cow that has been painted black and white, perhaps as a form of artistic expression or to create a visually striking effect.\\n\\nAs we delve further into the video, we come across a cow statue in a room, serving as a decorative piece. Additionally, a model of a black and white cow stands proudly inside a garage, showcasing the admiration and fascination people have for these animals.\\n\\nTransitioning to a different subject, we learn about straw bale cows, which possess unique characteristics and require diligent maintenance. These straw bale sculptures add a touch of whimsy and creativity to their surroundings.\\n\\nThe video then takes us to a construction site, where a brick wall and a red truck catch our attention. We catch a glimpse of an old tractor on a brick wall, symbolizing the history and significance of machinery in construction.\\n\\nContinuing our journey, we find ourselves in the enchanting world of Disneyland. We explore Disney\\'s Fantasyland and the Magic Kingdom, experiencing the magic and wonder that Disney offers. An electric windmill sits in front of a restaurant, adding a touch of charm and nostalgia to the scene.\\n\\nWe then encounter a building with a sign that says \"Twitpic,\" hinting at the presence of social media and the interconnectedness of our digital world. The video concludes with a big sign painted on the side of a building, leaving us intrigued and wanting to explore more.\\n\\nJoin us on this visual adventure as we uncover the beauty of nature, the artistry of cows, the allure of construction sites, and the enchantment of Disneyland. Immerse yourself in the captivating scenes and let your imagination soar.\\nTitle: \"Transformers Land: A Journey into the World of Robots\"\\n\\nFull Description: \\nWelcome to Transformers Land, where the world of robots comes to life! In this exciting video, we explore various captivating scenes and landmarks related to the Transformers franchise.\\n\\nThe video begins with a shot of a big sign painted on the side of a building, indicating the presence of the Twister on New York Avenue in San Diego. As we delve deeper into the Transformers universe, we witness the awe-inspiring Transformers building at Disney\\'s World of Transformers, which proudly announces its grand opening.\\n\\nNext, our attention is drawn to a large black and red robot standing atop a warehouse, exuding power and strength. This impressive figure is none other than Optimus Prime, the iconic leader of the Autobots. As we move forward, we encounter another Optimus Prime robot standing proudly in front of a building, while the statue of Optimus Prime basks in the sun at the back of a large building, creating a mesmerizing sight.\\n\\nThe video then takes us to a rooftop near a clock tower, where an enormous black robot commands attention. Its sheer size and presence leave us in awe. Continuing our journey, we witness a giant robot standing in front of a building, showcasing the magnificence of Transformers.\\n\\nAs we explore further, we come across a large metal statue posing outside on top of a building, representing the robots from Transformers World. This statue serves as a reminder of the incredible world we are immersed in. Moving on, we discover that Optimus Prime himself is on display at the Dallas Symphony Center, captivating audiences with his grandeur.\\n\\nThe video also features a segment dedicated to the best Transformers toy ever, highlighting the nostalgia and joy associated with these beloved characters. Additionally, we catch a glimpse of Optimus Prime in a motion-capture 3D animated movie, showcasing the technological advancements in bringing these robots to life on the big screen.\\n\\nThe Transformers news segment in 2017 reveals the full extent of Optimus Prime\\'s latest transformation and provides insights into how it came to be. This segment serves as a testament to the enduring popularity and evolution of the Transformers franchise.\\n\\nJoin us on this thrilling journey through Transformers Land, where robots reign supreme and imagination knows no bounds. Experience the wonder, excitement, and larger-than-life presence of the Transformers universe in this captivating video.\\nTitle: \"Transformers: The Ultimate Movie Experience - Special Features, Toys, and More!\"\\n\\nFull Description: \\nIn this exciting video, we delve into the world of Transformers, bringing you a comprehensive review of the special features of the Transformers movie. The video begins with a captivating shot of a large transformer statue sitting outside a garage door, setting the stage for the thrilling content that awaits.\\n\\nAs the video progresses, we see a man in uniform standing next to a formidable robot armed with a gun. The intensity builds as we witness the final fight in the Transformers Robots in Disguise series, featuring the iconic character, Bumblebee. The action continues with a man posing in front of a wall adorned with two large Transformers logos, showcasing his love for the franchise.\\n\\nNext, we are taken to a captivating scene where a man captures a stunning photo of a car against the backdrop of a building. The excitement escalates as we are treated to a trailer for the highly anticipated Transformers live-action movie sequel. The video then transitions to a man standing next to a camera, capturing the essence of the Transformers universe through his lens.\\n\\nThe Transformers: Bumblebee team film set is showcased, offering a behind-the-scenes glimpse into the production process. We also witness a photo opportunity with the esteemed director, Brent Hamblen, adding a personal touch to the video.\\n\\nThe Transformers toy collection takes center stage, with exclusive toys and collectibles from the latest movie, \"The Last Knight.\" A yellow and black robot is prominently displayed in a glass case, captivating viewers with its intricate design.\\n\\nThe video then explores the latest news in the Transformers toy world, featuring a review of the NEST 1/2 scale wall decal. The NEST logo is proudly displayed, symbolizing the alliance between humans and Autobots.\\n\\nAs the video nears its conclusion, we catch a glimpse of a man proudly wearing an Autobot logo on his shirt, showcasing his allegiance to the heroic Transformers. The video concludes with a shot of the door to a building, which houses the infamous Decepticon logo, hinting at the ongoing battle between good and evil.\\n\\nTo wrap up this incredible video, we are introduced to the \"King of the Street\" event, where the prestigious Car of the Year award is presented to a deserving recipient. The excitement and passion surrounding the Transformers franchise are palpable throughout this captivating video.\\n\\nJoin us on this thrilling journey through the world of Transformers, as we explore special features, toys, and immerse ourselves in the epic battle between Autobots and Decepticons. Get ready for an unforgettable experience that will leave you craving more Transformers adventures!\\nTitle: \"A Vibrant Street Scene with Cars, Crowds, and Entertainment\"\\n\\nFull Description: \\nIn this captivating video, we are immersed in a lively street scene filled with various elements of excitement and entertainment. The video begins with an old Cadillac parked on the side of the street, adding a touch of vintage charm to the bustling atmosphere.\\n\\nAs the camera pans, we are introduced to a black and silver car adorned with a large loudspeaker on its roof. This eye-catching feature suggests that an announcement or performance is about to take place, capturing the attention of passersby.\\n\\nNext, we see a group of people standing outside on a sidewalk, eagerly anticipating the upcoming event. The diverse crowd reflects the vibrant energy of the city, with individuals from different walks of life coming together to enjoy the spectacle.\\n\\nThe scene transitions to a busy street, where numerous people can be seen walking. Among them is a man wearing a backpack, adding a sense of adventure and exploration to the video. It is worth noting that the location of the video remains unknown, as the mention of Disneyland fireworks being canceled leaves us wondering which Disneyland park is being referred to.\\n\\nThe video then shifts to a crowd of people standing in front of the iconic White House, symbolizing the gathering of individuals in a significant and historic location. This is followed by another shot of a group of people standing in a crowd within a city, emphasizing the sense of community and togetherness.\\n\\nThe focus then turns to an entertainer performing in front of a stage, captivating the attention of the audience. The atmosphere is filled with excitement and anticipation as people watch and enjoy the spectacle.\\n\\nA mention of tweeting at Disneyworld Paris adds a touch of modernity and connectivity to the video, showcasing how social media plays a role in sharing experiences and engaging with events.\\n\\nThe video continues with a crowd of people walking past a street, highlighting the constant movement and liveliness of the surroundings. A person standing outside in the crowd further emphasizes the dynamic nature of the scene.\\n\\nThe video concludes with a crowd of people gathered around a man walking towards a building, suggesting an important event or destination. The final scene showcases thousands of people celebrating a day of music and culture in Chicago, further emphasizing the diversity and vibrancy of the city.\\n\\nThroughout the video, the captivating visuals and diverse range of scenes create a sense of immersion, allowing viewers to experience the energy and excitement of a bustling street scene. From the vintage Cadillac to the lively crowds and captivating performances, this video offers a glimpse into a world filled with entertainment, community, and cultural celebration.\\nTitle: \"A Vibrant Journey through Music, Dance, and Festivities\"\\n\\nFull Description: \\nThis captivating video takes you on a vibrant journey through various scenes filled with music, dance, and festive celebrations. \\n\\nThe video begins with people strolling along a bustling street adorned with a sign that reads \"DSI,\" while a prominent building serves as the backdrop. The lively atmosphere continues as a crowd gathers in the street, creating an energetic ambiance.\\n\\nNext, the focus shifts to a restaurant where two talented men showcase their musical prowess by playing saxophones. The scene transitions to a porch where two elegantly dressed women stand alongside a saxophone player, exuding a sense of elegance and charm.\\n\\nThe video then introduces Bobby Ebb, a renowned musician from Houston\\'s jazz band, who shares his favorite song from a movie. A lady in a white shirt and a man wearing a bow tie join the scene, both skillfully playing the saxophone.\\n\\nMoving on, we witness a woman and a man in white shirts captivating an audience with their melodious voices in a park. The spotlight then shifts to a woman captivating a crowd on a stage with her enchanting singing.\\n\\nThe video takes an exciting turn as a man in a black suit and hat showcases his impressive dance moves on a lively sidewalk. The juxtaposition of his dance against the backdrop of people casually walking around creates a visually striking scene.\\n\\nThe next scene features a singer captivating a crowd at City Hall, creating an electrifying atmosphere. The video then transitions to a stage where a crowd, some dressed in costumes, eagerly awaits a performance.\\n\\nAs the performance begins, the crowd erupts in cheers, and a man wearing sunglasses waves in acknowledgment. The video takes an unexpected turn as it reveals a surprise appearance by the legendary Michael Jackson at Walt Disney World, adding an element of excitement and awe.\\n\\nThe festivities continue with an event celebrating the Disney-Disneyland July 4th celebration, showcasing the joy and merriment of the occasion. The video concludes with scenes from downtown Philly, where street festivals bring together crowds of people near a building. In one of the scenes, a woman captures a memorable moment by taking a selfie.\\n\\nThis video is a delightful exploration of music, dance, and the joyous spirit of celebrations. It offers a captivating glimpse into the diverse and vibrant experiences that can be found in various settings, from bustling streets to enchanting performances.\\nTitle: Exploring Springfield World of Fun at Disney\\'s Springfield Resort\\n\\nFull Description: In this exciting video, people are gathered outside on a busy sidewalk, eagerly exploring the wonders of Springfield World of Fun at Disney\\'s Springfield Resort. The scene begins with an old man capturing a picture-perfect moment amidst the bustling crowd. As the camera pans, we catch a glimpse of a sign that proudly displays the name \"Springfield,\" inviting visitors to embark on a thrilling adventure.\\n\\nThe video then transitions to a captivating cartoon character with a face creatively designed in the shape of a large, eye-catching sign. This sign showcases a picturesque image of Springfield, setting the stage for the enchanting experience that awaits. We are transported to a commercial during Disney World, where Springfield is showcased in all its glory.\\n\\nAs the video progresses, we witness the excitement of passersby who are captivated by a massive sign proclaiming \"Springfield World of Fun.\" This vibrant sign, strategically placed at Disney\\'s Springfield Resort in Springfield, Ohio, serves as a beacon of joy and entertainment for all who encounter it.\\n\\nThe camera then shifts its focus to a thrilling scene featuring a speed skater at Walt Disney World, adding an element of exhilaration to the overall atmosphere. Amidst the hustle and bustle, a large sign emblazoned with the word \"superhero\" catches our attention, hinting at the incredible adventures that lie ahead.\\n\\nThe video takes us on a delightful stroll down a street, where we discover tantalizing donuts available for sale at the end of the road. Animated characters, a sign, and a donut-shaped statue contribute to the whimsical ambiance, immersing viewers in a world of imagination and delight.\\n\\nA highlight of the video is the gathering of a large crowd around a giant bee and donut, creating a sense of wonder and awe. The busy street scene showcases numerous people going about their day, adding to the vibrant energy of the surroundings.\\n\\nThe camera then zooms in on a red, yellow, and black food truck, adorned with a giant bee perched on top. This eye-catching truck serves as a hub of delicious treats, enticing visitors to indulge in the culinary delights of Springfield World of Fun.\\n\\nContinuing the exploration, we catch a glimpse of a cartoon character\\'s face atop the logo of a restaurant, further immersing us in the animated world of Springfield. The video concludes with a toy-like Yi Yi truck parked in front of a building, adding a touch of whimsy to the overall experience.\\n\\nOverall, this video provides a captivating glimpse into the enchanting world of Springfield World of Fun at Disney\\'s Springfield Resort. From animated characters and vibrant signs to mouthwatering donuts and thrilling attractions, this destination promises an unforgettable adventure for visitors of all ages.\\nTitle: \"Exploring Iconic Food Trucks and Giant Mascots at Disneyland Paris and Beyond\"\\n\\nFull Description: In this captivating video, we embark on a journey through various captivating sights and attractions, centered around food trucks, mascots, and iconic landmarks. \\n\\nThe adventure begins with a glimpse of a giant mascot for a food truck, proudly displaying a sign that reads \"Tay Yi.\" This eye-catching mascot sets the stage for the exciting experiences to come. \\n\\nNext, we are transported to Disneyland Paris, where a food truck with a Paris Disney theme takes center stage. The truck is adorned with enchanting decorations, capturing the essence of the beloved Disney universe. \\n\\nAs we continue our exploration, we are introduced to the newly opened \"Yay Yoi\" restaurant, located within Disneyland. This culinary gem promises to delight visitors with its delectable offerings and magical ambiance. \\n\\nThe video then takes us to a lively sideshow featuring characters from the iconic animated series, The Simpsons. The larger-than-life cartoon mascot statue of The Simpsons grabs our attention, showcasing the beloved characters in all their animated glory. \\n\\nMoving on, we encounter an outdoor statue of a toy figure, standing proudly in front of a building. This whimsical sight adds a touch of playfulness to the surroundings. \\n\\nOur journey then takes us to Dortmund, Germany, where a giant inflatable rubber duck has become a major tourist attraction. This colossal duck floats gracefully, captivating visitors with its sheer size and charm. \\n\\nNext, we are introduced to Wawa Doughnuts\\' latest creation - a new donut with a hidden surprise. This mouthwatering treat features an egg, eggnog, and marshmallow donut hole, sure to satisfy any sweet tooth. \\n\\nWe then catch a glimpse of an oversized doughnut perched atop a building, catching the attention of passersby. This larger-than-life pastry is a testament to the creativity and uniqueness of its creators. \\n\\nThe video takes a humorous turn as it introduces the infamous \"Lard Ass Doughnut\" - a comical creation that has gained popularity among DJs in America. This oversized, illuminated donut proudly displays the word \"Lardado,\" adding a touch of whimsy to the urban landscape. \\n\\nOur journey continues as we encounter a building with a \"Kwik-E-Mart\" sign in front of it. This iconic sign serves as a gateway to a world of convenience and nostalgia. \\n\\nWe then catch a glimpse of the sign above the Kwik-E-Mart, further immersing us in the vibrant atmosphere of this beloved establishment. \\n\\nThe video showcases a logo on the sign of Kwik-E-Mart, symbolizing the brand\\'s enduring presence and recognition. \\n\\nAs we conclude our adventure, we are greeted by a sign for \"Kwiie-E Mart\" and palm trees outside, adding a tropical touch to the surroundings. \\n\\nThe video concludes with a tantalizing glimpse of the \"Harry Simpson Krusty the Clown Burger\" at Disney World. This culinary delight pays homage to The Simpsons and promises a mouthwatering experience for all who indulge. \\n\\nThroughout this captivating video, we are treated to a visual feast of food trucks, mascots, and iconic landmarks, showcasing the creativity, charm, and excitement that can be found in these unique attractions. Join us on this unforgettable journey as we explore the wonders of Disneyland Paris, Dortmund, and beyond.\\nTitle: Exploring The Simpsons Topiary Gardens and Simpson-themed Attractions\\n\\nFull Description: \\nIn this captivating video, we embark on a journey through The Simpsons Topiary Gardens, where the iconic characters from the beloved animated series come to life in the form of beautifully crafted plant sculptures. As we enter the gardens, we are greeted by the sight of two Duff beer bottles cleverly planted in the grass, resembling the lovable Duff the dog.\\n\\nMoving on, we encounter an impressive statue of an old-school soda mascot proudly displayed. This serves as a nostalgic reminder of the classic soda culture that has been a part of The Simpsons universe. Our next stop takes us to the Simpson Soda Bottling Plant at Universal Studios, where the magic of creating this fictional beverage comes to life.\\n\\nContinuing our adventure, we find ourselves at Moose\\'s Jamboree in downtown, CA. This lively establishment, reminiscent of Moe\\'s Tavern, offers a vibrant atmosphere where visitors can enjoy delicious burritos and refreshing drinks. We witness a skilled bartender pouring drinks into a glass, while a woman in an apron stands behind the counter, holding a large beer.\\n\\nThe video then takes us to Alfred\\'s Burger Palace Bar, where a detailed review of a video game is taking place on YouTube. We witness a friendly handshake between a man and the bartender, showcasing the camaraderie found in this lively bar setting. Later, we see a person enjoying a mouthwatering burger in the comfort of their own home.\\n\\nReturning to The Simpsons theme, we encounter a captivating statue featuring water running down its arms, adding a dynamic element to the sculpture. The video then transports us to Universal Studios Epcot, where a colossal Simpsons figurine stands proudly, attracting the attention of onlookers.\\n\\nWe are then introduced to a group of five individuals, two men and three women, standing in front of a wall adorned with various Simpson characters. They strike a pose, capturing the essence of the animated series. The video concludes with a visit to The Simpsons Park at Universal Hollywood, where a girl and two girls joyfully pose alongside a family of Simpson characters, creating lasting memories.\\n\\nThis video provides a delightful exploration of The Simpsons Topiary Gardens and various Simpson-themed attractions, offering a glimpse into the vibrant world of this beloved animated series. Whether you are a fan of The Simpsons or simply appreciate creative and immersive experiences, this video is sure to captivate and entertain.\\nTitle: Exploring the Exciting World of The Simpsons at Disneyland and Universal Studios\\n\\nFull Description: \\nJoin us on a thrilling adventure as we explore the captivating world of The Simpsons at Disneyland and Universal Studios. This video takes you through a series of captivating images, each with its own unique caption, showcasing the various attractions and experiences related to The Simpsons.\\n\\nThe video begins with a delightful scene featuring a girl and two other girls striking a pose with a family of Simpsons characters. The vibrant and lively atmosphere of the park is evident as we move on to witness more exciting moments. We catch a glimpse of The Simpsons Park in Paris, where visitors can immerse themselves in the world of this beloved animated family.\\n\\nNext, we see a girl getting up close and personal with a Simpson character, her head positioned near the character\\'s face. The attention to detail in the character design is remarkable. The video then transitions to an animated ride with an intriguing octopus theme. The ride promises an exhilarating experience for all thrill-seekers.\\n\\nAs the video progresses, we encounter a man in a suit standing near a ride shaped like a giant squid. The ride\\'s unique design adds an element of excitement to the park. We then catch a glimpse of a monstrous ride that is sure to leave visitors in awe. The Incredibles ride at Disneyland Hollywood Studios offers an action-packed adventure for fans of the popular superhero family.\\n\\nThe video takes us back to The Simpsons World at Disneyland Park, capturing the excitement of its opening night in 2016. This immersive world offers a plethora of attractions and experiences for visitors of all ages. The video highlights the wide range of entertainment options available at Disneyland, including the iconic characters and beloved rides.\\n\\nMoving on, we learn that Tampa is set to welcome its own Simpsons World in July, adding to the growing list of locations where fans can indulge in the magic of The Simpsons. The video also mentions the upcoming arrival of Disneyland in Houston for spring break, further expanding the reach of this beloved franchise.\\n\\nThe Simpsons ride at Disney\\'s Animal Kingdom is showcased, offering a thrilling journey through the animated world of The Simpsons. This ride is known for its immersive storytelling and captivating visuals. The video also mentions that The Simpsons ride at Universal Studios Orlando is the most expensive ride at Disney\\'s Hollywood Studios, emphasizing its popularity and grandeur.\\n\\nThe video concludes with a captivating image of a large sign adorned with various cartoon characters, symbolizing the vibrant and enchanting world of The Simpsons. This video provides a comprehensive glimpse into the captivating attractions and experiences that await visitors at The Simpsons-themed parks.\\n\\nJoin us on this incredible journey as we explore the magic and excitement of The Simpsons at Disneyland and Universal Studios. Get ready for an unforgettable adventure filled with laughter, thrills, and cherished memories.\\nTitle: \"Exploring the Magical World of Amusement Parks\"\\n\\nFull Description: \\nIn this captivating video, we embark on a journey through various amusement parks and attractions. The adventure begins with a large sign featuring colorful cartoon characters, signaling the entrance to an amusement park. As we approach, we are greeted by a sign that proudly announces the Kid Zone, a designated area for children to enjoy.\\n\\nNext, we enter Wendy\\'s KidZone, a vibrant and exciting play area where children can unleash their imagination and have a blast. The camera then pans to a welcoming sign for the Mouseketeers, inviting them to join in the fun on a sidewalk.\\n\\nContinuing our exploration, we come across a charming mouse statue placed gracefully on a sidewalk. We then discover the Disneyland Resort at Disney\\'s Epcot Theme Park, which boasts two magnificent Disneyland resorts. The iconic Dumbo Mouse captures our attention as it stands proudly within the Disneyland Resort.\\n\\nMoving on, we encounter the logo for Barney\\'s, displayed next to an arch. This leads us to a statue of a man wearing a t-shirt, relaxing on a park bench. Suddenly, the video takes an unexpected turn as we hear the distinctive sound of King Kong. The excitement continues as we stumble upon Willy\\'s Nutter City, a place filled with laughter and joy.\\n\\nOur adventure takes us to the Wacky World of Wonderland, a whimsical and enchanting amusement park. The Disneyland sign appears multiple times, emphasizing the magical experience it offers. We then encounter a sign that reads \"Woody and the Wooden Nut,\" hinting at a thrilling ride or attraction.\\n\\nAs we explore further, we spot a small red plastic car with a vibrant red and orange top, adding a touch of playfulness to the scene. The orange and yellow dinosaur sculpture, perched atop a tree in Disneyland, captures our imagination and reminds us of the wonders that await.\\n\\nFinally, we are in awe of a giant statue of a person standing atop the world, symbolizing the grandeur and scale of the amusement park experience.\\n\\nJoin us on this incredible journey as we immerse ourselves in the magical world of amusement parks, filled with laughter, excitement, and unforgettable memories.\\nTitle: \"Exploring the Thrills and Wonders of Theme Parks and Children\\'s Books\"\\n\\nFull Description: \\nIn this captivating video, we embark on a journey through the exhilarating world of theme parks and the enchanting realm of children\\'s books. The adventure begins with a breathtaking view of a giant statue perched atop the world, symbolizing the grandeur and awe-inspiring nature of these amusement havens.\\n\\nAs the video unfolds, we are introduced to a vibrant statue adorned with an orange and yellow bird, adding a touch of whimsy and color to the surroundings. The scene transitions to a bustling roller coaster at Disney World, where numerous thrill-seekers eagerly embark on an adrenaline-pumping ride, experiencing the exhilaration and joy that only theme parks can offer.\\n\\nNext, we are transported to Bristol Bay, where we witness the best summer activity in Maryland - Samsquan. The video showcases the picturesque beauty of this location, enticing viewers to immerse themselves in the wonders of nature and outdoor adventures.\\n\\nReturning to the theme park realm, we are treated to the sight of a dynamic blue and red roller coaster spinning in a theme park, its twists and turns promising an unforgettable experience. The roller coaster continues its thrilling journey down a path, captivating riders with its daring maneuvers.\\n\\nThe video then shifts its focus to the kiddiecoaster ride, a delightful attraction designed for younger visitors. This charming ride is depicted, inviting children to embark on a magical adventure of their own.\\n\\nAs the video progresses, we are presented with a mesmerizing view of a roller coaster at a theme park, its vibrant blue and red colors standing out against the backdrop. The roller coaster descends down a hillside, providing an exhilarating rush for those brave enough to take the plunge.\\n\\nThe entrance to an amusement park comes into view, adorned with signs and bustling with people, setting the stage for an unforgettable day of fun and excitement. In the background, the sign for Curious George Park catches the eye, hinting at the whimsical adventures that await within.\\n\\nThe video then takes us to Cartoon Land at Disney\\'s Anaheim, a magical realm where beloved cartoon characters come to life. The sign for the Cartoon George theme park at Disney World is showcased, inviting visitors to immerse themselves in the enchanting world of their favorite animated characters.\\n\\nTransitioning to a different realm of imagination, the video presents an open book displaying an array of captivating children\\'s books. Two children are depicted, engrossed in the pages of the book, their imaginations soaring as they delve into the magical stories within.\\n\\nThe video concludes with a glimpse of \"Sunny the Sock Monkey\" by Charlie and the China Doll, a beloved children\\'s book that has captured the hearts of many. The book is shown resting on the floor, a testament to the power of storytelling and the joy it brings to young readers.\\n\\nJoin us on this captivating journey as we explore the thrills and wonders of theme parks and the enchantment of children\\'s books. Immerse yourself in the excitement, laughter, and imagination that await within these magical realms.\\nTitle: \"Exploring the Magical World of Disney: From Splash Mountain to Mickey\\'s Kingdom\"\\n\\nFull Description: \\nIn this captivating video, we embark on a journey through the enchanting world of Disney. The adventure begins with a book placed on the floor, inviting us to dive into its pages. As we turn the pages, we discover a captivating image of a mischievous monkey, captured within the book\\'s open pages.\\n\\nOur next stop takes us to the thrilling Splash Mountain, where a big blue truck and a little red truck make a splash at Disney World. The excitement continues as we witness the magical performances of Disney on Ice at Disneyland. We then venture into Hollywood Studios, where we experience the exhilarating Splash Mountain in high-definition video.\\n\\nThe scene transitions to a delightful play area, where a small child joyfully splashes in the water. Outside, a crowd gathers in front of a vibrant and colorful children\\'s theme park, eagerly anticipating the adventures that lie within. We are then transported to a large and vibrant playground, where a little girl explores the various play structures.\\n\\nThe fun never ends in Mickey Mouse\\'s magical kingdom, where we witness the joy and laughter of visitors enjoying the indoor amusement park. The colorful facade and clock tower add to the whimsical atmosphere, creating a truly immersive experience. As we explore further, we discover a tower and clock within a large children\\'s playground, where people of all ages come together to enjoy the vibrant surroundings.\\n\\nOur journey takes us to a city playground, bustling with activity and laughter. Amidst the vibrant scenery, we encounter a colorful house adorned with a clock, adding a touch of whimsy to the surroundings. We then visit Disneyland\\'s Little People Village, a charming and authentic town filled with laughter and joy, exclusively for little kids.\\n\\nThe video concludes with a glimpse of Pixar World\\'s new land at Disney Springs, showcasing the innovative and imaginative designs that await visitors. Finally, we witness a woman walking away from a building shaped like a cartoon town, leaving us with a sense of wonder and anticipation for the adventures that lie ahead.\\n\\nJoin us on this magical journey through the captivating world of Disney, where dreams come true and imagination knows no bounds.\\nTitle: \"The Exciting World of Jakks Pacific and Disney: A Spectacular Parade with Spongebob Squarepants\"\\n\\nFull Description: \\nWelcome to the world of Jakks Pacific and Disney, two of the most thrilling entertainment companies in the industry. This video takes you on a journey through the best family entertainment, showcasing a spectacular parade featuring the beloved character, Spongebob Squarepants.\\n\\nThe video begins with a shot of a store with a prominent Spongebob sign in the background, setting the stage for the excitement to come. We then see Kristen Bell, known for her role as Krusty the Clown, participating in the Spongebob Squarepants parade in Hollywood. The iconic Hollywood sign serves as a backdrop, accompanied by lively mariachi music and a vibrant Spongebob float.\\n\\nAs the parade progresses through the streets of Hollywood Studios, we witness the animated Spongebob float captivating the crowd\\'s attention. People gather around a statue, immersing themselves in the festive atmosphere. The highlight of the parade is a large Spongebob character standing proudly on a float, surrounded by an enthusiastic crowd.\\n\\nThe video captures the joyous moments as people interact with the Spongebob character, receiving warm hugs and creating lasting memories. Additionally, a group of individuals dressed in Spongebob costumes and other characters join the parade, adding to the vibrant atmosphere.\\n\\nTransitioning to a different location, we see a building with a sign for Gringott\\'s, possibly indicating a connection to the magical world of Harry Potter. This building is located at the entrance to Disneyland Park in Miami, further enhancing the enchanting experience.\\n\\nThe video concludes with a breathtaking shot of a person standing atop a tall building adorned with statues, leaving viewers with a sense of awe and wonder.\\n\\nIn summary, this video takes you on a thrilling journey through the world of Jakks Pacific and Disney, showcasing an unforgettable Spongebob Squarepants parade. From the lively music and vibrant floats to the joyous interactions with characters, this parade is a must-see for families seeking the best in entertainment. Don\\'t miss out on the excitement and magic that awaits you in this captivating video.\\nTitle: Exploring Boston Architecture and Harry Potter World at Disneyland\\n\\nFull Description: In this video, we embark on a journey to explore the magnificent architecture of Boston and the enchanting world of Harry Potter at Disneyland. \\n\\nThe video begins with a breathtaking view of a person standing at the top of a large building adorned with statues. The building features tall columns and a statue on a balcony, showcasing the grandeur of its design. Moving on, we see another impressive apartment building with columns on the top, showcasing the architectural prowess of Boston.\\n\\nNext, the video takes us to the Boston Architecture Studio, where the person responsible for the building\\'s design is showcased. The studio is known for its exceptional work in the field of architecture and design. \\n\\nAs we continue our exploration, we come across a statue sitting atop a building, with the sky serving as a stunning backdrop. The video then reveals a statue on top of another building, accompanied by a statue in front, creating a captivating visual.\\n\\nShifting gears, the video takes us to the movie ticket office, the go-to place for the latest movies and TV shows. However, we learn that Disneyland\\'s \\'Hogwarts Hall of Terror\\' and \\'Hogwarts Express\\' are both permanently closed, adding a touch of nostalgia.\\n\\nThe scene transitions to three women standing in front of a wooden fence at the end of a building, exuding a sense of mystery. Two girls in blue dresses are then seen on a balcony, enjoying the view outside. \\n\\nThe video captures the lively atmosphere as four women dance on the balcony of a building, showcasing their talent and adding a vibrant touch to the surroundings. \\n\\nWe are then treated to a glimpse of three dancers performing on stage at the top of a building, mesmerizing the audience with their graceful moves.\\n\\nThe video takes a detour to Harry Potter World at Disneyland, where we see the famous themed beer and a pint of Guinness being served through the window of a bar. The magical world of Harry Potter comes to life as we witness a Dalmatian dog in Harry Potter Land at Universal Studios Hollywood.\\n\\nIn conclusion, this video offers a captivating journey through the architectural wonders of Boston and the enchanting world of Harry Potter at Disneyland. From stunning buildings with statues to lively dance performances and the magical ambiance of Harry Potter World, this video is a visual treat for architecture and Harry Potter enthusiasts alike.\\nTitle: \"Exploring the Magical World of Harry Potter and Disney at Brooklyn Museum\"\\n\\nFull Description: \\nIn this captivating video, we embark on a journey through the enchanting worlds of Harry Potter and Disney. The adventure begins with a glimpse of Harry Potter World\\'s iconic beer mugs, soon to make their way to us. As we delve deeper, we discover a coffee mug displayed in a glass case, enticing us with its unique item for sale.\\n\\nNext, we find ourselves in Kane Hill, an angelic alley adorned with a wooden sign attached to a brick wall. The atmosphere takes a monochromatic turn as we encounter a black and white sign, proudly displaying the words \"Brooklyn\" and \"Alley.\" The exploration continues as we come across a sign in front of a brick building, revealing the name \"Brockton.\"\\n\\nOur attention then shifts to the Brooklyn Museum, where a new exhibit showcases the making of the world\\'s greatest museums. A peculiar sign catches our eye, reading \"Kook,\" adding an air of mystery to the surroundings. We are then introduced to the intriguing \"House of the Knife,\" a place that sparks curiosity and intrigue.\\n\\nAs the video progresses, we encounter a wanted poster hanging on the wall of a building, featuring the notorious Bellatrix Lestrange and her desire to bring back the Muggleborns. A file photo of the wanted poster provides further context to this captivating storyline. We also catch a glimpse of an advertisement for the band Belladimix and Strang, adding a musical element to the narrative.\\n\\nThe journey takes an unexpected turn as we find another wanted poster displayed on a wall, heightening the sense of intrigue. The video then transitions to Disney\\'s Magic Kingdom, where two new \"wishes\" are in the works at Disney\\'s Disney Village. The magic continues as we witness the story of the clowns unfold through projections on the wall, captivating us with their whimsical tale.\\n\\nFinally, we come across an empty window display, adorned with several faces, leaving us with a sense of wonder and anticipation for what lies beyond. This video truly immerses viewers in the magical worlds of Harry Potter and Disney, offering a captivating and enchanting experience at the Brooklyn Museum.\\nTitle: \"Exploring the Dark and Mysterious World of Horror and Harry Potter\"\\n\\nFull Description: \\nIn this captivating video, we delve into the eerie and enchanting realms of horror and Harry Potter. The journey begins with an empty window display adorned with several haunting faces, setting the tone for the spine-chilling adventure that awaits.\\n\\nAs the camera pans, we are greeted by a building adorned with horror masks hanging from its windows, creating an ominous atmosphere. Behind the glass, we catch a glimpse of Jesus faces lurking in the darkness, adding an element of mystery to the scene.\\n\\nNext, we are introduced to a DVD screencap from the movie \"The Man from Earth,\" hinting at the thought-provoking themes that lie ahead. A group of zombies peering out of a window captures our attention, reminding us of the thrilling and suspenseful nature of the horror genre.\\n\\nTransitioning to Dallas, Texas, we are immersed in the world of prestige horror films. The cityscape serves as a backdrop, emphasizing the urban setting that often amplifies the fear factor in these movies.\\n\\nThe video takes a surprising turn as we encounter an animal hanging from a ceiling in front of a bookshelf. This unexpected sight raises questions about the connection between the animal and the world of horror.\\n\\nA snake head suspended in the air in front of a glass wall adds an element of danger and intrigue. A museum worker is shown holding a snake, further emphasizing the fascination with these enigmatic creatures.\\n\\nThe journey continues with a snake head on display in a store window, captivating passersby with its mesmerizing presence. We then witness the enthusiasm of Harry Potter fans who have spent an excessive amount of time in the Harry Potter shop on London\\'s Euston Road, showcasing their dedication to the magical world created by J.K. Rowling.\\n\\nA stack of books, topped with an ugly monster, grabs our attention, hinting at the terrifying tales that lie within their pages. The photo of the Harry Potter studio at Disney\\'s Paris Harry Potter Studio Tour video has been edited, adding an element of visual manipulation to the mix.\\n\\nA display case filled with books, including some spine-chilling titles, invites us to explore the darker side of literature. The Harry Potter shop, known as \"Dios Mamá El Tío,\" becomes a focal point, offering a haven for fans to immerse themselves in the wizarding world.\\n\\nThe video takes us on a thrilling ride through the Harry Potter universe, featuring Dumbledore and the book of snakes. We catch a glimpse of Harry Potter himself in a wizarding shop, adding an element of magic and wonder to the narrative.\\n\\nThe journey concludes with a store front adorned with windows and signs, inviting us to step into the unknown. The entrance to Floran\\'s Folly\\'s, marked by a sign, beckons us to explore the mysteries that lie within.\\n\\nPrepare to be captivated by this video as it unravels the dark and mysterious world of horror and Harry Potter, leaving you spellbound and craving for more.\\nTitle: \"Floran\\'s Folly\\'s Entrance, Harry Potter and the Deathly Hallows Part 2, and Ice Cream Delights\"\\n\\nFull Description: \\nIn this captivating video, we are taken on a journey through various captivating scenes. It all begins with the entrance to Floran\\'s Folly\\'s, a place that piques our curiosity with its intriguing sign. As we delve deeper, we are transported into the magical world of \"Harry Potter and the Deathly Hallows Part 2.\" The video treats us to captivating snippets from this thrilling movie.\\n\\nAmidst the excitement, we catch a glimpse of an ice cream cone playfully sticking out of a building\\'s window. The sight of it instantly awakens our taste buds and leaves us craving for more. Our adventure continues as we embark on the \"Escape from Hogwarts\" ride, passing by enchanting locations such as Lily Cottage, Hogwarts Castle, and the various Hogwarts houses.\\n\\nReturning to the ice cream theme, we notice a sign hanging from the top of a building, indicating the presence of a delightful ice cream shop. Our anticipation builds as we spot a large ice cream cone perched atop another building, beckoning us to indulge in its creamy goodness.\\n\\nNext, we are introduced to Milan\\'s new ice cream truck, a candy store on wheels that promises a delectable array of frozen treats. A woman\\'s hand skillfully scoops out ice cream from a mixing bowl, ensuring each serving is perfect. The scoops are then carefully placed into a bowl, ready to be enjoyed by a lucky recipient. The camera captures the moment as someone takes a scoop of ice cream from a bowl, tempting us with its irresistible allure.\\n\\nAs we explore further, we stumble upon an empty cupcake display adorned with two ice cream cones, a delightful combination of sweet treats. The video takes a playful turn as it promotes \"Disco Cake: The Movie\" and teases us with a Toy Story 4 promo spot.\\n\\nOur journey through the world of ice cream continues as we find ourselves in a room filled with ice cream stands, illuminated by vibrant lights. The atmosphere is enchanting, and we can almost taste the creamy goodness that awaits us.\\n\\nThe video briefly shifts its focus to a Disneyland restaurant, captivating us with a TV spot that promises a delightful dining experience. We catch a glimpse of a tantalizing ice cream sundae from Pizza Hut\\'s Panda Ice Cream, leaving us craving for a taste of this indulgent treat.\\n\\nBefore the video concludes, we are treated to a mesmerizing sight of a group of ice cream cones reflected in a mirror, creating a visually stunning display. Finally, we witness a man admiring and selecting his favorite ice cream from a glass cabinet, a moment of pure delight.\\n\\nIn this video, we are taken on a whirlwind adventure, from the enchanting world of Harry Potter to the tantalizing realm of ice cream delights. It\\'s a visual feast that leaves us yearning for more magical experiences and delicious frozen treats.\\nTitle: \"Exploring Harry Potter World, Medieval Costumes, and VR Gaming at Universal Studios\"\\n\\nFull Description: \\nIn this captivating video, we embark on a journey through various exciting experiences at Universal Studios. The adventure begins with a man indulging in some mouthwatering ice cream, beautifully displayed in a glass cabinet. As we move forward, we catch a glimpse of ice cream cones reflected in a mirror, creating a mesmerizing view behind a window.\\n\\nNext, our attention is drawn to a magnificent clock tower adorned with numerous doors, adding an air of mystery to the surroundings. We then find ourselves immersed in the enchanting world of Harry Potter, as we witness the bustling walk of life in Harry Potter World. The camera pans to a large wooden-faced clock, exuding a sense of antiquity and charm.\\n\\nContinuing our exploration, we are captivated by the gothic bell tower, which transports us to the magical realm of Disney World\\'s Harry Potter tour. We then venture into the captivating \"Escape to Ogley Magic Castle\" walk-through, where we are greeted by the mesmerizing owl clock at Universal Studios. The camera zooms in on the intricate details of the owl\\'s head, located in the Slytherin Castle of Harry Potter and the Chamber of Secrets.\\n\\nOur journey takes a whimsical turn as we arrive at the enchanting Wizarding World of Hogsmeade, where the spellbinding \"Hocus Pocus Hogwarts\" awaits. Here, we witness a woman dressed in a witch costume, holding an ancient book, captivating a group of zombies. The scene is filled with people dressed in elaborate costumes, brandishing swords, adding an element of excitement and adventure.\\n\\nAs we transition to a different setting, we find ourselves in medieval times, where two men dressed in medieval costumes stand atop a building, exuding an aura of chivalry and valor. The camera then captures two men posing for a photo, donning black capes, adding an air of mystery and intrigue.\\n\\nThe video takes an exciting turn as it introduces the upcoming virtual reality game, The Sims 2. The narrator explains the mechanics of the game, showcasing how it works in a VR environment. We catch a glimpse of a man wearing a black vest and tie, confidently taking the stage, followed by another shot of a man in a black suit seated behind a podium, setting the stage for an intriguing presentation.\\n\\nConcluding our journey, we are treated to a visually stunning performance, as women dressed in elegant blue dresses gracefully dance on stage, captivating the audience with their skill and beauty.\\n\\nThis video offers a captivating glimpse into the world of Universal Studios, showcasing the magic of Harry Potter, the allure of medieval costumes, and the excitement of virtual reality gaming. Prepare to be enchanted and transported to a realm where imagination knows no bounds.\\nTitle: \"Enchanting Dance Performances and Magical Adventures at the Wizarding World of Harry Potter\"\\n\\nFull Description: \\nStep into a world of wonder and magic at the Wizarding World of Harry Potter. In this captivating video, you will witness a series of enchanting moments that will transport you to a realm filled with excitement and awe.\\n\\nThe video begins with a mesmerizing scene of women dressed in beautiful blue dresses gracefully dancing on a stage. Their synchronized movements and vibrant costumes create a captivating spectacle that sets the tone for the magical journey ahead.\\n\\nNext, the trailer for \"Harry Potter and the Deathly Hallows Part 1\" unfolds, offering a glimpse into the thrilling adventures that await. The captivating visuals and intense moments showcased in the trailer leave you eagerly anticipating the movie.\\n\\nAs the video progresses, you are transported to a circus where a group of talented dancers captivate the audience with their awe-inspiring performance. The energy and skill displayed by these performers leave you in awe of their talent.\\n\\nThe scene then transitions to the Tamagotchi stage, where the enchanting world of wands and magic comes to life. The stage is adorned with intricate props and decorations, creating a magical atmosphere that immerses you in the Tamagotchi experience.\\n\\nThe video takes you on a tour of the famous wand shop at Hogwarts, showcasing its impressive collection of wands. The meticulously crafted windows of an old-fashioned shop catch your eye, displaying a variety of magical items and artifacts.\\n\\nContinuing the magical journey, an old window display featuring pictures of clowns adds a touch of whimsy to the scene. The video then transports you to the Wizarding World of Harry Potter in the UK, where you can explore the enchanting world created by J.K. Rowling.\\n\\nA man in the window of a building with glass in the top captures your attention, adding an air of mystery to the video. The wand shop in the Wizarding World of Harry Potter is highlighted, showcasing its vast array of magical items, including chess pieces that come to life.\\n\\nThe Wizard\\'s Corner in the Harry Potter world in the UK features a captivating statue of a man on the facade of a building, adding a touch of grandeur to the scene. A red and white building with people sitting on top creates a lively and vibrant atmosphere.\\n\\nThe video concludes with glimpses of the Harry Potter Studio Tour and the Wizarding World of Harry Potter at Universal Studios. These iconic locations offer fans the opportunity to immerse themselves in the enchanting world of Harry Potter.\\n\\nImmerse yourself in the magic and wonder of the Wizarding World of Harry Potter through this captivating video. Experience the mesmerizing dance performances, explore the enchanting shops, and embark on a magical adventure that will leave you spellbound.\\nTitle: Exploring the Magical World of Harry Potter at Universal Studios\\n\\nFull Description: \\nIn this captivating video, embark on a journey through the enchanting world of Harry Potter at Universal Studios. The video begins with a glimpse of the thrilling Harry Potter rides in the theme park, where visitors can experience the magic firsthand. \\n\\nNext, we are transported to the Harry Potter Studios Interactive Experience in Utah, where fans can immerse themselves in the wizarding world. A man is seen standing in front of a statue, adding to the ambiance of the magical setting.\\n\\nThe video then takes us on a Harry Potter tour, showcasing the incredible journey through the Wizarding World. Two men are seen admiring the ghost at the Dark Tower, a mysterious and haunting sight.\\n\\nOne of the highlights of the video is the thrilling escape from Gringotts Bank, a ride that brings the world of Harry Potter to life. The dragon inside the Dragonarium adds an element of danger and excitement.\\n\\nWe are then introduced to Disney\\'s Harry Potter World at Universal Studios Orlando, a must-visit destination for all Harry Potter fans. The Hogwarts Express is showcased, with the dragon on fire creating a dramatic and awe-inspiring scene.\\n\\nThe video also explores Diagon Alley, a bustling and magical street filled with shops and wonders. The repetition of the phrase \"Diagon Alley\" emphasizes the enchantment and charm of this iconic location. The mention of the Horcrux adds an element of mystery and intrigue.\\n\\nA dragon shooting flames from its mouth atop a castle is a breathtaking sight, showcasing the power and majesty of these mythical creatures. The video captures the beast\\'s roar, its ability to breathe fire, and its graceful flight.\\n\\nThe dragon statue on top of a tower adds to the visual spectacle, reminding viewers of the rich lore and history of the wizarding world.\\n\\nOverall, this video provides a captivating glimpse into the magical world of Harry Potter at Universal Studios. From thrilling rides to immersive experiences, fans of all ages will be enchanted by the wonders that await them.\\nTitle: \"Exploring the Magical World of Universal Studios: A Review and Tour\"\\n\\nFull Description: \\nIn this captivating video, we embark on a thrilling journey through the enchanting wizarding world of Universal Studios. The adventure begins with a comprehensive review and guide to Universal Studios Hollywood in 2017, followed by an immersive tour of the captivating Universal Orlando theme park.\\n\\nAs the video unfolds, we are greeted by a mesmerizing sight - a large illuminated sign proudly displaying the iconic Universal Studios logo. The logo, with its distinct lettering, sets the stage for the magical experiences that await us.\\n\\nNext, a breathtaking scene unfolds before our eyes - a lit up globe adorned with the Universal logo, radiating the word \"Universal\" in all its glory. This symbolizes the universality of the experiences and entertainment offered by Universal Studios.\\n\\nOur journey continues as we encounter a large sign bearing the words \"Universal Orlando,\" serving as a gateway to endless adventures. The logo on the sign illuminates in a mesmerizing display of blue lights, inviting us to explore the wonders within.\\n\\nThe video seamlessly transitions to stunning stock footage and b-roll showcasing the captivating Universal Studios theme park in Hollywood, Florida, USA. The vibrant atmosphere and thrilling attractions come to life, immersing viewers in the excitement and magic of this renowned destination.\\n\\nBut the adventure doesn\\'t end there. We are transported to the Esal World of Adventure in Macau, a world brimming with thrilling experiences. The sun itself bears the name \"Asal,\" and a giant ball proudly displays this word, hinting at the exhilarating adventures that await.\\n\\nAs night falls, an airplane gracefully soars through the dark sky, creating a sense of wonder and wanderlust. The image of a small plane flying amidst the vastness of the sky further adds to the allure of exploration and discovery.\\n\\nThe video takes a mystical turn as a full moon emerges, casting its ethereal glow and illuminating the darkness. The moonlight shines, creating an enchanting ambiance that captivates the senses.\\n\\nUnexpectedly, a unique and intriguing image appears - a woman\\'s thigh adorned with a tattoo of a jalapeno beer. This quirky and distinctive sight adds a touch of humor and individuality to the video, showcasing the diverse experiences and interests of Universal Studios\\' visitors.\\n\\nThe video concludes with a glimpse of the various social media platforms associated with Disney, including Disqus, Facebook, YouTube, and their official WWE channel. This highlights the extensive reach and influence of Disney, offering viewers a wealth of news, tips, tricks, articles, and information related to the magical world of Disney.\\n\\nIn summary, this video takes us on an unforgettable journey through the captivating realms of Universal Studios. From the wizarding world to thrilling theme parks, from breathtaking aerial views to the allure of a full moon, and from quirky tattoos to the vast Disney universe, this video encapsulates the magic, wonder, and excitement that Universal Studios has to offer. Get ready to be transported to a world where dreams come true and imagination knows no bounds.\\nTitle: \"Discover the Magic of Disney: From Channel Subscriptions to Theme Park Adventures\"\\n\\nFull Description: \\nWelcome to the enchanting world of Disney! In this captivating video, we delve into the various aspects of the Disney universe, from the beloved Disney Channel to the thrilling theme parks and everything in between.\\n\\nThe video begins with a flurry of excitement as the word \"Disney\" appears repeatedly, setting the stage for the magical journey ahead. A flyer catches our attention, showcasing a video with a clear message: \"Subscribe.\" It\\'s an invitation to join the Disney community and unlock a world of entertainment.\\n\\nNext, we visit Disney Channel\\'s website, where an animated version of the iconic Disney Channel logo greets us. The animation adds a touch of whimsy, reminding us of the joy and wonder that Disney brings to our screens.\\n\\nAs the video continues, the word \"Disney\" echoes once again, reinforcing the brand\\'s omnipresence and reminding us of the countless memories we\\'ve made with Disney throughout the years.\\n\\nWe then catch a glimpse of a video game associated with Disney Channel, adding an interactive element to the Disney experience. The game promises hours of fun and adventure, keeping us engaged in the magical world of Disney.\\n\\nBut the excitement doesn\\'t stop there! We learn about Disney Plus, a platform that offers a treasure trove of Disney content. It\\'s not just about the channel; it\\'s about immersing ourselves in the Disney universe, with news, shows, and movies available at our fingertips. And the best part? It\\'s free for a month, allowing us to fully indulge in the Disney magic.\\n\\nMoving on, we discover that Disney\\'s YouTube page has undergone a redesign, granting users access to videos from all the Disney parks. It\\'s a virtual gateway to the wonders of Disneyland, Disney World, and more. We can explore the rides, attractions, and behind-the-scenes magic from the comfort of our own screens.\\n\\nSpeaking of YouTube, we find ourselves on Disney\\'s official YouTube channel, where a plethora of videos awaits us. These videos offer a glimpse into the enchanting world of Disney theme parks and attractions. From thrilling rides to captivating shows, we can experience the magic firsthand, even if we can\\'t be there in person.\\n\\nThe video then highlights the availability of free widescreen downloads and video clips, allowing us to bring a piece of Disney into our own lives. We can relive our favorite moments, share them with loved ones, and keep the Disney magic alive.\\n\\nTowards the end, we encounter a webpage featuring a video about Disney World and Disney news. It\\'s an invitation to dive deeper into the wonders of Disney, with a simple click leading us to the official Disney World site. The possibilities for adventure and discovery are endless.\\n\\nFinally, the video concludes with a reminder of the Disney Channel app, ensuring that we can access the enchantment of Disney anytime, anywhere. With this app, we can stay connected to our favorite shows, characters, and stories, bringing the Disney experience with us wherever we go.\\n\\nJoin us on this extraordinary journey through the world of Disney, where dreams come true and magic is always just a click away. Subscribe, explore, and let the enchantment unfold before your eyes. Welcome to the wonderful world of Disney!\\n', metadata={'source': '/Users/bpakra200/tubegpt/tubegpt/src/notebook/universal-descrption-blip2v2.txt'}),\n",
       "  0.4950782060623169),\n",
       " (Document(page_content='a man in a green golf cart with a stuffed bear\\na golf cart with a christmas sweater on it\\na black bear is sitting in a golf cart\\na man is playing with a frc in the yard\\na green truck\\na christmas wreath with a stuffed bear in it\\ntwo boys playing golf in the grass\\na group of people playing golf on a green field\\na santa claus wreath is placed on a tractor\\ntwo children playing with a fr fr fr fr fr fr fr fr fr fr fr fr fr fr\\na man driving a golf cart with a christmas hat on\\na stuffed santa claus is sitting in a golf cart\\na santa claus in a green truck\\na stuffed animal sitting in the back of a truck\\na christmas wreath with a santa claus in it\\na stuffed santa claus is sitting in a truck\\na dog in a christmas wreath sitting on a truck\\na stuffed bear sitting in a christmas wreath\\na green golf cart with a santa hat on it\\na man and a woman playing with a frc\\na stuffed santa claus is placed in the back of a truck\\na green golf cart with a wreath on it\\na stuffed santa claus in a green jeep\\na man and a child playing with a fr fr fr fr fr fr fr fr fr fr fr\\ntwo children playing with a ball in the grass\\na boy is swinging a golf ball on the green\\na green golf cart with a bag on it\\ntwo people playing golf on a green field\\na stuffed santa claus\\ntwo children playing golf on a green field\\na golf cart with a golf cart attached to it\\na woman in a green shirt is playing golf\\na santa claus wreath\\na man and a woman playing a game of fr fr fr fr fr fr fr fr fr fr\\ntwo people playing golf in the grass\\na green golf cart with a red and white flower on it\\ntwo children playing golf in the grass\\na dog is sitting in a green truck\\na santa claus doll is sitting in a truck\\na christmas wreath is placed on the back of a car\\na man and a woman playing with a fr fr fr fr fr fr fr fr fr fr fr\\na man and woman playing with a fr fr fr fr fr fr fr fr fr fr fr fr\\na stuffed santa claus in a golf cart\\ntwo people playing with a ball in the grass\\na santa claus wreath is placed on a jeep\\na stuffed animal in a christmas wreath on a truck\\na man riding a green motorcycle down a dirt road\\na stuffed bear in a wreath\\na golf cart with a christmas wreath on it\\na stuffed animal in a christmas wreath on a green truck\\na stuffed bear in a christmas wreath\\na man playing golf in the grass\\na green golf cart parked on a dirt road\\na christmas wreath is placed on the back of a tractor\\na stuffed santa claus in a tractor\\na stuffed santa claus in a truck\\na stuffed animal in a wreath on a tractor\\na black bear is in a golf cart\\na stuffed animal in a truck with a wreath\\na santa claus is sitting in the back of a truck\\na group of people playing a game of fr fr fr fr fr fr fr fr fr fr fr\\na green golf cart with a white seat and a red bag\\na christmas wreath with a santa claus on it\\na stuffed santa claus is sitting in a jeep\\na man is playing golf in the yard\\na green golf cart with a red bag on it\\na man and a woman playing frc\\na man is playing golf in the grass\\na green golf cart with a santa clause on it\\na golf cart is parked on the side of a road\\ntwo people playing with a fr fr fr fr fr fr fr fr fr fr fr fr fr fr\\na wreath is placed on the back of a truck\\na green jeep with a wreath on the front\\na black bear is sitting in a green golf cart\\na man and a woman playing golf\\na man riding a small car down a dirt road\\na black bear is in the back of a golf cart\\na stuffed santa claus is placed in a garbage bin\\ntwo people playing frc in the grass\\na golf cart with a christmas tree on it\\na truck with a wreath on the back\\ntwo people playing frc in the backyard\\na green golf cart with a stuffed santa claus on it\\na stuffed teddy bear sitting in a truck\\na man in a santa hat is riding a golf cart\\na man is playing with a fr fr fr fr fr fr fr fr fr fr fr fr fr\\na boy and a girl playing golf\\na stuffed santa claus in a green truck\\na group of people playing frc in the park\\na stuffed santa claus is sitting in a tractor\\na green golf cart parked in a driveway\\na man is driving a golf cart on the grass\\na golf cart with a golf ball on it\\na santa claus wreath is placed in the back of a truck\\na green golf cart with a red rose on it\\na golf cart with a dog on it\\na christmas wreath is placed on the back of a golf cart\\na cat in a christmas wreath on a truck\\na dog is sitting in a truck with a wreath on it\\na stuffed santa claus in a christmas wreath\\na green golf cart with a red flower on it\\na santa claus wreath with red and green decorations\\na green golf cart\\na stuffed teddy bear sitting in the back of a truck\\na green golf cart with a christmas wreath on it\\na man riding a motorcycle down a dirt road\\na stuffed teddy bear in a christmas wreath\\ntwo people playing frc in the park\\na christmas wreath on a green truck\\na stuffed animal sitting in a truck with a wreath\\na santa claus in a christmas wreath\\na man and woman playing frc in the park\\na wreath with a santa claus on it\\na santa claus in a truck with a wreath\\na man and woman playing golf on a green field\\na man is playing with a frc\\na man in a green golf cart with a christmas hat on\\na green golf cart with a christmas tree on it\\na santa claus wreath on a green truck\\na christmas wreath with a stuffed animal in it\\na christmas wreath with a teddy bear in it\\na man riding a green golf cart\\na green truck with a wreath on it\\na woman is playing golf in the grass\\na boy is swinging a golf ball on the golf course\\na golf cart with a christmas decoration on it\\na man is playing golf on the grass\\na golf cart with a christmas hat on it\\na green golf cart with a white seat\\na boy and girl playing golf in the grass\\na man and woman playing golf on the grass\\na woman and a man playing golf in the grass\\na green golf cart with a red hat on it\\na golf cart with a bag on it\\ntwo people playing frc golf\\na group of people playing a game of cro\\na dog is sitting in the back of a green truck\\na dog is sitting in a golf cart\\na woman is playing golf with her friends\\na stuffed animal in a wreath\\na woman in a green shirt and red shorts playing golf\\na man and a woman playing golf on a green field\\na green golf cart with a christmas hat on it\\na christmas wreath is placed on the back of a truck\\na man and a boy playing golf\\na santa claus doll in a christmas wreath\\na stuffed animal sitting in a christmas wreath\\na man riding a golf cart down a dirt road\\na santa claus in a tractor with a wreath\\na santa claus wreath is placed on the back of a truck\\na man and a woman playing a game of fr fr fr\\na christmas wreath is placed on the back of a green truck\\na green golf cart with a red and white bag\\na christmas wreath is placed on the back of a green golf cart\\na golf cart is parked in the grass\\na stuffed bear sitting in a wreath on a truck\\na man in a green golf cart with a stuffed animal\\na group of people playing golf in the grass\\na christmas wreath on a golf cart\\na christmas wreath is placed in the back of a truck\\na group of people playing a game in the grass\\na black dog is sitting in a golf cart\\na group of people playing a game on the grass\\na santa claus in a green truck with a wreath\\na man and a woman playing golf in the grass\\na man in a green golf cart with a christmas tree\\ntwo people playing frc\\ntwo people playing with a frc fr frc frc frc frc frc fr\\na stuffed animal in a christmas wreath\\na woman is playing golf with her son\\na stuffed santa claus is placed in a truck\\na christmas wreath on the back of a truck\\na man and woman playing golf in the grass\\n', metadata={'source': '/Users/bpakra200/tubegpt/tubegpt/src/notebook/list.txt'}),\n",
       "  0.5410424470901489)]"
      ]
     },
     "execution_count": 36,
     "metadata": {},
     "output_type": "execute_result"
    }
   ],
   "source": [
    "PERSIST_DIRECTORY_OPENAI = \"../tubegptvisiondb/\"\n",
    " \n",
    "tubegptvisiondb = Chroma.from_documents(\n",
    "    documents=docs, embedding= embeddings, persist_directory=PERSIST_DIRECTORY_OPENAI\n",
    ")\n",
    "tubegptvisiondb.similarity_search_with_score(\"What is the place\", k=2)"
   ]
  },
  {
   "cell_type": "markdown",
   "metadata": {},
   "source": [
    "## Save vecrtor for large captioning models"
   ]
  },
  {
   "cell_type": "code",
   "execution_count": 32,
   "metadata": {},
   "outputs": [
    {
     "name": "stderr",
     "output_type": "stream",
     "text": [
      "Number of requested results 2 is greater than number of elements in index 1, updating n_results = 1\n"
     ]
    },
    {
     "data": {
      "text/plain": [
       "[(Document(page_content='there is a stuffed santa claus doll on a wreath on the back of a truck\\nthere is a stuffed santa claus doll on a wreath on the back of a car\\nthere is a stuffed santa claus on a wreath on the back of a car\\nthere is a stuffed santa claus sitting on a wreath on the back of a car\\nthere is a stuffed santa claus sitting on a wreath on the back of a golf cart\\nthere is a stuffed santa claus on a wreath on the back of a golf cart\\nthere is a stuffed santa claus sitting on a wreath on the back of a truck\\nthere is a stuffed animal that is sitting on a wreath\\nthere is a wreath with a santa clause on it on the back of a car\\nthere is a stuffed animal in a wreath on the back of a car\\nthere is a stuffed santa claus on a wreath on the back of a truck\\nthere is a stuffed animal in a wreath on the back of a truck\\nthere is a stuffed santa claus sitting on a christmas wreath\\nthere is a stuffed santa claus doll sitting on a christmas wreath\\nthere is a stuffed animal that is sitting in a wreath\\nthere is a stuffed animal that is sitting on a blanket\\nthere is a stuffed santa claus sitting on a green wreath\\nthere is a stuffed santa claus sitting on a green blanket\\nthere is a stuffed animal that is sitting in the back of a truck\\nthere is a stuffed santa claus sitting on a christmas tree\\nthere is a stuffed animal that is sitting in the trunk of a car\\nthere is a stuffed animal in a car with a wreath\\nthere is a stuffed animal in a christmas wreath on the back of a truck\\nthere is a stuffed animal in the back of a car with a wreath\\nthere is a stuffed animal in a christmas wreath in the back of a car\\nthere is a stuffed santa claus sitting in a green car\\nthere is a stuffed santa claus sitting in a green truck\\nthere is a stuffed santa claus sitting in a wreath on the back of a car\\nthere is a stuffed santa claus sitting in the back of a car\\nthere is a stuffed santa claus sitting in the back of a truck\\nthere is a stuffed animal that is sitting on a car\\nthere is a stuffed monkey sitting on a christmas wreath on the back of a car\\nthere is a stuffed animal that is sitting on a golf cart\\nthere is a wreath with a santa clause on it on a golf cart\\nthere is a christmas wreath on the back of a car\\nthere is a stuffed snowman sitting on a green car with a wreath\\nthere is a santa clause sitting on a wreath on the back of a car\\nthere is a stuffed animal sitting on a christmas wreath on a golf cart\\nthere is a stuffed toy sitting on a golf cart with a wreath\\nthere is a stuffed santa claus on a golf cart with a wreath\\nthere is a stuffed snowman sitting on a green golf cart\\nthere is a stuffed snowman sitting on a christmas wreath\\nthere is a stuffed animal that is sitting on a christmas wreath\\nthere is a stuffed santa claus on a christmas wreath on a golf cart\\nthere is a stuffed santa claus on a christmas wreath on the back of a truck\\nthere is a christmas wreath with a santa clause on it\\nthere is a stuffed santa claus sitting on a golf cart\\nthere is a stuffed animal sitting on a wreath on the back of a golf cart\\nthere is a stuffed santa claus on a wreath on a green truck\\nthere is a stuffed animal that is on a wreath on the back of a car\\nthere is a stuffed animal that is laying on a wreath\\nthere is a stuffed animal in a wreath on a golf cart\\nthere is a stuffed animal in a wreath on the back of a golf cart\\nthere is a stuffed santa claus sitting in a wreath on the back of a truck\\nthere is a santa clause on a wreath on the back of a car\\nthere is a santa clause hanging on a wreath on the back of a car\\nthere is a stuffed santa claus on a wreath on a golf cart\\nthere is a stuffed santa claus sitting on a wreath on a golf cart\\nthere is a stuffed santa claus sitting in a wreath on the back of a golf cart\\nthere is a stuffed animal on a wreath on the back of a golf cart\\nthere is a stuffed animal on a golf cart with a wreath\\nthere is a wreath with a santa clause on it on the back of a golf cart\\nthere is a stuffed bear that is sitting on a wreath\\nthere is a stuffed animal on a wreath on the back of a truck\\nthere is a teddy bear sitting on a wreath on the back of a golf cart\\nthere is a stuffed bear in a wreath on the back of a golf cart\\nthere is a wreath on the back of a golf cart\\nthere is a christmas wreath on the back of a golf cart\\nthere is a teddy bear and a wreath on the back of a golf cart\\nthere is a dog standing next to a golf cart with a wreath on it\\nthere is a teddy bear sitting on a golf cart with a wreath\\nthere is a teddy bear sitting on a christmas wreath on a golf cart\\nthere is a small wreath on the back of a golf cart\\nthere is a dog that is standing next to a golf cart\\nthere is a golf cart with a wreath on it and a golf ball\\nthere is a golf cart with a christmas wreath on it\\nthere is a cat sitting on a golf cart with a wreath on it\\nthere is a dog that is sitting in a golf cart\\nthere is a black cat sitting on a golf cart with a wreath on it\\nthere is a dog sitting in a golf cart with a wreath on it\\nthere is a stuffed animal in a golf cart with a wreath on it\\nthere is a stuffed animal in a golf cart with a christmas wreath\\nthere is a stuffed animal in a golf cart with a santa clause on it\\nthere is a small stuffed animal sitting on a golf cart\\nthere is a dog that is standing in a golf cart\\nthere is a black dog sitting in a golf cart with a stuffed animal\\nthere is a dog sitting in a golf cart with a stuffed animal on it\\nthere is a green golf cart with a santa clause on it\\nthere is a dog sitting in a golf cart with a christmas decoration on it\\nthere is a black dog that is standing in a golf cart\\nthere is a cat that is standing on a golf cart\\nthere is a cat sitting on a golf cart with a christmas decoration on it\\nthere is a golf cart with a christmas decoration on it\\nthere is a green golf cart with a red and white decoration on it\\nthere is a cat that is standing next to a golf cart\\nthere is a cat sitting on a golf cart with a santa hat on\\nthere is a black cat standing next to a green golf cart\\nthere is a black cat standing next to a golf cart\\nthere is a cat sitting on a golf cart with a bag on it\\nthere is a cat sitting in a golf cart with a bag on it\\nthere is a black cat sitting in a golf cart with a santa hat on\\nthere is a dog sitting in a golf cart with a hat on\\nthere is a dog sitting in a golf cart with a santa hat on\\nthere is a golf cart with a santa clause on the back\\nthere is a green golf cart with a stuffed animal on it\\nthere is a golf cart with a stuffed animal on the back\\nthere is a green golf cart with a santa hat on it\\nthere is a golf cart with a santa clause on it\\nthere is a golf cart with santa claus on it parked in the driveway\\nthere is a green golf cart with a red rose on the back\\nthere is a green golf cart with a red and white flag on it\\nthere is a green golf cart with a red and white flower on it\\nthere is a green golf cart with a red and white hat on it\\nthere is a golf cart with a christmas decoration on the back\\nthere is a green golf cart with a santa clause on the back\\nthere is a green golf cart with a christmas decoration on it\\nthere is a green golf cart with a red and white bow on it\\nthere is a green golf cart with a red and white bag on it\\nthere is a green golf cart with a red hat on it\\nthere is a green golf cart with santa hats on it\\nthere is a green golf cart with a white seat and a red bow on the back\\nthere is a green golf cart with a dog on it\\nthere is a green golf cart with a white seat and a red hat\\nthere is a small green golf cart with a santa clause on top\\nthere is a golf cart with a golf ball on the back\\nthere is a golf cart with a person on it parked in the grass\\nthere is a man riding a golf cart with a surfboard on top\\nthere is a small green golf cart with a white seat\\nthere is a golf cart with a surfboard on top of it\\nthere are many people riding golf carts on the grass\\nthere are people playing golf on a golf course with carts\\nthere are many people on golf carts on the grass\\nthere is a golf cart that is parked on the grass\\nthere is a golf cart parked on the side of the road\\nthere is a man riding a golf cart on the grass\\nthere is a man that is standing on a golf cart\\nthere is a man that is playing golf in the grass\\nthere is a man that is playing golf on the grass\\nthere is a man that is standing in the grass with a golf club\\nthere are people playing golf on a green field with a cart\\nthere are people playing golf in the park on a sunny day\\nthere are people playing a game of golf in the park\\nthere are people playing frisbee in the park on a sunny day\\nseveral people playing a game of frisbee in a park\\nseveral people playing a game of golf in a park\\nseveral people playing frisbee in a park with a golf cart\\nthere are people playing a game of frisbee in the park\\nthere are people playing frisbee in a grassy field\\nthere are people playing frisbee in a park with golf carts\\nthere are two people playing frisbee in the park on the grass\\nseveral people playing golf in a park with carts and golf carts\\nseveral people playing golf in a grassy area with carts\\nseveral people playing a game of golf in a park with carts\\nseveral people are playing golf in a grassy field with carts\\nseveral people are playing a game of golf in a park\\nseveral people playing a game of golf in a grassy field\\nseveral people are playing frisbee in a grassy field\\nseveral people playing a game of frisbee in a grassy field\\nseveral people playing frisbee in a grassy field with a golf cart\\nseveral people playing frisbee in a grassy field with golf carts\\nthere are people playing frisbee in a park with many carts\\nthere are two people playing frisbee in the grass on the golf course\\nthere are two people playing frisbee in the grass on the field\\nthere are two people playing a game of golf on the grass\\nthere are two people playing golf on a green field\\nseveral people playing golf in a grassy field with a golf cart\\nseveral people playing golf in a park with a golf cart\\nseveral people playing golf on a green field with a golf cart\\nseveral people playing golf on a green field with trees in the background\\nseveral people playing golf on a green field with carts\\nseveral people are playing golf on a green field with a golf cart\\nseveral people playing golf on a golf course with a cart in the background\\nseveral people playing golf on a sunny day in the park\\nseveral people are playing golf on a green field with trees in the background\\nseveral people are playing golf in a grassy field with trees\\nseveral people are playing golf on a green field with trees\\nthere are two people playing a game of golf in the grass\\nthey are playing frisbee in the park on a sunny day\\nthere are two people playing frisbee in the park together\\nthere are two boys playing golf on a green field\\nthere are two people playing golf in the grass on a sunny day\\nthere are two people playing a game of frisbee in the park\\nthere are two boys playing golf in the grass with a frisbee\\nthere are two people playing a game of golf in the park\\nthere are two men playing golf on a green field\\nthere are two people playing frisbee in the grass\\nthey are playing golf on the green grass in the park\\nthere are two people playing frisbee in the park on a sunny day\\nthere are two people playing golf in the grass together\\nseveral people are playing a game of frisbee in a park\\nthere are three people playing golf on a green field\\nthere are two people playing golf in the grass with a dog\\nseveral people are playing a game of golf in a grassy field\\nseveral people playing a game of golf on a sunny day\\nseveral people are playing a game of golf on a sunny day\\nseveral people are playing a game of golf on a green field\\nseveral people playing frisbee in a park with golf carts\\nseveral people are playing golf in a grassy field with a golf cart\\nseveral people playing golf on a green field with a cart\\nthere are two people playing frisbee in the park with a golf cart\\nthere are two people playing a game of golf on the green\\nthere are two people playing golf in the grass with a golf cart\\n', metadata={'source': '/Users/bpakra200/tubegpt/tubegpt/src/notebook/list-bliplarge.txt'}),\n",
       "  0.5302518606185913)]"
      ]
     },
     "execution_count": 32,
     "metadata": {},
     "output_type": "execute_result"
    }
   ],
   "source": [
    "PERSIST_DIRECTORY_OPENAI = \"../tubegptvisionlargedb/\"\n",
    " \n",
    "tubegptvisionlargedb = Chroma.from_documents(\n",
    "    documents=docs, embedding= embeddings, persist_directory=PERSIST_DIRECTORY_OPENAI\n",
    ")\n",
    "tubegptvisionlargedb.similarity_search_with_score(\"What was weman were playing?\", k=2)"
   ]
  },
  {
   "cell_type": "code",
   "execution_count": 55,
   "metadata": {},
   "outputs": [
    {
     "data": {
      "text/plain": [
       "[(Document(page_content='As we transition to a different setting, we find ourselves in medieval times, where two men dressed in medieval costumes stand atop a building, exuding an aura of chivalry and valor. The camera then captures two men posing for a photo, donning black capes, adding an air of mystery and intrigue.\\n\\nThe video takes an exciting turn as it introduces the upcoming virtual reality game, The Sims 2. The narrator explains the mechanics of the game, showcasing how it works in a VR environment. We catch a glimpse of a man wearing a black vest and tie, confidently taking the stage, followed by another shot of a man in a black suit seated behind a podium, setting the stage for an intriguing presentation.\\n\\nConcluding our journey, we are treated to a visually stunning performance, as women dressed in elegant blue dresses gracefully dance on stage, captivating the audience with their skill and beauty.', metadata={'source': '/Users/bpakra200/tubegpt/tubegpt/src/notebook/universal-descrption-blip2v2.txt'}),\n",
       "  0.43749067187309265),\n",
       " (Document(page_content=\"Shifting gears, the video takes us to the movie ticket office, the go-to place for the latest movies and TV shows. However, we learn that Disneyland's 'Hogwarts Hall of Terror' and 'Hogwarts Express' are both permanently closed, adding a touch of nostalgia.\\n\\nThe scene transitions to three women standing in front of a wooden fence at the end of a building, exuding a sense of mystery. Two girls in blue dresses are then seen on a balcony, enjoying the view outside. \\n\\nThe video captures the lively atmosphere as four women dance on the balcony of a building, showcasing their talent and adding a vibrant touch to the surroundings. \\n\\nWe are then treated to a glimpse of three dancers performing on stage at the top of a building, mesmerizing the audience with their graceful moves.\", metadata={'source': '/Users/bpakra200/tubegpt/tubegpt/src/notebook/universal-descrption-blip2v2.txt'}),\n",
       "  0.47338375449180603)]"
      ]
     },
     "execution_count": 55,
     "metadata": {},
     "output_type": "execute_result"
    }
   ],
   "source": [
    "PERSIST_DIRECTORY_OPENAI = \"../tubegptvisionblip2db/\"\n",
    " \n",
    "tubegptvisionblip2db = Chroma.from_documents(\n",
    "    documents=texts, embedding= embeddings, persist_directory=PERSIST_DIRECTORY_OPENAI\n",
    ")\n",
    "tubegptvisionblip2db.similarity_search_with_score(\"What was weman were playing?\", k=2)"
   ]
  },
  {
   "cell_type": "code",
   "execution_count": 12,
   "metadata": {},
   "outputs": [],
   "source": [
    "\n",
    "tubegptvisiondb.persist()\n"
   ]
  },
  {
   "cell_type": "code",
   "execution_count": 33,
   "metadata": {},
   "outputs": [],
   "source": [
    "tubegptvisionlargedb.persist()"
   ]
  },
  {
   "cell_type": "code",
   "execution_count": 56,
   "metadata": {},
   "outputs": [],
   "source": [
    "tubegptvisionblip2db.persist()"
   ]
  },
  {
   "attachments": {},
   "cell_type": "markdown",
   "metadata": {},
   "source": [
    "## load Vectors from database"
   ]
  },
  {
   "cell_type": "code",
   "execution_count": 34,
   "metadata": {},
   "outputs": [
    {
     "name": "stderr",
     "output_type": "stream",
     "text": [
      "Number of requested results 2 is greater than number of elements in index 1, updating n_results = 1\n"
     ]
    },
    {
     "data": {
      "text/plain": [
       "[(Document(page_content='there is a stuffed santa claus doll on a wreath on the back of a truck\\nthere is a stuffed santa claus doll on a wreath on the back of a car\\nthere is a stuffed santa claus on a wreath on the back of a car\\nthere is a stuffed santa claus sitting on a wreath on the back of a car\\nthere is a stuffed santa claus sitting on a wreath on the back of a golf cart\\nthere is a stuffed santa claus on a wreath on the back of a golf cart\\nthere is a stuffed santa claus sitting on a wreath on the back of a truck\\nthere is a stuffed animal that is sitting on a wreath\\nthere is a wreath with a santa clause on it on the back of a car\\nthere is a stuffed animal in a wreath on the back of a car\\nthere is a stuffed santa claus on a wreath on the back of a truck\\nthere is a stuffed animal in a wreath on the back of a truck\\nthere is a stuffed santa claus sitting on a christmas wreath\\nthere is a stuffed santa claus doll sitting on a christmas wreath\\nthere is a stuffed animal that is sitting in a wreath\\nthere is a stuffed animal that is sitting on a blanket\\nthere is a stuffed santa claus sitting on a green wreath\\nthere is a stuffed santa claus sitting on a green blanket\\nthere is a stuffed animal that is sitting in the back of a truck\\nthere is a stuffed santa claus sitting on a christmas tree\\nthere is a stuffed animal that is sitting in the trunk of a car\\nthere is a stuffed animal in a car with a wreath\\nthere is a stuffed animal in a christmas wreath on the back of a truck\\nthere is a stuffed animal in the back of a car with a wreath\\nthere is a stuffed animal in a christmas wreath in the back of a car\\nthere is a stuffed santa claus sitting in a green car\\nthere is a stuffed santa claus sitting in a green truck\\nthere is a stuffed santa claus sitting in a wreath on the back of a car\\nthere is a stuffed santa claus sitting in the back of a car\\nthere is a stuffed santa claus sitting in the back of a truck\\nthere is a stuffed animal that is sitting on a car\\nthere is a stuffed monkey sitting on a christmas wreath on the back of a car\\nthere is a stuffed animal that is sitting on a golf cart\\nthere is a wreath with a santa clause on it on a golf cart\\nthere is a christmas wreath on the back of a car\\nthere is a stuffed snowman sitting on a green car with a wreath\\nthere is a santa clause sitting on a wreath on the back of a car\\nthere is a stuffed animal sitting on a christmas wreath on a golf cart\\nthere is a stuffed toy sitting on a golf cart with a wreath\\nthere is a stuffed santa claus on a golf cart with a wreath\\nthere is a stuffed snowman sitting on a green golf cart\\nthere is a stuffed snowman sitting on a christmas wreath\\nthere is a stuffed animal that is sitting on a christmas wreath\\nthere is a stuffed santa claus on a christmas wreath on a golf cart\\nthere is a stuffed santa claus on a christmas wreath on the back of a truck\\nthere is a christmas wreath with a santa clause on it\\nthere is a stuffed santa claus sitting on a golf cart\\nthere is a stuffed animal sitting on a wreath on the back of a golf cart\\nthere is a stuffed santa claus on a wreath on a green truck\\nthere is a stuffed animal that is on a wreath on the back of a car\\nthere is a stuffed animal that is laying on a wreath\\nthere is a stuffed animal in a wreath on a golf cart\\nthere is a stuffed animal in a wreath on the back of a golf cart\\nthere is a stuffed santa claus sitting in a wreath on the back of a truck\\nthere is a santa clause on a wreath on the back of a car\\nthere is a santa clause hanging on a wreath on the back of a car\\nthere is a stuffed santa claus on a wreath on a golf cart\\nthere is a stuffed santa claus sitting on a wreath on a golf cart\\nthere is a stuffed santa claus sitting in a wreath on the back of a golf cart\\nthere is a stuffed animal on a wreath on the back of a golf cart\\nthere is a stuffed animal on a golf cart with a wreath\\nthere is a wreath with a santa clause on it on the back of a golf cart\\nthere is a stuffed bear that is sitting on a wreath\\nthere is a stuffed animal on a wreath on the back of a truck\\nthere is a teddy bear sitting on a wreath on the back of a golf cart\\nthere is a stuffed bear in a wreath on the back of a golf cart\\nthere is a wreath on the back of a golf cart\\nthere is a christmas wreath on the back of a golf cart\\nthere is a teddy bear and a wreath on the back of a golf cart\\nthere is a dog standing next to a golf cart with a wreath on it\\nthere is a teddy bear sitting on a golf cart with a wreath\\nthere is a teddy bear sitting on a christmas wreath on a golf cart\\nthere is a small wreath on the back of a golf cart\\nthere is a dog that is standing next to a golf cart\\nthere is a golf cart with a wreath on it and a golf ball\\nthere is a golf cart with a christmas wreath on it\\nthere is a cat sitting on a golf cart with a wreath on it\\nthere is a dog that is sitting in a golf cart\\nthere is a black cat sitting on a golf cart with a wreath on it\\nthere is a dog sitting in a golf cart with a wreath on it\\nthere is a stuffed animal in a golf cart with a wreath on it\\nthere is a stuffed animal in a golf cart with a christmas wreath\\nthere is a stuffed animal in a golf cart with a santa clause on it\\nthere is a small stuffed animal sitting on a golf cart\\nthere is a dog that is standing in a golf cart\\nthere is a black dog sitting in a golf cart with a stuffed animal\\nthere is a dog sitting in a golf cart with a stuffed animal on it\\nthere is a green golf cart with a santa clause on it\\nthere is a dog sitting in a golf cart with a christmas decoration on it\\nthere is a black dog that is standing in a golf cart\\nthere is a cat that is standing on a golf cart\\nthere is a cat sitting on a golf cart with a christmas decoration on it\\nthere is a golf cart with a christmas decoration on it\\nthere is a green golf cart with a red and white decoration on it\\nthere is a cat that is standing next to a golf cart\\nthere is a cat sitting on a golf cart with a santa hat on\\nthere is a black cat standing next to a green golf cart\\nthere is a black cat standing next to a golf cart\\nthere is a cat sitting on a golf cart with a bag on it\\nthere is a cat sitting in a golf cart with a bag on it\\nthere is a black cat sitting in a golf cart with a santa hat on\\nthere is a dog sitting in a golf cart with a hat on\\nthere is a dog sitting in a golf cart with a santa hat on\\nthere is a golf cart with a santa clause on the back\\nthere is a green golf cart with a stuffed animal on it\\nthere is a golf cart with a stuffed animal on the back\\nthere is a green golf cart with a santa hat on it\\nthere is a golf cart with a santa clause on it\\nthere is a golf cart with santa claus on it parked in the driveway\\nthere is a green golf cart with a red rose on the back\\nthere is a green golf cart with a red and white flag on it\\nthere is a green golf cart with a red and white flower on it\\nthere is a green golf cart with a red and white hat on it\\nthere is a golf cart with a christmas decoration on the back\\nthere is a green golf cart with a santa clause on the back\\nthere is a green golf cart with a christmas decoration on it\\nthere is a green golf cart with a red and white bow on it\\nthere is a green golf cart with a red and white bag on it\\nthere is a green golf cart with a red hat on it\\nthere is a green golf cart with santa hats on it\\nthere is a green golf cart with a white seat and a red bow on the back\\nthere is a green golf cart with a dog on it\\nthere is a green golf cart with a white seat and a red hat\\nthere is a small green golf cart with a santa clause on top\\nthere is a golf cart with a golf ball on the back\\nthere is a golf cart with a person on it parked in the grass\\nthere is a man riding a golf cart with a surfboard on top\\nthere is a small green golf cart with a white seat\\nthere is a golf cart with a surfboard on top of it\\nthere are many people riding golf carts on the grass\\nthere are people playing golf on a golf course with carts\\nthere are many people on golf carts on the grass\\nthere is a golf cart that is parked on the grass\\nthere is a golf cart parked on the side of the road\\nthere is a man riding a golf cart on the grass\\nthere is a man that is standing on a golf cart\\nthere is a man that is playing golf in the grass\\nthere is a man that is playing golf on the grass\\nthere is a man that is standing in the grass with a golf club\\nthere are people playing golf on a green field with a cart\\nthere are people playing golf in the park on a sunny day\\nthere are people playing a game of golf in the park\\nthere are people playing frisbee in the park on a sunny day\\nseveral people playing a game of frisbee in a park\\nseveral people playing a game of golf in a park\\nseveral people playing frisbee in a park with a golf cart\\nthere are people playing a game of frisbee in the park\\nthere are people playing frisbee in a grassy field\\nthere are people playing frisbee in a park with golf carts\\nthere are two people playing frisbee in the park on the grass\\nseveral people playing golf in a park with carts and golf carts\\nseveral people playing golf in a grassy area with carts\\nseveral people playing a game of golf in a park with carts\\nseveral people are playing golf in a grassy field with carts\\nseveral people are playing a game of golf in a park\\nseveral people playing a game of golf in a grassy field\\nseveral people are playing frisbee in a grassy field\\nseveral people playing a game of frisbee in a grassy field\\nseveral people playing frisbee in a grassy field with a golf cart\\nseveral people playing frisbee in a grassy field with golf carts\\nthere are people playing frisbee in a park with many carts\\nthere are two people playing frisbee in the grass on the golf course\\nthere are two people playing frisbee in the grass on the field\\nthere are two people playing a game of golf on the grass\\nthere are two people playing golf on a green field\\nseveral people playing golf in a grassy field with a golf cart\\nseveral people playing golf in a park with a golf cart\\nseveral people playing golf on a green field with a golf cart\\nseveral people playing golf on a green field with trees in the background\\nseveral people playing golf on a green field with carts\\nseveral people are playing golf on a green field with a golf cart\\nseveral people playing golf on a golf course with a cart in the background\\nseveral people playing golf on a sunny day in the park\\nseveral people are playing golf on a green field with trees in the background\\nseveral people are playing golf in a grassy field with trees\\nseveral people are playing golf on a green field with trees\\nthere are two people playing a game of golf in the grass\\nthey are playing frisbee in the park on a sunny day\\nthere are two people playing frisbee in the park together\\nthere are two boys playing golf on a green field\\nthere are two people playing golf in the grass on a sunny day\\nthere are two people playing a game of frisbee in the park\\nthere are two boys playing golf in the grass with a frisbee\\nthere are two people playing a game of golf in the park\\nthere are two men playing golf on a green field\\nthere are two people playing frisbee in the grass\\nthey are playing golf on the green grass in the park\\nthere are two people playing frisbee in the park on a sunny day\\nthere are two people playing golf in the grass together\\nseveral people are playing a game of frisbee in a park\\nthere are three people playing golf on a green field\\nthere are two people playing golf in the grass with a dog\\nseveral people are playing a game of golf in a grassy field\\nseveral people playing a game of golf on a sunny day\\nseveral people are playing a game of golf on a sunny day\\nseveral people are playing a game of golf on a green field\\nseveral people playing frisbee in a park with golf carts\\nseveral people are playing golf in a grassy field with a golf cart\\nseveral people playing golf on a green field with a cart\\nthere are two people playing frisbee in the park with a golf cart\\nthere are two people playing a game of golf on the green\\nthere are two people playing golf in the grass with a golf cart\\n', metadata={'source': '/Users/bpakra200/tubegpt/tubegpt/src/notebook/list-bliplarge.txt'}),\n",
       "  0.4561895430088043)]"
      ]
     },
     "execution_count": 34,
     "metadata": {},
     "output_type": "execute_result"
    }
   ],
   "source": [
    "PERSIST_DIRECTORY_OPENAI =  \"../tubegptvisionlargedb\"\n",
    "embeddings = OpenAIEmbeddings()\n",
    "tubegptvisionlargedb = Chroma(persist_directory=PERSIST_DIRECTORY_OPENAI, embedding_function=embeddings)\n",
    "tubegptvisionlargedb.similarity_search_with_score(\"are they playing golf\", k=2)"
   ]
  },
  {
   "cell_type": "code",
   "execution_count": null,
   "metadata": {},
   "outputs": [],
   "source": [
    "PERSIST_DIRECTORY_OPENAI =  \"../tubegptvisiondb/\"\n",
    "embeddings = OpenAIEmbeddings()\n",
    "tubegptvisiondb = Chroma(persist_directory=PERSIST_DIRECTORY_OPENAI, embedding_function=embeddings)\n",
    "tubegptvisiondb.similarity_search_with_score(\"are they playing golf\", k=2)"
   ]
  },
  {
   "cell_type": "code",
   "execution_count": 57,
   "metadata": {},
   "outputs": [
    {
     "data": {
      "text/plain": [
       "[(Document(page_content='As we explore further, we spot a small red plastic car with a vibrant red and orange top, adding a touch of playfulness to the scene. The orange and yellow dinosaur sculpture, perched atop a tree in Disneyland, captures our imagination and reminds us of the wonders that await.\\n\\nFinally, we are in awe of a giant statue of a person standing atop the world, symbolizing the grandeur and scale of the amusement park experience.\\n\\nJoin us on this incredible journey as we immerse ourselves in the magical world of amusement parks, filled with laughter, excitement, and unforgettable memories.\\nTitle: \"Exploring the Thrills and Wonders of Theme Parks and Children\\'s Books\"\\n\\nFull Description: \\nIn this captivating video, we embark on a journey through the exhilarating world of theme parks and the enchanting realm of children\\'s books. The adventure begins with a breathtaking view of a giant statue perched atop the world, symbolizing the grandeur and awe-inspiring nature of these amusement havens.', metadata={'source': '/Users/bpakra200/tubegpt/tubegpt/src/notebook/universal-descrption-blip2v2.txt'}),\n",
       "  0.49625861644744873),\n",
       " (Document(page_content='Join us on this incredible journey as we explore the magic and excitement of The Simpsons at Disneyland and Universal Studios. Get ready for an unforgettable adventure filled with laughter, thrills, and cherished memories.\\nTitle: \"Exploring the Magical World of Amusement Parks\"\\n\\nFull Description: \\nIn this captivating video, we embark on a journey through various amusement parks and attractions. The adventure begins with a large sign featuring colorful cartoon characters, signaling the entrance to an amusement park. As we approach, we are greeted by a sign that proudly announces the Kid Zone, a designated area for children to enjoy.\\n\\nNext, we enter Wendy\\'s KidZone, a vibrant and exciting play area where children can unleash their imagination and have a blast. The camera then pans to a welcoming sign for the Mouseketeers, inviting them to join in the fun on a sidewalk.', metadata={'source': '/Users/bpakra200/tubegpt/tubegpt/src/notebook/universal-descrption-blip2v2.txt'}),\n",
       "  0.49794507026672363)]"
      ]
     },
     "execution_count": 57,
     "metadata": {},
     "output_type": "execute_result"
    }
   ],
   "source": [
    "PERSIST_DIRECTORY_OPENAI =  \"../tubegptvisionblip2db/\"\n",
    "embeddings = OpenAIEmbeddings()\n",
    "tubegptvisionblip2db = Chroma(persist_directory=PERSIST_DIRECTORY_OPENAI, embedding_function=embeddings)\n",
    "tubegptvisionblip2db.similarity_search_with_score(\"what were the park name\", k=2)"
   ]
  },
  {
   "attachments": {},
   "cell_type": "markdown",
   "metadata": {},
   "source": [
    "## Create a prompt Templete"
   ]
  },
  {
   "cell_type": "code",
   "execution_count": 3,
   "metadata": {},
   "outputs": [
    {
     "ename": "NameError",
     "evalue": "name 'PromptTemplate' is not defined",
     "output_type": "error",
     "traceback": [
      "\u001b[0;31m---------------------------------------------------------------------------\u001b[0m",
      "\u001b[0;31mNameError\u001b[0m                                 Traceback (most recent call last)",
      "Cell \u001b[0;32mIn[3], line 10\u001b[0m\n\u001b[1;32m      1\u001b[0m template \u001b[39m=\u001b[39m \u001b[39m\"\"\"\u001b[39m\u001b[39mYou\u001b[39m\u001b[39m'\u001b[39m\u001b[39mre a Helper of poor vision person who needs help to understand a video content .\u001b[39m\n\u001b[1;32m      2\u001b[0m \u001b[39m \u001b[39m\n\u001b[1;32m      3\u001b[0m \u001b[39m{context}\u001b[39;00m\n\u001b[0;32m   (...)\u001b[0m\n\u001b[1;32m      7\u001b[0m \u001b[39mQuestion: \u001b[39m\u001b[39m{question}\u001b[39;00m\n\u001b[1;32m      8\u001b[0m \u001b[39mAnswer:\u001b[39m\u001b[39m\"\"\"\u001b[39m\n\u001b[0;32m---> 10\u001b[0m prompt \u001b[39m=\u001b[39m PromptTemplate(template\u001b[39m=\u001b[39mtemplate, input_variables\u001b[39m=\u001b[39m[\u001b[39m\"\u001b[39m\u001b[39mcontext\u001b[39m\u001b[39m\"\u001b[39m, \u001b[39m\"\u001b[39m\u001b[39mquestion\u001b[39m\u001b[39m\"\u001b[39m])\n\u001b[1;32m     11\u001b[0m \u001b[39mprint\u001b[39m(\n\u001b[1;32m     12\u001b[0m     prompt\u001b[39m.\u001b[39mformat(\n\u001b[1;32m     13\u001b[0m         context\u001b[39m=\u001b[39m\u001b[39m\"\u001b[39m\u001b[39mA youtube user asking about contents \u001b[39m\u001b[39m\"\u001b[39m,\n\u001b[1;32m     14\u001b[0m         question\u001b[39m=\u001b[39m\u001b[39m\"\u001b[39m\u001b[39mWhy do we need to zero out the gradient before backprop at each step?\u001b[39m\u001b[39m\"\u001b[39m,\n\u001b[1;32m     15\u001b[0m     )\n\u001b[1;32m     16\u001b[0m )\n",
      "\u001b[0;31mNameError\u001b[0m: name 'PromptTemplate' is not defined"
     ]
    }
   ],
   "source": [
    "template = \"\"\"You're a Helper of poor vision person who needs help to understand a video content .\n",
    " \n",
    "{context}\n",
    " \n",
    "Answer with Accurate data   to the question and the way Helper of  poor vision person speaks and only depends on provided Data. \n",
    " \n",
    "Question: {question}\n",
    "Answer:\"\"\"\n",
    " \n",
    "prompt = PromptTemplate(template=template, input_variables=[\"context\", \"question\"])\n",
    "print(\n",
    "    prompt.format(\n",
    "        context=\"A youtube user asking about contents \",\n",
    "        question=\"Why do we need to zero out the gradient before backprop at each step?\",\n",
    "    )\n",
    ")"
   ]
  },
  {
   "attachments": {},
   "cell_type": "markdown",
   "metadata": {},
   "source": [
    "## Create Retriver and Reader from caption Data for base model"
   ]
  },
  {
   "cell_type": "code",
   "execution_count": 18,
   "metadata": {},
   "outputs": [],
   "source": [
    "chain_type_kwargs = {\"prompt\": prompt}\n",
    "chain = RetrievalQA.from_chain_type(\n",
    "    llm=ChatOpenAI(temperature=.4),\n",
    "    chain_type=\"stuff\",\n",
    "    retriever=tubegptvisiondb.as_retriever(search_kwargs={\"k\": 1}),\n",
    "    chain_type_kwargs=chain_type_kwargs,\n",
    ")"
   ]
  },
  {
   "attachments": {},
   "cell_type": "markdown",
   "metadata": {},
   "source": [
    "## Create Retriver and Reader from caption Data for large captioning model"
   ]
  },
  {
   "cell_type": "code",
   "execution_count": 35,
   "metadata": {},
   "outputs": [],
   "source": [
    "chain_type_kwargs = {\"prompt\": prompt}\n",
    "chainlarge = RetrievalQA.from_chain_type(\n",
    "    llm=ChatOpenAI(temperature=.4),\n",
    "    chain_type=\"stuff\",\n",
    "    retriever=tubegptvisionlargedb.as_retriever(search_kwargs={\"k\": 1}),\n",
    "    chain_type_kwargs=chain_type_kwargs,\n",
    ")"
   ]
  },
  {
   "cell_type": "code",
   "execution_count": 2,
   "metadata": {},
   "outputs": [
    {
     "ename": "NameError",
     "evalue": "name 'prompt' is not defined",
     "output_type": "error",
     "traceback": [
      "\u001b[0;31m---------------------------------------------------------------------------\u001b[0m",
      "\u001b[0;31mNameError\u001b[0m                                 Traceback (most recent call last)",
      "Cell \u001b[0;32mIn[2], line 1\u001b[0m\n\u001b[0;32m----> 1\u001b[0m chain_type_kwargs \u001b[39m=\u001b[39m {\u001b[39m\"\u001b[39m\u001b[39mprompt\u001b[39m\u001b[39m\"\u001b[39m: prompt}\n\u001b[1;32m      2\u001b[0m chainlargeblip2 \u001b[39m=\u001b[39m RetrievalQA\u001b[39m.\u001b[39mfrom_chain_type(\n\u001b[1;32m      3\u001b[0m     llm\u001b[39m=\u001b[39mChatOpenAI(temperature\u001b[39m=\u001b[39m\u001b[39m.4\u001b[39m),\n\u001b[1;32m      4\u001b[0m     chain_type\u001b[39m=\u001b[39m\u001b[39m\"\u001b[39m\u001b[39mstuff\u001b[39m\u001b[39m\"\u001b[39m,\n\u001b[1;32m      5\u001b[0m     retriever\u001b[39m=\u001b[39mtubegptvisionblip2db\u001b[39m.\u001b[39mas_retriever(search_kwargs\u001b[39m=\u001b[39m{\u001b[39m\"\u001b[39m\u001b[39mk\u001b[39m\u001b[39m\"\u001b[39m: \u001b[39m1\u001b[39m}),\n\u001b[1;32m      6\u001b[0m     chain_type_kwargs\u001b[39m=\u001b[39mchain_type_kwargs,\n\u001b[1;32m      7\u001b[0m )\n",
      "\u001b[0;31mNameError\u001b[0m: name 'prompt' is not defined"
     ]
    }
   ],
   "source": [
    "chain_type_kwargs = {\"prompt\": prompt}\n",
    "chainlargeblip2 = RetrievalQA.from_chain_type(\n",
    "    llm=ChatOpenAI(temperature=.4),\n",
    "    chain_type=\"stuff\",\n",
    "    retriever=tubegptvisionblip2db.as_retriever(search_kwargs={\"k\": 1}),\n",
    "    chain_type_kwargs=chain_type_kwargs,\n",
    ")"
   ]
  },
  {
   "attachments": {},
   "cell_type": "markdown",
   "metadata": {},
   "source": [
    "## Asking questions on Video"
   ]
  },
  {
   "cell_type": "code",
   "execution_count": 52,
   "metadata": {},
   "outputs": [
    {
     "ename": "NameError",
     "evalue": "name 'chain' is not defined",
     "output_type": "error",
     "traceback": [
      "\u001b[0;31m---------------------------------------------------------------------------\u001b[0m",
      "\u001b[0;31mNameError\u001b[0m                                 Traceback (most recent call last)",
      "Cell \u001b[0;32mIn[52], line 2\u001b[0m\n\u001b[1;32m      1\u001b[0m query \u001b[39m=\u001b[39m \u001b[39m\"\u001b[39m\u001b[39mWhat was the park name\u001b[39m\u001b[39m\"\u001b[39m\n\u001b[0;32m----> 2\u001b[0m response \u001b[39m=\u001b[39m chain\u001b[39m.\u001b[39mrun(query)\n\u001b[1;32m      3\u001b[0m print_response(response)\n",
      "\u001b[0;31mNameError\u001b[0m: name 'chain' is not defined"
     ]
    }
   ],
   "source": [
    "query = \"What was the park name\"\n",
    "response = chain.run(query)\n",
    "print_response(response)"
   ]
  },
  {
   "cell_type": "code",
   "execution_count": 103,
   "metadata": {},
   "outputs": [
    {
     "name": "stdout",
     "output_type": "stream",
     "text": [
      "The game they are playing is golf.\n"
     ]
    }
   ],
   "source": [
    "query = \"What was game they are playing\"\n",
    "response = chainlarge.run(query)\n",
    "print_response(response)"
   ]
  },
  {
   "cell_type": "code",
   "execution_count": 22,
   "metadata": {},
   "outputs": [
    {
     "name": "stdout",
     "output_type": "stream",
     "text": [
      "Based on the provided data, there is no information about two ladies putting their hands above their\n",
      "eyes while staring out.\n"
     ]
    }
   ],
   "source": [
    "query = \"Why did the two ladies put their hands above their eyes while staring out?\"\n",
    "response = chain.run(query)\n",
    "print_response(response)"
   ]
  },
  {
   "cell_type": "code",
   "execution_count": 115,
   "metadata": {},
   "outputs": [
    {
     "name": "stdout",
     "output_type": "stream",
     "text": [
      "I'm sorry, but based on the provided data, there is no information about two ladies putting their\n",
      "hands above their eyes while staring out.\n"
     ]
    }
   ],
   "source": [
    "query = \"Why did the two ladies put their hands above their eyes while staring out?\"\n",
    "response = chainlarge.run(query)\n",
    "print_response(response)"
   ]
  },
  {
   "cell_type": "code",
   "execution_count": 104,
   "metadata": {},
   "outputs": [
    {
     "name": "stdout",
     "output_type": "stream",
     "text": [
      "The color of the golf cart is green.\n"
     ]
    }
   ],
   "source": [
    "query = \"what was the color of golf cart?\"\n",
    "response = chainlarge.run(query)\n",
    "print_response(response)"
   ]
  },
  {
   "cell_type": "code",
   "execution_count": 105,
   "metadata": {},
   "outputs": [
    {
     "name": "stdout",
     "output_type": "stream",
     "text": [
      "The color of the golf cart was green.\n"
     ]
    }
   ],
   "source": [
    "query = \"what was the color of golf cart?\"\n",
    "response = chain.run(query)\n",
    "print_response(response)"
   ]
  },
  {
   "cell_type": "code",
   "execution_count": 40,
   "metadata": {},
   "outputs": [
    {
     "name": "stdout",
     "output_type": "stream",
     "text": [
      "I apologize, but the provided data does not mention anything about the color of the pants people are\n",
      "wearing.\n"
     ]
    }
   ],
   "source": [
    "query = \"what the color of the pant people wearing?\"\n",
    "response = chain.run(query)\n",
    "print_response(response)"
   ]
  },
  {
   "cell_type": "code",
   "execution_count": 41,
   "metadata": {},
   "outputs": [
    {
     "name": "stdout",
     "output_type": "stream",
     "text": [
      "I'm sorry, but the provided data does not mention anything about the color of the pants people are\n",
      "wearing.\n"
     ]
    }
   ],
   "source": [
    "query = \"what the color of the pant people wearing?\"\n",
    "response = chainlarge.run(query)\n",
    "print_response(response)"
   ]
  },
  {
   "cell_type": "code",
   "execution_count": 42,
   "metadata": {},
   "outputs": [
    {
     "name": "stdout",
     "output_type": "stream",
     "text": [
      "There are several people playing in the given video content.\n"
     ]
    }
   ],
   "source": [
    "query = \"how many people playing?\"\n",
    "response = chainlarge.run(query)\n",
    "print_response(response)"
   ]
  },
  {
   "cell_type": "code",
   "execution_count": 110,
   "metadata": {},
   "outputs": [
    {
     "name": "stdout",
     "output_type": "stream",
     "text": [
      "The provided data does not include any information about the number on the golf cart.\n"
     ]
    }
   ],
   "source": [
    "query = \"what is the number on golf cart?\"\n",
    "response = chainlarge.run(query)\n",
    "print_response(response)"
   ]
  },
  {
   "cell_type": "code",
   "execution_count": 107,
   "metadata": {},
   "outputs": [
    {
     "name": "stdout",
     "output_type": "stream",
     "text": [
      "Based on the provided data, there is no information about the weather or whether it was a sunny day.\n"
     ]
    }
   ],
   "source": [
    "query = \"Can you let me know if it was a sunny day?\"\n",
    "response = chainlarge.run(query)\n",
    "print_response(response)"
   ]
  },
  {
   "cell_type": "code",
   "execution_count": 109,
   "metadata": {},
   "outputs": [
    {
     "name": "stdout",
     "output_type": "stream",
     "text": [
      "The golf cart is green in color and has a wreath on the back. It may also have a stuffed animal or a\n",
      "Christmas decoration on it.\n"
     ]
    }
   ],
   "source": [
    "query = \"Can you describe the golf cart?\"\n",
    "response = chainlarge.run(query)\n",
    "print_response(response)"
   ]
  },
  {
   "cell_type": "code",
   "execution_count": 111,
   "metadata": {},
   "outputs": [
    {
     "name": "stdout",
     "output_type": "stream",
     "text": [
      "Based on the provided data, the background appears to be a park or a grassy field. People are\n",
      "playing various activities such as golf or frisbee. There are also golf carts present in the\n",
      "background. The weather seems to be sunny.\n"
     ]
    }
   ],
   "source": [
    "query = \"Can you describe the background?\"\n",
    "response = chainlarge.run(query)\n",
    "print_response(response)"
   ]
  },
  {
   "cell_type": "code",
   "execution_count": 114,
   "metadata": {},
   "outputs": [
    {
     "name": "stdout",
     "output_type": "stream",
     "text": [
      "Based on the provided data, there is no information about the weather conditions during the game.\n"
     ]
    }
   ],
   "source": [
    "query = \"Is it sunny during the game ?\"\n",
    "response = chainlarge.run(query)\n",
    "print_response(response)"
   ]
  },
  {
   "cell_type": "code",
   "execution_count": 7,
   "metadata": {},
   "outputs": [
    {
     "ename": "NameError",
     "evalue": "name 'chainlargeblip2' is not defined",
     "output_type": "error",
     "traceback": [
      "\u001b[0;31m---------------------------------------------------------------------------\u001b[0m",
      "\u001b[0;31mNameError\u001b[0m                                 Traceback (most recent call last)",
      "Cell \u001b[0;32mIn[7], line 2\u001b[0m\n\u001b[1;32m      1\u001b[0m query \u001b[39m=\u001b[39m \u001b[39m\"\u001b[39m\u001b[39mwhat was the park name?\u001b[39m\u001b[39m\"\u001b[39m\n\u001b[0;32m----> 2\u001b[0m response \u001b[39m=\u001b[39m chainlargeblip2\u001b[39m.\u001b[39mrun(query)\n\u001b[1;32m      3\u001b[0m print_response(response)\n",
      "\u001b[0;31mNameError\u001b[0m: name 'chainlargeblip2' is not defined"
     ]
    }
   ],
   "source": [
    "\n",
    "\n",
    "query = \"what was the park name?\"\n",
    "response = chainlargeblip2.run(query)\n",
    "print_response(response)"
   ]
  },
  {
   "cell_type": "code",
   "execution_count": null,
   "metadata": {},
   "outputs": [],
   "source": []
  }
 ],
 "metadata": {
  "kernelspec": {
   "display_name": "newl1gpt",
   "language": "python",
   "name": "python3"
  },
  "language_info": {
   "codemirror_mode": {
    "name": "ipython",
    "version": 3
   },
   "file_extension": ".py",
   "mimetype": "text/x-python",
   "name": "python",
   "nbconvert_exporter": "python",
   "pygments_lexer": "ipython3",
   "version": "3.11.4"
  },
  "orig_nbformat": 4
 },
 "nbformat": 4,
 "nbformat_minor": 2
}
