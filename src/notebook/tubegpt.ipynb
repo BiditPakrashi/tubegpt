{
 "cells": [
  {
   "cell_type": "code",
   "execution_count": 1,
   "metadata": {},
   "outputs": [
    {
     "name": "stdout",
     "output_type": "stream",
     "text": [
      "\u001b[33mWARNING: You are using pip version 22.0.4; however, version 23.1.2 is available.\n",
      "You should consider upgrading via the '/Users/bpakra200/tubegpt/gptenv/bin/python3 -m pip install --upgrade pip' command.\u001b[0m\u001b[33m\n",
      "\u001b[0m"
     ]
    }
   ],
   "source": [
    "!pip install git+https://github.com/openai/whisper.git -q"
   ]
  },
  {
   "cell_type": "code",
   "execution_count": 33,
   "metadata": {},
   "outputs": [
    {
     "name": "stdout",
     "output_type": "stream",
     "text": [
      "Collecting git+https://github.com/ytdl-org/youtube-dl.git\n",
      "  Cloning https://github.com/ytdl-org/youtube-dl.git to /private/var/folders/2h/dwgxsn2s7k76kf3hl_8gpkz40000gp/T/pip-req-build-mc0rebr6\n",
      "  Running command git clone --filter=blob:none --quiet https://github.com/ytdl-org/youtube-dl.git /private/var/folders/2h/dwgxsn2s7k76kf3hl_8gpkz40000gp/T/pip-req-build-mc0rebr6\n",
      "  Resolved https://github.com/ytdl-org/youtube-dl.git to commit 211cbfd5d46025a8e4d8f9f3d424aaada4698974\n",
      "  Preparing metadata (setup.py) ... \u001b[?25ldone\n",
      "\u001b[?25hUsing legacy 'setup.py install' for youtube-dl, since package 'wheel' is not installed.\n",
      "Installing collected packages: youtube-dl\n",
      "  Attempting uninstall: youtube-dl\n",
      "    Found existing installation: youtube-dl 2021.12.17\n",
      "    Uninstalling youtube-dl-2021.12.17:\n",
      "      Successfully uninstalled youtube-dl-2021.12.17\n",
      "  Running setup.py install for youtube-dl ... \u001b[?25ldone\n",
      "\u001b[?25hSuccessfully installed youtube-dl-2021.12.17\n",
      "\u001b[33mWARNING: You are using pip version 22.0.4; however, version 23.1.2 is available.\n",
      "You should consider upgrading via the '/Users/bpakra200/tubegpt/gptenv/bin/python3 -m pip install --upgrade pip' command.\u001b[0m\u001b[33m\n",
      "\u001b[0m"
     ]
    }
   ],
   "source": [
    "!pip install --upgrade --force-reinstall \"git+https://github.com/ytdl-org/youtube-dl.git\""
   ]
  },
  {
   "cell_type": "code",
   "execution_count": 27,
   "metadata": {},
   "outputs": [
    {
     "name": "stdout",
     "output_type": "stream",
     "text": [
      "Collecting pydub\n",
      "  Downloading pydub-0.25.1-py2.py3-none-any.whl (32 kB)\n",
      "Installing collected packages: pydub\n",
      "Successfully installed pydub-0.25.1\n",
      "\u001b[33mWARNING: You are using pip version 22.0.4; however, version 23.1.2 is available.\n",
      "You should consider upgrading via the '/Users/bpakra200/tubegpt/gptenv/bin/python3 -m pip install --upgrade pip' command.\u001b[0m\u001b[33m\n",
      "\u001b[0m"
     ]
    }
   ],
   "source": [
    "!pip install pydub"
   ]
  },
  {
   "cell_type": "code",
   "execution_count": 1,
   "metadata": {},
   "outputs": [],
   "source": [
    "\n",
    "import whisper"
   ]
  },
  {
   "cell_type": "code",
   "execution_count": 2,
   "metadata": {},
   "outputs": [],
   "source": [
    "\n",
    "model = whisper.load_model('base')"
   ]
  },
  {
   "cell_type": "code",
   "execution_count": 3,
   "metadata": {},
   "outputs": [
    {
     "name": "stderr",
     "output_type": "stream",
     "text": [
      "/Users/bpakra200/tubegpt/gptenv/lib/python3.9/site-packages/pydub/utils.py:170: RuntimeWarning: Couldn't find ffmpeg or avconv - defaulting to ffmpeg, but may not work\n",
      "  warn(\"Couldn't find ffmpeg or avconv - defaulting to ffmpeg, but may not work\", RuntimeWarning)\n"
     ]
    }
   ],
   "source": [
    "import youtube_dl # client to download from many multimedia portals\n",
    "import glob # directory operations\n",
    "import os # interface to os-provided info on files\n",
    "import sys # interface to command line\n",
    "from pydub import AudioSegment # only audio operations\n",
    "\n",
    "def newest_mp3_filename():\n",
    "    # lists all mp3s in local directory\n",
    "    list_of_mp3s = glob.glob('./*.mp3')\n",
    "    # returns mp3 with highest timestamp value\n",
    "    return max(list_of_mp3s, key = os.path.getctime)\n",
    "\n",
    "def get_video_time_in_ms(video_timestamp):\n",
    "    vt_split = video_timestamp.split(\":\")\n",
    "    if (len(vt_split) == 3): # if in HH:MM:SS format\n",
    "        hours = int(vt_split[0]) * 60 * 60 * 1000\n",
    "        minutes = int(vt_split[1]) * 60 * 1000\n",
    "        seconds = int(vt_split[2]) * 1000\n",
    "    else: # MM:SS format\n",
    "        hours = 0\n",
    "        minutes = int(vt_split[0]) * 60 * 1000\n",
    "        seconds = int(vt_split[1]) * 1000\n",
    "    # time point in miliseconds\n",
    "    return hours + minutes + seconds\n",
    "\n",
    "def get_trimmed(mp3_filename, initial, final = \"\"):\n",
    "    if (not mp3_filename):\n",
    "        # raise an error to immediately halt program execution\n",
    "        raise Exception(\"No MP3 found in local directory.\")\n",
    "    # reads mp3 as a PyDub object\n",
    "    sound = AudioSegment.from_mp3(mp3_filename)\n",
    "    t0 = get_video_time_in_ms(initial)\n",
    "    print(\"Beginning trimming process for file \", mp3_filename, \".\\n\")\n",
    "    print(\"Starting from \", initial, \"...\")\n",
    "    if (len(final) > 0):\n",
    "        print(\"...up to \", final, \".\\n\")\n",
    "        t1 = get_video_time_in_ms(final)\n",
    "        return sound[t0:t1] # t0 up to t1\n",
    "    return sound[t0:] # t0 up to the end\n",
    "\n",
    "\n",
    "\n",
    "# downloads yt_url to the same directory from which the script runs\n",
    "def download_audio(yt_url):\n",
    "    ydl_opts = {\n",
    "        'format': 'bestaudio/best',\n",
    "        'postprocessors': [{\n",
    "            'key': 'FFmpegExtractAudio',\n",
    "            'preferredcodec': 'mp3',\n",
    "            'preferredquality': '192',\n",
    "        }],\n",
    "    }\n",
    "    with youtube_dl.YoutubeDL(ydl_opts) as ydl:\n",
    "        ydl.download([yt_url])\n",
    "\n",
    "def main(yt_url,initial,final):\n",
    "    download_audio(yt_url)\n",
    "    filename = newest_mp3_filename()\n",
    "    trimmed_file = get_trimmed(filename, initial, final)\n",
    "    trimmed_filename = \"\".join([filename.split(\".mp3\")[0], \"- TRIM.mp3\"])\n",
    "    print(\"Process concluded successfully. Saving trimmed file as \", trimmed_filename)\n",
    "    # saves file with newer filename\n",
    "    trimmed_file.export(trimmed_filename, format=\"mp3\")\n",
    "\n",
    "# example usage:\n",
    "# python ytauddown.py https://www.youtube.com/watch?v=8OAPLk20epo 9:51 14:04\n"
   ]
  },
  {
   "cell_type": "code",
   "execution_count": 11,
   "metadata": {},
   "outputs": [
    {
     "name": "stdout",
     "output_type": "stream",
     "text": [
      "[youtube] 6RClsEZuXtE: Downloading webpage\n",
      "[youtube] 6RClsEZuXtE: Downloading MPD manifest\n",
      "[dashsegments] Total fragments: 1\n",
      "[download] Destination: FOOD DELIVERY. ORDERING FAST FOOD.-6RClsEZuXtE.m4a\n",
      "[download] 100% of 1.93MiB in 00:00.95MiB/s ETA 00:002\n",
      "[ffmpeg] Correcting container in \"FOOD DELIVERY. ORDERING FAST FOOD.-6RClsEZuXtE.m4a\"\n",
      "[ffmpeg] Destination: FOOD DELIVERY. ORDERING FAST FOOD.-6RClsEZuXtE.mp3\n",
      "Deleting original file FOOD DELIVERY. ORDERING FAST FOOD.-6RClsEZuXtE.m4a (pass -k to keep)\n",
      "Beginning trimming process for file  ./FOOD DELIVERY. ORDERING FAST FOOD.-6RClsEZuXtE.mp3 .\n",
      "\n",
      "Starting from  0:01 ...\n",
      "...up to  1:51 .\n",
      "\n",
      "Process concluded successfully. Saving trimmed file as  ./FOOD DELIVERY. ORDERING FAST FOOD.-6RClsEZuXtE- TRIM.mp3\n"
     ]
    }
   ],
   "source": [
    "main('https://www.youtube.com/watch?v=6RClsEZuXtE' , '0:01' ,'1:51')"
   ]
  },
  {
   "cell_type": "code",
   "execution_count": 12,
   "metadata": {},
   "outputs": [
    {
     "name": "stdout",
     "output_type": "stream",
     "text": [
      "started at 2023-05-01 21:57:24.043952\n"
     ]
    },
    {
     "name": "stderr",
     "output_type": "stream",
     "text": [
      "/Users/bpakra200/tubegpt/gptenv/lib/python3.9/site-packages/whisper/transcribe.py:114: UserWarning: FP16 is not supported on CPU; using FP32 instead\n",
      "  warnings.warn(\"FP16 is not supported on CPU; using FP32 instead\")\n"
     ]
    },
    {
     "name": "stdout",
     "output_type": "stream",
     "text": [
      "ended at 2023-05-01 21:57:32.771477\n",
      "time elapsed: 0:00:08.727525\n"
     ]
    }
   ],
   "source": [
    "\n",
    "import datetime\n",
    "\n",
    "# save a timestamp before transcription\n",
    "t1 = datetime.datetime.now()\n",
    "print(f\"started at {t1}\")\n",
    "\n",
    "# do the transcription\n",
    "output = model.transcribe(\"./FOOD DELIVERY. ORDERING FAST FOOD.-6RClsEZuXtE- TRIM.mp3\")\n",
    "\n",
    "# show time elapsed after transcription is complete.\n",
    "t2 = datetime.datetime.now()\n",
    "print(f\"ended at {t2}\")\n",
    "print(f\"time elapsed: {t2 - t1}\")"
   ]
  },
  {
   "cell_type": "code",
   "execution_count": 13,
   "metadata": {},
   "outputs": [
    {
     "data": {
      "text/plain": [
       "\" Good morning, I'm Burger Delivery. How can I help you? Hi, I'd like to order food please. Pick up or delivery? Delivery. Okay, what would you like to order? Could I have one combo number six and four salads and three pizzas please? What dressing would you like? Rinse dressing and could you send some extra chili sauce please? Sure, would you like any drinks? We have a big assortment of soft drinks. No, thanks. Okay, anything else? No, thanks. That's all. Thank you, what's your address please? 25 green street apartment five. My buzzer code is 147. Okay, thank you. Can I have your name and phone number as well? My name is Dasha. My mobile is 555-7364. Thank you Dasha. How are you paying? What ways of payment are available? Typical payment methods include cash, checks, credit or debit cards, money orders, bank transfers and online payment services such as PayPal. What type of payment do you prefer? In cash. How much will it be? 50 dollars. You can pay your order cash to directly courier on delivery. Okay. How long will it take to deliver? Your order will be delivered within 10 minutes. Is it convenient for you? Well, is it possible to deliver the order by 6 p.m.? No problem. Great. Thank you. Please make sure the phone number is 5.\""
      ]
     },
     "execution_count": 13,
     "metadata": {},
     "output_type": "execute_result"
    }
   ],
   "source": [
    "output['text']"
   ]
  },
  {
   "cell_type": "code",
   "execution_count": null,
   "metadata": {},
   "outputs": [],
   "source": []
  },
  {
   "cell_type": "code",
   "execution_count": 2,
   "metadata": {},
   "outputs": [],
   "source": [
    "import torch\n",
    "import torchvision.transforms as transforms\n",
    "import cv2\n",
    "from PIL import Image\n",
    "import pafy\n",
    "from transformers import BlipProcessor, BlipForConditionalGeneration\n",
    "import youtube_dl\n",
    "\n",
    "model_id = \"Salesforce/blip-image-captioning-base\""
   ]
  },
  {
   "cell_type": "code",
   "execution_count": 4,
   "metadata": {},
   "outputs": [],
   "source": [
    "from langchain.llms import OpenAI\n",
    "from langchain.chat_models import ChatOpenAI\n",
    "from langchain.chains import LLMChain\n",
    "from langchain.prompts import PromptTemplate\n",
    "from langchain.chains import SimpleSequentialChain\n",
    "from langchain.chains.api.prompt import API_RESPONSE_PROMPT\n",
    "from langchain.chains import APIChain\n",
    "from langchain.prompts.prompt import PromptTemplate\n",
    "from langchain.agents.agent_toolkits import create_python_agent\n",
    "from langchain.agents import load_tools, initialize_agent\n",
    "from langchain.agents import AgentType\n",
    "from langchain.tools.python.tool import PythonREPLTool\n",
    "from langchain.python import PythonREPL\n",
    "from langchain.agents import tool\n",
    "from langchain.document_loaders import TextLoader, UnstructuredPDFLoader, YoutubeLoader\n",
    "from langchain.text_splitter import RecursiveCharacterTextSplitter\n",
    "from langchain.vectorstores import Chroma\n",
    "from langchain.embeddings import HuggingFaceEmbeddings, OpenAIEmbeddings\n",
    "from langchain.indexes import VectorstoreIndexCreator\n",
    "from langchain.chains import RetrievalQA\n",
    "import textwrap\n",
    "from langchain.utilities import GoogleSearchAPIWrapper\n",
    "from langchain.tools import Tool\n",
    "import langchain\n",
    "import json\n",
    "from langchain.document_loaders import WebBaseLoader\n",
    "from langchain.document_loaders.generic import GenericLoader\n",
    "from langchain.document_loaders.parsers import OpenAIWhisperParser\n",
    "from langchain.document_loaders.blob_loaders.youtube_audio import YoutubeAudioLoader\n",
    "from langchain.schema import Document\n",
    "from typing import Iterator, List, Literal, Optional, Sequence, Union\n",
    "from langchain.document_loaders.blob_loaders import FileSystemBlobLoader\n",
    "import os\n",
    "import openai"
   ]
  },
  {
   "cell_type": "code",
   "execution_count": null,
   "metadata": {},
   "outputs": [],
   "source": []
  }
 ],
 "metadata": {
  "kernelspec": {
   "display_name": "drexel",
   "language": "python",
   "name": "python3"
  },
  "language_info": {
   "codemirror_mode": {
    "name": "ipython",
    "version": 3
   },
   "file_extension": ".py",
   "mimetype": "text/x-python",
   "name": "python",
   "nbconvert_exporter": "python",
   "pygments_lexer": "ipython3",
   "version": "3.9.16"
  },
  "orig_nbformat": 4
 },
 "nbformat": 4,
 "nbformat_minor": 2
}
