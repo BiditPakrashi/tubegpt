{
 "cells": [
  {
   "cell_type": "code",
   "execution_count": 1,
   "metadata": {},
   "outputs": [],
   "source": [
    "from langchain.llms import OpenAI\n",
    "from langchain.chat_models import ChatOpenAI\n",
    "from langchain.chains import LLMChain\n",
    "from langchain.prompts import PromptTemplate\n",
    "from langchain.chains import SimpleSequentialChain\n",
    "from langchain.chains.api.prompt import API_RESPONSE_PROMPT\n",
    "from langchain.chains import APIChain\n",
    "from langchain.prompts.prompt import PromptTemplate\n",
    "from langchain.agents.agent_toolkits import create_python_agent\n",
    "from langchain.agents import load_tools, initialize_agent\n",
    "from langchain.agents import AgentType\n",
    "from langchain.tools.python.tool import PythonREPLTool\n",
    "from langchain.python import PythonREPL\n",
    "from langchain.agents import tool\n",
    "from langchain.document_loaders import TextLoader, UnstructuredPDFLoader, YoutubeLoader\n",
    "from langchain.text_splitter import RecursiveCharacterTextSplitter\n",
    "from langchain.vectorstores import Chroma\n",
    "from langchain.embeddings import HuggingFaceEmbeddings, OpenAIEmbeddings\n",
    "from langchain.indexes import VectorstoreIndexCreator\n",
    "from langchain.chains import RetrievalQA\n",
    "import textwrap\n",
    "from langchain.utilities import GoogleSearchAPIWrapper\n",
    "from langchain.tools import Tool\n",
    "import langchain\n",
    "from slack_sdk import WebClient\n",
    "import json\n",
    "from langchain.document_loaders import WebBaseLoader\n",
    "from langchain.document_loaders.generic import GenericLoader\n",
    "from langchain.document_loaders.parsers import OpenAIWhisperParser\n",
    "from langchain.document_loaders.blob_loaders.youtube_audio import YoutubeAudioLoader\n",
    "from langchain.schema import Document\n",
    "from typing import Iterator, List, Literal, Optional, Sequence, Union\n",
    "from langchain.document_loaders.blob_loaders import FileSystemBlobLoader\n",
    "from langchain.document_loaders.blob_loaders import Blob\n",
    "import os\n",
    "import openai"
   ]
  },
  {
   "cell_type": "code",
   "execution_count": 17,
   "metadata": {},
   "outputs": [],
   "source": [
    "def print_response(response: str):\n",
    "    print(\"\\n\".join(textwrap.wrap(response, width=100)))"
   ]
  },
  {
   "cell_type": "code",
   "execution_count": 2,
   "metadata": {},
   "outputs": [],
   "source": [
    "import os\n",
    "import openai\n",
    "\n",
    "from dotenv import load_dotenv, find_dotenv\n",
    "_ = load_dotenv(find_dotenv()) # read local .env file\n",
    "openai.api_key = os.environ['OPENAI_API_KEY']\n"
   ]
  },
  {
   "cell_type": "code",
   "execution_count": 4,
   "metadata": {},
   "outputs": [
    {
     "name": "stdout",
     "output_type": "stream",
     "text": [
      "Collecting yt-dlp\n",
      "  Downloading yt_dlp-2023.7.6-py2.py3-none-any.whl (3.0 MB)\n",
      "\u001b[2K     \u001b[90m━━━━━━━━━━━━━━━━━━━━━━━━━━━━━━━━━━━━━━━━\u001b[0m \u001b[32m3.0/3.0 MB\u001b[0m \u001b[31m12.2 MB/s\u001b[0m eta \u001b[36m0:00:00\u001b[0m00:01\u001b[0m00:01\u001b[0m\n",
      "\u001b[?25hCollecting mutagen\n",
      "  Downloading mutagen-1.46.0-py3-none-any.whl (193 kB)\n",
      "\u001b[2K     \u001b[90m━━━━━━━━━━━━━━━━━━━━━━━━━━━━━━━━━━━━━━━\u001b[0m \u001b[32m193.6/193.6 kB\u001b[0m \u001b[31m7.0 MB/s\u001b[0m eta \u001b[36m0:00:00\u001b[0m\n",
      "\u001b[?25hCollecting brotli\n",
      "  Downloading Brotli-1.0.9-cp38-cp38-macosx_10_9_x86_64.whl (421 kB)\n",
      "\u001b[2K     \u001b[90m━━━━━━━━━━━━━━━━━━━━━━━━━━━━━━━━━━━━━━\u001b[0m \u001b[32m421.1/421.1 kB\u001b[0m \u001b[31m11.1 MB/s\u001b[0m eta \u001b[36m0:00:00\u001b[0m00:01\u001b[0m\n",
      "\u001b[?25hRequirement already satisfied: certifi in /Users/hbolak650/.local/share/virtualenvs/SoftwareStudio-BV5WFfKi/lib/python3.8/site-packages (from yt-dlp) (2023.5.7)\n",
      "Requirement already satisfied: websockets in /Users/hbolak650/.local/share/virtualenvs/SoftwareStudio-BV5WFfKi/lib/python3.8/site-packages (from yt-dlp) (11.0.3)\n",
      "Collecting pycryptodomex\n",
      "  Downloading pycryptodomex-3.18.0-cp35-abi3-macosx_10_9_x86_64.whl (1.6 MB)\n",
      "\u001b[2K     \u001b[90m━━━━━━━━━━━━━━━━━━━━━━━━━━━━━━━━━━━━━━━━\u001b[0m \u001b[32m1.6/1.6 MB\u001b[0m \u001b[31m27.2 MB/s\u001b[0m eta \u001b[36m0:00:00\u001b[0m00:01\u001b[0m\n",
      "\u001b[?25hInstalling collected packages: brotli, pycryptodomex, mutagen, yt-dlp\n",
      "Successfully installed brotli-1.0.9 mutagen-1.46.0 pycryptodomex-3.18.0 yt-dlp-2023.7.6\n",
      "\n",
      "\u001b[1m[\u001b[0m\u001b[34;49mnotice\u001b[0m\u001b[1;39;49m]\u001b[0m\u001b[39;49m A new release of pip available: \u001b[0m\u001b[31;49m22.2.2\u001b[0m\u001b[39;49m -> \u001b[0m\u001b[32;49m23.1.2\u001b[0m\n",
      "\u001b[1m[\u001b[0m\u001b[34;49mnotice\u001b[0m\u001b[1;39;49m]\u001b[0m\u001b[39;49m To update, run: \u001b[0m\u001b[32;49mpip install --upgrade pip\u001b[0m\n",
      "Note: you may need to restart the kernel to use updated packages.\n"
     ]
    }
   ],
   "source": [
    "pip install yt-dlp"
   ]
  },
  {
   "cell_type": "code",
   "execution_count": 5,
   "metadata": {},
   "outputs": [
    {
     "name": "stdout",
     "output_type": "stream",
     "text": [
      "Collecting pydub\n",
      "  Downloading pydub-0.25.1-py2.py3-none-any.whl (32 kB)\n",
      "Installing collected packages: pydub\n",
      "Successfully installed pydub-0.25.1\n",
      "\n",
      "\u001b[1m[\u001b[0m\u001b[34;49mnotice\u001b[0m\u001b[1;39;49m]\u001b[0m\u001b[39;49m A new release of pip available: \u001b[0m\u001b[31;49m22.2.2\u001b[0m\u001b[39;49m -> \u001b[0m\u001b[32;49m23.1.2\u001b[0m\n",
      "\u001b[1m[\u001b[0m\u001b[34;49mnotice\u001b[0m\u001b[1;39;49m]\u001b[0m\u001b[39;49m To update, run: \u001b[0m\u001b[32;49mpip install --upgrade pip\u001b[0m\n",
      "Note: you may need to restart the kernel to use updated packages.\n"
     ]
    }
   ],
   "source": [
    "pip install pydub"
   ]
  },
  {
   "cell_type": "code",
   "execution_count": 3,
   "metadata": {},
   "outputs": [],
   "source": [
    "class OpenAIWhisperParserCustom(OpenAIWhisperParser):\n",
    "    \"\"\"Transcribe and parse audio files.\n",
    "    Audio transcription is with OpenAI Whisper model.\"\"\"\n",
    "\n",
    "    def __init__(self, api_key: Optional[str] = None,chunk_duration=10):\n",
    "        self.api_key = api_key\n",
    "        self.chunk_duration = chunk_duration # in  seconds\n",
    "\n",
    "    def lazy_parse(self, blob: Blob) -> Iterator[Document]:\n",
    "        \"\"\"Lazily parse the blob.\"\"\"\n",
    "\n",
    "        import io\n",
    "\n",
    "        try:\n",
    "            import openai\n",
    "        except ImportError:\n",
    "            raise ValueError(\n",
    "                \"openai package not found, please install it with \"\n",
    "                \"`pip install openai`\"\n",
    "            )\n",
    "        try:\n",
    "            from pydub import AudioSegment\n",
    "        except ImportError:\n",
    "            raise ValueError(\n",
    "                \"pydub package not found, please install it with \" \"`pip install pydub`\"\n",
    "            )\n",
    "\n",
    "        # Set the API key if provided\n",
    "        if self.api_key:\n",
    "            openai.api_key = self.api_key\n",
    "\n",
    "        # Audio file from disk\n",
    "        audio = AudioSegment.from_file(blob.path)\n",
    "\n",
    "        # Chunk duration is set to 10 secs for the purpose of time correlation\n",
    "        chunk_duration_ms = self.chunk_duration * 1000\n",
    "\n",
    "        # Split the audio into chunk_duration_ms chunks\n",
    "        for split_number, i in enumerate(range(0, len(audio), chunk_duration_ms)):\n",
    "            # Audio chunk\n",
    "            chunk = audio[i : i + chunk_duration_ms]\n",
    "            file_obj = io.BytesIO(chunk.export(format=\"mp3\").read())\n",
    "            if blob.source is not None:\n",
    "                file_obj.name = blob.source + f\"_part_{split_number}.mp3\"\n",
    "            else:\n",
    "                file_obj.name = f\"part_{split_number}.mp3\"\n",
    "\n",
    "            # Transcribe\n",
    "            print(f\"Transcribing part {split_number+1}!\")\n",
    "            #transcript = \"hello\"#openai.Audio.transcribe(\"whisper-1\", file_obj)\n",
    "            transcript = openai.Audio.transcribe(\"whisper-1\", file_obj)\n",
    "\n",
    "            yield Document(\n",
    "                page_content=transcript.text,\n",
    "                #page_content=transcript,\n",
    "                metadata={\"source\": blob.source, \"chunk\": split_number, \"from\": i, \"to\":i+chunk_duration_ms},\n",
    "            )\n"
   ]
  },
  {
   "cell_type": "code",
   "execution_count": 4,
   "metadata": {},
   "outputs": [],
   "source": [
    "from typing import Iterable, List\n",
    "\n",
    "from langchain.document_loaders.blob_loaders import FileSystemBlobLoader\n",
    "from langchain.document_loaders.blob_loaders.schema import Blob, BlobLoader\n",
    "\n",
    "class YoutubeAudioLoaderCustom(BlobLoader):\n",
    "\n",
    "    \"\"\"Load YouTube urls as audio file(s).\"\"\"\n",
    "\n",
    "    def __init__(self, urls: List[str], save_dir: str):\n",
    "        if not isinstance(urls, list):\n",
    "            raise TypeError(\"urls must be a list\")\n",
    "\n",
    "        self.urls = urls\n",
    "        self.save_dir = save_dir\n",
    "\n",
    "    def yield_blobs(self) -> Iterable[Blob]:\n",
    "        \"\"\"Yield audio blobs for each url.\"\"\"\n",
    "\n",
    "        try:\n",
    "            import yt_dlp\n",
    "        except ImportError:\n",
    "            raise ValueError(\n",
    "                \"yt_dlp package not found, please install it with \"\n",
    "                \"`pip install yt_dlp`\"\n",
    "            )\n",
    "\n",
    "        # Use yt_dlp to download audio given a YouTube url\n",
    "        ydl_opts = {\n",
    "            \"format\": \"m4a/bestaudio/best\",\n",
    "            \"noplaylist\": True,\n",
    "            \"outtmpl\": self.save_dir + \"/%(title)s.%(ext)s\",\n",
    "            \"postprocessors\": [\n",
    "                {\n",
    "                    \"key\": \"FFmpegExtractAudio\",\n",
    "                    \"preferredcodec\": \"m4a\",\n",
    "                    \n",
    "                }\n",
    "            ],\n",
    "            \"ffmpeg_location\":\"/Users/hbolak650/Downloads\"\n",
    "        }\n",
    "\n",
    "        for url in self.urls:\n",
    "            # Download file\n",
    "            with yt_dlp.YoutubeDL(ydl_opts) as ydl:\n",
    "                ydl.download(url)\n",
    "\n",
    "        # Yield the written blobs\n",
    "        loader = FileSystemBlobLoader(self.save_dir, glob=\"*.m4a\")\n",
    "        for blob in loader.yield_blobs():\n",
    "            yield blob\n"
   ]
  },
  {
   "cell_type": "code",
   "execution_count": 5,
   "metadata": {},
   "outputs": [
    {
     "name": "stdout",
     "output_type": "stream",
     "text": [
      "Collecting ffprobe\n",
      "  Downloading ffprobe-0.5.zip (3.5 kB)\n",
      "  Preparing metadata (setup.py) ... \u001b[?25ldone\n",
      "\u001b[?25hBuilding wheels for collected packages: ffprobe\n",
      "  Building wheel for ffprobe (setup.py) ... \u001b[?25ldone\n",
      "\u001b[?25h  Created wheel for ffprobe: filename=ffprobe-0.5-py3-none-any.whl size=3407 sha256=6c7c2e091046ae365b4c771f44daed88e39b05e6c323c762230607a1c1975667\n",
      "  Stored in directory: /Users/hbolak650/Library/Caches/pip/wheels/3e/d8/a3/2ee15021cfa0b180fcbc0864f71047237a04dcb3933a3d698f\n",
      "Successfully built ffprobe\n",
      "Installing collected packages: ffprobe\n",
      "Successfully installed ffprobe-0.5\n",
      "\n",
      "\u001b[1m[\u001b[0m\u001b[34;49mnotice\u001b[0m\u001b[1;39;49m]\u001b[0m\u001b[39;49m A new release of pip available: \u001b[0m\u001b[31;49m22.2.2\u001b[0m\u001b[39;49m -> \u001b[0m\u001b[32;49m23.1.2\u001b[0m\n",
      "\u001b[1m[\u001b[0m\u001b[34;49mnotice\u001b[0m\u001b[1;39;49m]\u001b[0m\u001b[39;49m To update, run: \u001b[0m\u001b[32;49mpip install --upgrade pip\u001b[0m\n"
     ]
    }
   ],
   "source": [
    "!pip install ffprobe"
   ]
  },
  {
   "cell_type": "code",
   "execution_count": 6,
   "metadata": {},
   "outputs": [
    {
     "name": "stdout",
     "output_type": "stream",
     "text": [
      "[youtube] Extracting URL: https://www.youtube.com/watch?v=_xASV0YmROc\n",
      "[youtube] _xASV0YmROc: Downloading webpage\n",
      "[youtube] _xASV0YmROc: Downloading ios player API JSON\n",
      "[youtube] _xASV0YmROc: Downloading android player API JSON\n",
      "[youtube] _xASV0YmROc: Downloading m3u8 information\n",
      "[info] _xASV0YmROc: Downloading 1 format(s): 140\n",
      "[download] /Users/hbolak650/Downloads/YouTubeYoga/The 3-Minute Yoga Routine To Jump Start Your Mornings.m4a has already been downloaded\n",
      "[download] 100% of    2.70MiB\n",
      "[ExtractAudio] Not converting audio /Users/hbolak650/Downloads/YouTubeYoga/The 3-Minute Yoga Routine To Jump Start Your Mornings.m4a; file is already in target format m4a\n",
      "Transcribing part 1!\n",
      "Transcribing part 2!\n",
      "Transcribing part 3!\n",
      "Transcribing part 4!\n",
      "Transcribing part 5!\n",
      "Transcribing part 6!\n",
      "Transcribing part 7!\n",
      "Transcribing part 8!\n",
      "Transcribing part 9!\n",
      "Transcribing part 10!\n",
      "Transcribing part 11!\n",
      "Transcribing part 12!\n",
      "Transcribing part 13!\n",
      "Transcribing part 14!\n",
      "Transcribing part 15!\n",
      "Transcribing part 16!\n",
      "Transcribing part 17!\n",
      "Transcribing part 18!\n",
      "page_content=\"We're going to take a deep breath in, on the exhale, we're going to lift all the way up, airplane down and taking your head towards the sky.\" metadata={'source': '/Users/hbolak650/Downloads/YouTubeYoga/The 3-Minute Yoga Routine To Jump Start Your Mornings.m4a', 'chunk': 0, 'from': 0, 'to': 10000}\n",
      "page_content=\"your knee. From here, I want you to look out as if you're looking onto the horizon and then you're going to slowly come back. Let's try that again. So we lift, look onto the horizon.\" metadata={'source': '/Users/hbolak650/Downloads/YouTubeYoga/The 3-Minute Yoga Routine To Jump Start Your Mornings.m4a', 'chunk': 1, 'from': 10000, 'to': 20000}\n",
      "page_content=\"From here, we're going to slowly take your right leg back into a lunge, and you're in this position nice and straight.\" metadata={'source': '/Users/hbolak650/Downloads/YouTubeYoga/The 3-Minute Yoga Routine To Jump Start Your Mornings.m4a', 'chunk': 2, 'from': 20000, 'to': 30000}\n",
      "page_content=\"Think of lengthening out, you're going to stretch out through that hamstring. From here, we're going to lengthen the hips up, and toes come up. Take your head down to the shin.\" metadata={'source': '/Users/hbolak650/Downloads/YouTubeYoga/The 3-Minute Yoga Routine To Jump Start Your Mornings.m4a', 'chunk': 3, 'from': 30000, 'to': 40000}\n",
      "page_content=\"round over just like a cat now we're going to try and rotate towards that front knee rotate so you're going to feel that openness in your back\" metadata={'source': '/Users/hbolak650/Downloads/YouTubeYoga/The 3-Minute Yoga Routine To Jump Start Your Mornings.m4a', 'chunk': 4, 'from': 40000, 'to': 50000}\n",
      "page_content=\"Open up through your chest and you're pressing your hips down to the floor. Remember, breathe in that pose, taking deep breaths, come back to center. Now we're going to pass through into a plank.\" metadata={'source': '/Users/hbolak650/Downloads/YouTubeYoga/The 3-Minute Yoga Routine To Jump Start Your Mornings.m4a', 'chunk': 5, 'from': 50000, 'to': 60000}\n",
      "page_content=\"to a plank position. You're pushing away from the floor, you're drawing your scapula down and you're reaching out through the crown of the head, the abdominals are lifted.\" metadata={'source': '/Users/hbolak650/Downloads/YouTubeYoga/The 3-Minute Yoga Routine To Jump Start Your Mornings.m4a', 'chunk': 6, 'from': 60000, 'to': 70000}\n",
      "page_content=\"If you're over extenuating like this, you've got to lift up the pelvis so the pelvis is in line with your shoulders. Come back into that lunge, rotate, press back up.\" metadata={'source': '/Users/hbolak650/Downloads/YouTubeYoga/The 3-Minute Yoga Routine To Jump Start Your Mornings.m4a', 'chunk': 7, 'from': 70000, 'to': 80000}\n",
      "page_content='pelvis forwards and breathe and breathe hold it there try and get that hip down a little bit further' metadata={'source': '/Users/hbolak650/Downloads/YouTubeYoga/The 3-Minute Yoga Routine To Jump Start Your Mornings.m4a', 'chunk': 8, 'from': 80000, 'to': 90000}\n",
      "page_content=\"and try and rotate, let's look to that back hand. From here we're going to come back into that plank position, arms a shoulder width apart.\" metadata={'source': '/Users/hbolak650/Downloads/YouTubeYoga/The 3-Minute Yoga Routine To Jump Start Your Mornings.m4a', 'chunk': 9, 'from': 90000, 'to': 100000}\n",
      "page_content=\"Pull down into your plank position. Now you're in here, I want you to drop your knees down to the floor and then bring them back up again.\" metadata={'source': '/Users/hbolak650/Downloads/YouTubeYoga/The 3-Minute Yoga Routine To Jump Start Your Mornings.m4a', 'chunk': 10, 'from': 100000, 'to': 110000}\n",
      "page_content=\"Focus now is on your core, your abdominals, let's just do a couple more, send your hips up to the sky.\" metadata={'source': '/Users/hbolak650/Downloads/YouTubeYoga/The 3-Minute Yoga Routine To Jump Start Your Mornings.m4a', 'chunk': 11, 'from': 110000, 'to': 120000}\n",
      "page_content=\"We're going to come into like a downward dog. Now the key for this is to try and press the heels down to the floor and your chest toward your knee. Now I want you to\" metadata={'source': '/Users/hbolak650/Downloads/YouTubeYoga/The 3-Minute Yoga Routine To Jump Start Your Mornings.m4a', 'chunk': 12, 'from': 120000, 'to': 130000}\n",
      "page_content=\"So you can do like a little walk through those heels. Most of us can't get our heels down to the floor, so our goal is to try and get the heels down to the floor. And that's it. That's it. \" metadata={'source': '/Users/hbolak650/Downloads/YouTubeYoga/The 3-Minute Yoga Routine To Jump Start Your Mornings.m4a', 'chunk': 13, 'from': 130000, 'to': 140000}\n",
      "page_content='4, 3, 2, 1, press down and now walk your feet to your hands.' metadata={'source': '/Users/hbolak650/Downloads/YouTubeYoga/The 3-Minute Yoga Routine To Jump Start Your Mornings.m4a', 'chunk': 14, 'from': 140000, 'to': 150000}\n",
      "page_content='bend your knees, rolling through the spine exhale, bring the legs together and down, one more time' metadata={'source': '/Users/hbolak650/Downloads/YouTubeYoga/The 3-Minute Yoga Routine To Jump Start Your Mornings.m4a', 'chunk': 15, 'from': 150000, 'to': 160000}\n",
      "page_content='exhale all the way up and then down good job you guys, you just completed a great workout ready' metadata={'source': '/Users/hbolak650/Downloads/YouTubeYoga/The 3-Minute Yoga Routine To Jump Start Your Mornings.m4a', 'chunk': 16, 'from': 160000, 'to': 170000}\n",
      "page_content='for the day at work.' metadata={'source': '/Users/hbolak650/Downloads/YouTubeYoga/The 3-Minute Yoga Routine To Jump Start Your Mornings.m4a', 'chunk': 17, 'from': 170000, 'to': 180000}\n"
     ]
    }
   ],
   "source": [
    "\n",
    "os.environ[\"LANGCHAIN_DEBUG\"] = \"true\"\n",
    "#  Karpathy lecture videos\n",
    "urls = [\"https://www.youtube.com/watch?v=_xASV0YmROc\"]\n",
    "\n",
    "\n",
    "# Directory to save audio files\n",
    "save_dir = \"/Users/hbolak650/Downloads/YouTubeYoga\"\n",
    "\n",
    "# Transcribe the videos to text\n",
    "loader = GenericLoader(YoutubeAudioLoader(urls, save_dir), OpenAIWhisperParserCustom())\n",
    "try:\n",
    "    docs = loader.load()\n",
    "    if len(docs) == 0:\n",
    "        print(\"No documents loaded.\")\n",
    "    else:\n",
    "        for doc in docs:\n",
    "            # Process the loaded documents\n",
    "            print(doc)\n",
    "except Exception as e:\n",
    "    print(\"Error loading documents:\", str(e))    \n",
    "\n",
    "os.environ[\"LANGCHAIN_DEBUG\"] = \"false\"   "
   ]
  },
  {
   "cell_type": "markdown",
   "metadata": {},
   "source": []
  },
  {
   "cell_type": "code",
   "execution_count": 7,
   "metadata": {},
   "outputs": [
    {
     "data": {
      "text/plain": [
       "18"
      ]
     },
     "execution_count": 7,
     "metadata": {},
     "output_type": "execute_result"
    }
   ],
   "source": [
    "# Returns a list of Documents, which can be easily viewed or parsed\n",
    "len(docs)"
   ]
  },
  {
   "cell_type": "code",
   "execution_count": 8,
   "metadata": {},
   "outputs": [
    {
     "name": "stdout",
     "output_type": "stream",
     "text": [
      "page_content=\"We're going to take a deep breath in, on the exhale, we're going to lift all the way up, airplane down and taking your head towards the sky.\" metadata={'source': '/Users/hbolak650/Downloads/YouTubeYoga/The 3-Minute Yoga Routine To Jump Start Your Mornings.m4a', 'chunk': 0, 'from': 0, 'to': 10000}\n"
     ]
    }
   ],
   "source": [
    "print(docs[0])"
   ]
  },
  {
   "cell_type": "code",
   "execution_count": 10,
   "metadata": {},
   "outputs": [
    {
     "data": {
      "text/plain": [
       "\"We're going to take a deep breath in, on the exhale, we're going to lift all the way up, airplane down and taking your head towards the sky. your knee. From here, I want you to look out as if you're looking onto the horizon and then you're going to slowly come back. Let's try that again. So we lift, look onto the horizon. From here, we're going to slowly take your right leg back into a lunge, and you're in this position nice and straight. Think of lengthening out, you're going to stretch out through that hamstring. From here, we're going to lengthen the hips up, and toes come up. Take your head down to the shin. round over just like a cat now we're going to try and rotate towards that front knee rotate so you're going to feel that openness in your back Open up through your chest and you're pressing your hips down to the floor. Remember, breathe in that pose, taking deep breaths, come back to center. Now we're going to pass through into a plank. to a plank position. You're pushing away from the floor, you're drawing your scapula down and you're reaching out through the crown of the head, the abdominals are lifted. If you're over extenuating like this, you've got to lift up the pelvis so the pelvis is in line with your shoulders. Come back into that lunge, rotate, press back up. pelvis forwards and breathe and breathe hold it there try and get that hip down a little bit further and try and rotate, let's look to that back hand. From here we're going to come back into that plank position, arms a shoulder width apart. Pull down into your plank position. Now you're in here, I want you to drop your knees down to the floor and then bring them back up again. Focus now is on your core, your abdominals, let's just do a couple more, send your hips up to the sky. We're going to come into like a downward dog. Now the key for this is to try and press the heels down to the floor and your chest toward your knee. Now I want you to So you can do like a little walk through those heels. Most of us can't get our heels down to the floor, so our goal is to try and get the heels down to the floor. And that's it. That's it.  4, 3, 2, 1, press down and now walk your feet to your hands. bend your knees, rolling through the spine exhale, bring the legs together and down, one more time exhale all the way up and then down good job you guys, you just completed a great workout ready for the day at work.\""
      ]
     },
     "execution_count": 10,
     "metadata": {},
     "output_type": "execute_result"
    }
   ],
   "source": [
    "# Combine doc\n",
    "combined_docs = [doc.page_content for doc in docs]\n",
    "text = \" \".join(combined_docs)\n",
    "text"
   ]
  },
  {
   "cell_type": "code",
   "execution_count": 11,
   "metadata": {},
   "outputs": [
    {
     "name": "stderr",
     "output_type": "stream",
     "text": [
      "/Users/hbolak650/.local/share/virtualenvs/SoftwareStudio-BV5WFfKi/lib/python3.8/site-packages/tqdm/auto.py:21: TqdmWarning: IProgress not found. Please update jupyter and ipywidgets. See https://ipywidgets.readthedocs.io/en/stable/user_install.html\n",
      "  from .autonotebook import tqdm as notebook_tqdm\n"
     ]
    }
   ],
   "source": [
    "#embeddings = OpenAIEmbeddings()\n",
    "MODEL_NAME = \"sentence-transformers/all-mpnet-base-v2\"\n",
    "embeddings = HuggingFaceEmbeddings(model_name=MODEL_NAME)"
   ]
  },
  {
   "cell_type": "code",
   "execution_count": 12,
   "metadata": {},
   "outputs": [
    {
     "data": {
      "text/plain": [
       "[(Document(page_content='bend your knees, rolling through the spine exhale, bring the legs together and down, one more time', metadata={'source': '/Users/hbolak650/Downloads/YouTubeYoga/The 3-Minute Yoga Routine To Jump Start Your Mornings.m4a', 'chunk': 15, 'from': 150000, 'to': 160000}),\n",
       "  0.9614589214324951),\n",
       " (Document(page_content=\"Open up through your chest and you're pressing your hips down to the floor. Remember, breathe in that pose, taking deep breaths, come back to center. Now we're going to pass through into a plank.\", metadata={'source': '/Users/hbolak650/Downloads/YouTubeYoga/The 3-Minute Yoga Routine To Jump Start Your Mornings.m4a', 'chunk': 5, 'from': 50000, 'to': 60000}),\n",
       "  0.984209418296814)]"
      ]
     },
     "execution_count": 12,
     "metadata": {},
     "output_type": "execute_result"
    }
   ],
   "source": [
    "PERSIST_DIRECTORY_OPENAI = \"../tubegptdb\"\n",
    " \n",
    "tubegptdb = Chroma.from_documents(\n",
    "    documents=docs, embedding= embeddings, persist_directory=PERSIST_DIRECTORY_OPENAI\n",
    ")\n",
    "tubegptdb.similarity_search_with_score(\"What was the yoga move?\", k=2)"
   ]
  },
  {
   "cell_type": "code",
   "execution_count": 13,
   "metadata": {},
   "outputs": [],
   "source": [
    "tubegptdb.persist()"
   ]
  },
  {
   "cell_type": "code",
   "execution_count": 14,
   "metadata": {},
   "outputs": [
    {
     "name": "stdout",
     "output_type": "stream",
     "text": [
      "You're a Professor who helps students on Youtube contents .\n",
      " \n",
      "A youtube user asking about contents \n",
      " \n",
      "Answer with Accurate data   to the question and the way Professor speaks. \n",
      " \n",
      "Question: Why do we need to zero out the gradient before backprop at each step?\n",
      "Answer:\n"
     ]
    }
   ],
   "source": [
    "template = \"\"\"You're a Professor who helps students on Youtube contents .\n",
    " \n",
    "{context}\n",
    " \n",
    "Answer with Accurate data   to the question and the way Professor speaks. \n",
    " \n",
    "Question: {question}\n",
    "Answer:\"\"\"\n",
    " \n",
    "prompt = PromptTemplate(template=template, input_variables=[\"context\", \"question\"])\n",
    "print(\n",
    "    prompt.format(\n",
    "        context=\"A youtube user asking about contents \",\n",
    "        question=\"Why do we need to zero out the gradient before backprop at each step?\",\n",
    "    )\n",
    ")"
   ]
  },
  {
   "cell_type": "code",
   "execution_count": 15,
   "metadata": {},
   "outputs": [],
   "source": [
    "chain_type_kwargs = {\"prompt\": prompt}\n",
    "chain = RetrievalQA.from_chain_type(\n",
    "    llm=ChatOpenAI(temperature=0),\n",
    "    chain_type=\"stuff\",\n",
    "    retriever=tubegptdb.as_retriever(search_kwargs={\"k\": 1}),\n",
    "    chain_type_kwargs=chain_type_kwargs,\n",
    ")"
   ]
  },
  {
   "cell_type": "code",
   "execution_count": 16,
   "metadata": {},
   "outputs": [
    {
     "ename": "NameError",
     "evalue": "name 'print_response' is not defined",
     "output_type": "error",
     "traceback": [
      "\u001b[0;31m---------------------------------------------------------------------------\u001b[0m",
      "\u001b[0;31mNameError\u001b[0m                                 Traceback (most recent call last)",
      "Cell \u001b[0;32mIn[16], line 3\u001b[0m\n\u001b[1;32m      1\u001b[0m query \u001b[39m=\u001b[39m \u001b[39m\"\u001b[39m\u001b[39mWhat was the move after looking into Horizon\u001b[39m\u001b[39m\"\u001b[39m\n\u001b[1;32m      2\u001b[0m response \u001b[39m=\u001b[39m chain\u001b[39m.\u001b[39mrun(query)\n\u001b[0;32m----> 3\u001b[0m print_response(response)\n",
      "\u001b[0;31mNameError\u001b[0m: name 'print_response' is not defined"
     ]
    }
   ],
   "source": [
    "query = \"What was the move after looking into Horizon\"\n",
    "response = chain.run(query)\n",
    "print_response(response)"
   ]
  },
  {
   "cell_type": "code",
   "execution_count": 18,
   "metadata": {},
   "outputs": [
    {
     "name": "stdout",
     "output_type": "stream",
     "text": [
      "After looking onto the horizon, the next move is to slowly come back and return to the original\n",
      "position.\n"
     ]
    }
   ],
   "source": [
    "print_response(response)"
   ]
  }
 ],
 "metadata": {
  "kernelspec": {
   "display_name": "Python 3",
   "language": "python",
   "name": "python3"
  },
  "language_info": {
   "codemirror_mode": {
    "name": "ipython",
    "version": 3
   },
   "file_extension": ".py",
   "mimetype": "text/x-python",
   "name": "python",
   "nbconvert_exporter": "python",
   "pygments_lexer": "ipython3",
   "version": "3.8.5"
  }
 },
 "nbformat": 4,
 "nbformat_minor": 4
}
